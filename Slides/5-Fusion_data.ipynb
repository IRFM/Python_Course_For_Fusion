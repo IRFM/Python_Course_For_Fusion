{
 "cells": [
  {
   "cell_type": "code",
   "execution_count": 1,
   "metadata": {
    "slideshow": {
     "slide_type": "skip"
    }
   },
   "outputs": [
    {
     "name": "stdout",
     "output_type": "stream",
     "text": [
      "Using matplotlib backend: Qt5Agg\n",
      "Populating the interactive namespace from numpy and matplotlib\n"
     ]
    }
   ],
   "source": [
    "%pylab\n",
    "%matplotlib inline"
   ]
  },
  {
   "cell_type": "markdown",
   "metadata": {
    "slideshow": {
     "slide_type": "slide"
    }
   },
   "source": [
    "# Accessing Fusion Data "
   ]
  },
  {
   "cell_type": "markdown",
   "metadata": {
    "slideshow": {
     "slide_type": "slide"
    }
   },
   "source": [
    "# _tsmat_: Tore Supra / WEST\n",
    "__PyWED__ (Python for West Experimental Data) is the Python package which allows accessing Tore Supra/WEST data. It aims to replace its Matlab TSlib equivalent, i.e. the famous `tsbase` and `tsmat` functions.\n",
    "\n",
    "In order to use the PyWED package, you need to import it (note that the package is automatically imported when you launch Python from linux servers)."
   ]
  },
  {
   "cell_type": "code",
   "execution_count": 2,
   "metadata": {
    "slideshow": {
     "slide_type": "fragment"
    }
   },
   "outputs": [],
   "source": [
    "import pywed\n",
    "# tsbase is available through pywed.tsbase().\n",
    "# Or, in order to avoid typing \"pywed.\" each time:\n",
    "from pywed import *"
   ]
  },
  {
   "cell_type": "markdown",
   "metadata": {
    "slideshow": {
     "slide_type": "slide"
    }
   },
   "source": [
    "The Python version of `tsbase` follows the same logic than the Matlab.\n",
    "\n",
    "In Matlab, one would write:\n",
    "\n",
    "    [a,b,c,d,e,f,...] = tsbase(arg1, arg2, ...);\n",
    "    \n",
    "While in Python, this would be:\n",
    "\n",
    "    a,b,c,d,e,f,... = tsbase(arg1, arg2, ...)\n",
    "\n",
    "Here is few examples.  "
   ]
  },
  {
   "cell_type": "code",
   "execution_count": 3,
   "metadata": {
    "slideshow": {
     "slide_type": "slide"
    }
   },
   "outputs": [
    {
     "data": {
      "text/plain": [
       "[<matplotlib.lines.Line2D at 0xa122080>]"
      ]
     },
     "execution_count": 3,
     "metadata": {},
     "output_type": "execute_result"
    },
    {
     "data": {
      "image/png": "[encoded data removed]",
      "text/plain": [
       "<Figure size 432x288 with 1 Axes>"
      ]
     },
     "metadata": {},
     "output_type": "display_data"
    }
   ],
   "source": [
    "Ip,t,coords = tsbase(34567, 'SIPMES')\n",
    "\n",
    "plot(t,Ip)"
   ]
  },
  {
   "cell_type": "code",
   "execution_count": 4,
   "metadata": {
    "slideshow": {
     "slide_type": "slide"
    }
   },
   "outputs": [
    {
     "name": "stdout",
     "output_type": "stream",
     "text": [
      "[array([[ 0.        ],\n",
      "       [ 0.        ],\n",
      "       [ 0.        ],\n",
      "       ...,\n",
      "       [-0.00170898],\n",
      "       [ 0.        ],\n",
      "       [-0.00195312]]), array([[-30.69519592],\n",
      "       [-30.66242792],\n",
      "       [-30.62965992],\n",
      "       ...,\n",
      "       [ 34.73635608],\n",
      "       [ 34.76912408],\n",
      "       [ 34.80189208]]), [[], 40, '01/06/2005', '18:18:04', 'mcs', 'MA', '', 'SIPMES', 'B']]\n"
     ]
    }
   ],
   "source": [
    "# Load the output into one single variable (A Python Tuple)\n",
    "res = tsbase(34567, 'SIPMES')\n",
    "print(res)"
   ]
  },
  {
   "cell_type": "code",
   "execution_count": 5,
   "metadata": {
    "slideshow": {
     "slide_type": "slide"
    }
   },
   "outputs": [
    {
     "name": "stdout",
     "output_type": "stream",
     "text": [
      "Help on function tsbase in module pywed.tsBase:\n",
      "\n",
      "tsbase(*args, nargout=0)\n",
      "    tsbase function is used to acces treated data from Tore Supra database.\n",
      "    Syntax is:\n",
      "            \n",
      "            x1,t1,c1,x2,t2,r2,c2,... = pywed.tsbase(s1,s2,...,{nargout=0})\n",
      "    \n",
      "    The nargout argument is optionnal and can bu used to specify how many \n",
      "    returned values are expected. This optionnal argument is always given \n",
      "    as last argument of tsbase. For example to get 3 outputs you must type:\n",
      "    \n",
      "            a,b,c = pywed.tsbase(...,nargout=3)\n",
      "            \n",
      "    If the tsbase call returns more than 3 values, remain values will be \n",
      "    ignored. If the tsbase call returns less than 3 values, for example 2, \n",
      "    the excess argument will be 'None'. By default tsbase returns all the \n",
      "    output values are returned.\n",
      "    \n",
      "    * tsbase called with no argument returns the treatments list and \n",
      "    associated comments :\n",
      "    \n",
      "            tmtlst,tmtcmt = pywed.tsbase()\n",
      "            \n",
      "    * tsbase called only with a treatment name returns the signals list for \n",
      "    this treatment and associated comments :\n",
      "    \n",
      "            siglst,sigcmt = pywed.tsbase(tmtname)\n",
      "    \n",
      "    * To read a signal data you must use the following syntax:\n",
      "    \n",
      "            y,t,cmt,cd = pywed.tsbase(shot,signalName,{options},{nargout=0})\n",
      "            \n",
      "    'shot' argument is a floating number argument with the following syntax: \n",
      "    \n",
      "            shotNumber.occurence\n",
      "            \n",
      "    For example for the shot 34567 and the occurence 2, shot=34567.2\n",
      "    If you don't want to specify occurence, shot is just the shot number.\n",
      "    \n",
      "    You can also specify signal occurence in signalName option with \n",
      "    the following syntax:\n",
      "    \n",
      "            'signal#occurence'\n",
      "            \n",
      "    For example for 'SIPMES' signal and occurence 2, signalName='SIPMES#2'\n",
      "    \n",
      "    If you want data for a signal from a signal group you can write:\n",
      "    \n",
      "            signalName = 'groupName%index1.index2'\n",
      "            \n",
      "    index2 is used only for 4-coordinates groups.\n",
      "    For example if you want the third signal of 'GNL':\n",
      "    \n",
      "            signalName = 'GNL%3'\n",
      "            \n",
      "    If you want (3,2) signal of 'GT1':\n",
      "    \n",
      "            signalName = 'GT1%3.2'\n",
      "    \n",
      "    options is an optionnal argument detailled below.\n",
      "    \n",
      "    Remark: signal name is not case sensitive.\n",
      "    \n",
      "    * To read data of a signal list [s1,..,sN] you can use two syntax:\n",
      "            \n",
      "            a,b,c... = pywed.tsbase(shot,[s1,..,sN],{options},{nargout=0})\n",
      "    or\n",
      "            a,b,c... = pywed.tsbase(shot,s1,..,sN,{options},{nargout=0})\n",
      "    \n",
      "    For example:\n",
      "    \n",
      "            [ip,tip,cip,te,tte,rte] = pywed.tsbase(34567,'SIMAG','GTETHOM','SZFBRM')\n",
      "    or\n",
      "            sig=['SIMAG','GNL%3','SZFBRM']\n",
      "            [ip,tip,cip,nl3,tnl3,cnl3,ne,te,ce] = pywed.tsbase(10385,sig)\n",
      "    \n",
      "    \n",
      "    * By default tsbase read generic data. To disable this feature you may \n",
      "    use '!' in signal name :\n",
      "    \n",
      "            [a,z] = pywed.tsbase(23456,'!SAMIN')\n",
      "    \n",
      "    * tsbase can read continuous data. Two syntax are availables:\n",
      "    \n",
      "            [t,v] = pywed.tsbase(signal_name,'start date','start time','end date','end time')\n",
      "    or\n",
      "            [t,v] = pywed.tsbase(signal_name,'start date','start time','end time')\n",
      "    \n",
      "    Second syntax assumes that 'end date' is the same day as 'start date'.\n",
      "    Date must follow this syntax 'dd-mm-yyyy'.\n",
      "    Time must follow this syntax 'hh:mm:ss'.\n",
      "    \n",
      "    For example:\n",
      "            \n",
      "            [v,t] = pywed.tsbase('sdtsec','26-11-2001','0:0:1','21:45:09')\n",
      "            \n",
      "    \n",
      "    * Options can be specified with optionnal 'options' string argument.\n",
      "    \n",
      "    There is 2 main options: T and N. These options are used to specify a \n",
      "    requested data range. N is used to specify measures points range from \n",
      "    points index and T from points time.\n",
      "    \n",
      "    - N option can be used with 'Nx:y' or 'Nx,p'. With ':' separator x is \n",
      "    the first point and y the last point. With ',' separator x is the first \n",
      "    point and p the points count. x,y,p must be integers.\n",
      "    \n",
      "    - T option can be used with 'Tx:y' or 'Tx,p'. With ':' separator x is \n",
      "    the first point time and y the last point time. With ',' separator x is \n",
      "    the first point time and p the time range.  x,y,p are floating numbers. \n",
      "    x can be equal to 'I' for Ignitron time.\n",
      "    \n",
      "    Remark: all times are in seconds.\n",
      "    Remark: T and N are incompatible and can't be used on the same time.\n",
      "    \n",
      "    For examples:\n",
      "            [a,b,c,d] = pywed.tsbase(15655,'gxrv','N1,4095')\n",
      "    Returns points from point 1 to point 4096 for signal group 'GXRV' \n",
      "    and shot 15655.\n",
      "    \n",
      "            [a,b,c] = pywed.tsbase(16000,'sipmes','TI,2')\n",
      "    Returns a range of 2 seconds from Ignitron time for SIPMES signal.\n",
      "    \n",
      "            [a,b] = pywed.tsbase(16222,'sipmes','N10:20')\n",
      "    Returns points 10 to 20 of SIPMES signal.\n",
      "    \n",
      "            [a,b,c] = pywed.tsbase(16000,'sipmes','TI:42')\n",
      "    Returns SIPMES signal between Ignitron time and second 42.\n",
      "    \n",
      "    - By default time data returned by tsbase are relatives times (0 is \n",
      "    Ignitron time). It also possible to disable this behaviour and return \n",
      "    absolute data (0 is shot start) by adding '+' options. This option must\n",
      "    added as first character of option string and must be followed by a \n",
      "    space character. For example:\n",
      "            \n",
      "            [a,b,c] = pywed.tsbase(16000,'sipmes','+ TI:42')\n",
      "    Returns SIPMES signal between Ignitron time and second 42 \n",
      "    with absolute time.\n",
      "\n"
     ]
    }
   ],
   "source": [
    "# tsbase\n",
    "help(tsbase)"
   ]
  },
  {
   "cell_type": "code",
   "execution_count": 6,
   "metadata": {
    "slideshow": {
     "slide_type": "slide"
    }
   },
   "outputs": [],
   "source": [
    "#Load many signals by passing a list to tsbase:\n",
    "# Plasma current\n",
    "# Densite lineique f(t,R) pour R={1.97 2.135 2.3 2.465 2.63}\n",
    "sig=['SIPMES ','Snmoy']\n",
    "# in this case you need to know precisely how many outputs each signal generate\n",
    "ip,t_ip,comments_ip,ne,t_ne,comments_ne = tsbase(34567,sig) "
   ]
  },
  {
   "cell_type": "code",
   "execution_count": 7,
   "metadata": {
    "slideshow": {
     "slide_type": "fragment"
    }
   },
   "outputs": [
    {
     "data": {
      "image/png": "[encoded data removed]",
      "text/plain": [
       "<Figure size 432x288 with 2 Axes>"
      ]
     },
     "metadata": {},
     "output_type": "display_data"
    }
   ],
   "source": [
    "ax1=subplot(211)\n",
    "plot(t_ip, ip)\n",
    "xlabel(None)\n",
    "\n",
    "ax2=subplot(212, sharex=ax1) # second subplot shares first subplot axis\n",
    "plot(t_ne, ne)\n",
    "xlabel('t [s]')\n",
    "\n",
    "ax1=xlim(-0.1, +16) # rescale the x axis (both axis then)"
   ]
  },
  {
   "cell_type": "markdown",
   "metadata": {
    "slideshow": {
     "slide_type": "slide"
    }
   },
   "source": [
    "The main difference with the Matlab version of tsbase concerns the output arguments. \n",
    "\n",
    "* In Python, either the user uses one variable in which all the results will be stored (a Python Tuple) or he uses as many as variables as the results. (while in Matlab, it can be any number of output variable)\n",
    "* By default, `tsbase` returns either 3 or 4 results per signal: `signal`, `time`, `XXX`, `YYY`\n",
    "* However, the Python `tsbase` function provides a way to define the number of desired output. Uses the optionnal argument `nargout=` to set the number of output variable you expect."
   ]
  },
  {
   "cell_type": "code",
   "execution_count": 8,
   "metadata": {
    "slideshow": {
     "slide_type": "fragment"
    }
   },
   "outputs": [],
   "source": [
    "# Here we only want to get the 2 first output, \n",
    "# like usually done in Matlab\n",
    "a,b = pywed.tsbase(34567,'SIPMES',nargout=2)"
   ]
  },
  {
   "cell_type": "code",
   "execution_count": 9,
   "metadata": {
    "slideshow": {
     "slide_type": "slide"
    }
   },
   "outputs": [
    {
     "name": "stdout",
     "output_type": "stream",
     "text": [
      "Bphi=1257.0 ; ti=[32.007248046875]\n"
     ]
    },
    {
     "data": {
      "text/plain": [
       "[<matplotlib.lines.Line2D at 0xa59fc88>]"
      ]
     },
     "execution_count": 9,
     "metadata": {},
     "output_type": "execute_result"
    },
    {
     "data": {
      "image/png": "[encoded data removed]",
      "text/plain": [
       "<Figure size 432x288 with 1 Axes>"
      ]
     },
     "metadata": {},
     "output_type": "display_data"
    }
   ],
   "source": [
    "# also works with advanced signal requests \n",
    "Ip,t = pywed.tsmat(34567,'DPOLO-SIPMES')\n",
    "Bphi = pywed.tsmat(34567,'EXP=T=S;GENERAL;ITOR') # note = instead of -\n",
    "ti = pywed.tsmat(34567,'IGNITRON|1')\n",
    "\n",
    "print('Bphi={} ; ti={}'.format(Bphi,ti))\n",
    "plot(t, Ip)"
   ]
  },
  {
   "cell_type": "code",
   "execution_count": 10,
   "metadata": {
    "slideshow": {
     "slide_type": "slide"
    }
   },
   "outputs": [
    {
     "name": "stdout",
     "output_type": "stream",
     "text": [
      "1257.0\n"
     ]
    },
    {
     "data": {
      "text/plain": [
       "[<matplotlib.lines.Line2D at 0xa57ec50>]"
      ]
     },
     "execution_count": 10,
     "metadata": {},
     "output_type": "execute_result"
    },
    {
     "data": {
      "image/png": "[encoded data removed]",
      "text/plain": [
       "<Figure size 432x288 with 1 Axes>"
      ]
     },
     "metadata": {},
     "output_type": "display_data"
    }
   ],
   "source": [
    "# Another example of advanced signal request\n",
    "diag = ['DPOLO ','EXP-T-S ']\n",
    "obj = ['SIPMES ','GENERAL ']\n",
    "param = [' ','ITOR ']\n",
    "mode = '-;'\n",
    "Ip,t,p = pywed.tsmat(34567,diag,obj,param,mode)\n",
    "print(p)\n",
    "plot(t, Ip)"
   ]
  },
  {
   "cell_type": "markdown",
   "metadata": {
    "slideshow": {
     "slide_type": "slide"
    }
   },
   "source": [
    "# MDSplus: WEST-Tore Supra/JET/EAST/etc.\n",
    "[MDSplus](http://www.mdsplus.org/) is a set of software tools for data acquisition and storage and a methodology for management of complex scientific data. It is the most widely used system for data management in the magnetic fusion energy program. It is currently installed at over 30 sites spread over 4 continents.\n",
    "\n",
    "In order to use MDSplus with Python, you need to import the `MDSplus` package:"
   ]
  },
  {
   "cell_type": "code",
   "execution_count": 11,
   "metadata": {
    "slideshow": {
     "slide_type": "fragment"
    }
   },
   "outputs": [
    {
     "ename": "ModuleNotFoundError",
     "evalue": "No module named 'MDSplus'",
     "output_type": "error",
     "traceback": [
      "\u001b[1;31m---------------------------------------------------------------------------\u001b[0m",
      "\u001b[1;31mModuleNotFoundError\u001b[0m                       Traceback (most recent call last)",
      "\u001b[1;32m<ipython-input-11-00ca810b2cbb>\u001b[0m in \u001b[0;36m<module>\u001b[1;34m()\u001b[0m\n\u001b[0;32m      1\u001b[0m \u001b[1;31m# Import the MDSplus package as the 'mds' shorcut\u001b[0m\u001b[1;33m\u001b[0m\u001b[1;33m\u001b[0m\u001b[0m\n\u001b[1;32m----> 2\u001b[1;33m \u001b[1;32mimport\u001b[0m \u001b[0mMDSplus\u001b[0m \u001b[1;32mas\u001b[0m \u001b[0mmds\u001b[0m\u001b[1;33m\u001b[0m\u001b[0m\n\u001b[0m",
      "\u001b[1;31mModuleNotFoundError\u001b[0m: No module named 'MDSplus'"
     ]
    }
   ],
   "source": [
    "# Import the MDSplus package as the 'mds' shorcut\n",
    "import MDSplus as mds"
   ]
  },
  {
   "cell_type": "markdown",
   "metadata": {
    "slideshow": {
     "slide_type": "slide"
    }
   },
   "source": [
    "## Tore Supra/WEST"
   ]
  },
  {
   "cell_type": "code",
   "execution_count": null,
   "metadata": {
    "slideshow": {
     "slide_type": "fragment"
    }
   },
   "outputs": [],
   "source": [
    "# only works from identified (partenaires) places !\n",
    "conx = mds.Connection('mdsplus.partenaires.cea.fr:8000') "
   ]
  },
  {
   "cell_type": "code",
   "execution_count": null,
   "metadata": {
    "slideshow": {
     "slide_type": "fragment"
    }
   },
   "outputs": [],
   "source": [
    "# MDSplus request are based on TDI (tree data interface) commands.\n",
    "# Since the WEST database is not a native MDSplus database, \n",
    "# in fact we use a wrapper which convert TDI expression into WEST database requests.\n",
    "# This is possible using the '_sig=gettsbase(shot_nb, signame)' TDI expression.\n",
    "y = conx.get('_sig=gettsbase(34567,\"SIPMES\")')\n",
    "# the time base is obtained using 'dim_of(_sig)' \n",
    "t = conx.get('dim_of(_sig)')\n",
    "\n",
    "plot(t,y)"
   ]
  },
  {
   "cell_type": "markdown",
   "metadata": {
    "slideshow": {
     "slide_type": "slide"
    }
   },
   "source": [
    "## JET\n",
    "JET data can be retrieved through the JET MDSplus wrapper. The behavior is similar than for WEST. \n",
    "\n",
    "The list of recommended signals in the JET database can be found here: http://users.jet.efda.org/openwiki/index.php/List_of_Recommended_Signals"
   ]
  },
  {
   "cell_type": "code",
   "execution_count": null,
   "metadata": {
    "slideshow": {
     "slide_type": "fragment"
    }
   },
   "outputs": [],
   "source": [
    "conx = mds.Connection('mdsplus.jet.efda.org') # only works from know places, such as inside "
   ]
  },
  {
   "cell_type": "code",
   "execution_count": null,
   "metadata": {
    "slideshow": {
     "slide_type": "fragment"
    }
   },
   "outputs": [],
   "source": [
    "Shot = 80812\n",
    "toffset=40 # plasma breakdown offset time\n",
    "\n",
    "# Works with PPF signals\n",
    "y = conx.get('_sigi=jet(\\\"ppf/magn/ipla\\\", {})'.format(Shot))\n",
    "t = conx.get('dim_of(_sigi)')\n",
    "\n",
    "bb=conx.get('_sigb=jet(\\\"ppf/pt5P/pen1\\\", {})'.format(Shot))\n",
    "tbb = conx.get('dim_of(_sigb)')\n",
    "\n",
    "# Also works with JPF signals\n",
    "barb=conx.get('_sigbarb=jet(\\\"jpf/DF/T5-PEN2<PRS\\\", {})'.format(Shot))\n",
    "tbarb= conx.get('dim_of(_sigbarb)')"
   ]
  },
  {
   "cell_type": "code",
   "execution_count": null,
   "metadata": {
    "slideshow": {
     "slide_type": "slide"
    }
   },
   "outputs": [],
   "source": [
    "ax1=subplot(311)\n",
    "plot(t-toffset, abs(y)/1e6, lw=2, color='r')\n",
    "ylim(ymax=2.5) # it is possible to set only one parameter\n",
    "ylabel('$I_p$ [MA]')\n",
    "grid()\n",
    "ax2=subplot(312, sharex=ax1)\n",
    "plot(tbb-toffset, bb, lw=2)\n",
    "ylabel(\"mBar\")\n",
    "grid()\n",
    "ax3=subplot(313, sharex=ax1)\n",
    "plot(tbarb-toffset, barb, lw=2, color='k')\n",
    "ylabel('pression')\n",
    "xlabel('t [s]')\n",
    "grid()\n",
    "xlim(0, 35)\n",
    "# some tuning to remove the x ticks on the two first subplots\n",
    "plt.setp( ax1.get_xticklabels(), visible=False)\n",
    "plt.setp( ax2.get_xticklabels(), visible=False)"
   ]
  },
  {
   "cell_type": "code",
   "execution_count": null,
   "metadata": {
    "slideshow": {
     "slide_type": "slide"
    }
   },
   "outputs": [],
   "source": [
    "# A 2D plot example with Li beam\n",
    "ne = conx.get('_sig=jet(\"ppf/KY6/NER\", 80812)') # Li beam ne measurement\n",
    "ne_R = conx.get('dim_of(_sig,0)') # major radius in meter\n",
    "ne_t = conx.get('dim_of(_sig,1)') # time in second"
   ]
  },
  {
   "cell_type": "code",
   "execution_count": null,
   "metadata": {
    "slideshow": {
     "slide_type": "fragment"
    }
   },
   "outputs": [],
   "source": [
    "# We check the shape of the output arrays\n",
    "# note that np.shape(ne) or ne.shape is similar\n",
    "print(ne.shape, shape(ne_R), shape(ne_t))"
   ]
  },
  {
   "cell_type": "code",
   "execution_count": null,
   "metadata": {
    "slideshow": {
     "slide_type": "slide"
    }
   },
   "outputs": [],
   "source": [
    "toffset=40 # plasma breakdown offset time\n",
    "RR, tt = meshgrid(ne_R, ne_t-toffset)\n",
    "pcolormesh(RR, tt, ne.value, shading='gouraud') # pcolormesh is faster and recommanded vs pcolor (from matplotlib doc)\n",
    "xlabel('Major Radius [m]', fontsize=14)\n",
    "ylabel('Time [s]', fontsize=14)\n",
    "axis([np.min(RR), np.max(RR), np.min(tt), np.max(tt)]) # zoom in the data region"
   ]
  }
 ],
 "metadata": {
  "celltoolbar": "Slideshow",
  "kernelspec": {
   "display_name": "Python 3",
   "language": "python",
   "name": "python3"
  },
  "language_info": {
   "codemirror_mode": {
    "name": "ipython",
    "version": 3
   },
   "file_extension": ".py",
   "mimetype": "text/x-python",
   "name": "python",
   "nbconvert_exporter": "python",
   "pygments_lexer": "ipython3",
   "version": "3.6.6"
  },
  "livereveal": {
   "autolaunch": true,
   "width": "80%"
  }
 },
 "nbformat": 4,
 "nbformat_minor": 1
}
