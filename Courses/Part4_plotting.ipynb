{
 "cells": [
  {
   "cell_type": "markdown",
   "metadata": {},
   "source": [
    "# Graphiques"
   ]
  },
  {
   "cell_type": "markdown",
   "metadata": {},
   "source": [
    "At the contrary to languages like Matlab or IDL, the support of plotting capabilities is not built-in in Python and requires an external library.\n",
    "\n",
    "The workhorse for scientific plotting in Python is _matplotlib_. (http://matplotlib.org) (but other cool librairies exists!)\n",
    "\n",
    "The matplotlib library has been built in order to be close to the Matlab commands, and most of the command are the same."
   ]
  },
  {
   "cell_type": "code",
   "execution_count": null,
   "metadata": {
    "collapsed": false,
    "jupyter": {
     "outputs_hidden": false
    }
   },
   "outputs": [],
   "source": [
    "# The code below is the \"recommanded\" way to developp a Python code\n",
    "# which may be used somewhere else by someone else...\n",
    "import numpy as np # NumPy\n",
    "import matplotlib.pyplot as plt # Matplotlib\n",
    "\n",
    "x = np.linspace(-np.pi, np.pi, 101)\n",
    "y = np.exp(-1j*x)\n",
    "\n",
    "plt.plot(y.real, y.imag)  # or np.real(y), np.imag(y)\n",
    "plt.axis('equal')\n",
    "plt.xlabel('$\\Re$[x]')\n",
    "plt.ylabel('$\\Im$[x]')\n",
    "plt.grid(True) # or grid('on') like in Matlab\n",
    "plt.title('The unit circle $e^{i x}$.')"
   ]
  },
  {
   "cell_type": "code",
   "execution_count": null,
   "metadata": {
    "collapsed": false,
    "jupyter": {
     "outputs_hidden": false
    }
   },
   "outputs": [],
   "source": [
    "# meme exemple mais sans devoir taper plein de trucs... Not recommanded\n",
    "from numpy import * # NumPy\n",
    "from matplotlib.pyplot import * # Matplotlib\n",
    "\n",
    "x = linspace(-pi, pi, 101)\n",
    "y = exp(-1j*x)\n",
    "\n",
    "plot(real(y), imag(y))\n",
    "axis('equal')\n",
    "xlabel('$\\Re$[x]', fontsize=16)\n",
    "ylabel('$\\Im$[x]', fontsize=16)\n",
    "grid(True) # or grid('on') like in Matlab\n",
    "title('The unit circle $e^{i x}$.', fontsize=22)\n",
    "xticks(fontsize=14)\n",
    "yticks(fontsize=14)"
   ]
  },
  {
   "cell_type": "markdown",
   "metadata": {},
   "source": [
    "## Pylab mode\n",
    "Typing `plt.` and `np.` can be cumbersome, especially in a hurry... (but is recommanded for code which are more than just snippets) To alleviate, one can import most of the matplotlib, numpy and scipy libraries into the interpreter namespace :\n",
    "\n",
    "    from pylab import * \n",
    "(ou, dans un terminal IPython en mode interactif:\n",
    "\n",
    "    %pylab\n",
    "\n",
    "**But beware**! Doing like that, you don't know exactly what you've imported (and eventually overwritten) in the memory !\n",
    "\n",
    "**Example**: which sum() are we now using: the Python native sum() which takes Python list or the NumPy version which takes NumPy array? Same for min() or max().\n"
   ]
  },
  {
   "cell_type": "code",
   "execution_count": null,
   "metadata": {
    "collapsed": false,
    "jupyter": {
     "outputs_hidden": false
    }
   },
   "outputs": [],
   "source": [
    "# In IPython/Jupyter :\n",
    "%pylab\n",
    "%matplotlib inline"
   ]
  },
  {
   "cell_type": "code",
   "execution_count": null,
   "metadata": {
    "collapsed": false,
    "jupyter": {
     "outputs_hidden": false
    }
   },
   "outputs": [],
   "source": [
    "# The code below very much looks like matlab !\n",
    "x = linspace(-4, 4, 101)\n",
    "y = tanh(x)\n",
    "plot(x,y)\n",
    "axis('equal')\n",
    "title('$y=tanh(x)$')"
   ]
  },
  {
   "cell_type": "markdown",
   "metadata": {},
   "source": [
    "## Commandes et options de Matplotlib"
   ]
  },
  {
   "cell_type": "code",
   "execution_count": null,
   "metadata": {
    "collapsed": false,
    "jupyter": {
     "outputs_hidden": false
    }
   },
   "outputs": [],
   "source": [
    "# As in matlab, the line properties can be ajusted, \n",
    "# either graphically using the GUI (for independant plots)\n",
    "# or with commands\n",
    "plot(x, cos(x)**2 /x, linewidth=2, color='k', \n",
    "     marker='+', markersize=20)\n",
    "grid(axis='y')\n",
    "grid(axis='x', color='r', linestyle='--')\n",
    "xlabel('x', fontsize=16)\n",
    "ylabel('y', fontsize=16)\n",
    "title('Title', fontsize=16)"
   ]
  },
  {
   "cell_type": "code",
   "execution_count": null,
   "metadata": {
    "collapsed": false,
    "jupyter": {
     "outputs_hidden": false
    }
   },
   "outputs": [],
   "source": [
    "plot(x, x**2, color=(0.6, 0.4, 0.1), lw=3)\n",
    "yscale('log')\n",
    "grid(which='minor', color='b', axis='both', linestyle='-')\n",
    "grid(which='major', color='r', axis='x', linewidth=2 )\n",
    "xticks(fontsize=14) \n",
    "yticks(fontsize=14)\n",
    "text(-0.05, 0.1, '$x^2$', fontsize=30)"
   ]
  },
  {
   "cell_type": "code",
   "execution_count": null,
   "metadata": {
    "collapsed": false,
    "jupyter": {
     "outputs_hidden": false
    }
   },
   "outputs": [],
   "source": [
    "x = linspace(-1, 1, 101)\n",
    "y = exp(-(x - 0.3)**2 / 0.1)\n",
    "plot(x, y, lw=2)\n",
    "fill_between(x, y, alpha=0.2)\n",
    "axis([-1, 1, 0, 1])\n",
    "axis('equal')\n",
    "grid(True) # or grid('on')\n",
    "xticks(fontsize=14); yticks(fontsize=14)"
   ]
  },
  {
   "cell_type": "markdown",
   "metadata": {},
   "source": [
    "Making subplot can be done the same way than in Matlab:"
   ]
  },
  {
   "cell_type": "code",
   "execution_count": null,
   "metadata": {
    "collapsed": false,
    "jupyter": {
     "outputs_hidden": false
    }
   },
   "outputs": [],
   "source": [
    "subplot(221)\n",
    "plot(x, x**1)\n",
    "subplot(222)\n",
    "plot(x, x**2)\n",
    "subplot(223)\n",
    "plot(x, x**3)\n",
    "subplot(224)\n",
    "plot(x, x**4)"
   ]
  },
  {
   "cell_type": "markdown",
   "metadata": {},
   "source": [
    "Or a more \"Pythonic\" way : (cf http://matplotlib.org/examples/pylab_examples/subplots_demo.html for more examples)"
   ]
  },
  {
   "cell_type": "code",
   "execution_count": null,
   "metadata": {
    "collapsed": false,
    "jupyter": {
     "outputs_hidden": false
    }
   },
   "outputs": [],
   "source": [
    "f, ax = subplots(nrows=2, ncols=1, sharex=True)\n",
    "ax[0].plot(x, x**1)\n",
    "ax[1].plot(x, x**3)\n",
    "\n",
    "ax[0].set_ylabel('y1')\n",
    "ax[1].set_ylabel('y2')\n",
    "\n",
    "xlabel('x axis is shared between the two figures', fontsize=14)"
   ]
  },
  {
   "cell_type": "markdown",
   "metadata": {},
   "source": [
    "## 2D figure"
   ]
  },
  {
   "cell_type": "code",
   "execution_count": null,
   "metadata": {
    "collapsed": false,
    "jupyter": {
     "outputs_hidden": false
    }
   },
   "outputs": [],
   "source": [
    "# generates a quadrilateral grid\n",
    "u = linspace(-1, 1, 51)\n",
    "X,Y = meshgrid(u, u)\n",
    "# a gaussian\n",
    "Z = exp(-(X**2 + Y**2)/20)\n",
    "\n",
    "pcolor(X, Y, Z)\n",
    "axis('equal')\n",
    "cbar = colorbar()"
   ]
  },
  {
   "cell_type": "markdown",
   "metadata": {},
   "source": [
    "See [here](http://thomas-cokelaer.info/blog/2014/05/matplotlib-difference-between-pcolor-pcolormesh-and-imshow/) for a discussion of the differences between `pcolor`, `pcolormesh` (hint: much faster) and `imshow` (hint: start at upper left)."
   ]
  },
  {
   "cell_type": "code",
   "execution_count": null,
   "metadata": {
    "collapsed": false,
    "jupyter": {
     "outputs_hidden": false
    }
   },
   "outputs": [],
   "source": [
    "# below we tune a bit the colorbar\n",
    "C = pcolormesh(X, Y, Z, shading='gouraud', vmax=0.99, cmap='viridis')\n",
    "C.cmap.set_over('black')\n",
    "\n",
    "C.axes.tick_params(labelsize=14)\n",
    "C.axes.set_aspect('equal', adjustable='box')\n",
    "\n",
    "cbar = colorbar(orientation='vertical', aspect=20, shrink=0.95)\n",
    "cbar.ax.tick_params(labelsize=14) "
   ]
  },
  {
   "cell_type": "markdown",
   "metadata": {},
   "source": [
    "You can find [here](http://bids.github.io/colormap/) some discussion about the colormar used in present and future versions of Matplotlib."
   ]
  },
  {
   "cell_type": "markdown",
   "metadata": {},
   "source": [
    "## How to make ... ?\n",
    "\n",
    "Matplotlib is now a very mature library, which allows users to perform many kind of different graphics type.\n",
    "\n",
    "Please have a look the [Matplotlib Gallery](http://matplotlib.org/gallery.html) to discover the various possibilities!\n"
   ]
  },
  {
   "cell_type": "code",
   "execution_count": null,
   "metadata": {
    "collapsed": false,
    "jupyter": {
     "outputs_hidden": false
    }
   },
   "outputs": [],
   "source": [
    "\"\"\"Load the CSS sheet 'custom.css' located in the directory\"\"\"\n",
    "from IPython.display import HTML  \n",
    "styles = f'<style>\\n{open(\"./custom.css\",\"r\").read()}\\n</style>'\n",
    "HTML(styles)   "
   ]
  },
  {
   "cell_type": "code",
   "execution_count": null,
   "metadata": {},
   "outputs": [],
   "source": []
  }
 ],
 "metadata": {
  "kernelspec": {
   "display_name": "Python 3 (ipykernel)",
   "language": "python",
   "name": "python3"
  },
  "language_info": {
   "codemirror_mode": {
    "name": "ipython",
    "version": 3
   },
   "file_extension": ".py",
   "mimetype": "text/x-python",
   "name": "python",
   "nbconvert_exporter": "python",
   "pygments_lexer": "ipython3",
   "version": "3.8.13"
  }
 },
 "nbformat": 4,
 "nbformat_minor": 4
}
