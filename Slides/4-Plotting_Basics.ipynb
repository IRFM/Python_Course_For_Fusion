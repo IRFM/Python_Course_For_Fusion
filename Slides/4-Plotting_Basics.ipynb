{
 "cells": [
  {
   "cell_type": "markdown",
   "metadata": {
    "slideshow": {
     "slide_type": "slide"
    }
   },
   "source": [
    "# Plotting Basics\n",
    "At the contrary to languages like Matlab or IDL, the support of plotting capabilities is not built-in in Python and requires an external library.\n",
    "\n",
    "The workhorse for scientific plotting in Python is _matplotlib_.\n",
    "\n",
    "The matplotlib library has been built in order to be close to the Matlab commands, and most of the command are the same."
   ]
  },
  {
   "cell_type": "code",
   "execution_count": null,
   "metadata": {
    "slideshow": {
     "slide_type": "slide"
    }
   },
   "outputs": [],
   "source": [
    "# import NumPy \n",
    "import numpy as np\n",
    "# import the matplotlib plotting functionality\n",
    "import pylab as plt\n",
    "# this line tell IPython to plot figures directly in the notebook, not in a separate figure\n",
    "%matplotlib inline"
   ]
  },
  {
   "cell_type": "code",
   "execution_count": null,
   "metadata": {
    "slideshow": {
     "slide_type": "fragment"
    }
   },
   "outputs": [],
   "source": [
    "x = np.linspace(-np.pi, np.pi, 101)\n",
    "y = np.exp(-1j*x)\n",
    "\n",
    "plt.plot(np.real(y), np.imag(y))\n",
    "plt.axis('equal')\n",
    "plt.xlabel('\\Re[y]')\n",
    "plt.ylabel('\\Im[y]')\n",
    "plt.grid(True) # or grid('on') like in Matlab\n",
    "plt.title('The unit circle $e^{i x}$.')"
   ]
  },
  {
   "cell_type": "markdown",
   "metadata": {
    "slideshow": {
     "slide_type": "slide"
    }
   },
   "source": [
    "# PyLab mode\n",
    "Typing plt. and np. can be cumbersome...   (but is recommanded for code which are more than just snippets) To alleviate, one can import most of the matplotlib, numpy and scipy libraries into the interpreter namespace :\n",
    "\n",
    "    from pylab import * "
   ]
  },
  {
   "cell_type": "markdown",
   "metadata": {
    "slideshow": {
     "slide_type": "slide"
    }
   },
   "source": [
    "__But beware!__ Doing like that, you don't know exactly what you've imported (and eventually overwritten) in the memory !\n",
    "\n",
    "_Example_: which `sum()` are we now using: the Python native `sum()` which takes Python list or the NumPy version which takes NumPy array? Same for `min()` or `max()`."
   ]
  },
  {
   "cell_type": "code",
   "execution_count": null,
   "metadata": {
    "slideshow": {
     "slide_type": "fragment"
    }
   },
   "outputs": [],
   "source": [
    "from pylab import *\n",
    "# The code below very much looks like matlab !\n",
    "x = linspace(-4, 4, 101)\n",
    "y = tanh(x)\n",
    "plot(x,y)\n",
    "axis('equal')\n",
    "title('$y=tanh(x)$')"
   ]
  },
  {
   "cell_type": "markdown",
   "metadata": {
    "slideshow": {
     "slide_type": "slide"
    }
   },
   "source": [
    "# Some matplotlib commands and options"
   ]
  },
  {
   "cell_type": "code",
   "execution_count": null,
   "metadata": {
    "slideshow": {
     "slide_type": "slide"
    }
   },
   "outputs": [],
   "source": [
    "# As in matlab, the line properties can be ajusted, \n",
    "# either graphically using the GUI (for independant plots)\n",
    "# or with commands\n",
    "plot(x, cos(x)**2 /x, linewidth=2, color='k', marker='+')\n",
    "grid(axis='y')\n",
    "grid(axis='x', color='r', linestyle='--')\n",
    "xlabel('x', fontsize=14)"
   ]
  },
  {
   "cell_type": "code",
   "execution_count": null,
   "metadata": {
    "slideshow": {
     "slide_type": "slide"
    }
   },
   "outputs": [],
   "source": [
    "plot(x, x**2, color=(0.6, 0.4, 0.1), lw=3)\n",
    "yscale('log')\n",
    "grid(which='minor', color='b', axis='both', linestyle='-')\n",
    "grid(which='major', color='r', axis='x', linewidth=2 )\n",
    "xticks(fontsize=13) \n",
    "yticks(fontsize=13)\n",
    "text(-1, 10, '$x^2$', fontsize=30)"
   ]
  },
  {
   "cell_type": "code",
   "execution_count": null,
   "metadata": {
    "slideshow": {
     "slide_type": "slide"
    }
   },
   "outputs": [],
   "source": [
    "x = linspace(-1, 1, 101)\n",
    "y = exp(-(x - 0.3)**2 / 0.1)\n",
    "plot(x, y, lw=2)\n",
    "fill_between(x, y, alpha=0.2)\n",
    "axis([-1, 1, 0, 1], 'equal')\n",
    "grid()"
   ]
  },
  {
   "cell_type": "code",
   "execution_count": null,
   "metadata": {
    "slideshow": {
     "slide_type": "slide"
    }
   },
   "outputs": [],
   "source": [
    "subplot(221)\n",
    "plot(x, x**1)\n",
    "subplot(222)\n",
    "plot(x, x**2)\n",
    "subplot(223)\n",
    "plot(x, x**3)\n",
    "subplot(224)\n",
    "plot(x, x**4)\n"
   ]
  },
  {
   "cell_type": "markdown",
   "metadata": {
    "slideshow": {
     "slide_type": "slide"
    }
   },
   "source": [
    "# How to make ... ?\n",
    "Matplotlib is now a very mature library, which allows users to perform many kind of different graphics type. \n",
    "\n",
    "Please have a look the [Matplotlib Gallery](http://matplotlib.org/gallery.html) to discover the various possibilities!\n"
   ]
  },
  {
   "cell_type": "markdown",
   "metadata": {
    "slideshow": {
     "slide_type": "fragment"
    }
   },
   "source": [
    "_NB_: a word a about the [default colormap](http://bids.github.io/colormap/)"
   ]
  }
 ],
 "metadata": {
  "celltoolbar": "Slideshow",
  "kernelspec": {
   "display_name": "Python 3 (ipykernel)",
   "language": "python",
   "name": "python3"
  },
  "language_info": {
   "codemirror_mode": {
    "name": "ipython",
    "version": 3
   },
   "file_extension": ".py",
   "mimetype": "text/x-python",
   "name": "python",
   "nbconvert_exporter": "python",
   "pygments_lexer": "ipython3",
   "version": "3.11.9"
  },
  "livereveal": {
   "autolaunch": true,
   "width": "80%"
  }
 },
 "nbformat": 4,
 "nbformat_minor": 4
}
