{
 "cells": [
  {
   "cell_type": "code",
   "execution_count": 1,
   "metadata": {
    "collapsed": false,
    "slideshow": {
     "slide_type": "skip"
    }
   },
   "outputs": [
    {
     "data": {
      "text/html": [
       "<style>\n",
       ".pmode {\n",
       "    display:none; !important\n",
       "}\n",
       "\n",
       "div.text_cell_render h1 {\n",
       "\tfont-size: 24pt;\n",
       "\tcolor: rgb(192,80,77);\n",
       "\tbackground-color: rgb(245,245,245);\n",
       "}\n",
       "\n",
       "div.text_cell_render h2 {\n",
       "\tfont-size: 20pt;\n",
       "\tcolor: rgb(31,73,125);\n",
       "\tbackground-color: rgb(242,242,242);\n",
       "}\n",
       "\n",
       ".presentation_mode h1{\n",
       "        text-align: center;\n",
       "}\n",
       "\n",
       ".presentation_mode .maintoolbar-container{\n",
       "    display:none; !important\n",
       "}\n",
       "\n",
       ".presentation_mode div#notebook-container {\n",
       "    box-shadow: none;\n",
       "    -webkit-box-shadow: none:\n",
       "\n",
       "}\n",
       "\n",
       ".presentation_mode #header {\n",
       "    box-shadow: none;\n",
       "    -webkit-box-shadow: none;\n",
       "    border-bottom: thin silver solid;\n",
       "\n",
       "}\n",
       "\n",
       "body.presentation_mode {\n",
       "    background-color:white;\n",
       "}\n",
       "\n",
       "div.text_cell_render h6 {\n",
       "    margin-top: 0px;\n",
       "    margin-bottom: 0px;\n",
       "    color: inherit;\n",
       "    font-size: 16px;\n",
       "    font-family: inherit;\n",
       "    font-weight: 500;\n",
       "    line-height: 1.1;\n",
       "    background-color: unset;\n",
       "    border: 5px solid;\n",
       "}\n",
       "</style>"
      ],
      "text/plain": [
       "<IPython.core.display.HTML object>"
      ]
     },
     "execution_count": 1,
     "metadata": {},
     "output_type": "execute_result"
    }
   ],
   "source": [
    "from IPython import utils  \n",
    "from IPython.core.display import HTML  \n",
    "import os  \n",
    "def css_styling():  \n",
    "    \"\"\"Load the CSS sheet 'custom.css' located in the directory\"\"\"\n",
    "    styles = \"<style>\\n%s\\n</style>\" % (open('./custom.css','r').read())\n",
    "    return HTML(styles)\n",
    "css_styling()  "
   ]
  },
  {
   "cell_type": "markdown",
   "metadata": {
    "slideshow": {
     "slide_type": "slide"
    }
   },
   "source": [
    "# Part 1 - Python?"
   ]
  },
  {
   "cell_type": "markdown",
   "metadata": {
    "slideshow": {
     "slide_type": "slide"
    }
   },
   "source": [
    "# What is Python?\n",
    "[Python](http://www.python.org) is a modern, general-purpose, object-oriented, high-level programming language. \n",
    "\n",
    "* Created in 1990 by Guido van Rossum\n",
    "* Name comes from Monty Python\n",
    "* Generalized programming language (No specific discipline)\n",
    "* Open source – free\n",
    "* Cross-platform"
   ]
  },
  {
   "cell_type": "markdown",
   "metadata": {
    "collapsed": true,
    "slideshow": {
     "slide_type": "subslide"
    }
   },
   "source": [
    "## Interpreted\n",
    "no need to compile the code (vs: C, Fortran)"
   ]
  },
  {
   "cell_type": "markdown",
   "metadata": {
    "slideshow": {
     "slide_type": "subslide"
    }
   },
   "source": [
    "## Dynamically typed\n",
    "No need to define the type of variables. Variables can change meaning on-the-fly."
   ]
  },
  {
   "cell_type": "code",
   "execution_count": 5,
   "metadata": {
    "collapsed": false,
    "slideshow": {
     "slide_type": "fragment"
    }
   },
   "outputs": [
    {
     "data": {
      "text/plain": [
       "int"
      ]
     },
     "execution_count": 5,
     "metadata": {},
     "output_type": "execute_result"
    }
   ],
   "source": [
    "my_var = 42\n",
    "type(my_var)"
   ]
  },
  {
   "cell_type": "code",
   "execution_count": 6,
   "metadata": {
    "collapsed": false,
    "slideshow": {
     "slide_type": "fragment"
    }
   },
   "outputs": [
    {
     "data": {
      "text/plain": [
       "str"
      ]
     },
     "execution_count": 6,
     "metadata": {},
     "output_type": "execute_result"
    }
   ],
   "source": [
    "my_var = 'hello world'\n",
    "type(my_var)"
   ]
  },
  {
   "cell_type": "markdown",
   "metadata": {
    "slideshow": {
     "slide_type": "subslide"
    }
   },
   "source": [
    "## High-level\n",
    "Abstraction from the way the machine actually executes"
   ]
  },
  {
   "cell_type": "markdown",
   "metadata": {
    "slideshow": {
     "slide_type": "subslide"
    }
   },
   "source": [
    "## Easy to learn syntax (emphasizes readability) \n",
    "* Python was designed to be a highly readable language.\n",
    "* Python uses indentation to delimit program blocks (for loop, if, functions, etc) instead of punctuation or keywords\n",
    "* It has a relatively uncluttered visual layout and uses English keywords frequently\n",
    "* Python aims towards simplicity and generality in the design of its syntax (\"The Zen of Python\")"
   ]
  },
  {
   "cell_type": "code",
   "execution_count": 7,
   "metadata": {
    "collapsed": false,
    "slideshow": {
     "slide_type": "subslide"
    }
   },
   "outputs": [
    {
     "name": "stdout",
     "output_type": "stream",
     "text": [
      "The Zen of Python, by Tim Peters\n",
      "\n",
      "Beautiful is better than ugly.\n",
      "Explicit is better than implicit.\n",
      "Simple is better than complex.\n",
      "Complex is better than complicated.\n",
      "Flat is better than nested.\n",
      "Sparse is better than dense.\n",
      "Readability counts.\n",
      "Special cases aren't special enough to break the rules.\n",
      "Although practicality beats purity.\n",
      "Errors should never pass silently.\n",
      "Unless explicitly silenced.\n",
      "In the face of ambiguity, refuse the temptation to guess.\n",
      "There should be one-- and preferably only one --obvious way to do it.\n",
      "Although that way may not be obvious at first unless you're Dutch.\n",
      "Now is better than never.\n",
      "Although never is often better than *right* now.\n",
      "If the implementation is hard to explain, it's a bad idea.\n",
      "If the implementation is easy to explain, it may be a good idea.\n",
      "Namespaces are one honking great idea -- let's do more of those!\n"
     ]
    }
   ],
   "source": [
    "import this"
   ]
  },
  {
   "cell_type": "markdown",
   "metadata": {
    "slideshow": {
     "slide_type": "subslide"
    }
   },
   "source": [
    "## Object-Oriented\n",
    "* Modular, good for packaging and code re-use\n",
    "* --> Huge number of available libraries: very used for scientific purposes and data analysis."
   ]
  },
  {
   "cell_type": "markdown",
   "metadata": {
    "slideshow": {
     "slide_type": "fragment"
    }
   },
   "source": [
    "## Open-Source\n",
    "* Python and its extensive standard library is available in source or binary form without charge for all major platforms, and can be freely distributed. \n",
    "* Same for mathematics and science-oriented libraries."
   ]
  },
  {
   "cell_type": "markdown",
   "metadata": {
    "slideshow": {
     "slide_type": "slide"
    }
   },
   "source": [
    "# Why should I care?\n",
    "## Python is suitable for scientific computing\n",
    "* Python has a strong position in scientific computing: \n",
    " * Large community of users, easy to find help and documentation.\n",
    " * Extensive ecosystem of scientific libraries and environments\n",
    " * Close integration with time-tested and highly optimized codes written in C and Fortran -->  Great performances\n",
    " * Good support for parallel, distributed and GPU computing"
   ]
  },
  {
   "cell_type": "markdown",
   "metadata": {
    "slideshow": {
     "slide_type": "fragment"
    }
   },
   "source": [
    "* No licence cost --> Budget can be use for something else... \n"
   ]
  },
  {
   "cell_type": "markdown",
   "metadata": {
    "slideshow": {
     "slide_type": "subslide"
    }
   },
   "source": [
    "## Cons:\n",
    "\n",
    "* Developement decentralized, with different environment, packages and documentation spread out at different places --> Can make it harder to get started and find help."
   ]
  },
  {
   "cell_type": "markdown",
   "metadata": {
    "slideshow": {
     "slide_type": "fragment"
    }
   },
   "source": [
    "* Interpreted and dynamically typed language --> execution of python code can be slow compared to compiled statically typed programming languages (C and Fortran)."
   ]
  },
  {
   "cell_type": "markdown",
   "metadata": {
    "slideshow": {
     "slide_type": "fragment"
    }
   },
   "source": [
    "![Optimizing What?](../Figures/optimizing-what.png)"
   ]
  },
  {
   "cell_type": "markdown",
   "metadata": {
    "slideshow": {
     "slide_type": "subslide"
    }
   },
   "source": [
    "## Python Scientific Ecosystem\n",
    "\n",
    "![Python vs matlab ecosystem](https://docs.google.com/drawings/d/1IditELHVqBp-2WguBkhSdVR3prjXvVGnLPmqDtBeKuM/pub?w=560)\n",
    "from http://www.pyzo.org/python_vs_matlab.html"
   ]
  },
  {
   "cell_type": "markdown",
   "metadata": {
    "collapsed": true,
    "slideshow": {
     "slide_type": "slide"
    }
   },
   "source": [
    "# Python at IRFM\n",
    "\n",
    "![Optimizing What?](../Figures/PyIRFM.png)\n"
   ]
  },
  {
   "cell_type": "markdown",
   "metadata": {
    "slideshow": {
     "slide_type": "subslide"
    }
   },
   "source": [
    "## Linux\n",
    "\n",
    "Connect on one of the following server with the NX client and your linux login and password:\n",
    "\n",
    "* nashira\n",
    "* merope\n",
    "\n",
    "Once connected, open a terminal and first type :\n",
    "\n",
    "    module load python\n",
    "\n",
    "This will setup your command line to use Python3 with the latest version of the Python numerical librairies (instead of old Python2 deprecated versions). \n"
   ]
  },
  {
   "cell_type": "markdown",
   "metadata": {
    "slideshow": {
     "slide_type": "subslide"
    }
   },
   "source": [
    "## Windows\n",
    "Under windows, Python and all its scientific ecosystem is installed by default. You will find it here:\n",
    "\n",
    "* start (démarrer) -> All programs (tous les programmes) -> WinPython"
   ]
  },
  {
   "cell_type": "markdown",
   "metadata": {
    "slideshow": {
     "slide_type": "slide"
    }
   },
   "source": [
    "# Python Terminal. \n",
    "Python itself is _interpreter_: it translates the Pyton source code into instructions that your computer understand. [1]\n",
    "\n",
    "* Linux: open a terminal and type `python`. It display some informations and returns a `>>>` prompt."
   ]
  },
  {
   "cell_type": "markdown",
   "metadata": {
    "slideshow": {
     "slide_type": "fragment"
    }
   },
   "source": [
    "    [JH218595@merope ~ ]> python\n",
    "    Python 3.3.5 (default, Jul 22 2014, 09:44:27)\n",
    "    [GCC 4.4.6 20120305 (Red Hat 4.4.6-4)] on linu`\n",
    "    Type \"help\", \"copyright\", \"credits\" or \"license\" for more information. \n",
    "   \n",
    "    Imported NumPy 1.8.1, SciPy 0.14.0, Matplotlib 1.3.1, pywed 0.1.1\n",
    "  \n",
    "    Type \"scientific\" for more details.\n",
    "    >>> \n",
    "\n",
    "To exit, use `exit()` or `CRTL+D` keyboard shortcut. "
   ]
  },
  {
   "cell_type": "markdown",
   "metadata": {
    "slideshow": {
     "slide_type": "subslide"
    }
   },
   "source": [
    "# IPython\n",
    "IPython (stands for _Interactive Python_) is a more user-friendly Python interpreter. \n",
    "\n",
    "* Linux: in a terminal, type `ipython`.\n",
    "* Windows: IPython Qt Console."
   ]
  },
  {
   "cell_type": "markdown",
   "metadata": {
    "slideshow": {
     "slide_type": "fragment"
    }
   },
   "source": [
    "    [JH218595@merope ~ ]> ipython\n",
    "    Python 3.3.5 (default, Jul 22 2014, 09:44:27)\n",
    "    Type \"copyright\", \"credits\" or \"license\" for more information.\n",
    "    \n",
    "    IPython 2.1.0 -- An enhanced Interactive Python.\n",
    "    ?         -> Introduction and overview of IPython's features.\n",
    "    %quickref -> Quick reference.\n",
    "    help      -> Python's own help system.\n",
    "    object?   -> Details about 'object', use 'object??' for extra details.\n",
    "    \n",
    "    Imported NumPy 1.8.1, SciPy 0.14.0, Matplotlib 1.3.1, pywed 0.1.1\n",
    "    \n",
    "    Type \"scientific\" for more details.\n",
    "    \n",
    "    In [1]:"
   ]
  },
  {
   "cell_type": "markdown",
   "metadata": {
    "slideshow": {
     "slide_type": "slide"
    }
   },
   "source": [
    "# Jupyter (ex-IPython Notebook)\n",
    "IPython comes with a web-browser based interface: the notebook. \n",
    "\n",
    "The notebook allows one to mix text, equations ($\\LaTeX$) or images, with Python code and graphics output. It is a great interface for explorary codes. (It has a similar look&feel than Mathematica notebook.). (These slides have been made with the notebook.) \n",
    "\n",
    "A notebook can be used to document a computational work as a narrative way, with a direct access to the data. \n",
    "\n",
    "The project has recently been renammed [Jupyter](http://jupyter.org/), as it allows to use other language than Python itself. ![Jupyter logo](http://jupyter.org/assets/nav_logo.svg)\n",
    "\n",
    " * Linux: in a terminal type `ipython notebook`\n",
    " * Windows: IPython Notebook"
   ]
  },
  {
   "cell_type": "markdown",
   "metadata": {
    "slideshow": {
     "slide_type": "subslide"
    }
   },
   "source": [
    "![Jupyter notebook](../Figures/Jupyter_notebook.png)"
   ]
  },
  {
   "cell_type": "markdown",
   "metadata": {
    "slideshow": {
     "slide_type": "subslide"
    }
   },
   "source": [
    "A very nice equation with some $x$ and $ \\infty$ : $$e^{i\\pi} + \\int_{-\\infty}^{+\\infty} e^{-a x^2} dx$$"
   ]
  },
  {
   "cell_type": "code",
   "execution_count": 3,
   "metadata": {
    "collapsed": false,
    "slideshow": {
     "slide_type": "skip"
    }
   },
   "outputs": [
    {
     "name": "stdout",
     "output_type": "stream",
     "text": [
      "Using matplotlib backend: agg\n",
      "Populating the interactive namespace from numpy and matplotlib\n"
     ]
    }
   ],
   "source": [
    "%pylab\n",
    "%matplotlib inline"
   ]
  },
  {
   "cell_type": "code",
   "execution_count": 4,
   "metadata": {
    "collapsed": false,
    "slideshow": {
     "slide_type": "fragment"
    }
   },
   "outputs": [
    {
     "data": {
      "text/plain": [
       "[<matplotlib.lines.Line2D at 0x7482cf8>]"
      ]
     },
     "execution_count": 4,
     "metadata": {},
     "output_type": "execute_result"
    },
    {
     "data": {
      "image/png": "[encoded data removed]",
      "text/plain": [
       "<matplotlib.figure.Figure at 0x7409940>"
      ]
     },
     "metadata": {},
     "output_type": "display_data"
    }
   ],
   "source": [
    "# and now some code and graphics\n",
    "x = linspace(-pi, +pi, 101)\n",
    "y = cos(2*x)**2\n",
    "plot(x,y)"
   ]
  },
  {
   "cell_type": "markdown",
   "metadata": {
    "slideshow": {
     "slide_type": "slide"
    }
   },
   "source": [
    "# Spyder\n",
    "\n",
    "Spyder (_Scientific PYthon Development EnviRonment_) is a powerful interactive development environment for the Python language with advanced editing, interactive testing, debugging and help features\n"
   ]
  },
  {
   "cell_type": "markdown",
   "metadata": {
    "slideshow": {
     "slide_type": "subslide"
    }
   },
   "source": [
    "Its interface look very much like the one of Matlab. \n",
    "![Spyder screenshot](../Figures/spyder-screenshot.jpg)"
   ]
  },
  {
   "cell_type": "markdown",
   "metadata": {
    "slideshow": {
     "slide_type": "slide"
    }
   },
   "source": [
    "# Need help?\n",
    "## IRFM Mailing list\n",
    "Public maling list concerning python at IRFM: PyIRFM \n",
    " * __`pyirfm@saxifrage.saclay.cea.fr`__\n",
    "\n",
    "\n",
    "Suscribe here : http://saxifrage:3500/wws/subscribe/pyirfm"
   ]
  },
  {
   "cell_type": "markdown",
   "metadata": {
    "slideshow": {
     "slide_type": "subslide"
    }
   },
   "source": [
    "## IRFM Python Wiki\n",
    "![How to access the wiki - 1](../Figures/PyIRFM_wiki1.png)"
   ]
  },
  {
   "cell_type": "markdown",
   "metadata": {
    "slideshow": {
     "slide_type": "subslide"
    }
   },
   "source": [
    "![How to access the wiki - 1](../Figures/PyIRFM_wiki2.png)"
   ]
  },
  {
   "cell_type": "markdown",
   "metadata": {
    "slideshow": {
     "slide_type": "subslide"
    }
   },
   "source": [
    "![How to access the wiki - 1](../Figures/PyIRFM_wiki3.png)"
   ]
  },
  {
   "cell_type": "markdown",
   "metadata": {
    "slideshow": {
     "slide_type": "subslide"
    }
   },
   "source": [
    "## Built-in commands\n",
    "* `help(object)`: Prints documentation of the object"
   ]
  },
  {
   "cell_type": "code",
   "execution_count": 22,
   "metadata": {
    "collapsed": false,
    "slideshow": {
     "slide_type": "fragment"
    }
   },
   "outputs": [
    {
     "name": "stdout",
     "output_type": "stream",
     "text": [
      "Help on int object:\n",
      "\n",
      "class int(object)\n",
      " |  int(x=0) -> int or long\n",
      " |  int(x, base=10) -> int or long\n",
      " |  \n",
      " |  Convert a number or string to an integer, or return 0 if no arguments\n",
      " |  are given.  If x is floating point, the conversion truncates towards zero.\n",
      " |  If x is outside the integer range, the function returns a long instead.\n",
      " |  \n",
      " |  If x is not a number or if base is given, then x must be a string or\n",
      " |  Unicode object representing an integer literal in the given base.  The\n",
      " |  literal can be preceded by '+' or '-' and be surrounded by whitespace.\n",
      " |  The base defaults to 10.  Valid bases are 0 and 2-36.  Base 0 means to\n",
      " |  interpret the base from the string as an integer literal.\n",
      " |  >>> int('0b100', base=0)\n",
      " |  4\n",
      " |  \n",
      " |  Methods defined here:\n",
      " |  \n",
      " |  __abs__(...)\n",
      " |      x.__abs__() <==> abs(x)\n",
      " |  \n",
      " |  __add__(...)\n",
      " |      x.__add__(y) <==> x+y\n",
      " |  \n",
      " |  __and__(...)\n",
      " |      x.__and__(y) <==> x&y\n",
      " |  \n",
      " |  __cmp__(...)\n",
      " |      x.__cmp__(y) <==> cmp(x,y)\n",
      " |  \n",
      " |  __coerce__(...)\n",
      " |      x.__coerce__(y) <==> coerce(x, y)\n",
      " |  \n",
      " |  __div__(...)\n",
      " |      x.__div__(y) <==> x/y\n",
      " |  \n",
      " |  __divmod__(...)\n",
      " |      x.__divmod__(y) <==> divmod(x, y)\n",
      " |  \n",
      " |  __float__(...)\n",
      " |      x.__float__() <==> float(x)\n",
      " |  \n",
      " |  __floordiv__(...)\n",
      " |      x.__floordiv__(y) <==> x//y\n",
      " |  \n",
      " |  __format__(...)\n",
      " |  \n",
      " |  __getattribute__(...)\n",
      " |      x.__getattribute__('name') <==> x.name\n",
      " |  \n",
      " |  __getnewargs__(...)\n",
      " |  \n",
      " |  __hash__(...)\n",
      " |      x.__hash__() <==> hash(x)\n",
      " |  \n",
      " |  __hex__(...)\n",
      " |      x.__hex__() <==> hex(x)\n",
      " |  \n",
      " |  __index__(...)\n",
      " |      x[y:z] <==> x[y.__index__():z.__index__()]\n",
      " |  \n",
      " |  __int__(...)\n",
      " |      x.__int__() <==> int(x)\n",
      " |  \n",
      " |  __invert__(...)\n",
      " |      x.__invert__() <==> ~x\n",
      " |  \n",
      " |  __long__(...)\n",
      " |      x.__long__() <==> long(x)\n",
      " |  \n",
      " |  __lshift__(...)\n",
      " |      x.__lshift__(y) <==> x<<y\n",
      " |  \n",
      " |  __mod__(...)\n",
      " |      x.__mod__(y) <==> x%y\n",
      " |  \n",
      " |  __mul__(...)\n",
      " |      x.__mul__(y) <==> x*y\n",
      " |  \n",
      " |  __neg__(...)\n",
      " |      x.__neg__() <==> -x\n",
      " |  \n",
      " |  __nonzero__(...)\n",
      " |      x.__nonzero__() <==> x != 0\n",
      " |  \n",
      " |  __oct__(...)\n",
      " |      x.__oct__() <==> oct(x)\n",
      " |  \n",
      " |  __or__(...)\n",
      " |      x.__or__(y) <==> x|y\n",
      " |  \n",
      " |  __pos__(...)\n",
      " |      x.__pos__() <==> +x\n",
      " |  \n",
      " |  __pow__(...)\n",
      " |      x.__pow__(y[, z]) <==> pow(x, y[, z])\n",
      " |  \n",
      " |  __radd__(...)\n",
      " |      x.__radd__(y) <==> y+x\n",
      " |  \n",
      " |  __rand__(...)\n",
      " |      x.__rand__(y) <==> y&x\n",
      " |  \n",
      " |  __rdiv__(...)\n",
      " |      x.__rdiv__(y) <==> y/x\n",
      " |  \n",
      " |  __rdivmod__(...)\n",
      " |      x.__rdivmod__(y) <==> divmod(y, x)\n",
      " |  \n",
      " |  __repr__(...)\n",
      " |      x.__repr__() <==> repr(x)\n",
      " |  \n",
      " |  __rfloordiv__(...)\n",
      " |      x.__rfloordiv__(y) <==> y//x\n",
      " |  \n",
      " |  __rlshift__(...)\n",
      " |      x.__rlshift__(y) <==> y<<x\n",
      " |  \n",
      " |  __rmod__(...)\n",
      " |      x.__rmod__(y) <==> y%x\n",
      " |  \n",
      " |  __rmul__(...)\n",
      " |      x.__rmul__(y) <==> y*x\n",
      " |  \n",
      " |  __ror__(...)\n",
      " |      x.__ror__(y) <==> y|x\n",
      " |  \n",
      " |  __rpow__(...)\n",
      " |      y.__rpow__(x[, z]) <==> pow(x, y[, z])\n",
      " |  \n",
      " |  __rrshift__(...)\n",
      " |      x.__rrshift__(y) <==> y>>x\n",
      " |  \n",
      " |  __rshift__(...)\n",
      " |      x.__rshift__(y) <==> x>>y\n",
      " |  \n",
      " |  __rsub__(...)\n",
      " |      x.__rsub__(y) <==> y-x\n",
      " |  \n",
      " |  __rtruediv__(...)\n",
      " |      x.__rtruediv__(y) <==> y/x\n",
      " |  \n",
      " |  __rxor__(...)\n",
      " |      x.__rxor__(y) <==> y^x\n",
      " |  \n",
      " |  __str__(...)\n",
      " |      x.__str__() <==> str(x)\n",
      " |  \n",
      " |  __sub__(...)\n",
      " |      x.__sub__(y) <==> x-y\n",
      " |  \n",
      " |  __truediv__(...)\n",
      " |      x.__truediv__(y) <==> x/y\n",
      " |  \n",
      " |  __trunc__(...)\n",
      " |      Truncating an Integral returns itself.\n",
      " |  \n",
      " |  __xor__(...)\n",
      " |      x.__xor__(y) <==> x^y\n",
      " |  \n",
      " |  bit_length(...)\n",
      " |      int.bit_length() -> int\n",
      " |      \n",
      " |      Number of bits necessary to represent self in binary.\n",
      " |      >>> bin(37)\n",
      " |      '0b100101'\n",
      " |      >>> (37).bit_length()\n",
      " |      6\n",
      " |  \n",
      " |  conjugate(...)\n",
      " |      Returns self, the complex conjugate of any int.\n",
      " |  \n",
      " |  ----------------------------------------------------------------------\n",
      " |  Data descriptors defined here:\n",
      " |  \n",
      " |  denominator\n",
      " |      the denominator of a rational number in lowest terms\n",
      " |  \n",
      " |  imag\n",
      " |      the imaginary part of a complex number\n",
      " |  \n",
      " |  numerator\n",
      " |      the numerator of a rational number in lowest terms\n",
      " |  \n",
      " |  real\n",
      " |      the real part of a complex number\n",
      " |  \n",
      " |  ----------------------------------------------------------------------\n",
      " |  Data and other attributes defined here:\n",
      " |  \n",
      " |  __new__ = <built-in method __new__ of type object>\n",
      " |      T.__new__(S, ...) -> a new object with type S, a subtype of T\n",
      "\n"
     ]
    }
   ],
   "source": [
    "help(46)"
   ]
  },
  {
   "cell_type": "markdown",
   "metadata": {
    "slideshow": {
     "slide_type": "subslide"
    }
   },
   "source": [
    "* `dir(object)`: Prints valid attributes of object"
   ]
  },
  {
   "cell_type": "code",
   "execution_count": 23,
   "metadata": {
    "collapsed": false,
    "slideshow": {
     "slide_type": "fragment"
    }
   },
   "outputs": [
    {
     "data": {
      "text/plain": [
       "['__abs__',\n",
       " '__add__',\n",
       " '__and__',\n",
       " '__class__',\n",
       " '__cmp__',\n",
       " '__coerce__',\n",
       " '__delattr__',\n",
       " '__div__',\n",
       " '__divmod__',\n",
       " '__doc__',\n",
       " '__float__',\n",
       " '__floordiv__',\n",
       " '__format__',\n",
       " '__getattribute__',\n",
       " '__getnewargs__',\n",
       " '__hash__',\n",
       " '__hex__',\n",
       " '__index__',\n",
       " '__init__',\n",
       " '__int__',\n",
       " '__invert__',\n",
       " '__long__',\n",
       " '__lshift__',\n",
       " '__mod__',\n",
       " '__mul__',\n",
       " '__neg__',\n",
       " '__new__',\n",
       " '__nonzero__',\n",
       " '__oct__',\n",
       " '__or__',\n",
       " '__pos__',\n",
       " '__pow__',\n",
       " '__radd__',\n",
       " '__rand__',\n",
       " '__rdiv__',\n",
       " '__rdivmod__',\n",
       " '__reduce__',\n",
       " '__reduce_ex__',\n",
       " '__repr__',\n",
       " '__rfloordiv__',\n",
       " '__rlshift__',\n",
       " '__rmod__',\n",
       " '__rmul__',\n",
       " '__ror__',\n",
       " '__rpow__',\n",
       " '__rrshift__',\n",
       " '__rshift__',\n",
       " '__rsub__',\n",
       " '__rtruediv__',\n",
       " '__rxor__',\n",
       " '__setattr__',\n",
       " '__sizeof__',\n",
       " '__str__',\n",
       " '__sub__',\n",
       " '__subclasshook__',\n",
       " '__truediv__',\n",
       " '__trunc__',\n",
       " '__xor__',\n",
       " 'bit_length',\n",
       " 'conjugate',\n",
       " 'denominator',\n",
       " 'imag',\n",
       " 'numerator',\n",
       " 'real']"
      ]
     },
     "execution_count": 23,
     "metadata": {},
     "output_type": "execute_result"
    }
   ],
   "source": [
    "dir(42)"
   ]
  },
  {
   "cell_type": "markdown",
   "metadata": {
    "slideshow": {
     "slide_type": "subslide"
    }
   },
   "source": [
    "## IPython additional commands\n",
    "IPython offers additional commands which improve user experience."
   ]
  },
  {
   "cell_type": "markdown",
   "metadata": {
    "slideshow": {
     "slide_type": "fragment"
    }
   },
   "source": [
    "* `an_object?`: Prints all known information about object"
   ]
  },
  {
   "cell_type": "markdown",
   "metadata": {
    "slideshow": {
     "slide_type": "fragment"
    }
   },
   "source": [
    "* `an_object??`: Shows source code where object is implemented"
   ]
  },
  {
   "cell_type": "markdown",
   "metadata": {
    "slideshow": {
     "slide_type": "fragment"
    }
   },
   "source": [
    "* Tab-completion: press tab and see what is available\n"
   ]
  },
  {
   "cell_type": "markdown",
   "metadata": {
    "slideshow": {
     "slide_type": "subslide"
    }
   },
   "source": [
    "`who` and `whos` are the same than in Matlab:"
   ]
  },
  {
   "cell_type": "code",
   "execution_count": 18,
   "metadata": {
    "collapsed": false,
    "slideshow": {
     "slide_type": "fragment"
    }
   },
   "outputs": [],
   "source": [
    "idx = 10\n",
    "test = 'youpi'\n",
    "alist = [1,2,3]"
   ]
  },
  {
   "cell_type": "code",
   "execution_count": 20,
   "metadata": {
    "collapsed": false,
    "slideshow": {
     "slide_type": "skip"
    }
   },
   "outputs": [
    {
     "name": "stdout",
     "output_type": "stream",
     "text": [
      "Name            Shape            Bytes            Type\n",
      "===========================================================\n",
      "\n",
      "x               101              808              float64\n",
      "y               101              808              float64\n",
      "\n",
      "Upper bound on total bytes  =       1616\n"
     ]
    }
   ],
   "source": [
    "# Since I've used %pylab before, the following command does not give the expected behaviour.\n",
    "who() # NumPy version of who: Only print NumPy Arrays"
   ]
  },
  {
   "cell_type": "code",
   "execution_count": 21,
   "metadata": {
    "collapsed": false,
    "slideshow": {
     "slide_type": "fragment"
    }
   },
   "outputs": [
    {
     "name": "stdout",
     "output_type": "stream",
     "text": [
      "Variable      Type        Data/Info\n",
      "-----------------------------------\n",
      "HTML          type        <class 'IPython.core.display.HTML'>\n",
      "alist         list        n=3\n",
      "css_styling   function    <function css_styling at 0x0000000007453C80>\n",
      "idx           int         10\n",
      "os            module      <module 'os' from 'C:\\\\Us<...>3.4.3.amd64\\\\lib\\\\os.py'>\n",
      "test          str         youpi\n",
      "this          module      <module 'this' from 'C:\\\\<...>4.3.amd64\\\\lib\\\\this.py'>\n",
      "utils         module      <module 'IPython.utils' f<...>hon\\\\utils\\\\__init__.py'>\n",
      "x             ndarray     101: 101 elems, type `float64`, 808 bytes\n",
      "y             ndarray     101: 101 elems, type `float64`, 808 bytes\n"
     ]
    }
   ],
   "source": [
    "whos"
   ]
  }
 ],
 "metadata": {
  "celltoolbar": "Slideshow",
  "kernelspec": {
   "display_name": "Python 3",
   "language": "python",
   "name": "python3"
  },
  "language_info": {
   "codemirror_mode": {
    "name": "ipython",
    "version": 3
   },
   "file_extension": ".py",
   "mimetype": "text/x-python",
   "name": "python",
   "nbconvert_exporter": "python",
   "pygments_lexer": "ipython3",
   "version": "3.4.1"
  }
 },
 "nbformat": 4,
 "nbformat_minor": 0
}
