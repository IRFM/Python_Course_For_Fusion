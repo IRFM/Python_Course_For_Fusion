{
 "cells": [
  {
   "cell_type": "code",
   "execution_count": 1,
   "metadata": {
    "collapsed": false,
    "slideshow": {
     "slide_type": "skip"
    }
   },
   "outputs": [
    {
     "data": {
      "text/html": [
       "<style>\n",
       ".pmode {\n",
       "    display:none; !important\n",
       "}\n",
       "\n",
       "div.text_cell_render h1 {\n",
       "\tfont-size: 24pt;\n",
       "\tcolor: rgb(192,80,77);\n",
       "\tbackground-color: rgb(245,245,245);\n",
       "}\n",
       "\n",
       "div.text_cell_render h2 {\n",
       "\tfont-size: 20pt;\n",
       "\tcolor: rgb(31,73,125);\n",
       "\tbackground-color: rgb(242,242,242);\n",
       "}\n",
       "\n",
       ".presentation_mode h1{\n",
       "        text-align: center;\n",
       "}\n",
       "\n",
       ".presentation_mode .maintoolbar-container{\n",
       "    display:none; !important\n",
       "}\n",
       "\n",
       ".presentation_mode div#notebook-container {\n",
       "    box-shadow: none;\n",
       "    -webkit-box-shadow: none:\n",
       "\n",
       "}\n",
       "\n",
       ".presentation_mode #header {\n",
       "    box-shadow: none;\n",
       "    -webkit-box-shadow: none;\n",
       "    border-bottom: thin silver solid;\n",
       "\n",
       "}\n",
       "\n",
       "body.presentation_mode {\n",
       "    background-color:white;\n",
       "}\n",
       "\n",
       "\n",
       "</style>"
      ],
      "text/plain": [
       "<IPython.core.display.HTML object>"
      ]
     },
     "execution_count": 1,
     "metadata": {},
     "output_type": "execute_result"
    }
   ],
   "source": [
    "from IPython import utils  \n",
    "from IPython.core.display import HTML  \n",
    "import os  \n",
    "def css_styling():  \n",
    "    \"\"\"Load the CSS sheet 'custom.css' located in the directory\"\"\"\n",
    "    styles = \"<style>\\n%s\\n</style>\" % (open('./custom.css','r').read())\n",
    "    return HTML(styles)\n",
    "css_styling()  "
   ]
  },
  {
   "cell_type": "markdown",
   "metadata": {
    "slideshow": {
     "slide_type": "slide"
    }
   },
   "source": [
    "#Part 3 - Introduction to NumPy"
   ]
  },
  {
   "cell_type": "markdown",
   "metadata": {
    "slideshow": {
     "slide_type": "slide"
    }
   },
   "source": [
    "At the contrary to languages like Matlab, IDL or Fortran, the support of powerfull array construct is not built-in in Python and require an external library: _NumPy_.\n",
    "\n",
    "NumPy (pronounced 'Numb-pie') is the standard library for numerical arrays in the scientific Python. \n",
    "\n",
    "NumPy also understand both C and Fortran style arrays."
   ]
  },
  {
   "cell_type": "code",
   "execution_count": 4,
   "metadata": {
    "collapsed": true,
    "slideshow": {
     "slide_type": "fragment"
    }
   },
   "outputs": [],
   "source": [
    "# we need to import the NumPy library in order to use it\n",
    "import numpy as np  "
   ]
  },
  {
   "cell_type": "markdown",
   "metadata": {
    "slideshow": {
     "slide_type": "slide"
    }
   },
   "source": [
    "#NumPy arrays\n",
    "The basic type that NumPy provides in the N-dimensional array class _ndarray_."
   ]
  },
  {
   "cell_type": "code",
   "execution_count": 19,
   "metadata": {
    "collapsed": false,
    "slideshow": {
     "slide_type": "fragment"
    }
   },
   "outputs": [
    {
     "name": "stdout",
     "output_type": "stream",
     "text": [
      "[0 1 2 3 4]\n"
     ]
    }
   ],
   "source": [
    "# to create a NumPy array, call array() on a sequence \n",
    "my_array = np.array([0,1,2,3,4])\n",
    "\n",
    "print(my_array)"
   ]
  },
  {
   "cell_type": "code",
   "execution_count": 20,
   "metadata": {
    "collapsed": false,
    "slideshow": {
     "slide_type": "fragment"
    }
   },
   "outputs": [
    {
     "data": {
      "text/plain": [
       "numpy.ndarray"
      ]
     },
     "execution_count": 20,
     "metadata": {},
     "output_type": "execute_result"
    }
   ],
   "source": [
    "# A NumPy array is not a Python list. \n",
    "type(my_array)"
   ]
  },
  {
   "cell_type": "code",
   "execution_count": 10,
   "metadata": {
    "collapsed": false,
    "slideshow": {
     "slide_type": "fragment"
    }
   },
   "outputs": [
    {
     "data": {
      "text/plain": [
       "array([1, 2, 3, 4, 5])"
      ]
     },
     "execution_count": 10,
     "metadata": {},
     "output_type": "execute_result"
    }
   ],
   "source": [
    "# It is more similar to a Matlab array :\n",
    "my_array + 1"
   ]
  },
  {
   "cell_type": "code",
   "execution_count": 8,
   "metadata": {
    "collapsed": false,
    "slideshow": {
     "slide_type": "fragment"
    }
   },
   "outputs": [
    {
     "data": {
      "text/plain": [
       "array([0, 2, 4, 6, 8])"
      ]
     },
     "execution_count": 8,
     "metadata": {},
     "output_type": "execute_result"
    }
   ],
   "source": [
    "# multiplication operator acts elements\n",
    "my_array * 2"
   ]
  },
  {
   "cell_type": "markdown",
   "metadata": {
    "slideshow": {
     "slide_type": "subslide"
    }
   },
   "source": [
    "NumPy provides a number of ways to create arrays, similar to Matlab functions:\n",
    "\n",
    "    arange([start,] stop[, step,]) # NumPy version of Python's arange()\n",
    "    zeros(shape) # array of 0\n",
    "    ones(shape)  # array of 1\n",
    "    empty(shape) # Simply allocate memory without assigning it. \n",
    "            # Usefull if you are going to owerwrite them\n",
    "            \n",
    "    # create even linearly or logarithmically spaced grid of points\n",
    "    # between a lower and upper bound that is inclusive on both ends.        \n",
    "    linspace()\n",
    "    logspace()"
   ]
  },
  {
   "cell_type": "code",
   "execution_count": 21,
   "metadata": {
    "collapsed": false,
    "slideshow": {
     "slide_type": "subslide"
    }
   },
   "outputs": [
    {
     "data": {
      "text/plain": [
       "array([ 42,  52,  62,  72,  82,  92, 102, 112, 122, 132])"
      ]
     },
     "execution_count": 21,
     "metadata": {},
     "output_type": "execute_result"
    }
   ],
   "source": [
    "# creating an array going from 42 up to 142 by steps of 10\n",
    "np.arange(42, 142, 10) "
   ]
  },
  {
   "cell_type": "code",
   "execution_count": 22,
   "metadata": {
    "collapsed": false,
    "slideshow": {
     "slide_type": "fragment"
    }
   },
   "outputs": [
    {
     "data": {
      "text/plain": [
       "array([ 1.,  1.,  1.,  1.])"
      ]
     },
     "execution_count": 22,
     "metadata": {},
     "output_type": "execute_result"
    }
   ],
   "source": [
    "np.ones(4) # the shape can be a single number (=lenght)"
   ]
  },
  {
   "cell_type": "code",
   "execution_count": 24,
   "metadata": {
    "collapsed": false,
    "slideshow": {
     "slide_type": "fragment"
    }
   },
   "outputs": [
    {
     "data": {
      "text/plain": [
       "array([[ 0.,  0.],\n",
       "       [ 0.,  0.]])"
      ]
     },
     "execution_count": 24,
     "metadata": {},
     "output_type": "execute_result"
    }
   ],
   "source": [
    "np.zeros((2,2)) # or a N-dimensional tuple"
   ]
  },
  {
   "cell_type": "code",
   "execution_count": 25,
   "metadata": {
    "collapsed": false,
    "slideshow": {
     "slide_type": "fragment"
    }
   },
   "outputs": [
    {
     "data": {
      "text/plain": [
       "array([[[  1.63514909e-316,   3.55500390e-316,   3.65744466e-316,\n",
       "           3.66161931e-316],\n",
       "        [  3.29788186e-316,   3.65517235e-316,   3.66168769e-316,\n",
       "           3.20378172e-316],\n",
       "        [  3.68467597e-316,   3.67780174e-316,   3.66169283e-316,\n",
       "           3.66179560e-316]],\n",
       "\n",
       "       [[  3.66180587e-316,   3.68588070e-316,   3.70939507e-316,\n",
       "           3.72461308e-316],\n",
       "        [  3.68459376e-316,   3.67318519e-316,   3.72283049e-316,\n",
       "           3.71568433e-316],\n",
       "        [  3.72532928e-316,   3.72369135e-316,   3.66240903e-316,\n",
       "           3.66538133e-316]]])"
      ]
     },
     "execution_count": 25,
     "metadata": {},
     "output_type": "execute_result"
    }
   ],
   "source": [
    "np.empty((2,3,4))"
   ]
  },
  {
   "cell_type": "markdown",
   "metadata": {
    "slideshow": {
     "slide_type": "subslide"
    }
   },
   "source": [
    "##dtypes\n",
    "Because the `ndarray` object has been conceived to be performant (fast) for numerical operations, it can't mix types (at the contrary of Python lists). \n",
    "\n",
    "As a consequence, the type of a `ndarray` is fixed for all the elements of the array. \n",
    "\n",
    "The _dtype_ (for data type) is the most important `ndarray` attribute. The data type determines\n",
    "the size and meaning of each element of the array.\n",
    "\n",
    "The _dtypes_ all have string character codes, as a concise mechanism for specifying the\n",
    "type. \n",
    "\n",
    "Examples: int, foat, complex, etc. Precision can be defined (int8, int32, in64, etc...)\n"
   ]
  },
  {
   "cell_type": "code",
   "execution_count": 32,
   "metadata": {
    "collapsed": false,
    "slideshow": {
     "slide_type": "subslide"
    }
   },
   "outputs": [
    {
     "data": {
      "text/plain": [
       "dtype('float64')"
      ]
     },
     "execution_count": 32,
     "metadata": {},
     "output_type": "execute_result"
    }
   ],
   "source": [
    "my_array = np.array([1.5, 2, 5.9, 9.0]) # auto-guess\n",
    "my_array.dtype"
   ]
  },
  {
   "cell_type": "code",
   "execution_count": 46,
   "metadata": {
    "collapsed": false,
    "slideshow": {
     "slide_type": "fragment"
    }
   },
   "outputs": [
    {
     "name": "stdout",
     "output_type": "stream",
     "text": [
      "[1 2 5 9]\n",
      "int32\n"
     ]
    }
   ],
   "source": [
    "# forces dtype to integer\n",
    "my_array = np.array([1.5, 2, 5.9, 9.0], dtype=int) \n",
    "print(my_array)\n",
    "print(my_array.dtype)"
   ]
  },
  {
   "cell_type": "code",
   "execution_count": 43,
   "metadata": {
    "collapsed": false,
    "slideshow": {
     "slide_type": "fragment"
    }
   },
   "outputs": [
    {
     "name": "stdout",
     "output_type": "stream",
     "text": [
      "[ 1.5+5.j  2.0+0.j  5.9+6.j  9.0+0.j]\n",
      "complex128\n"
     ]
    }
   ],
   "source": [
    "# note that 'j' or '1j' is the imaginary symbol in NumPy\n",
    "my_array = np.array([1.5 + 5j, 2, 5.9 + 6*1j, 9.0], dtype=complex) \n",
    "print(my_array)\n",
    "print(my_array.dtype)"
   ]
  },
  {
   "cell_type": "markdown",
   "metadata": {
    "slideshow": {
     "slide_type": "slide"
    }
   },
   "source": [
    "#Mathematical Operations"
   ]
  },
  {
   "cell_type": "code",
   "execution_count": 52,
   "metadata": {
    "collapsed": false,
    "slideshow": {
     "slide_type": "fragment"
    }
   },
   "outputs": [
    {
     "name": "stdout",
     "output_type": "stream",
     "text": [
      "[ -1.00000000e+00  -9.98026728e-01  -9.92114701e-01  -9.82287251e-01\n",
      "  -9.68583161e-01  -9.51056516e-01  -9.29776486e-01  -9.04827052e-01\n",
      "  -8.76306680e-01  -8.44327926e-01  -8.09016994e-01  -7.70513243e-01\n",
      "  -7.28968627e-01  -6.84547106e-01  -6.37423990e-01  -5.87785252e-01\n",
      "  -5.35826795e-01  -4.81753674e-01  -4.25779292e-01  -3.68124553e-01\n",
      "  -3.09016994e-01  -2.48689887e-01  -1.87381315e-01  -1.25333234e-01\n",
      "  -6.27905195e-02   2.83276945e-16   6.27905195e-02   1.25333234e-01\n",
      "   1.87381315e-01   2.48689887e-01   3.09016994e-01   3.68124553e-01\n",
      "   4.25779292e-01   4.81753674e-01   5.35826795e-01   5.87785252e-01\n",
      "   6.37423990e-01   6.84547106e-01   7.28968627e-01   7.70513243e-01\n",
      "   8.09016994e-01   8.44327926e-01   8.76306680e-01   9.04827052e-01\n",
      "   9.29776486e-01   9.51056516e-01   9.68583161e-01   9.82287251e-01\n",
      "   9.92114701e-01   9.98026728e-01   1.00000000e+00   9.98026728e-01\n",
      "   9.92114701e-01   9.82287251e-01   9.68583161e-01   9.51056516e-01\n",
      "   9.29776486e-01   9.04827052e-01   8.76306680e-01   8.44327926e-01\n",
      "   8.09016994e-01   7.70513243e-01   7.28968627e-01   6.84547106e-01\n",
      "   6.37423990e-01   5.87785252e-01   5.35826795e-01   4.81753674e-01\n",
      "   4.25779292e-01   3.68124553e-01   3.09016994e-01   2.48689887e-01\n",
      "   1.87381315e-01   1.25333234e-01   6.27905195e-02   6.12323400e-17\n",
      "  -6.27905195e-02  -1.25333234e-01  -1.87381315e-01  -2.48689887e-01\n",
      "  -3.09016994e-01  -3.68124553e-01  -4.25779292e-01  -4.81753674e-01\n",
      "  -5.35826795e-01  -5.87785252e-01  -6.37423990e-01  -6.84547106e-01\n",
      "  -7.28968627e-01  -7.70513243e-01  -8.09016994e-01  -8.44327926e-01\n",
      "  -8.76306680e-01  -9.04827052e-01  -9.29776486e-01  -9.51056516e-01\n",
      "  -9.68583161e-01  -9.82287251e-01  -9.92114701e-01  -9.98026728e-01\n",
      "  -1.00000000e+00]\n"
     ]
    },
    {
     "data": {
      "text/plain": [
       "numpy.ndarray"
      ]
     },
     "execution_count": 52,
     "metadata": {},
     "output_type": "execute_result"
    }
   ],
   "source": [
    "# All mathematical operators (exp, log, sqrt, etc) or constants are included of the NumPy library. \n",
    "# They act on NumPy array and return NumPy arrays\n",
    "x = np.linspace(-np.pi, np.pi, 101)\n",
    "result = np.cos(x)\n",
    "print(result)\n",
    "type(result)"
   ]
  },
  {
   "cell_type": "markdown",
   "metadata": {
    "slideshow": {
     "slide_type": "slide"
    }
   },
   "source": [
    "#Slicing\n",
    "NumPy arrays have the same slicing semantics as Python list."
   ]
  },
  {
   "cell_type": "code",
   "execution_count": 54,
   "metadata": {
    "collapsed": false,
    "slideshow": {
     "slide_type": "fragment"
    }
   },
   "outputs": [
    {
     "data": {
      "text/plain": [
       "array([0, 1, 2, 3, 4, 5, 6, 7])"
      ]
     },
     "execution_count": 54,
     "metadata": {},
     "output_type": "execute_result"
    }
   ],
   "source": [
    "a = np.arange(8)\n",
    "a"
   ]
  },
  {
   "cell_type": "code",
   "execution_count": 57,
   "metadata": {
    "collapsed": false,
    "slideshow": {
     "slide_type": "fragment"
    }
   },
   "outputs": [
    {
     "data": {
      "text/plain": [
       "array([2, 3, 4, 5])"
      ]
     },
     "execution_count": 57,
     "metadata": {},
     "output_type": "execute_result"
    }
   ],
   "source": [
    "a[2:6] # from the third element to the 6th (excluded) by stride of 1 "
   ]
  },
  {
   "cell_type": "code",
   "execution_count": 56,
   "metadata": {
    "collapsed": false,
    "slideshow": {
     "slide_type": "fragment"
    }
   },
   "outputs": [
    {
     "data": {
      "text/plain": [
       "array([1, 4, 7])"
      ]
     },
     "execution_count": 56,
     "metadata": {},
     "output_type": "execute_result"
    }
   ],
   "source": [
    "a[1::3] # from the second element to the last by stride of 3"
   ]
  },
  {
   "cell_type": "markdown",
   "metadata": {
    "slideshow": {
     "slide_type": "subslide"
    }
   },
   "source": [
    "NumPy array can be N-dimensional, so you may slice along any and all axes. You can even use multiple axes. "
   ]
  },
  {
   "cell_type": "code",
   "execution_count": 59,
   "metadata": {
    "collapsed": false,
    "slideshow": {
     "slide_type": "fragment"
    }
   },
   "outputs": [
    {
     "name": "stdout",
     "output_type": "stream",
     "text": [
      "[[ 0  1  2  3]\n",
      " [ 4  5  6  7]\n",
      " [ 8  9 10 11]\n",
      " [12 13 14 15]]\n"
     ]
    }
   ],
   "source": [
    "# create a 4x4 matrix\n",
    "a = np.arange(16)\n",
    "a.shape = (4,4)\n",
    "print(a)"
   ]
  },
  {
   "cell_type": "code",
   "execution_count": 65,
   "metadata": {
    "collapsed": false,
    "slideshow": {
     "slide_type": "fragment"
    }
   },
   "outputs": [
    {
     "data": {
      "text/plain": [
       "array([4, 5, 6, 7])"
      ]
     },
     "execution_count": 65,
     "metadata": {},
     "output_type": "execute_result"
    }
   ],
   "source": [
    "# all the elements of the second row\n",
    "a[1,:]"
   ]
  },
  {
   "cell_type": "code",
   "execution_count": 67,
   "metadata": {
    "collapsed": false,
    "slideshow": {
     "slide_type": "fragment"
    }
   },
   "outputs": [
    {
     "data": {
      "text/plain": [
       "array([ 1,  5,  9, 13])"
      ]
     },
     "execution_count": 67,
     "metadata": {},
     "output_type": "execute_result"
    }
   ],
   "source": [
    "# all the elements of the second column\n",
    "a[:,1]"
   ]
  },
  {
   "cell_type": "code",
   "execution_count": 70,
   "metadata": {
    "collapsed": false,
    "slideshow": {
     "slide_type": "fragment"
    }
   },
   "outputs": [
    {
     "data": {
      "text/plain": [
       "array([[ 2,  3],\n",
       "       [10, 11]])"
      ]
     },
     "execution_count": 70,
     "metadata": {},
     "output_type": "execute_result"
    }
   ],
   "source": [
    "# the first and third rows and third to fourth column\n",
    "a[[0,2], 2:4]"
   ]
  },
  {
   "cell_type": "code",
   "execution_count": null,
   "metadata": {
    "collapsed": true
   },
   "outputs": [],
   "source": []
  }
 ],
 "metadata": {
  "celltoolbar": "Slideshow",
  "kernelspec": {
   "display_name": "Python 3",
   "language": "python",
   "name": "python3"
  },
  "language_info": {
   "codemirror_mode": {
    "name": "ipython",
    "version": 3
   },
   "file_extension": ".py",
   "mimetype": "text/x-python",
   "name": "python",
   "nbconvert_exporter": "python",
   "pygments_lexer": "ipython3",
   "version": "3.3.5"
  }
 },
 "nbformat": 4,
 "nbformat_minor": 0
}
