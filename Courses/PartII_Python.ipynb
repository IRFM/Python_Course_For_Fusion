{
 "cells": [
  {
   "cell_type": "markdown",
   "metadata": {},
   "source": [
    "# Partie II. Repéter des actions\n",
    "## objectifs\n",
    "<div class='objectives'> \n",
    "\n",
    " <ul> \n",
    "     <li>Expliquer ce qu est une liste</li> \n",
    "     <li>Expliquer les boucles en Python</li>\n",
    "     <li>Réaliser des boucles pour répéter des calculs simples</li>\n",
    " </ul>\n",
    "\n",
    "</div>"
   ]
  },
  {
   "cell_type": "code",
   "execution_count": 109,
   "metadata": {
    "collapsed": true
   },
   "outputs": [],
   "source": [
    "import numpy as np"
   ]
  },
  {
   "cell_type": "markdown",
   "metadata": {},
   "source": [
    "## Listes\n",
    "Regardons le résultats 'infos' renvoyé précedemment par tsbase :"
   ]
  },
  {
   "cell_type": "code",
   "execution_count": 110,
   "metadata": {
    "collapsed": false
   },
   "outputs": [
    {
     "data": {
      "text/plain": [
       "list"
      ]
     },
     "execution_count": 110,
     "metadata": {},
     "output_type": "execute_result"
    }
   ],
   "source": [
    "infos = ['test', 123, 'pif']\n",
    ">>> type(infos)"
   ]
  },
  {
   "cell_type": "markdown",
   "metadata": {},
   "source": [
    "C'est une liste. Les listes sont une manière de stocker plusieurs valeurs. Contrairement aux tableaux Numpy arrays, les listes Python sont livrées avec Python (pas besoin d'importer une librairie). Pour créer une liste, on mets des valeurs entre crochets :"
   ]
  },
  {
   "cell_type": "code",
   "execution_count": 111,
   "metadata": {
    "collapsed": false
   },
   "outputs": [
    {
     "name": "stdout",
     "output_type": "stream",
     "text": [
      "[1, 3, 5, 7]\n"
     ]
    }
   ],
   "source": [
    "impairs = [1, 3, 5, 7]\n",
    "print(impairs) "
   ]
  },
  {
   "cell_type": "markdown",
   "metadata": {},
   "source": [
    "Les éléments d une liste peuvent être de type différents : "
   ]
  },
  {
   "cell_type": "code",
   "execution_count": 112,
   "metadata": {
    "collapsed": true
   },
   "outputs": [],
   "source": [
    "ma_liste = [42, 'pouet', 3.14]"
   ]
  },
  {
   "cell_type": "markdown",
   "metadata": {},
   "source": [
    "Les élements d'une liste sont accessible avec des indices, comme pour les chaines de caractere:"
   ]
  },
  {
   "cell_type": "code",
   "execution_count": 113,
   "metadata": {
    "collapsed": false
   },
   "outputs": [
    {
     "data": {
      "text/plain": [
       "'pouet'"
      ]
     },
     "execution_count": 113,
     "metadata": {},
     "output_type": "execute_result"
    }
   ],
   "source": [
    "ma_liste[1]"
   ]
  },
  {
   "cell_type": "code",
   "execution_count": 114,
   "metadata": {
    "collapsed": false
   },
   "outputs": [
    {
     "data": {
      "text/plain": [
       "[42, 'pouet']"
      ]
     },
     "execution_count": 114,
     "metadata": {},
     "output_type": "execute_result"
    }
   ],
   "source": [
    "ma_liste[0:2]"
   ]
  },
  {
   "cell_type": "markdown",
   "metadata": {},
   "source": [
    "Il est possible de modifier un élement d'une liste : "
   ]
  },
  {
   "cell_type": "code",
   "execution_count": 115,
   "metadata": {
    "collapsed": true
   },
   "outputs": [],
   "source": [
    "impairs[2] = 42"
   ]
  },
  {
   "cell_type": "markdown",
   "metadata": {},
   "source": [
    "A noter qu'il n est pas possible de modifier un élement d'une string: il faut créer une nouvelle string à la place.\n",
    "→ modification in place ; notion de mutable (list, array) et immutable (string, numbers). "
   ]
  },
  {
   "cell_type": "markdown",
   "metadata": {},
   "source": [
    "__Attention__ : si deux variables se réferent à la même liste (mutable), changer l'une changera l autre ! "
   ]
  },
  {
   "cell_type": "code",
   "execution_count": 116,
   "metadata": {
    "collapsed": false
   },
   "outputs": [
    {
     "name": "stdout",
     "output_type": "stream",
     "text": [
      "[1, 2, 3, 4, 5]\n"
     ]
    }
   ],
   "source": [
    "ma_liste = [1,2,3,4,5]\n",
    "print(ma_liste) "
   ]
  },
  {
   "cell_type": "code",
   "execution_count": 117,
   "metadata": {
    "collapsed": false
   },
   "outputs": [
    {
     "name": "stdout",
     "output_type": "stream",
     "text": [
      "[1, 2, 42, 4, 5]\n"
     ]
    }
   ],
   "source": [
    ">>> a = ma_liste\n",
    ">>> a[2]=42\n",
    ">>> print(a) # ok"
   ]
  },
  {
   "cell_type": "code",
   "execution_count": 118,
   "metadata": {
    "collapsed": false
   },
   "outputs": [
    {
     "name": "stdout",
     "output_type": "stream",
     "text": [
      "[1, 2, 42, 4, 5]\n"
     ]
    }
   ],
   "source": [
    ">>> print(ma_liste) # attention !"
   ]
  },
  {
   "cell_type": "markdown",
   "metadata": {},
   "source": [
    "Si on veut que ces variables soient independantes, il faut en faire des copies en créant une nouvelle liste :"
   ]
  },
  {
   "cell_type": "code",
   "execution_count": 119,
   "metadata": {
    "collapsed": false
   },
   "outputs": [
    {
     "name": "stdout",
     "output_type": "stream",
     "text": [
      "[1, 2, 42, 4, 5]\n",
      "[1, 2, 3, 4, 5]\n"
     ]
    }
   ],
   "source": [
    "ma_liste = [1, 2, 3, 4, 5]\n",
    "a = list(ma_liste)\n",
    "a[2]=42\n",
    "print(a)\n",
    "print(ma_liste)"
   ]
  },
  {
   "cell_type": "markdown",
   "metadata": {},
   "source": [
    "idem avec des tableaux Numpy :"
   ]
  },
  {
   "cell_type": "code",
   "execution_count": 120,
   "metadata": {
    "collapsed": false
   },
   "outputs": [
    {
     "name": "stdout",
     "output_type": "stream",
     "text": [
      "[ 1  2 42  4  5]\n",
      "[ 1  2 42  4  5]\n"
     ]
    }
   ],
   "source": [
    ">>> mon_array = np.array([1,2,3,4,5])\n",
    ">>> a = mon_array\n",
    ">>> a[2]=42\n",
    ">>> print(mon_array)\n",
    ">>> print(a)"
   ]
  },
  {
   "cell_type": "code",
   "execution_count": 121,
   "metadata": {
    "collapsed": false
   },
   "outputs": [
    {
     "name": "stdout",
     "output_type": "stream",
     "text": [
      "[1 2 3 4 5]\n",
      "[ 1  2 42  4  5]\n"
     ]
    }
   ],
   "source": [
    ">>> mon_array = np.array([1,2,3,4,5])\n",
    ">>> a = mon_array.copy()\n",
    ">>> a[2]=42\n",
    ">>> print(mon_array)\n",
    ">>> print(a)"
   ]
  },
  {
   "cell_type": "markdown",
   "metadata": {},
   "source": [
    "__Pourquoi?__ → performance en tête, quand les listes sont très grandes. "
   ]
  },
  {
   "cell_type": "markdown",
   "metadata": {},
   "source": [
    "Pour ajouter un élement à une liste existante :"
   ]
  },
  {
   "cell_type": "code",
   "execution_count": 122,
   "metadata": {
    "collapsed": false
   },
   "outputs": [
    {
     "name": "stdout",
     "output_type": "stream",
     "text": [
      "[1, 2, 3, 4, 5, 100]\n"
     ]
    }
   ],
   "source": [
    "ma_liste.append(100)\n",
    "print(ma_liste)"
   ]
  },
  {
   "cell_type": "markdown",
   "metadata": {},
   "source": [
    "Avec la méthode `apend()`, on ajoute directement à la dernière position de la liste : très pratique dans les boucles."
   ]
  },
  {
   "cell_type": "markdown",
   "metadata": {},
   "source": [
    "Pour supprimer un élement de la liste (et renvoyer sa valeur), la méthode `pop()`:"
   ]
  },
  {
   "cell_type": "code",
   "execution_count": 123,
   "metadata": {
    "collapsed": false
   },
   "outputs": [
    {
     "name": "stdout",
     "output_type": "stream",
     "text": [
      "[2, 3, 4, 5, 100]\n"
     ]
    }
   ],
   "source": [
    "ma_liste.pop(0) # or : del ma_liste[0]\n",
    "print(ma_liste)"
   ]
  },
  {
   "cell_type": "markdown",
   "metadata": {},
   "source": [
    "Pour insérer un élement dans une liste, la méthode `insert()`:"
   ]
  },
  {
   "cell_type": "code",
   "execution_count": 124,
   "metadata": {
    "collapsed": false
   },
   "outputs": [
    {
     "name": "stdout",
     "output_type": "stream",
     "text": [
      "[2, 3, 4, 'test', 5, 100]\n"
     ]
    }
   ],
   "source": [
    "ma_liste.insert(3, 'test')\n",
    "print(ma_liste)\n"
   ]
  },
  {
   "cell_type": "markdown",
   "metadata": {},
   "source": [
    "Les listes ont un certain nombre de méthodes et attributs, cf:"
   ]
  },
  {
   "cell_type": "markdown",
   "metadata": {
    "collapsed": false
   },
   "source": [
    "    dir(ma_liste)"
   ]
  },
  {
   "cell_type": "markdown",
   "metadata": {},
   "source": [
    " - remove(value) : supprime la première occurence de `value` \n",
    " - count(value) : compte le nombre d'occurences d'une valeur `value`.\n",
    " - sort() : tri\n",
    " \n",
    "etc."
   ]
  },
  {
   "cell_type": "markdown",
   "metadata": {},
   "source": [
    "Nombre d'élements d'une liste :"
   ]
  },
  {
   "cell_type": "code",
   "execution_count": 125,
   "metadata": {
    "collapsed": false
   },
   "outputs": [
    {
     "data": {
      "text/plain": [
       "6"
      ]
     },
     "execution_count": 125,
     "metadata": {},
     "output_type": "execute_result"
    }
   ],
   "source": [
    "len(ma_liste)"
   ]
  },
  {
   "cell_type": "markdown",
   "metadata": {},
   "source": [
    "<div class='exercice'><h1>Exercice</h1>\n",
    "Créez une liste et modifiez ses élements. Ajouter des élements (append, insert), supprimez-en (del)\n",
    "</div>"
   ]
  },
  {
   "cell_type": "markdown",
   "metadata": {},
   "source": [
    "## Tuples\n",
    "Un tuple c'est comme une liste, sauf qu'elle est immutable : on ne peut pas changer un tuple apres sa création. Pour créer un tuple : parentheses"
   ]
  },
  {
   "cell_type": "code",
   "execution_count": 126,
   "metadata": {
    "collapsed": true
   },
   "outputs": [],
   "source": [
    "un_tuple = (1, 2, 3)"
   ]
  },
  {
   "cell_type": "markdown",
   "metadata": {},
   "source": [
    "Pour les indices on utilise toujours les crochets []"
   ]
  },
  {
   "cell_type": "markdown",
   "metadata": {},
   "source": [
    "__Attention__ : un tuple avec un seul element necessite une virgule avant de fermer la parenthèse :"
   ]
  },
  {
   "cell_type": "code",
   "execution_count": 127,
   "metadata": {
    "collapsed": true
   },
   "outputs": [],
   "source": [
    "un_tuple_simple = (1, )"
   ]
  },
  {
   "cell_type": "markdown",
   "metadata": {},
   "source": [
    "car sinon, Python considera que c est autre chose qu'un tuple (ici un entier)"
   ]
  },
  {
   "cell_type": "code",
   "execution_count": 128,
   "metadata": {
    "collapsed": false
   },
   "outputs": [
    {
     "data": {
      "text/plain": [
       "int"
      ]
     },
     "execution_count": 128,
     "metadata": {},
     "output_type": "execute_result"
    }
   ],
   "source": [
    "type( (1) )"
   ]
  },
  {
   "cell_type": "code",
   "execution_count": 129,
   "metadata": {
    "collapsed": false
   },
   "outputs": [
    {
     "data": {
      "text/plain": [
       "tuple"
      ]
     },
     "execution_count": 129,
     "metadata": {},
     "output_type": "execute_result"
    }
   ],
   "source": [
    "type( (1,) ) "
   ]
  },
  {
   "cell_type": "markdown",
   "metadata": {},
   "source": [
    "Bonne nouvelle : on a pas besoin de mettre les parenthese, le contexte est suffisant."
   ]
  },
  {
   "cell_type": "code",
   "execution_count": 130,
   "metadata": {
    "collapsed": true
   },
   "outputs": [],
   "source": [
    "un_tuple = 1, 2, 3"
   ]
  },
  {
   "cell_type": "markdown",
   "metadata": {},
   "source": [
    "et là, vous reconnaissez le multi-assignement de tout à l'heure: "
   ]
  },
  {
   "cell_type": "code",
   "execution_count": 131,
   "metadata": {
    "collapsed": false
   },
   "outputs": [],
   "source": [
    "un, deux, trois = 1, 2, 3"
   ]
  },
  {
   "cell_type": "markdown",
   "metadata": {},
   "source": [
    "En fait, les fonctions renvoient des tuples. Ils permettent aux fonctions de retourner plusieurs variables. "
   ]
  },
  {
   "cell_type": "markdown",
   "metadata": {},
   "source": [
    "En fonction du contexte, Python va \"dépaqueter\" (unpack) les tuples dans les variables :"
   ]
  },
  {
   "cell_type": "code",
   "execution_count": 133,
   "metadata": {
    "collapsed": false
   },
   "outputs": [
    {
     "name": "stdout",
     "output_type": "stream",
     "text": [
      "(1, 2, 3)\n"
     ]
    },
    {
     "ename": "ValueError",
     "evalue": "too many values to unpack (expected 2)",
     "output_type": "error",
     "traceback": [
      "\u001b[1;31m---------------------------------------------------------------------------\u001b[0m",
      "\u001b[1;31mValueError\u001b[0m                                Traceback (most recent call last)",
      "\u001b[1;32m<ipython-input-133-5f8590ad02a4>\u001b[0m in \u001b[0;36m<module>\u001b[1;34m()\u001b[0m\n\u001b[0;32m      1\u001b[0m \u001b[0mun\u001b[0m \u001b[1;33m=\u001b[0m \u001b[1;36m1\u001b[0m\u001b[1;33m,\u001b[0m\u001b[1;36m2\u001b[0m\u001b[1;33m,\u001b[0m\u001b[1;36m3\u001b[0m\u001b[1;33m\u001b[0m\u001b[0m\n\u001b[0;32m      2\u001b[0m \u001b[0mprint\u001b[0m\u001b[1;33m(\u001b[0m\u001b[0mun\u001b[0m\u001b[1;33m)\u001b[0m\u001b[1;33m\u001b[0m\u001b[0m\n\u001b[1;32m----> 3\u001b[1;33m \u001b[0mun\u001b[0m\u001b[1;33m,\u001b[0m \u001b[0mdeux\u001b[0m \u001b[1;33m=\u001b[0m \u001b[1;36m1\u001b[0m\u001b[1;33m,\u001b[0m\u001b[1;36m2\u001b[0m\u001b[1;33m,\u001b[0m\u001b[1;36m3\u001b[0m\u001b[1;33m\u001b[0m\u001b[0m\n\u001b[0m",
      "\u001b[1;31mValueError\u001b[0m: too many values to unpack (expected 2)"
     ]
    }
   ],
   "source": [
    "un = 1,2,3\n",
    "print(un)\n",
    "un, deux = 1,2,3"
   ]
  },
  {
   "cell_type": "markdown",
   "metadata": {},
   "source": [
    "→ Python s'attend à avoir trois variables et n'en trouve que deux : erreur !\n",
    "\n",
    "* revenir sur PyWED : combien de variable en sortie ? \n",
    "* Prendre deux exemples avec 3 ou 4 output : SIPMES, GPHYB\n",
    "* expliquer le nargout=2\n",
    "* faire un exemple."
   ]
  },
  {
   "cell_type": "markdown",
   "metadata": {},
   "source": [
    "<div class='exercice'><h1>Exercice</h1>\n",
    "Récupérez votre signal favori (avec ou sans nargout=)\n",
    "</div>"
   ]
  },
  {
   "cell_type": "markdown",
   "metadata": {},
   "source": [
    "## Boucles for\n",
    "Supposons que l'on souhaite itérer sur les caractères d'une chaîne ou bien sur les élements d'une liste. La syntaxe d'une boucle for en Python est la suivante :\n",
    "\n",
    "    for variable in collection:\n",
    "         do things with variable..."
   ]
  },
  {
   "cell_type": "markdown",
   "metadata": {},
   "source": [
    "Notez deux choses : \n",
    " - le \":\" \n",
    " - l'indentation : tout ce qui est dans la boucle est indenté\n",
    " \n",
    "En Python on *doit* indenter tout ce qui doit être inclus dans la boucle. Contrairement à beaucoup d'autres langages, il n'y a pas de commande ni de caractère spécial pour mettre fin à une boucle ({}, end for). \n",
    "Traditionnally, 4 spaces per level are used to indent all block codes. (No TAB !)\n",
    "\n",
    "It is a codification of what is a best practice cording style in many other langages."
   ]
  },
  {
   "cell_type": "code",
   "execution_count": 134,
   "metadata": {
    "collapsed": false
   },
   "outputs": [
    {
     "name": "stdout",
     "output_type": "stream",
     "text": [
      "10\n",
      "20\n",
      "30\n",
      "40\n",
      "50\n"
     ]
    }
   ],
   "source": [
    "liste = [10,20,30,40,50]\n",
    "for x in liste:\n",
    "    print(x)"
   ]
  },
  {
   "cell_type": "markdown",
   "metadata": {},
   "source": [
    "<div class='exercice'><h1>Exercice</h1>\n",
    "Une chaine de caractère, peut être parcourue caractères par caractères dans une boucle! Réalisez une boucle for qui affiche chaque caractère d'une chaîne à partir de l'exemple précédent.\n",
    "</div>"
   ]
  },
  {
   "cell_type": "code",
   "execution_count": 135,
   "metadata": {
    "collapsed": false
   },
   "outputs": [
    {
     "name": "stdout",
     "output_type": "stream",
     "text": [
      "f\n",
      "u\n",
      "s\n",
      "i\n",
      "o\n",
      "n\n"
     ]
    }
   ],
   "source": [
    "word = 'fusion'\n",
    "for char in word:\n",
    "    print(char)"
   ]
  },
  {
   "cell_type": "markdown",
   "metadata": {},
   "source": [
    "Voici un autre exemple de boucle qui modifie une variable. "
   ]
  },
  {
   "cell_type": "code",
   "execution_count": 136,
   "metadata": {
    "collapsed": false
   },
   "outputs": [
    {
     "name": "stdout",
     "output_type": "stream",
     "text": [
      "There are 5 vowels\n"
     ]
    }
   ],
   "source": [
    "length = 0\n",
    "for vowel in 'aeiou':\n",
    "    length = length + 1\n",
    "print('There are', length, 'vowels')"
   ]
  },
  {
   "cell_type": "markdown",
   "metadata": {},
   "source": [
    "On peut utiliser le 'dépaquetage' pour simplifier le parcous des listes plus complexes:"
   ]
  },
  {
   "cell_type": "code",
   "execution_count": 137,
   "metadata": {
    "collapsed": false
   },
   "outputs": [
    {
     "name": "stdout",
     "output_type": "stream",
     "text": [
      "[[1, 10], [2, 20], [3, 30], [4, 40]]\n"
     ]
    }
   ],
   "source": [
    "couples = [[1,10], [2,20], [3,30], [4,40]]\n",
    "print(couples)"
   ]
  },
  {
   "cell_type": "code",
   "execution_count": 138,
   "metadata": {
    "collapsed": false
   },
   "outputs": [
    {
     "name": "stdout",
     "output_type": "stream",
     "text": [
      "1 10\n",
      "2 20\n",
      "3 30\n",
      "4 40\n"
     ]
    }
   ],
   "source": [
    "for (idx,val) in couples:\n",
    "    print(idx, val)"
   ]
  },
  {
   "cell_type": "markdown",
   "metadata": {},
   "source": [
    "En calcul numérique, on a souvent besoin de l'index du tableau. La fonction enumerate renvoie l'index et la valeur:"
   ]
  },
  {
   "cell_type": "code",
   "execution_count": 139,
   "metadata": {
    "collapsed": false
   },
   "outputs": [
    {
     "name": "stdout",
     "output_type": "stream",
     "text": [
      "0 test\n",
      "1 29797\n",
      "2 GPHYB\n"
     ]
    }
   ],
   "source": [
    "liste = ['test', 29797, 'GPHYB']\n",
    "for idx, val in enumerate(liste):\n",
    "    print(idx, val)"
   ]
  },
  {
   "cell_type": "markdown",
   "metadata": {},
   "source": [
    "**NB**:A very strong idiom in Python is to use a singular noun for the loop variable name and a plural noun for the iterable variable:\n",
    "\n",
    "    for shot in shots:\n",
    "    "
   ]
  },
  {
   "cell_type": "markdown",
   "metadata": {
    "collapsed": false
   },
   "source": [
    "<div class='exercice'>\n",
    "<h1>Exercice</h1>\n",
    "Réalisez une boucle qui récupère des signaux TS de plusieurs chocs, pour les enregistre dans une liste. \n",
    "Aide : avant d'écrire dans une liste, il faut que cette dernière existe au préalable (elle peut être vide). exemple = [].\n",
    "</div>"
   ]
  },
  {
   "cell_type": "code",
   "execution_count": 140,
   "metadata": {
    "collapsed": false
   },
   "outputs": [
    {
     "name": "stdout",
     "output_type": "stream",
     "text": [
      "[array([[ 1.,  1.,  1.,  1.,  1.,  1.,  1.,  1.,  1.,  1.,  1.,  1.,  1.,\n",
      "         1.,  1.,  1.,  1.,  1.,  1.,  1.,  1.,  1.,  1.,  1.,  1.,  1.,\n",
      "         1.,  1.,  1.,  1.,  1.,  1.,  1.,  1.,  1.,  1.,  1.,  1.,  1.,\n",
      "         1.,  1.,  1.,  1.,  1.,  1.,  1.,  1.,  1.,  1.,  1.,  1.,  1.,\n",
      "         1.,  1.,  1.,  1.,  1.,  1.,  1.,  1.,  1.,  1.,  1.,  1.,  1.,\n",
      "         1.,  1.,  1.,  1.,  1.,  1.,  1.,  1.,  1.,  1.,  1.,  1.,  1.,\n",
      "         1.,  1.,  1.,  1.,  1.,  1.,  1.,  1.,  1.,  1.,  1.,  1.,  1.,\n",
      "         1.,  1.,  1.,  1.,  1.,  1.,  1.,  1.,  1.]]), array([[ 1.,  1.,  1.,  1.,  1.,  1.,  1.,  1.,  1.,  1.,  1.,  1.,  1.,\n",
      "         1.,  1.,  1.,  1.,  1.,  1.,  1.,  1.,  1.,  1.,  1.,  1.,  1.,\n",
      "         1.,  1.,  1.,  1.,  1.,  1.,  1.,  1.,  1.,  1.,  1.,  1.,  1.,\n",
      "         1.,  1.,  1.,  1.,  1.,  1.,  1.,  1.,  1.,  1.,  1.,  1.,  1.,\n",
      "         1.,  1.,  1.,  1.,  1.,  1.,  1.,  1.,  1.,  1.,  1.,  1.,  1.,\n",
      "         1.,  1.,  1.,  1.,  1.,  1.,  1.,  1.,  1.,  1.,  1.,  1.,  1.,\n",
      "         1.,  1.,  1.,  1.,  1.,  1.,  1.,  1.,  1.,  1.,  1.,  1.,  1.,\n",
      "         1.,  1.,  1.,  1.,  1.,  1.,  1.,  1.,  1.]]), array([[ 1.,  1.,  1.,  1.,  1.,  1.,  1.,  1.,  1.,  1.,  1.,  1.,  1.,\n",
      "         1.,  1.,  1.,  1.,  1.,  1.,  1.,  1.,  1.,  1.,  1.,  1.,  1.,\n",
      "         1.,  1.,  1.,  1.,  1.,  1.,  1.,  1.,  1.,  1.,  1.,  1.,  1.,\n",
      "         1.,  1.,  1.,  1.,  1.,  1.,  1.,  1.,  1.,  1.,  1.,  1.,  1.,\n",
      "         1.,  1.,  1.,  1.,  1.,  1.,  1.,  1.,  1.,  1.,  1.,  1.,  1.,\n",
      "         1.,  1.,  1.,  1.,  1.,  1.,  1.,  1.,  1.,  1.,  1.,  1.,  1.,\n",
      "         1.,  1.,  1.,  1.,  1.,  1.,  1.,  1.,  1.,  1.,  1.,  1.,  1.,\n",
      "         1.,  1.,  1.,  1.,  1.,  1.,  1.,  1.,  1.]])]\n",
      "3\n"
     ]
    }
   ],
   "source": [
    "shots = [47979, 47978, 47981]\n",
    "sig = []\n",
    "time = []\n",
    "for shot in shots:\n",
    "    sig.append(np.ones((1,100)))\n",
    "    time.append(np.ones((1,100)))\n",
    "    \n",
    "print(time)\n",
    "print(len(time))"
   ]
  },
  {
   "cell_type": "markdown",
   "metadata": {},
   "source": [
    "## Boucles While"
   ]
  },
  {
   "cell_type": "markdown",
   "metadata": {},
   "source": [
    "Fontionnement similaire aux boucles for:"
   ]
  },
  {
   "cell_type": "code",
   "execution_count": 141,
   "metadata": {
    "collapsed": false
   },
   "outputs": [
    {
     "name": "stdout",
     "output_type": "stream",
     "text": [
      "4\n",
      "3\n",
      "2\n",
      "1\n",
      "0\n"
     ]
    }
   ],
   "source": [
    "a = 5\n",
    "while a != 0:\n",
    "    a -= 1\n",
    "    print(a)"
   ]
  },
  {
   "cell_type": "markdown",
   "metadata": {},
   "source": [
    "## Conditions"
   ]
  },
  {
   "cell_type": "markdown",
   "metadata": {},
   "source": [
    "Les tests (if) fonctionnent eux-aussi en indendant le code (n'oubliez pas le : !)"
   ]
  },
  {
   "cell_type": "code",
   "execution_count": 142,
   "metadata": {
    "collapsed": false
   },
   "outputs": [
    {
     "name": "stdout",
     "output_type": "stream",
     "text": [
      "The shot exists.\n"
     ]
    }
   ],
   "source": [
    "shot_exist = True\n",
    "if shot_exist:\n",
    "    print('The shot exists.')"
   ]
  },
  {
   "cell_type": "code",
   "execution_count": 143,
   "metadata": {
    "collapsed": false
   },
   "outputs": [
    {
     "name": "stdout",
     "output_type": "stream",
     "text": [
      "no\n"
     ]
    }
   ],
   "source": [
    "user_choice = 'no'\n",
    "# there is no switch/case operators in Python. Use if/elif/else :\n",
    "if user_choice == 'yes':\n",
    "    print('yes')\n",
    "elif user_choice in ('no', 'N'): # more elegant way to test inclusion\n",
    "    print('no')\n",
    "else:\n",
    "    print('bad answer. Should be yes or no !')"
   ]
  },
  {
   "cell_type": "markdown",
   "metadata": {},
   "source": [
    "<div class='exercice'><h1>Exercice</h1>\n",
    "Réalisez une condition pour tester la valeur maximum du courant plasma d'un choc.\n",
    "</div>"
   ]
  },
  {
   "cell_type": "markdown",
   "metadata": {},
   "source": [
    "## Fonctions"
   ]
  },
  {
   "cell_type": "markdown",
   "metadata": {},
   "source": [
    "* Function blocks are also defined using indentation and the `def` keyword."
   ]
  },
  {
   "cell_type": "code",
   "execution_count": 144,
   "metadata": {
    "collapsed": false
   },
   "outputs": [
    {
     "data": {
      "text/plain": [
       "16"
      ]
     },
     "execution_count": 144,
     "metadata": {},
     "output_type": "execute_result"
    }
   ],
   "source": [
    "def f(x):\n",
    "    return x**2\n",
    "\n",
    "f(4)"
   ]
  },
  {
   "cell_type": "markdown",
   "metadata": {},
   "source": [
    "* A function can take zero, one or infinite input arguments.\n",
    "* Optionnal input arguments with *default values* can be defined (*keyword* argument)"
   ]
  },
  {
   "cell_type": "code",
   "execution_count": 145,
   "metadata": {
    "collapsed": false
   },
   "outputs": [
    {
     "name": "stdout",
     "output_type": "stream",
     "text": [
      "1 2 1\n",
      "1 2 3\n"
     ]
    }
   ],
   "source": [
    "def g(a, b, c=1):\n",
    "    print(a,b,c)\n",
    "\n",
    "g(1,2)\n",
    "g(1,2,3)"
   ]
  },
  {
   "cell_type": "markdown",
   "metadata": {},
   "source": [
    "* A function can only returns *one* variable (a tuple in fact!)\n",
    "* but this tuple can contain multiple valules !"
   ]
  },
  {
   "cell_type": "code",
   "execution_count": 146,
   "metadata": {
    "collapsed": false
   },
   "outputs": [
    {
     "name": "stdout",
     "output_type": "stream",
     "text": [
      "(2, 4)\n",
      "(2, 6)\n"
     ]
    }
   ],
   "source": [
    "def g(a,b,c=1):\n",
    "    # returns a Tuple of two values. \n",
    "    # Could be written (a*2, a+b+c) as well. \n",
    "    return a*2, a+b+c \n",
    "print(g(1,2)) # assumes c=1\n",
    "print(g(1,2,3))"
   ]
  },
  {
   "cell_type": "markdown",
   "metadata": {},
   "source": [
    "<div class='exercice'><h1>Exercice</h1>\n",
    "Créez une fonction qui retourne y=a*x+b en donnant a et b. Appliquez cette fonction à une liste de nombres.\n",
    "</div>"
   ]
  },
  {
   "cell_type": "code",
   "execution_count": 147,
   "metadata": {
    "collapsed": false
   },
   "outputs": [
    {
     "name": "stdout",
     "output_type": "stream",
     "text": [
      "[1, 2, 3, 4, 5] [3, 5, 7, 9, 11]\n"
     ]
    }
   ],
   "source": [
    "def y(x,a=2,b=1):\n",
    "    y = a*x + b\n",
    "    return y\n",
    "\n",
    "vals = [1,2,3,4,5]\n",
    "new_vals = []\n",
    "\n",
    "for val in vals:\n",
    "    new_vals.append(y(val))\n",
    "    \n",
    "print(vals, new_vals)    "
   ]
  },
  {
   "cell_type": "markdown",
   "metadata": {},
   "source": [
    "* Also possible: a variable number of arguments"
   ]
  },
  {
   "cell_type": "code",
   "execution_count": 148,
   "metadata": {
    "collapsed": false
   },
   "outputs": [
    {
     "name": "stdout",
     "output_type": "stream",
     "text": [
      "(1,)\n",
      "(1, 'fusion', [1, 2, 3])\n"
     ]
    }
   ],
   "source": [
    "def h(*x):\n",
    "    print(x)\n",
    "\n",
    "h(1)\n",
    "h(1, 'fusion', [1,2,3])"
   ]
  },
  {
   "cell_type": "markdown",
   "metadata": {},
   "source": [
    "* Or using a variable number of keyword arguments (paramètres nommés)"
   ]
  },
  {
   "cell_type": "code",
   "execution_count": 149,
   "metadata": {
    "collapsed": false
   },
   "outputs": [
    {
     "name": "stdout",
     "output_type": "stream",
     "text": [
      "(1, 5, 6) {}\n",
      "([1, 2, 3], 'yes') {'option': 'test'}\n"
     ]
    }
   ],
   "source": [
    "def h2(*args, **kwargs):\n",
    "    print(args, kwargs)\n",
    "h2(1, 5, 6)    \n",
    "h2([1,2,3], 'yes', option='test')"
   ]
  },
  {
   "cell_type": "markdown",
   "metadata": {},
   "source": [
    "## Dictionnary"
   ]
  },
  {
   "cell_type": "markdown",
   "metadata": {},
   "source": [
    "Un dictionnaire est un objet python qui permet d'associer à une clef (*key*) une valeur. Une clef peut être soit une chaine de caractère soit un nombre. Pour créer un dictionnaire on utilise les symboles {}\n",
    "Exemples:"
   ]
  },
  {
   "cell_type": "code",
   "execution_count": 150,
   "metadata": {
    "collapsed": false
   },
   "outputs": [
    {
     "name": "stdout",
     "output_type": "stream",
     "text": [
      "{}\n"
     ]
    },
    {
     "data": {
      "text/plain": [
       "dict"
      ]
     },
     "execution_count": 150,
     "metadata": {},
     "output_type": "execute_result"
    }
   ],
   "source": [
    "my_dict = {} # ou dict()\n",
    "print(my_dict)\n",
    "type(my_dict)"
   ]
  },
  {
   "cell_type": "code",
   "execution_count": 151,
   "metadata": {
    "collapsed": false
   },
   "outputs": [
    {
     "name": "stdout",
     "output_type": "stream",
     "text": [
      "{1: 3.14, 'date_naissance': [1981, 11, 20], 'nom': 'Hillairet', 'prenom': 'Julien', 1.7: 124}\n"
     ]
    }
   ],
   "source": [
    "my_dict = {'nom':'Hillairet', \n",
    "           'prenom':'Julien', \n",
    "           'date_naissance': [1981,11,20], \n",
    "           1: 3.14, \n",
    "           1.7: 124}\n",
    "print(my_dict)"
   ]
  },
  {
   "cell_type": "markdown",
   "metadata": {},
   "source": [
    "On accède aux valeurs du dictionnaire à partir de sa clef : "
   ]
  },
  {
   "cell_type": "code",
   "execution_count": 152,
   "metadata": {
    "collapsed": false
   },
   "outputs": [
    {
     "data": {
      "text/plain": [
       "'Hillairet'"
      ]
     },
     "execution_count": 152,
     "metadata": {},
     "output_type": "execute_result"
    }
   ],
   "source": [
    "my_dict['nom']"
   ]
  },
  {
   "cell_type": "code",
   "execution_count": 153,
   "metadata": {
    "collapsed": false
   },
   "outputs": [
    {
     "data": {
      "text/plain": [
       "3.14"
      ]
     },
     "execution_count": 153,
     "metadata": {},
     "output_type": "execute_result"
    }
   ],
   "source": [
    "my_dict[1]"
   ]
  },
  {
   "cell_type": "markdown",
   "metadata": {},
   "source": [
    "Il est possible de créer de nouvelles combinaisons clef/valeurs à la volée :"
   ]
  },
  {
   "cell_type": "code",
   "execution_count": 154,
   "metadata": {
    "collapsed": true
   },
   "outputs": [],
   "source": [
    "my_dict['nb_de_kangoo'] = 1"
   ]
  },
  {
   "cell_type": "markdown",
   "metadata": {},
   "source": [
    "On peut parcourir tous les élements d'un dictionnaire de plusieurs façon. Si on fait une boucle sur la liste, on va parcourir les clefs:"
   ]
  },
  {
   "cell_type": "code",
   "execution_count": 155,
   "metadata": {
    "collapsed": false
   },
   "outputs": [
    {
     "name": "stdout",
     "output_type": "stream",
     "text": [
      "1\n",
      "nb_de_kangoo\n",
      "1.7\n",
      "date_naissance\n",
      "nom\n",
      "prenom\n"
     ]
    }
   ],
   "source": [
    "for item in my_dict: # one could write also my_dict.keys()\n",
    "    print(item)"
   ]
  },
  {
   "cell_type": "markdown",
   "metadata": {},
   "source": [
    "Notez que l'ordre de parcours est totalement imprévisible, c'est normal car les dictionnaires ne sont pas des structures *ordonnées*. Pour parcourir les valeurs:"
   ]
  },
  {
   "cell_type": "code",
   "execution_count": 156,
   "metadata": {
    "collapsed": false
   },
   "outputs": [
    {
     "name": "stdout",
     "output_type": "stream",
     "text": [
      "3.14\n",
      "1\n",
      "124\n",
      "[1981, 11, 20]\n",
      "Hillairet\n",
      "Julien\n"
     ]
    }
   ],
   "source": [
    "for val in my_dict.values():\n",
    "    print(val)"
   ]
  },
  {
   "cell_type": "markdown",
   "metadata": {},
   "source": [
    "Enfin, pour parcourir à la fois les clefs et les valeurs, on utilise la méthode `items()`, qui renvoie le dictionnaire sous la forme d'une liste de tuples :"
   ]
  },
  {
   "cell_type": "code",
   "execution_count": 157,
   "metadata": {
    "collapsed": false
   },
   "outputs": [
    {
     "data": {
      "text/plain": [
       "dict_items([(1, 3.14), ('nb_de_kangoo', 1), (1.7, 124), ('date_naissance', [1981, 11, 20]), ('nom', 'Hillairet'), ('prenom', 'Julien')])"
      ]
     },
     "execution_count": 157,
     "metadata": {},
     "output_type": "execute_result"
    }
   ],
   "source": [
    "my_dict.items()"
   ]
  },
  {
   "cell_type": "code",
   "execution_count": 158,
   "metadata": {
    "collapsed": false
   },
   "outputs": [
    {
     "name": "stdout",
     "output_type": "stream",
     "text": [
      "1  -->  3.14\n",
      "nb_de_kangoo  -->  1\n",
      "1.7  -->  124\n",
      "date_naissance  -->  [1981, 11, 20]\n",
      "nom  -->  Hillairet\n",
      "prenom  -->  Julien\n"
     ]
    }
   ],
   "source": [
    "for (key,val) in my_dict.items():\n",
    "    print(key, ' --> ', val)   "
   ]
  },
  {
   "cell_type": "markdown",
   "metadata": {},
   "source": [
    "Les dictionnaires ont de nombreuses méthodes, comme par exemple :"
   ]
  },
  {
   "cell_type": "code",
   "execution_count": 159,
   "metadata": {
    "collapsed": false
   },
   "outputs": [
    {
     "data": {
      "text/plain": [
       "3.14"
      ]
     },
     "execution_count": 159,
     "metadata": {},
     "output_type": "execute_result"
    }
   ],
   "source": [
    "# Pour ajouter ou MàJ une valeur:\n",
    "my_dict.update({'quote':\"\"\"Don't believe every quote \n",
    "           you read on the internet, because I totally didn't say that.\n",
    "           Einstein.\"\"\"})\n",
    "\n",
    "# remove specified key and return the corresponding value.\n",
    "# and returns it \n",
    "my_dict.pop(1) # or del my_dict[1]"
   ]
  },
  {
   "cell_type": "code",
   "execution_count": 160,
   "metadata": {
    "collapsed": false
   },
   "outputs": [
    {
     "data": {
      "text/plain": [
       "{'quote': \"Don't believe every quote \\n           you read on the internet, because I totally didn't say that.\\n           Einstein.\",\n",
       " 'nb_de_kangoo': 1,\n",
       " 1.7: 124,\n",
       " 'date_naissance': [1981, 11, 20],\n",
       " 'nom': 'Hillairet',\n",
       " 'prenom': 'Julien'}"
      ]
     },
     "execution_count": 160,
     "metadata": {},
     "output_type": "execute_result"
    }
   ],
   "source": [
    "my_dict"
   ]
  },
  {
   "cell_type": "markdown",
   "metadata": {},
   "source": [
    "Les paramètres nommés d'une fonction sont en fait un dictionnaire:"
   ]
  },
  {
   "cell_type": "code",
   "execution_count": 161,
   "metadata": {
    "collapsed": false
   },
   "outputs": [
    {
     "name": "stdout",
     "output_type": "stream",
     "text": [
      "{'c': 'salut', 'a': 1, 'b': 2}\n"
     ]
    }
   ],
   "source": [
    "def coucou(**parametres):\n",
    "    print(parametres)\n",
    "    \n",
    "coucou(a=1, b=2, c='salut')"
   ]
  },
  {
   "cell_type": "markdown",
   "metadata": {},
   "source": [
    "Les clefs des dictionnaires peuvent également être des tuples, utile pour créer des conteneur à \"plusieurs dimensions\" comme :"
   ]
  },
  {
   "cell_type": "code",
   "execution_count": 162,
   "metadata": {
    "collapsed": false
   },
   "outputs": [
    {
     "name": "stdout",
     "output_type": "stream",
     "text": [
      "{(47979, 'ip'): 42, (47979, 'LH'): True}\n"
     ]
    }
   ],
   "source": [
    "chocs_utiles = {}\n",
    "chocs_utiles[47979, 'ip'] = 42\n",
    "chocs_utiles[47979, 'LH'] = True\n",
    "print(chocs_utiles)"
   ]
  },
  {
   "cell_type": "code",
   "execution_count": 163,
   "metadata": {
    "collapsed": false
   },
   "outputs": [
    {
     "ename": "KeyError",
     "evalue": "47979",
     "output_type": "error",
     "traceback": [
      "\u001b[1;31m---------------------------------------------------------------------------\u001b[0m",
      "\u001b[1;31mKeyError\u001b[0m                                  Traceback (most recent call last)",
      "\u001b[1;32m<ipython-input-163-cf016544a03a>\u001b[0m in \u001b[0;36m<module>\u001b[1;34m()\u001b[0m\n\u001b[1;32m----> 1\u001b[1;33m \u001b[0mchocs_utiles\u001b[0m\u001b[1;33m[\u001b[0m\u001b[1;33m(\u001b[0m\u001b[1;36m47979\u001b[0m\u001b[1;33m)\u001b[0m\u001b[1;33m]\u001b[0m\u001b[1;33m\u001b[0m\u001b[0m\n\u001b[0m",
      "\u001b[1;31mKeyError\u001b[0m: 47979"
     ]
    }
   ],
   "source": [
    "chocs_utiles[(47979)]"
   ]
  },
  {
   "cell_type": "code",
   "execution_count": 164,
   "metadata": {
    "collapsed": false
   },
   "outputs": [
    {
     "data": {
      "text/plain": [
       "42"
      ]
     },
     "execution_count": 164,
     "metadata": {},
     "output_type": "execute_result"
    }
   ],
   "source": [
    "chocs_utiles[(47979, 'ip')]"
   ]
  },
  {
   "cell_type": "markdown",
   "metadata": {},
   "source": [
    "<div class='exercice'><h1>Exercice</h1>\n",
    "Créez une liste de numéro de choc et une liste de noms de signaux. Pour chacun des chocs, récupérez les signaux correspondant aux noms de signaux et stocker le tout dans un dictionnaire avec des clefs (choc,signame).\n",
    "</div>"
   ]
  },
  {
   "cell_type": "code",
   "execution_count": 180,
   "metadata": {
    "collapsed": false
   },
   "outputs": [],
   "source": [
    "chocs = [47979, 47982]\n",
    "signames = ['SIPMES', 'GPHYB']\n",
    "ma_base = dict() # ou {}\n",
    "\n",
    "for choc in chocs:\n",
    "    for signame in signames:\n",
    "        y,t = 1,2#tsbase(choc, signame, nargout=2)\n",
    "        ma_base[(choc, signame, 't')] = t\n",
    "        ma_base[(choc, signame, 'val')] = val"
   ]
  },
  {
   "cell_type": "code",
   "execution_count": 165,
   "metadata": {
    "collapsed": false
   },
   "outputs": [
    {
     "data": {
      "text/html": [
       "<style>\n",
       "div.input {\n",
       "    width: 105ex; /* about 80 chars + buffer */\n",
       "}\n",
       "\n",
       ".input_prompt, .output_prompt {\n",
       "    /*margin-left: 50px;*/\n",
       "}\n",
       "\n",
       "div.text_cell {\n",
       "    width: 105ex /* instead of 100%, */\n",
       "    margin-left: 0px;\n",
       "}\n",
       "\n",
       ".CodeMirror {\n",
       "    font-family: Consolas, monospace;\n",
       "}\n",
       "\n",
       "div.text_cell_render{\n",
       "    /*font-family: \"Helvetica Neue\", Arial, Helvetica, Geneva, sans-serif;*/\n",
       "    font-family: \"Charis SIL\", serif; /* Make non-code text serif. */\n",
       "    line-height: 145%; /* added for some line spacing of text. */\n",
       "    width: 105ex; /* instead of 'inherit' for shorter lines */ \n",
       "    /*font-family: Computer Modern, \"Helvetica Neue\", Arial, Helvetica, Geneva, sans-serif;*/\n",
       "    font-size: 120%;\n",
       "    margin-left:0px;\n",
       "}\n",
       "\n",
       "div.text_cell_render h1 {\n",
       "\tfont-size: 24pt;\n",
       "\tcolor: rgb(192,80,77);\n",
       "\tbackground-color: rgb(245,245,245);\n",
       "}\n",
       "\n",
       "div.text_cell_render h2 {\n",
       "\tfont-size: 20pt;\n",
       "\tcolor: rgb(31,73,125);\n",
       "\tbackground-color: rgb(242,242,242);\n",
       "}\n",
       "\n",
       "div.objectives {\n",
       "    background-color: #FFFFCC;\n",
       "    margin-top: 10px;\n",
       "    margin-bottom: 5px;\n",
       "    padding: 10px;\n",
       "    color: inherit;\n",
       "    font-size: 16px;\n",
       "    font-family: inherit;\n",
       "    font-weight: 500;\n",
       "    line-height: 1.1;\n",
       "    border: 1px solid;\n",
       "    width: 600px;\n",
       "}\n",
       "\n",
       "div.exercice {\n",
       "    background-color: #CCCCFF;\n",
       "    margin-left: 100px;\n",
       "    margin-top: 5px;\n",
       "    margin-bottom: 5px;\n",
       "    padding: 5px;\n",
       "    color: inherit;\n",
       "    font-size: 16px;\n",
       "    font-family: inherit;\n",
       "    line-height: 1.1;\n",
       "    border: 1px solid #000;\n",
       "    width: 500px;\n",
       "}\n",
       "\n",
       "div.exercice h1{\n",
       "    text-align: left;\n",
       "    height: 20px;\n",
       "    line-height: 20px;\n",
       "    font-size: 15px;\n",
       "    color: #000;\n",
       "    background-color: inherit;\n",
       "}\n",
       "\n",
       "</style>"
      ],
      "text/plain": [
       "<IPython.core.display.HTML object>"
      ]
     },
     "execution_count": 165,
     "metadata": {},
     "output_type": "execute_result"
    }
   ],
   "source": [
    "from IPython import utils  \n",
    "from IPython.core.display import HTML  \n",
    "import os  \n",
    "def css_styling():  \n",
    "    \"\"\"Load the CSS sheet 'custom.css' located in the directory\"\"\"\n",
    "    styles = \"<style>\\n%s\\n</style>\" % (open('./custom.css','r').read())\n",
    "    return HTML(styles)\n",
    "css_styling()  "
   ]
  },
  {
   "cell_type": "code",
   "execution_count": null,
   "metadata": {
    "collapsed": true
   },
   "outputs": [],
   "source": []
  }
 ],
 "metadata": {
  "kernelspec": {
   "display_name": "Python 3",
   "language": "python",
   "name": "python3"
  },
  "language_info": {
   "codemirror_mode": {
    "name": "ipython",
    "version": 3
   },
   "file_extension": ".py",
   "mimetype": "text/x-python",
   "name": "python",
   "nbconvert_exporter": "python",
   "pygments_lexer": "ipython3",
   "version": "3.4.1"
  }
 },
 "nbformat": 4,
 "nbformat_minor": 0
}
