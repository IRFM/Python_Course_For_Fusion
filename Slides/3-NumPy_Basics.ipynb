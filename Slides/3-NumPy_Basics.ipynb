{
 "cells": [
  {
   "cell_type": "markdown",
   "metadata": {
    "editable": true,
    "slideshow": {
     "slide_type": "slide"
    },
    "tags": []
   },
   "source": [
    "# Part 3 - Introduction to NumPy"
   ]
  },
  {
   "cell_type": "markdown",
   "metadata": {
    "editable": true,
    "slideshow": {
     "slide_type": "fragment"
    },
    "tags": []
   },
   "source": [
    "At the contrary to languages like Matlab, IDL or Fortran, the support of powerfull array construct is not built-in in Python and requires an external library: _NumPy_.\n",
    "\n",
    "NumPy (pronounced 'Numb-pie') is the standard library for dealing with numerical arrays in Python. This is the main foundation of the scientific Python ecosystem. "
   ]
  },
  {
   "cell_type": "code",
   "execution_count": null,
   "metadata": {
    "editable": true,
    "slideshow": {
     "slide_type": "fragment"
    },
    "tags": []
   },
   "outputs": [],
   "source": [
    "# we need to import the NumPy library in order to use it\n",
    "import numpy as np  "
   ]
  },
  {
   "cell_type": "markdown",
   "metadata": {
    "editable": true,
    "slideshow": {
     "slide_type": "slide"
    },
    "tags": []
   },
   "source": [
    "# NumPy arrays\n",
    "NumPy provides a N-dimensional array class _ndarray_. \n",
    "\n",
    "NumPy implements this array structure in C (fast!) and provides a convenient Python interface (ease to use!). "
   ]
  },
  {
   "cell_type": "code",
   "execution_count": null,
   "metadata": {
    "editable": true,
    "slideshow": {
     "slide_type": "fragment"
    },
    "tags": []
   },
   "outputs": [],
   "source": [
    "# to create a NumPy array, call array() on a sequence \n",
    "my_array = np.array([0,1,2,3,4])\n",
    "\n",
    "print(my_array)"
   ]
  },
  {
   "cell_type": "code",
   "execution_count": null,
   "metadata": {
    "editable": true,
    "slideshow": {
     "slide_type": "fragment"
    },
    "tags": []
   },
   "outputs": [],
   "source": [
    "# A NumPy array is not a Python list. \n",
    "type(my_array)"
   ]
  },
  {
   "cell_type": "code",
   "execution_count": null,
   "metadata": {
    "editable": true,
    "slideshow": {
     "slide_type": "fragment"
    },
    "tags": []
   },
   "outputs": [],
   "source": [
    "# It is more similar to a Matlab array :\n",
    "my_array + 1"
   ]
  },
  {
   "cell_type": "code",
   "execution_count": null,
   "metadata": {
    "editable": true,
    "slideshow": {
     "slide_type": "fragment"
    },
    "tags": []
   },
   "outputs": [],
   "source": [
    "# multiplication operator acts elements\n",
    "my_array * 2"
   ]
  },
  {
   "cell_type": "markdown",
   "metadata": {
    "editable": true,
    "slideshow": {
     "slide_type": "slide"
    },
    "tags": []
   },
   "source": [
    "NumPy provides a number of ways to create arrays, similar to Matlab functions:\n",
    "\n",
    "    arange([start,] stop[, step,]) # NumPy version of Python's arange()\n",
    "    zeros(shape) # array of 0\n",
    "    ones(shape)  # array of 1\n",
    "    empty(shape) # Simply allocate memory without assigning it. \n",
    "            # Usefull if you are going to owerwrite them\n",
    "            \n",
    "    # create even linearly or logarithmically spaced grid of points\n",
    "    # between a lower and upper bound that is inclusive on both ends.        \n",
    "    linspace()\n",
    "    logspace()"
   ]
  },
  {
   "cell_type": "code",
   "execution_count": null,
   "metadata": {
    "editable": true,
    "slideshow": {
     "slide_type": "slide"
    },
    "tags": []
   },
   "outputs": [],
   "source": [
    "# creating an array going from 42 up to 142 by steps of 10\n",
    "np.arange(42, 142, 10) "
   ]
  },
  {
   "cell_type": "code",
   "execution_count": null,
   "metadata": {
    "editable": true,
    "slideshow": {
     "slide_type": "fragment"
    },
    "tags": []
   },
   "outputs": [],
   "source": [
    "np.ones(4) # the shape can be a single number (=lenght)"
   ]
  },
  {
   "cell_type": "code",
   "execution_count": null,
   "metadata": {
    "editable": true,
    "slideshow": {
     "slide_type": "fragment"
    },
    "tags": []
   },
   "outputs": [],
   "source": [
    "np.zeros((2,2)) # or a N-dimensional tuple"
   ]
  },
  {
   "cell_type": "code",
   "execution_count": null,
   "metadata": {
    "editable": true,
    "slideshow": {
     "slide_type": "fragment"
    },
    "tags": []
   },
   "outputs": [],
   "source": [
    "np.empty((2,3,4))"
   ]
  },
  {
   "cell_type": "code",
   "execution_count": null,
   "metadata": {
    "editable": true,
    "slideshow": {
     "slide_type": "slide"
    },
    "tags": []
   },
   "outputs": [],
   "source": [
    "# Pay attention that sum() (Python build-in) and np.sum() (from Numpy) are two different functions ! \n",
    "# The Python built-in function sum() acts on iterables (such as list, etc) \n",
    "# while the NumPy version of sum np.sum() acts on NumPy ndarray.\n",
    "# Therefore, the latter being optimized for numeric data, it is much faster for large arrays. \n",
    "import random\n",
    "N = 1000000\n",
    "x = [random.random() for _ in range(N)] # Python list\n",
    "xa = np.random.random_sample(N) #NumPy array"
   ]
  },
  {
   "cell_type": "code",
   "execution_count": null,
   "metadata": {
    "editable": true,
    "slideshow": {
     "slide_type": "fragment"
    },
    "tags": []
   },
   "outputs": [],
   "source": [
    "%%timeit\n",
    "sum(x)"
   ]
  },
  {
   "cell_type": "code",
   "execution_count": null,
   "metadata": {
    "editable": true,
    "slideshow": {
     "slide_type": "fragment"
    },
    "tags": []
   },
   "outputs": [],
   "source": [
    "%%timeit \n",
    "np.sum(xa)"
   ]
  },
  {
   "cell_type": "markdown",
   "metadata": {
    "editable": true,
    "slideshow": {
     "slide_type": "slide"
    },
    "tags": []
   },
   "source": [
    "## dtypes\n",
    "Because the `ndarray` object has been conceived to be performant (fast) for numerical operations, it can't mix types (at the contrary of Python lists). \n",
    "\n",
    "A NumPy array is an homogenous block of data organized in a N-Dimensional grid. As a consequence, the type of a `ndarray` is fixed for all the elements of the array. \n",
    "\n",
    "The _dtype_ (for data type) is the most important `ndarray` attribute. The data type determines\n",
    "the size and meaning of each element of the array.\n",
    "\n",
    "The _dtypes_ all have string character codes, as a concise mechanism for specifying the\n",
    "type. \n",
    "\n",
    "_Examples_: int, foat, complex, etc. Precision can be defined (int8, int32, in64, etc...)\n"
   ]
  },
  {
   "cell_type": "code",
   "execution_count": null,
   "metadata": {
    "editable": true,
    "slideshow": {
     "slide_type": "slide"
    },
    "tags": []
   },
   "outputs": [],
   "source": [
    "my_array = np.array([1.5, 2, 5.9, 9.0]) # auto-guess\n",
    "my_array.dtype"
   ]
  },
  {
   "cell_type": "code",
   "execution_count": null,
   "metadata": {
    "editable": true,
    "slideshow": {
     "slide_type": "fragment"
    },
    "tags": []
   },
   "outputs": [],
   "source": [
    "# forces dtype to integer\n",
    "my_array = np.array([1.5, 2, 5.9, 9.0], dtype=int) \n",
    "print(my_array)\n",
    "print(my_array.dtype)"
   ]
  },
  {
   "cell_type": "code",
   "execution_count": null,
   "metadata": {
    "editable": true,
    "slideshow": {
     "slide_type": "fragment"
    },
    "tags": []
   },
   "outputs": [],
   "source": [
    "# note that 'j' or '1j' is the imaginary symbol in NumPy\n",
    "my_array = np.array([1.5 + 5j, 2, 5.9 + 6*1j, 9.0], dtype=complex) \n",
    "print(my_array)\n",
    "print(my_array.dtype)"
   ]
  },
  {
   "cell_type": "markdown",
   "metadata": {
    "editable": true,
    "slideshow": {
     "slide_type": "slide"
    },
    "tags": []
   },
   "source": [
    "# Mathematical Operations"
   ]
  },
  {
   "cell_type": "code",
   "execution_count": null,
   "metadata": {
    "editable": true,
    "slideshow": {
     "slide_type": "fragment"
    },
    "tags": []
   },
   "outputs": [],
   "source": [
    "# All mathematical operators (exp, log, sqrt, etc) or constants are included of the NumPy library. \n",
    "# They act on NumPy array and return NumPy arrays\n",
    "x = np.linspace(-np.pi, np.pi, 101)\n",
    "result = np.cos(x)\n",
    "print(result)\n",
    "type(result)"
   ]
  },
  {
   "cell_type": "markdown",
   "metadata": {
    "editable": true,
    "slideshow": {
     "slide_type": "slide"
    },
    "tags": []
   },
   "source": [
    "# Slicing\n",
    "NumPy arrays have the same slicing semantics as Python list."
   ]
  },
  {
   "cell_type": "code",
   "execution_count": null,
   "metadata": {
    "editable": true,
    "slideshow": {
     "slide_type": "fragment"
    },
    "tags": []
   },
   "outputs": [],
   "source": [
    "a = np.arange(8)\n",
    "a"
   ]
  },
  {
   "cell_type": "code",
   "execution_count": null,
   "metadata": {
    "editable": true,
    "slideshow": {
     "slide_type": "fragment"
    },
    "tags": []
   },
   "outputs": [],
   "source": [
    "a[2:6] # from the third element to the 6th (excluded) by stride of 1 "
   ]
  },
  {
   "cell_type": "code",
   "execution_count": null,
   "metadata": {
    "editable": true,
    "slideshow": {
     "slide_type": "fragment"
    },
    "tags": []
   },
   "outputs": [],
   "source": [
    "a[1::3] # from the second element to the last by stride of 3"
   ]
  },
  {
   "cell_type": "markdown",
   "metadata": {
    "editable": true,
    "slideshow": {
     "slide_type": "slide"
    },
    "tags": []
   },
   "source": [
    "NumPy array can be N-dimensional, so you may slice along any and all axes. You can even use multiple axes. "
   ]
  },
  {
   "cell_type": "code",
   "execution_count": null,
   "metadata": {
    "editable": true,
    "slideshow": {
     "slide_type": "fragment"
    },
    "tags": []
   },
   "outputs": [],
   "source": [
    "# create a 4x4 matrix\n",
    "a = np.arange(16)\n",
    "a.shape = (4,4)\n",
    "print(a)"
   ]
  },
  {
   "cell_type": "code",
   "execution_count": null,
   "metadata": {
    "editable": true,
    "slideshow": {
     "slide_type": "fragment"
    },
    "tags": []
   },
   "outputs": [],
   "source": [
    "# all the elements of the second row\n",
    "a[1,:]"
   ]
  },
  {
   "cell_type": "code",
   "execution_count": null,
   "metadata": {
    "editable": true,
    "slideshow": {
     "slide_type": "fragment"
    },
    "tags": []
   },
   "outputs": [],
   "source": [
    "# all the elements of the second column\n",
    "a[:,1]"
   ]
  },
  {
   "cell_type": "code",
   "execution_count": null,
   "metadata": {
    "editable": true,
    "slideshow": {
     "slide_type": "fragment"
    },
    "tags": []
   },
   "outputs": [],
   "source": [
    "# the first and third rows and third to fourth column\n",
    "a[[0,2], 2:4]"
   ]
  },
  {
   "cell_type": "markdown",
   "metadata": {
    "editable": true,
    "slideshow": {
     "slide_type": "slide"
    },
    "tags": []
   },
   "source": [
    "__Pay attention:__ slides are _views_ of the original array. \n",
    "\n",
    "The data are to copied when a slide is made -> NumPy fast for slicing operations.\n",
    "\n",
    "But it means that modification of their elements are reflected back in the original array!"
   ]
  },
  {
   "cell_type": "code",
   "execution_count": null,
   "metadata": {
    "editable": true,
    "slideshow": {
     "slide_type": "fragment"
    },
    "tags": []
   },
   "outputs": [],
   "source": [
    "print(a)\n",
    "a[1:3,1:3] = -1\n",
    "print(a)"
   ]
  },
  {
   "cell_type": "markdown",
   "metadata": {
    "collapsed": true,
    "editable": true,
    "jupyter": {
     "outputs_hidden": true
    },
    "slideshow": {
     "slide_type": "slide"
    },
    "tags": []
   },
   "source": [
    "# ndarray attributes and methods\n",
    "The `ndarray` type is - as everything in Python - an object, with several attributes: "
   ]
  },
  {
   "cell_type": "code",
   "execution_count": null,
   "metadata": {
    "editable": true,
    "slideshow": {
     "slide_type": "fragment"
    },
    "tags": []
   },
   "outputs": [],
   "source": [
    "# number of dimensions (int)\n",
    "a.ndim"
   ]
  },
  {
   "cell_type": "code",
   "execution_count": null,
   "metadata": {
    "editable": true,
    "slideshow": {
     "slide_type": "fragment"
    },
    "tags": []
   },
   "outputs": [],
   "source": [
    "# Tuple of integers that represents the rank along each dimensions\n",
    "a.shape"
   ]
  },
  {
   "cell_type": "code",
   "execution_count": null,
   "metadata": {
    "editable": true,
    "slideshow": {
     "slide_type": "fragment"
    },
    "tags": []
   },
   "outputs": [],
   "source": [
    "# total number of elements (int)\n",
    "a.size"
   ]
  },
  {
   "cell_type": "markdown",
   "metadata": {
    "editable": true,
    "slideshow": {
     "slide_type": "slide"
    },
    "tags": []
   },
   "source": [
    "As well as several methods. "
   ]
  },
  {
   "cell_type": "code",
   "execution_count": null,
   "metadata": {
    "editable": true,
    "slideshow": {
     "slide_type": "slide"
    },
    "tags": []
   },
   "outputs": [],
   "source": [
    "a.reshape((2,8))"
   ]
  },
  {
   "cell_type": "code",
   "execution_count": null,
   "metadata": {
    "editable": true,
    "slideshow": {
     "slide_type": "fragment"
    },
    "tags": []
   },
   "outputs": [],
   "source": [
    "b=np.array([1,4,70,2,5,8])\n",
    "# get the indice where the maximum value is \n",
    "b.argmax()"
   ]
  },
  {
   "cell_type": "code",
   "execution_count": null,
   "metadata": {
    "editable": true,
    "slideshow": {
     "slide_type": "fragment"
    },
    "tags": []
   },
   "outputs": [],
   "source": [
    "a.max()"
   ]
  },
  {
   "cell_type": "code",
   "execution_count": null,
   "metadata": {
    "editable": true,
    "slideshow": {
     "slide_type": "fragment"
    },
    "tags": []
   },
   "outputs": [],
   "source": [
    "# matrix multiplication \n",
    "a.dot(a)"
   ]
  },
  {
   "cell_type": "code",
   "execution_count": null,
   "metadata": {
    "editable": true,
    "slideshow": {
     "slide_type": "fragment"
    },
    "tags": []
   },
   "outputs": [],
   "source": [
    "a.sum()"
   ]
  },
  {
   "cell_type": "markdown",
   "metadata": {
    "editable": true,
    "slideshow": {
     "slide_type": "slide"
    },
    "tags": []
   },
   "source": [
    "__Pay attention__: \n",
    " \n",
    " * Operations that involve attributes or methods of `ndarray` occur _in-place_. While functions that take an `ndarray` as an argument return a modified copy.\n",
    " * With NumPy `ndarray`, a=b creates a new _reference_ to b, not a _copy_. \n",
    " "
   ]
  },
  {
   "cell_type": "code",
   "execution_count": null,
   "metadata": {
    "editable": true,
    "slideshow": {
     "slide_type": "fragment"
    },
    "tags": []
   },
   "outputs": [],
   "source": [
    "b=a # b is a new reference to a.\n",
    "b[0]=10\n",
    "print(b)"
   ]
  },
  {
   "cell_type": "code",
   "execution_count": null,
   "metadata": {
    "editable": true,
    "slideshow": {
     "slide_type": "fragment"
    },
    "tags": []
   },
   "outputs": [],
   "source": [
    "# Because b refers to a, modifyng b also modify a !\n",
    "print(a)"
   ]
  },
  {
   "cell_type": "code",
   "execution_count": null,
   "metadata": {
    "editable": true,
    "slideshow": {
     "slide_type": "fragment"
    },
    "tags": []
   },
   "outputs": [],
   "source": [
    "b=a.copy() \n",
    "b[0] = 20\n",
    "print(b)\n",
    "print(a) # a has not been modified."
   ]
  },
  {
   "cell_type": "markdown",
   "metadata": {
    "editable": true,
    "slideshow": {
     "slide_type": "slide"
    },
    "tags": []
   },
   "source": [
    "# Broadcasting\n",
    "Broadcasting rules describe how arrays with different dimensions and/or shapes can be used for computations.\n",
    "\n",
    "The general rule is that: 2 dimensions are compatible when they are equal or when one of them is 1."
   ]
  },
  {
   "cell_type": "markdown",
   "metadata": {
    "editable": true,
    "slideshow": {
     "slide_type": "slide"
    },
    "tags": []
   },
   "source": [
    "![NumPy Broadcasting image 1](http://www.astroml.org/_images/fig_broadcast_visual_1.png)"
   ]
  },
  {
   "cell_type": "markdown",
   "metadata": {
    "editable": true,
    "slideshow": {
     "slide_type": "slide"
    },
    "tags": []
   },
   "source": [
    "![NumPy Broadcasting Image 2](https://scipy-lectures.github.io/_images/numpy_broadcasting.png)"
   ]
  },
  {
   "cell_type": "markdown",
   "metadata": {
    "editable": true,
    "slideshow": {
     "slide_type": "slide"
    },
    "tags": []
   },
   "source": [
    "As an example, we calculate the outer product of two array, i.e.:\n",
    "$$\n",
    "    \\mathbf{u} \\otimes \\mathbf{v} = \\mathbf{u} \\mathbf{v}^\\mathrm{T} = \\begin{bmatrix}u_1 \\\\ u_2 \\\\ u_3 \\\\ u_4\\end{bmatrix} \\begin{bmatrix}v_1 & v_2 & v_3\\end{bmatrix} = \\begin{bmatrix}u_1v_1 & u_1v_2 & u_1v_3 \\\\ u_2v_1 & u_2v_2 & u_2v_3 \\\\ u_3v_1 & u_3v_2 & u_3v_3 \\\\ u_4v_1 & u_4v_2 & u_4v_3\\end{bmatrix}. $$"
   ]
  },
  {
   "cell_type": "code",
   "execution_count": null,
   "metadata": {
    "editable": true,
    "slideshow": {
     "slide_type": "fragment"
    },
    "tags": []
   },
   "outputs": [],
   "source": [
    "x = np.arange(4) # x.shape is (4,)\n",
    "y = np.arange(3)  # y.shape is (3,)\n",
    "# outer product\n",
    "x.reshape(4,1) * y  # also possible : x[:, np.newaxis] * y \n",
    "                    # newaxis index operator inserts a new axis into x\n",
    "                    # making it a two-dimensional 4x1 array. "
   ]
  },
  {
   "cell_type": "markdown",
   "metadata": {
    "collapsed": true,
    "editable": true,
    "jupyter": {
     "outputs_hidden": true
    },
    "slideshow": {
     "slide_type": "slide"
    },
    "tags": []
   },
   "source": [
    "# Fancy Indexing, masking\n",
    "Slicing is great when indices follow a regulary pattern. \n",
    "\n",
    "But when one want arbitrary indexes, this is known as _fancy indexing_: the index is an integer array or a list of integer.\n",
    "\n",
    "This requires a _copy_ of the original array (so a performance cost)"
   ]
  },
  {
   "cell_type": "code",
   "execution_count": null,
   "metadata": {
    "editable": true,
    "slideshow": {
     "slide_type": "fragment"
    },
    "tags": []
   },
   "outputs": [],
   "source": [
    "a = np.arange(10)\n",
    "print(a)\n",
    "\n",
    "index = [3,1,6]\n",
    "print(a[index])"
   ]
  },
  {
   "cell_type": "markdown",
   "metadata": {
    "editable": true,
    "slideshow": {
     "slide_type": "slide"
    },
    "tags": []
   },
   "source": [
    "_Masking_ is like fancy indexing, except that it _must_ be a Boolean array (not a Python list!). \n",
    "\n",
    "As with fancy indexing, the application of a mask to an array will produce a _copy_ of the original data. "
   ]
  },
  {
   "cell_type": "code",
   "execution_count": null,
   "metadata": {
    "editable": true,
    "slideshow": {
     "slide_type": "fragment"
    },
    "tags": []
   },
   "outputs": [],
   "source": [
    "mask = np.array([0,1,0,1,1,0,1,0,1,0], dtype=bool)\n",
    "a[mask]\n",
    "# a[[0,1,0,1,1,0,1,0,1,0]] would not work, as one could expect from Matlab behaviour ! "
   ]
  },
  {
   "cell_type": "code",
   "execution_count": null,
   "metadata": {
    "editable": true,
    "slideshow": {
     "slide_type": "fragment"
    },
    "tags": []
   },
   "outputs": [],
   "source": [
    "# The mask can be generated in the indexing operation itself\n",
    "a[a > 5]"
   ]
  },
  {
   "cell_type": "code",
   "execution_count": null,
   "metadata": {
    "editable": true,
    "slideshow": {
     "slide_type": "fragment"
    },
    "tags": []
   },
   "outputs": [],
   "source": [
    "# It is also possible to combine masks with operators\n",
    "a[(a>5) & (a<=8)]"
   ]
  },
  {
   "cell_type": "code",
   "execution_count": null,
   "metadata": {
    "editable": true,
    "slideshow": {
     "slide_type": "fragment"
    },
    "tags": []
   },
   "outputs": [],
   "source": [
    "# the NumPy where() function takes a Boolean array \n",
    "# and return a tuple of the indices where the mask is True.\n",
    "np.where(a > 5)"
   ]
  },
  {
   "cell_type": "code",
   "execution_count": null,
   "metadata": {
    "editable": true,
    "slideshow": {
     "slide_type": ""
    },
    "tags": []
   },
   "outputs": [],
   "source": []
  }
 ],
 "metadata": {
  "celltoolbar": "Slideshow",
  "kernelspec": {
   "display_name": "Python 3 (ipykernel)",
   "language": "python",
   "name": "python3"
  },
  "language_info": {
   "codemirror_mode": {
    "name": "ipython",
    "version": 3
   },
   "file_extension": ".py",
   "mimetype": "text/x-python",
   "name": "python",
   "nbconvert_exporter": "python",
   "pygments_lexer": "ipython3",
   "version": "3.11.9"
  },
  "livereveal": {
   "autolaunch": true,
   "width": "80%"
  }
 },
 "nbformat": 4,
 "nbformat_minor": 4
}
