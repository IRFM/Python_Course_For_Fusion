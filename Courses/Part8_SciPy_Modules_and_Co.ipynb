{
 "cells": [
  {
   "cell_type": "markdown",
   "metadata": {},
   "source": [
    "# SciPy Modules & Co"
   ]
  },
  {
   "cell_type": "markdown",
   "metadata": {},
   "source": [
    "## Fonctions Spéciales\n",
    "The main feature of the [scipy.special](http://docs.scipy.org/doc/scipy/reference/tutorial/special.html) package is the definition of numerous special functions of mathematical physics. Available functions include airy, elliptic, bessel, gamma, beta, hypergeometric, parabolic cylinder, mathieu, spheroidal wave, struve, and kelvin. "
   ]
  },
  {
   "cell_type": "code",
   "execution_count": null,
   "metadata": {},
   "outputs": [],
   "source": [
    "from scipy import special"
   ]
  },
  {
   "cell_type": "raw",
   "metadata": {
    "jupyter": {
     "outputs_hidden": false
    }
   },
   "source": [
    "help(special) # For a complete list of the available functions "
   ]
  },
  {
   "cell_type": "markdown",
   "metadata": {},
   "source": [
    "## Integration"
   ]
  },
  {
   "cell_type": "markdown",
   "metadata": {},
   "source": [
    "Vérifions l'intégrale de Gauss avec le module [integrate](http://docs.scipy.org/doc/scipy/reference/tutorial/integrate.html) du package SciPy: \n",
    "$$\n",
    "\\int_{-\\infty}^{+\\infty} e^{-x^2} dx = \\sqrt{\\pi}\n",
    "$$"
   ]
  },
  {
   "cell_type": "code",
   "execution_count": null,
   "metadata": {
    "collapsed": false,
    "jupyter": {
     "outputs_hidden": false
    }
   },
   "outputs": [],
   "source": [
    "import numpy as np\n",
    "from scipy import integrate"
   ]
  },
  {
   "cell_type": "code",
   "execution_count": null,
   "metadata": {
    "collapsed": false,
    "jupyter": {
     "outputs_hidden": false
    }
   },
   "outputs": [],
   "source": [
    "def integrande(x):\n",
    "    return np.exp(-x**2)\n",
    "\n",
    "# general integration\n",
    "# Infinite inputs are also allowed in quad by using ± inf \n",
    "y, abserr = integrate.quad(integrande, -np.inf, +np.inf)"
   ]
  },
  {
   "cell_type": "code",
   "execution_count": null,
   "metadata": {
    "collapsed": false,
    "jupyter": {
     "outputs_hidden": false
    }
   },
   "outputs": [],
   "source": [
    "# check how close the result is \n",
    "np.isclose(y, np.sqrt(np.pi))"
   ]
  },
  {
   "cell_type": "markdown",
   "metadata": {},
   "source": [
    "## Optimization\n",
    "\n",
    "SciPy also proposes an [optimization](http://docs.scipy.org/doc/scipy/reference/tutorial/optimize.html) module, which contains:\n",
    "\n",
    "* Unconstrained and constrained minimization of multivariate scalar functions (minimize) using a variety of algorithms (e.g. BFGS, Nelder-Mead simplex, Newton Conjugate Gradient, COBYLA or SLSQP)\n",
    "* Global (brute-force) optimization routines (e.g. basinhopping, differential_evolution)\n",
    "* Least-squares minimization (leastsq) and curve fitting (curve_fit) algorithms\n",
    "* Scalar univariate functions minimizers (minimize_scalar) and root finders (newton)\n",
    "* Multivariate equation system solvers (root) using a variety of algorithms (e.g. hybrid Powell, Levenberg-Marquardt or large-scale methods such as Newton-Krylov).\n"
   ]
  },
  {
   "cell_type": "markdown",
   "metadata": {},
   "source": [
    "## Interpolation\n",
    "\n",
    "There are several general [interpolation](http://docs.scipy.org/doc/scipy/reference/tutorial/interpolate.html) facilities available in SciPy,  for data in 1, 2, and higher dimensions:\n",
    "\n",
    "* A class representing an interpolant (interp1d) in 1-D, offering several interpolation methods.\n",
    "* Convenience function griddata offering a simple interface to interpolation in N dimensions (N = 1, 2, 3, 4, ...). Object-oriented interface for the underlying routines is also available.\n",
    "* Functions for 1- and 2-dimensional (smoothed) cubic-spline interpolation, based on the FORTRAN library FITPACK. There are both procedural and object-oriented interfaces for the FITPACK library.\n",
    "* Interpolation using Radial Basis Functions."
   ]
  },
  {
   "cell_type": "code",
   "execution_count": null,
   "metadata": {
    "collapsed": false,
    "jupyter": {
     "outputs_hidden": false
    }
   },
   "outputs": [],
   "source": [
    "from scipy.interpolate import interp1d\n",
    "\n",
    "import matplotlib.pyplot as plt\n",
    "%matplotlib inline\n",
    "\n",
    "# generates a noisy signal\n",
    "signal_length = 1000\n",
    "omega = 10\n",
    "t = np.linspace(0, (2*np.pi)/omega, signal_length)\n",
    "\n",
    "noisy_signal = (0.1*np.random.rand(signal_length) - 0.2) \\\n",
    "                *(np.cos(3*omega*t) + np.sin(omega*t))\n",
    "\n",
    "# interpolating the signal\n",
    "f = interp1d(t, noisy_signal)\n",
    "\n",
    "# plot the original signal \n",
    "# and the interpolation on a decimated basis\n",
    "t2 = np.linspace(0, (2*np.pi)/omega, int(signal_length/10))\n",
    "plt.plot(t, noisy_signal, color=(.7,.7,.7,1))\n",
    "plt.plot(t2, f(t2), lw=2, color='r')\n",
    "plt.grid(True)"
   ]
  },
  {
   "cell_type": "markdown",
   "metadata": {},
   "source": [
    "## Fast Fourier Transforms\n",
    "[fftpack](http://docs.scipy.org/doc/scipy/reference/tutorial/fftpack.html)\n"
   ]
  },
  {
   "cell_type": "code",
   "execution_count": null,
   "metadata": {
    "collapsed": false,
    "jupyter": {
     "outputs_hidden": false
    }
   },
   "outputs": [],
   "source": [
    "from scipy.fftpack import fft\n",
    "\n",
    "# signal frequency\n",
    "f = 50e6\n",
    "# Number of samplepoints\n",
    "N = 1000\n",
    "# time sampling\n",
    "T = 1/N\n",
    "t = np.linspace(0, N*T, N)\n",
    "# signal\n",
    "y = np.cos(2*np.pi*f*t) + 0.2*np.cos(2*np.pi*2*f*t)\n",
    "\n",
    "yf = fft(y)\n",
    "xf = np.linspace(0.0, 1.0/(2.0*T), int(N/2))\n",
    "\n",
    "plt.plot(xf, 2.0/N * np.abs(yf[0:int(N/2)]))\n",
    "plt.grid(True)\n",
    "plt.xlabel('f [Hz]')\n"
   ]
  },
  {
   "cell_type": "markdown",
   "metadata": {},
   "source": [
    "## Signal Processing\n",
    "The [signal](http://docs.scipy.org/doc/scipy/reference/tutorial/signal.html)  toolbox currently contains some filtering functions, a limited set of filter design tools, and a few B-spline interpolation algorithms for one- and two-dimensional data. \n",
    "\n",
    "While the B-spline algorithms could technically be placed under the interpolation category, they are included here because they only work with equally-spaced data and make heavy use of filter-theory and transfer-function formalism to provide a fast B-spline transform. "
   ]
  },
  {
   "cell_type": "markdown",
   "metadata": {},
   "source": [
    "## Statistiques\n",
    "See [scipy.stats](http://docs.scipy.org/doc/scipy/reference/tutorial/stats.html)"
   ]
  },
  {
   "cell_type": "markdown",
   "metadata": {},
   "source": [
    "# Image Processing\n",
    "See [scikit-image](http://scikit-image.org/) or [Pillow](https://python-pillow.github.io/)"
   ]
  },
  {
   "cell_type": "markdown",
   "metadata": {},
   "source": [
    "# Machine Learning\n",
    "See [Scikit Learn](http://scikit-learn.org/)"
   ]
  },
  {
   "cell_type": "markdown",
   "metadata": {},
   "source": [
    "# Autres SciKits\n",
    "See [SciKits](https://scikits.appspot.com/scikits)"
   ]
  },
  {
   "cell_type": "code",
   "execution_count": null,
   "metadata": {
    "collapsed": false,
    "jupyter": {
     "outputs_hidden": false
    }
   },
   "outputs": [],
   "source": [
    "\"\"\"Load the CSS sheet 'custom.css' located in the directory\"\"\"\n",
    "from IPython.display import HTML  \n",
    "styles = f'<style>\\n{open(\"./custom.css\",\"r\").read()}\\n</style>'\n",
    "HTML(styles) "
   ]
  },
  {
   "cell_type": "code",
   "execution_count": null,
   "metadata": {
    "tags": []
   },
   "outputs": [],
   "source": []
  }
 ],
 "metadata": {
  "kernelspec": {
   "display_name": "tools_dc",
   "language": "python",
   "name": "tools_dc"
  },
  "language_info": {
   "codemirror_mode": {
    "name": "ipython",
    "version": 3
   },
   "file_extension": ".py",
   "mimetype": "text/x-python",
   "name": "python",
   "nbconvert_exporter": "python",
   "pygments_lexer": "ipython3",
   "version": "3.7.11"
  }
 },
 "nbformat": 4,
 "nbformat_minor": 4
}
