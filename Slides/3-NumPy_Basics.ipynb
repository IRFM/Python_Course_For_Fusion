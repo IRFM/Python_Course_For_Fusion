{
 "cells": [
  {
   "cell_type": "code",
   "execution_count": 5,
   "metadata": {
    "collapsed": false,
    "slideshow": {
     "slide_type": "skip"
    }
   },
   "outputs": [
    {
     "data": {
      "text/html": [
       "<style>\n",
       ".pmode {\n",
       "    display:none; !important\n",
       "}\n",
       "\n",
       "div.text_cell_render h1 {\n",
       "\tfont-size: 24pt;\n",
       "\tcolor: rgb(192,80,77);\n",
       "\tbackground-color: rgb(245,245,245);\n",
       "}\n",
       "\n",
       "div.text_cell_render h2 {\n",
       "\tfont-size: 20pt;\n",
       "\tcolor: rgb(31,73,125);\n",
       "\tbackground-color: rgb(242,242,242);\n",
       "}\n",
       "\n",
       ".presentation_mode h1{\n",
       "        text-align: center;\n",
       "}\n",
       "\n",
       ".presentation_mode .maintoolbar-container{\n",
       "    display:none; !important\n",
       "}\n",
       "\n",
       ".presentation_mode div#notebook-container {\n",
       "    box-shadow: none;\n",
       "    -webkit-box-shadow: none:\n",
       "\n",
       "}\n",
       "\n",
       ".presentation_mode #header {\n",
       "    box-shadow: none;\n",
       "    -webkit-box-shadow: none;\n",
       "    border-bottom: thin silver solid;\n",
       "\n",
       "}\n",
       "\n",
       "body.presentation_mode {\n",
       "    background-color:white;\n",
       "}\n",
       "\n",
       "\n",
       "</style>"
      ],
      "text/plain": [
       "<IPython.core.display.HTML object>"
      ]
     },
     "execution_count": 5,
     "metadata": {},
     "output_type": "execute_result"
    }
   ],
   "source": [
    "from IPython import utils  \n",
    "from IPython.core.display import HTML  \n",
    "import os  \n",
    "def css_styling():  \n",
    "    \"\"\"Load the CSS sheet 'custom.css' located in the directory\"\"\"\n",
    "    styles = \"<style>\\n%s\\n</style>\" % (open('./custom.css','r').read())\n",
    "    return HTML(styles)\n",
    "css_styling()  "
   ]
  },
  {
   "cell_type": "markdown",
   "metadata": {
    "slideshow": {
     "slide_type": "slide"
    }
   },
   "source": [
    "# Part 3 - Introduction to NumPy"
   ]
  },
  {
   "cell_type": "markdown",
   "metadata": {
    "slideshow": {
     "slide_type": "fragment"
    }
   },
   "source": [
    "At the contrary to languages like Matlab, IDL or Fortran, the support of powerfull array construct is not built-in in Python and requires an external library: _NumPy_.\n",
    "\n",
    "NumPy (pronounced 'Numb-pie') is the standard library for dealing with numerical arrays in Python. This is the main foundation of the scientific Python ecosystem. "
   ]
  },
  {
   "cell_type": "code",
   "execution_count": 6,
   "metadata": {
    "collapsed": true,
    "slideshow": {
     "slide_type": "fragment"
    }
   },
   "outputs": [],
   "source": [
    "# we need to import the NumPy library in order to use it\n",
    "import numpy as np  "
   ]
  },
  {
   "cell_type": "markdown",
   "metadata": {
    "slideshow": {
     "slide_type": "slide"
    }
   },
   "source": [
    "# NumPy arrays\n",
    "NumPy provides a N-dimensional array class _ndarray_. \n",
    "\n",
    "NumPy implements this array structure in C (fast!) and provides a convenient Python interface (ease to use!). "
   ]
  },
  {
   "cell_type": "code",
   "execution_count": 7,
   "metadata": {
    "collapsed": false,
    "slideshow": {
     "slide_type": "fragment"
    }
   },
   "outputs": [
    {
     "name": "stdout",
     "output_type": "stream",
     "text": [
      "[0 1 2 3 4]\n"
     ]
    }
   ],
   "source": [
    "# to create a NumPy array, call array() on a sequence \n",
    "my_array = np.array([0,1,2,3,4])\n",
    "\n",
    "print(my_array)"
   ]
  },
  {
   "cell_type": "code",
   "execution_count": 8,
   "metadata": {
    "collapsed": false,
    "slideshow": {
     "slide_type": "fragment"
    }
   },
   "outputs": [
    {
     "data": {
      "text/plain": [
       "numpy.ndarray"
      ]
     },
     "execution_count": 8,
     "metadata": {},
     "output_type": "execute_result"
    }
   ],
   "source": [
    "# A NumPy array is not a Python list. \n",
    "type(my_array)"
   ]
  },
  {
   "cell_type": "code",
   "execution_count": 9,
   "metadata": {
    "collapsed": false,
    "slideshow": {
     "slide_type": "fragment"
    }
   },
   "outputs": [
    {
     "data": {
      "text/plain": [
       "array([1, 2, 3, 4, 5])"
      ]
     },
     "execution_count": 9,
     "metadata": {},
     "output_type": "execute_result"
    }
   ],
   "source": [
    "# It is more similar to a Matlab array :\n",
    "my_array + 1"
   ]
  },
  {
   "cell_type": "code",
   "execution_count": 10,
   "metadata": {
    "collapsed": false,
    "slideshow": {
     "slide_type": "fragment"
    }
   },
   "outputs": [
    {
     "data": {
      "text/plain": [
       "array([0, 2, 4, 6, 8])"
      ]
     },
     "execution_count": 10,
     "metadata": {},
     "output_type": "execute_result"
    }
   ],
   "source": [
    "# multiplication operator acts elements\n",
    "my_array * 2"
   ]
  },
  {
   "cell_type": "markdown",
   "metadata": {
    "slideshow": {
     "slide_type": "subslide"
    }
   },
   "source": [
    "NumPy provides a number of ways to create arrays, similar to Matlab functions:\n",
    "\n",
    "    arange([start,] stop[, step,]) # NumPy version of Python's arange()\n",
    "    zeros(shape) # array of 0\n",
    "    ones(shape)  # array of 1\n",
    "    empty(shape) # Simply allocate memory without assigning it. \n",
    "            # Usefull if you are going to owerwrite them\n",
    "            \n",
    "    # create even linearly or logarithmically spaced grid of points\n",
    "    # between a lower and upper bound that is inclusive on both ends.        \n",
    "    linspace()\n",
    "    logspace()"
   ]
  },
  {
   "cell_type": "code",
   "execution_count": 11,
   "metadata": {
    "collapsed": false,
    "slideshow": {
     "slide_type": "subslide"
    }
   },
   "outputs": [
    {
     "data": {
      "text/plain": [
       "array([ 42,  52,  62,  72,  82,  92, 102, 112, 122, 132])"
      ]
     },
     "execution_count": 11,
     "metadata": {},
     "output_type": "execute_result"
    }
   ],
   "source": [
    "# creating an array going from 42 up to 142 by steps of 10\n",
    "np.arange(42, 142, 10) "
   ]
  },
  {
   "cell_type": "code",
   "execution_count": 12,
   "metadata": {
    "collapsed": false,
    "slideshow": {
     "slide_type": "fragment"
    }
   },
   "outputs": [
    {
     "data": {
      "text/plain": [
       "array([ 1.,  1.,  1.,  1.])"
      ]
     },
     "execution_count": 12,
     "metadata": {},
     "output_type": "execute_result"
    }
   ],
   "source": [
    "np.ones(4) # the shape can be a single number (=lenght)"
   ]
  },
  {
   "cell_type": "code",
   "execution_count": 13,
   "metadata": {
    "collapsed": false,
    "slideshow": {
     "slide_type": "fragment"
    }
   },
   "outputs": [
    {
     "data": {
      "text/plain": [
       "array([[ 0.,  0.],\n",
       "       [ 0.,  0.]])"
      ]
     },
     "execution_count": 13,
     "metadata": {},
     "output_type": "execute_result"
    }
   ],
   "source": [
    "np.zeros((2,2)) # or a N-dimensional tuple"
   ]
  },
  {
   "cell_type": "code",
   "execution_count": 14,
   "metadata": {
    "collapsed": false,
    "slideshow": {
     "slide_type": "fragment"
    }
   },
   "outputs": [
    {
     "data": {
      "text/plain": [
       "array([[[  6.93933296e-310,   1.45441069e-316,   6.93933335e-310,\n",
       "           6.93933331e-310],\n",
       "        [  6.93933332e-310,   6.93931858e-310,   6.93933335e-310,\n",
       "           6.93931858e-310],\n",
       "        [  6.93933332e-310,   6.93931858e-310,   6.93933335e-310,\n",
       "           6.93931858e-310]],\n",
       "\n",
       "       [[  6.93933332e-310,   6.93931858e-310,   6.93933335e-310,\n",
       "           6.93931858e-310],\n",
       "        [  6.93933335e-310,   6.93931858e-310,   6.93933335e-310,\n",
       "           6.93931858e-310],\n",
       "        [  6.93933332e-310,   6.93931858e-310,   6.93933335e-310,\n",
       "           6.93931858e-310]]])"
      ]
     },
     "execution_count": 14,
     "metadata": {},
     "output_type": "execute_result"
    }
   ],
   "source": [
    "np.empty((2,3,4))"
   ]
  },
  {
   "cell_type": "code",
   "execution_count": 15,
   "metadata": {
    "collapsed": false,
    "slideshow": {
     "slide_type": "subslide"
    }
   },
   "outputs": [],
   "source": [
    "# Pay attention that sum() and np.sum() are two different functions ! \n",
    "# The Python built-in function sum() acts on iterables (such as list, etc) \n",
    "# while the NumPy version of sum np.sum() acts on NumPy ndarray.\n",
    "# Therefore, the latter being optimized, it is much more faster for large arrays. \n",
    "import random\n",
    "N = 1000000\n",
    "x = [random.random() for _ in range(N)] # Python list\n",
    "xa = np.random.random_sample(N) #NumPy array"
   ]
  },
  {
   "cell_type": "code",
   "execution_count": 16,
   "metadata": {
    "collapsed": false,
    "slideshow": {
     "slide_type": "fragment"
    }
   },
   "outputs": [
    {
     "name": "stdout",
     "output_type": "stream",
     "text": [
      "100 loops, best of 3: 18.1 ms per loop\n"
     ]
    }
   ],
   "source": [
    "%%timeit\n",
    "sum(x)"
   ]
  },
  {
   "cell_type": "code",
   "execution_count": 17,
   "metadata": {
    "collapsed": false,
    "slideshow": {
     "slide_type": "fragment"
    }
   },
   "outputs": [
    {
     "name": "stdout",
     "output_type": "stream",
     "text": [
      "1000 loops, best of 3: 763 µs per loop\n"
     ]
    }
   ],
   "source": [
    "%%timeit \n",
    "np.sum(xa)"
   ]
  },
  {
   "cell_type": "markdown",
   "metadata": {
    "slideshow": {
     "slide_type": "subslide"
    }
   },
   "source": [
    "## dtypes\n",
    "Because the `ndarray` object has been conceived to be performant (fast) for numerical operations, it can't mix types (at the contrary of Python lists). \n",
    "\n",
    "A NumPy array is an homogenous block of data organized in a N-Dimensional grid. As a consequence, the type of a `ndarray` is fixed for all the elements of the array. \n",
    "\n",
    "The _dtype_ (for data type) is the most important `ndarray` attribute. The data type determines\n",
    "the size and meaning of each element of the array.\n",
    "\n",
    "The _dtypes_ all have string character codes, as a concise mechanism for specifying the\n",
    "type. \n",
    "\n",
    "_Examples_: int, foat, complex, etc. Precision can be defined (int8, int32, in64, etc...)\n"
   ]
  },
  {
   "cell_type": "code",
   "execution_count": 18,
   "metadata": {
    "collapsed": false,
    "slideshow": {
     "slide_type": "subslide"
    }
   },
   "outputs": [
    {
     "data": {
      "text/plain": [
       "dtype('float64')"
      ]
     },
     "execution_count": 18,
     "metadata": {},
     "output_type": "execute_result"
    }
   ],
   "source": [
    "my_array = np.array([1.5, 2, 5.9, 9.0]) # auto-guess\n",
    "my_array.dtype"
   ]
  },
  {
   "cell_type": "code",
   "execution_count": 19,
   "metadata": {
    "collapsed": false,
    "slideshow": {
     "slide_type": "fragment"
    }
   },
   "outputs": [
    {
     "name": "stdout",
     "output_type": "stream",
     "text": [
      "[1 2 5 9]\n",
      "int64\n"
     ]
    }
   ],
   "source": [
    "# forces dtype to integer\n",
    "my_array = np.array([1.5, 2, 5.9, 9.0], dtype=int) \n",
    "print(my_array)\n",
    "print(my_array.dtype)"
   ]
  },
  {
   "cell_type": "code",
   "execution_count": 20,
   "metadata": {
    "collapsed": false,
    "slideshow": {
     "slide_type": "fragment"
    }
   },
   "outputs": [
    {
     "name": "stdout",
     "output_type": "stream",
     "text": [
      "[ 1.5+5.j  2.0+0.j  5.9+6.j  9.0+0.j]\n",
      "complex128\n"
     ]
    }
   ],
   "source": [
    "# note that 'j' or '1j' is the imaginary symbol in NumPy\n",
    "my_array = np.array([1.5 + 5j, 2, 5.9 + 6*1j, 9.0], dtype=complex) \n",
    "print(my_array)\n",
    "print(my_array.dtype)"
   ]
  },
  {
   "cell_type": "markdown",
   "metadata": {
    "slideshow": {
     "slide_type": "slide"
    }
   },
   "source": [
    "# Mathematical Operations"
   ]
  },
  {
   "cell_type": "code",
   "execution_count": 21,
   "metadata": {
    "collapsed": false,
    "slideshow": {
     "slide_type": "fragment"
    }
   },
   "outputs": [
    {
     "name": "stdout",
     "output_type": "stream",
     "text": [
      "[ -1.00000000e+00  -9.98026728e-01  -9.92114701e-01  -9.82287251e-01\n",
      "  -9.68583161e-01  -9.51056516e-01  -9.29776486e-01  -9.04827052e-01\n",
      "  -8.76306680e-01  -8.44327926e-01  -8.09016994e-01  -7.70513243e-01\n",
      "  -7.28968627e-01  -6.84547106e-01  -6.37423990e-01  -5.87785252e-01\n",
      "  -5.35826795e-01  -4.81753674e-01  -4.25779292e-01  -3.68124553e-01\n",
      "  -3.09016994e-01  -2.48689887e-01  -1.87381315e-01  -1.25333234e-01\n",
      "  -6.27905195e-02   2.83276945e-16   6.27905195e-02   1.25333234e-01\n",
      "   1.87381315e-01   2.48689887e-01   3.09016994e-01   3.68124553e-01\n",
      "   4.25779292e-01   4.81753674e-01   5.35826795e-01   5.87785252e-01\n",
      "   6.37423990e-01   6.84547106e-01   7.28968627e-01   7.70513243e-01\n",
      "   8.09016994e-01   8.44327926e-01   8.76306680e-01   9.04827052e-01\n",
      "   9.29776486e-01   9.51056516e-01   9.68583161e-01   9.82287251e-01\n",
      "   9.92114701e-01   9.98026728e-01   1.00000000e+00   9.98026728e-01\n",
      "   9.92114701e-01   9.82287251e-01   9.68583161e-01   9.51056516e-01\n",
      "   9.29776486e-01   9.04827052e-01   8.76306680e-01   8.44327926e-01\n",
      "   8.09016994e-01   7.70513243e-01   7.28968627e-01   6.84547106e-01\n",
      "   6.37423990e-01   5.87785252e-01   5.35826795e-01   4.81753674e-01\n",
      "   4.25779292e-01   3.68124553e-01   3.09016994e-01   2.48689887e-01\n",
      "   1.87381315e-01   1.25333234e-01   6.27905195e-02   6.12323400e-17\n",
      "  -6.27905195e-02  -1.25333234e-01  -1.87381315e-01  -2.48689887e-01\n",
      "  -3.09016994e-01  -3.68124553e-01  -4.25779292e-01  -4.81753674e-01\n",
      "  -5.35826795e-01  -5.87785252e-01  -6.37423990e-01  -6.84547106e-01\n",
      "  -7.28968627e-01  -7.70513243e-01  -8.09016994e-01  -8.44327926e-01\n",
      "  -8.76306680e-01  -9.04827052e-01  -9.29776486e-01  -9.51056516e-01\n",
      "  -9.68583161e-01  -9.82287251e-01  -9.92114701e-01  -9.98026728e-01\n",
      "  -1.00000000e+00]\n"
     ]
    },
    {
     "data": {
      "text/plain": [
       "numpy.ndarray"
      ]
     },
     "execution_count": 21,
     "metadata": {},
     "output_type": "execute_result"
    }
   ],
   "source": [
    "# All mathematical operators (exp, log, sqrt, etc) or constants are included of the NumPy library. \n",
    "# They act on NumPy array and return NumPy arrays\n",
    "x = np.linspace(-np.pi, np.pi, 101)\n",
    "result = np.cos(x)\n",
    "print(result)\n",
    "type(result)"
   ]
  },
  {
   "cell_type": "markdown",
   "metadata": {
    "slideshow": {
     "slide_type": "slide"
    }
   },
   "source": [
    "# Slicing\n",
    "NumPy arrays have the same slicing semantics as Python list."
   ]
  },
  {
   "cell_type": "code",
   "execution_count": 22,
   "metadata": {
    "collapsed": false,
    "slideshow": {
     "slide_type": "fragment"
    }
   },
   "outputs": [
    {
     "data": {
      "text/plain": [
       "array([0, 1, 2, 3, 4, 5, 6, 7])"
      ]
     },
     "execution_count": 22,
     "metadata": {},
     "output_type": "execute_result"
    }
   ],
   "source": [
    "a = np.arange(8)\n",
    "a"
   ]
  },
  {
   "cell_type": "code",
   "execution_count": 23,
   "metadata": {
    "collapsed": false,
    "slideshow": {
     "slide_type": "fragment"
    }
   },
   "outputs": [
    {
     "data": {
      "text/plain": [
       "array([2, 3, 4, 5])"
      ]
     },
     "execution_count": 23,
     "metadata": {},
     "output_type": "execute_result"
    }
   ],
   "source": [
    "a[2:6] # from the third element to the 6th (excluded) by stride of 1 "
   ]
  },
  {
   "cell_type": "code",
   "execution_count": 24,
   "metadata": {
    "collapsed": false,
    "slideshow": {
     "slide_type": "fragment"
    }
   },
   "outputs": [
    {
     "data": {
      "text/plain": [
       "array([1, 4, 7])"
      ]
     },
     "execution_count": 24,
     "metadata": {},
     "output_type": "execute_result"
    }
   ],
   "source": [
    "a[1::3] # from the second element to the last by stride of 3"
   ]
  },
  {
   "cell_type": "markdown",
   "metadata": {
    "slideshow": {
     "slide_type": "subslide"
    }
   },
   "source": [
    "NumPy array can be N-dimensional, so you may slice along any and all axes. You can even use multiple axes. "
   ]
  },
  {
   "cell_type": "code",
   "execution_count": 25,
   "metadata": {
    "collapsed": false,
    "slideshow": {
     "slide_type": "fragment"
    }
   },
   "outputs": [
    {
     "name": "stdout",
     "output_type": "stream",
     "text": [
      "[[ 0  1  2  3]\n",
      " [ 4  5  6  7]\n",
      " [ 8  9 10 11]\n",
      " [12 13 14 15]]\n"
     ]
    }
   ],
   "source": [
    "# create a 4x4 matrix\n",
    "a = np.arange(16)\n",
    "a.shape = (4,4)\n",
    "print(a)"
   ]
  },
  {
   "cell_type": "code",
   "execution_count": 26,
   "metadata": {
    "collapsed": false,
    "slideshow": {
     "slide_type": "fragment"
    }
   },
   "outputs": [
    {
     "data": {
      "text/plain": [
       "array([4, 5, 6, 7])"
      ]
     },
     "execution_count": 26,
     "metadata": {},
     "output_type": "execute_result"
    }
   ],
   "source": [
    "# all the elements of the second row\n",
    "a[1,:]"
   ]
  },
  {
   "cell_type": "code",
   "execution_count": 27,
   "metadata": {
    "collapsed": false,
    "slideshow": {
     "slide_type": "fragment"
    }
   },
   "outputs": [
    {
     "data": {
      "text/plain": [
       "array([ 1,  5,  9, 13])"
      ]
     },
     "execution_count": 27,
     "metadata": {},
     "output_type": "execute_result"
    }
   ],
   "source": [
    "# all the elements of the second column\n",
    "a[:,1]"
   ]
  },
  {
   "cell_type": "code",
   "execution_count": 28,
   "metadata": {
    "collapsed": false,
    "slideshow": {
     "slide_type": "fragment"
    }
   },
   "outputs": [
    {
     "data": {
      "text/plain": [
       "array([[ 2,  3],\n",
       "       [10, 11]])"
      ]
     },
     "execution_count": 28,
     "metadata": {},
     "output_type": "execute_result"
    }
   ],
   "source": [
    "# the first and third rows and third to fourth column\n",
    "a[[0,2], 2:4]"
   ]
  },
  {
   "cell_type": "markdown",
   "metadata": {
    "slideshow": {
     "slide_type": "subslide"
    }
   },
   "source": [
    "__Pay attention:__ slides are _views_ of the original array. \n",
    "\n",
    "The data are to copied when a slide is made -> NumPy fast for slicing operations.\n",
    "\n",
    "But it means that modification of their elements are reflected back in the original array!"
   ]
  },
  {
   "cell_type": "code",
   "execution_count": 29,
   "metadata": {
    "collapsed": false,
    "slideshow": {
     "slide_type": "fragment"
    }
   },
   "outputs": [
    {
     "name": "stdout",
     "output_type": "stream",
     "text": [
      "[[ 0  1  2  3]\n",
      " [ 4  5  6  7]\n",
      " [ 8  9 10 11]\n",
      " [12 13 14 15]]\n",
      "[[ 0  1  2  3]\n",
      " [ 4 -1 -1  7]\n",
      " [ 8 -1 -1 11]\n",
      " [12 13 14 15]]\n"
     ]
    }
   ],
   "source": [
    "print(a)\n",
    "a[1:3,1:3] = -1\n",
    "print(a)"
   ]
  },
  {
   "cell_type": "markdown",
   "metadata": {
    "collapsed": true,
    "slideshow": {
     "slide_type": "slide"
    }
   },
   "source": [
    "# ndarray attributes and methods\n",
    "The `ndarray` type is - as everything in Python - an object, with several attributes: "
   ]
  },
  {
   "cell_type": "code",
   "execution_count": 30,
   "metadata": {
    "collapsed": false,
    "slideshow": {
     "slide_type": "fragment"
    }
   },
   "outputs": [
    {
     "data": {
      "text/plain": [
       "2"
      ]
     },
     "execution_count": 30,
     "metadata": {},
     "output_type": "execute_result"
    }
   ],
   "source": [
    "# number of dimensions (int)\n",
    "a.ndim"
   ]
  },
  {
   "cell_type": "code",
   "execution_count": 31,
   "metadata": {
    "collapsed": false,
    "slideshow": {
     "slide_type": "fragment"
    }
   },
   "outputs": [
    {
     "data": {
      "text/plain": [
       "(4, 4)"
      ]
     },
     "execution_count": 31,
     "metadata": {},
     "output_type": "execute_result"
    }
   ],
   "source": [
    "# Tuple of integers that represents the rank along each dimensions\n",
    "a.shape"
   ]
  },
  {
   "cell_type": "code",
   "execution_count": 32,
   "metadata": {
    "collapsed": false,
    "slideshow": {
     "slide_type": "fragment"
    }
   },
   "outputs": [
    {
     "data": {
      "text/plain": [
       "16"
      ]
     },
     "execution_count": 32,
     "metadata": {},
     "output_type": "execute_result"
    }
   ],
   "source": [
    "# total number of elements (int)\n",
    "a.size"
   ]
  },
  {
   "cell_type": "markdown",
   "metadata": {
    "slideshow": {
     "slide_type": "subslide"
    }
   },
   "source": [
    "As well as several methods. "
   ]
  },
  {
   "cell_type": "code",
   "execution_count": 33,
   "metadata": {
    "collapsed": false,
    "slideshow": {
     "slide_type": "subslide"
    }
   },
   "outputs": [
    {
     "data": {
      "text/plain": [
       "array([[ 0,  1,  2,  3,  4, -1, -1,  7],\n",
       "       [ 8, -1, -1, 11, 12, 13, 14, 15]])"
      ]
     },
     "execution_count": 33,
     "metadata": {},
     "output_type": "execute_result"
    }
   ],
   "source": [
    "a.reshape((2,8))"
   ]
  },
  {
   "cell_type": "code",
   "execution_count": 34,
   "metadata": {
    "collapsed": false,
    "slideshow": {
     "slide_type": "fragment"
    }
   },
   "outputs": [
    {
     "data": {
      "text/plain": [
       "2"
      ]
     },
     "execution_count": 34,
     "metadata": {},
     "output_type": "execute_result"
    }
   ],
   "source": [
    "b=np.array([1,4,70,2,5,8])\n",
    "# get the indice where the maximum value is \n",
    "b.argmax()"
   ]
  },
  {
   "cell_type": "code",
   "execution_count": 35,
   "metadata": {
    "collapsed": false,
    "slideshow": {
     "slide_type": "fragment"
    }
   },
   "outputs": [
    {
     "data": {
      "text/plain": [
       "15"
      ]
     },
     "execution_count": 35,
     "metadata": {},
     "output_type": "execute_result"
    }
   ],
   "source": [
    "a.max()"
   ]
  },
  {
   "cell_type": "code",
   "execution_count": 36,
   "metadata": {
    "collapsed": false,
    "slideshow": {
     "slide_type": "fragment"
    }
   },
   "outputs": [
    {
     "data": {
      "text/plain": [
       "array([[ 56,  36,  39,  74],\n",
       "       [ 72,  97, 108,  99],\n",
       "       [120, 153, 172, 171],\n",
       "       [344, 180, 207, 506]])"
      ]
     },
     "execution_count": 36,
     "metadata": {},
     "output_type": "execute_result"
    }
   ],
   "source": [
    "# matrix multiplication \n",
    "a.dot(a)"
   ]
  },
  {
   "cell_type": "code",
   "execution_count": 37,
   "metadata": {
    "collapsed": false,
    "slideshow": {
     "slide_type": "fragment"
    }
   },
   "outputs": [
    {
     "data": {
      "text/plain": [
       "86"
      ]
     },
     "execution_count": 37,
     "metadata": {},
     "output_type": "execute_result"
    }
   ],
   "source": [
    "a.sum()"
   ]
  },
  {
   "cell_type": "markdown",
   "metadata": {
    "slideshow": {
     "slide_type": "subslide"
    }
   },
   "source": [
    "__Pay attention__: \n",
    " \n",
    " * Operations that involve attributes or methods of `ndarray` occur _in-place_. While functions that take an `ndarray` as an argument return a modified copy.\n",
    " * With NumPy `ndarray`, a=b creates a new _reference_ to b, not a _copy_. \n",
    " "
   ]
  },
  {
   "cell_type": "code",
   "execution_count": 38,
   "metadata": {
    "collapsed": false,
    "slideshow": {
     "slide_type": "fragment"
    }
   },
   "outputs": [
    {
     "name": "stdout",
     "output_type": "stream",
     "text": [
      "[[10 10 10 10]\n",
      " [ 4 -1 -1  7]\n",
      " [ 8 -1 -1 11]\n",
      " [12 13 14 15]]\n"
     ]
    }
   ],
   "source": [
    "b=a # b is a new reference to a.\n",
    "b[0]=10\n",
    "print(b)"
   ]
  },
  {
   "cell_type": "code",
   "execution_count": 39,
   "metadata": {
    "collapsed": false,
    "slideshow": {
     "slide_type": "fragment"
    }
   },
   "outputs": [
    {
     "name": "stdout",
     "output_type": "stream",
     "text": [
      "[[10 10 10 10]\n",
      " [ 4 -1 -1  7]\n",
      " [ 8 -1 -1 11]\n",
      " [12 13 14 15]]\n"
     ]
    }
   ],
   "source": [
    "# Because b refers to a, modifyng b also modify a !\n",
    "print(a)"
   ]
  },
  {
   "cell_type": "code",
   "execution_count": 40,
   "metadata": {
    "collapsed": false,
    "slideshow": {
     "slide_type": "fragment"
    }
   },
   "outputs": [
    {
     "name": "stdout",
     "output_type": "stream",
     "text": [
      "[[20 20 20 20]\n",
      " [ 4 -1 -1  7]\n",
      " [ 8 -1 -1 11]\n",
      " [12 13 14 15]]\n",
      "[[10 10 10 10]\n",
      " [ 4 -1 -1  7]\n",
      " [ 8 -1 -1 11]\n",
      " [12 13 14 15]]\n"
     ]
    }
   ],
   "source": [
    "b=a.copy() \n",
    "b[0] = 20\n",
    "print(b)\n",
    "print(a) # a has not been modified."
   ]
  },
  {
   "cell_type": "markdown",
   "metadata": {
    "slideshow": {
     "slide_type": "slide"
    }
   },
   "source": [
    "# Broadcasting\n",
    "Broadcasting rules describe how arrays with different dimensions and/or shapes can be used for computations.\n",
    "\n",
    "The general rule is that: 2 dimensions are compatible when they are equal or when one of them is 1."
   ]
  },
  {
   "cell_type": "markdown",
   "metadata": {
    "slideshow": {
     "slide_type": "subslide"
    }
   },
   "source": [
    "![NumPy Broadcasting image 1](http://www.astroml.org/_images/fig_broadcast_visual_1.png)"
   ]
  },
  {
   "cell_type": "markdown",
   "metadata": {
    "slideshow": {
     "slide_type": "subslide"
    }
   },
   "source": [
    "![NumPy Broadcasting Image 2](https://scipy-lectures.github.io/_images/numpy_broadcasting.png)"
   ]
  },
  {
   "cell_type": "markdown",
   "metadata": {
    "slideshow": {
     "slide_type": "subslide"
    }
   },
   "source": [
    "As an example, we calculate the outer product of two array, i.e.:\n",
    "$$\n",
    "    \\mathbf{u} \\otimes \\mathbf{v} = \\mathbf{u} \\mathbf{v}^\\mathrm{T} = \\begin{bmatrix}u_1 \\\\ u_2 \\\\ u_3 \\\\ u_4\\end{bmatrix} \\begin{bmatrix}v_1 & v_2 & v_3\\end{bmatrix} = \\begin{bmatrix}u_1v_1 & u_1v_2 & u_1v_3 \\\\ u_2v_1 & u_2v_2 & u_2v_3 \\\\ u_3v_1 & u_3v_2 & u_3v_3 \\\\ u_4v_1 & u_4v_2 & u_4v_3\\end{bmatrix}. $$"
   ]
  },
  {
   "cell_type": "code",
   "execution_count": 41,
   "metadata": {
    "collapsed": false,
    "slideshow": {
     "slide_type": "fragment"
    }
   },
   "outputs": [
    {
     "data": {
      "text/plain": [
       "array([[0, 0, 0],\n",
       "       [0, 1, 2],\n",
       "       [0, 2, 4],\n",
       "       [0, 3, 6]])"
      ]
     },
     "execution_count": 41,
     "metadata": {},
     "output_type": "execute_result"
    }
   ],
   "source": [
    "x = np.arange(4) # x.shape is (4,)\n",
    "y = np.arange(3)  # y.shape is (3,)\n",
    "# outer product\n",
    "x.reshape(4,1) * y  # also possible : x[:, np.newaxis] * y \n",
    "                    # newaxis index operator inserts a new axis into x\n",
    "                    # making it a two-dimensional 4x1 array. "
   ]
  },
  {
   "cell_type": "markdown",
   "metadata": {
    "collapsed": true,
    "slideshow": {
     "slide_type": "slide"
    }
   },
   "source": [
    "# Fancy Indexing, masking\n",
    "Slicing is great when indices follow a regulary pattern. \n",
    "\n",
    "But when one want arbitrary indexes, this is known as _fancy indexing_: the index is an integer array or a list of integer.\n",
    "\n",
    "This requires a _copy_ of the original array (so a performance cost)"
   ]
  },
  {
   "cell_type": "code",
   "execution_count": 42,
   "metadata": {
    "collapsed": false,
    "slideshow": {
     "slide_type": "fragment"
    }
   },
   "outputs": [
    {
     "name": "stdout",
     "output_type": "stream",
     "text": [
      "[0 1 2 3 4 5 6 7 8 9]\n",
      "[3 1 6]\n"
     ]
    }
   ],
   "source": [
    "a = np.arange(10)\n",
    "print(a)\n",
    "\n",
    "index = [3,1,6]\n",
    "print(a[index])"
   ]
  },
  {
   "cell_type": "markdown",
   "metadata": {
    "slideshow": {
     "slide_type": "subslide"
    }
   },
   "source": [
    "_Masking_ is like fancy indexing, except that it _must_ be a Boolean array (not a Python list!). \n",
    "\n",
    "As with fancy indexing, the application of a mask to an array will produce a _copy_ of the original data. "
   ]
  },
  {
   "cell_type": "code",
   "execution_count": 43,
   "metadata": {
    "collapsed": false,
    "slideshow": {
     "slide_type": "fragment"
    }
   },
   "outputs": [
    {
     "name": "stderr",
     "output_type": "stream",
     "text": [
      "/usr/lib/python2.7/site-packages/ipykernel/__main__.py:2: VisibleDeprecationWarning: boolean index did not match indexed array along dimension 0; dimension is 10 but corresponding boolean dimension is 6\n",
      "  from ipykernel import kernelapp as app\n"
     ]
    },
    {
     "data": {
      "text/plain": [
       "array([1, 3, 4])"
      ]
     },
     "execution_count": 43,
     "metadata": {},
     "output_type": "execute_result"
    }
   ],
   "source": [
    "mask = np.array([0,1,0,1,1,0], dtype=bool)\n",
    "a[mask]\n",
    "# a[[0,1,0,1,1,0]] would not work, as one could expect from Matlab behaviour ! "
   ]
  },
  {
   "cell_type": "code",
   "execution_count": 44,
   "metadata": {
    "collapsed": false,
    "slideshow": {
     "slide_type": "fragment"
    }
   },
   "outputs": [
    {
     "data": {
      "text/plain": [
       "array([6, 7, 8, 9])"
      ]
     },
     "execution_count": 44,
     "metadata": {},
     "output_type": "execute_result"
    }
   ],
   "source": [
    "# The mask can be generated in the indexing operation itself\n",
    "a[a > 5]"
   ]
  },
  {
   "cell_type": "code",
   "execution_count": 45,
   "metadata": {
    "collapsed": false,
    "slideshow": {
     "slide_type": "fragment"
    }
   },
   "outputs": [
    {
     "data": {
      "text/plain": [
       "array([6, 7, 8])"
      ]
     },
     "execution_count": 45,
     "metadata": {},
     "output_type": "execute_result"
    }
   ],
   "source": [
    "# It is also possible to combine masks with operators\n",
    "a[(a>5) & (a<=8)]"
   ]
  },
  {
   "cell_type": "code",
   "execution_count": 46,
   "metadata": {
    "collapsed": false,
    "slideshow": {
     "slide_type": "fragment"
    }
   },
   "outputs": [
    {
     "data": {
      "text/plain": [
       "(array([6, 7, 8, 9]),)"
      ]
     },
     "execution_count": 46,
     "metadata": {},
     "output_type": "execute_result"
    }
   ],
   "source": [
    "# the NumPy where() function takes a Boolean array \n",
    "# and return a tuple of the indices where the mask is True.\n",
    "np.where(a > 5)"
   ]
  }
 ],
 "metadata": {
  "celltoolbar": "Slideshow",
  "kernelspec": {
   "display_name": "Python 2",
   "language": "python",
   "name": "python2"
  },
  "language_info": {
   "codemirror_mode": {
    "name": "ipython",
    "version": 2
   },
   "file_extension": ".py",
   "mimetype": "text/x-python",
   "name": "python",
   "nbconvert_exporter": "python",
   "pygments_lexer": "ipython2",
   "version": "2.7.8"
  }
 },
 "nbformat": 4,
 "nbformat_minor": 0
}
