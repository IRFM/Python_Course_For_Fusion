{
 "cells": [
  {
   "cell_type": "markdown",
   "metadata": {},
   "source": [
    "# Fusion Data"
   ]
  },
  {
   "cell_type": "markdown",
   "metadata": {},
   "source": [
    "## PyWED"
   ]
  },
  {
   "cell_type": "markdown",
   "metadata": {},
   "source": [
    "PyWED = Python for West Experimental Data = TSlib en Python"
   ]
  },
  {
   "cell_type": "code",
   "execution_count": 6,
   "metadata": {
    "collapsed": true
   },
   "outputs": [],
   "source": [
    "import pywed "
   ]
  },
  {
   "cell_type": "code",
   "execution_count": 7,
   "metadata": {
    "collapsed": false
   },
   "outputs": [
    {
     "data": {
      "text/plain": [
       "['PyWEDException',\n",
       " 'TSDescDiag',\n",
       " 'TSDescDon',\n",
       " 'TSDescDon_choc',\n",
       " 'TSDescTrait',\n",
       " 'TSExist',\n",
       " 'TSExist_gen',\n",
       " 'TSGetInfo',\n",
       " 'TSGrpRg',\n",
       " 'TSGrpX',\n",
       " 'TSInitOccTrait',\n",
       " 'TSLDiag',\n",
       " 'TSLSig',\n",
       " 'TSLTR',\n",
       " 'TSLTrait',\n",
       " 'TSListOccTrait',\n",
       " 'TSRDC',\n",
       " 'TSRSigRg',\n",
       " 'TSRSigX',\n",
       " 'TSRfile',\n",
       " 'TSRqParm',\n",
       " 'TSRqdecl',\n",
       " 'TSRqentete_sig',\n",
       " 'TSUpdateOccTrait',\n",
       " 'TSWCertif',\n",
       " 'TSWfile',\n",
       " 'TSWrite',\n",
       " 'TSWriteParam',\n",
       " 'TSXtrRg',\n",
       " 'TSdescObjet',\n",
       " 'TSlistObjet',\n",
       " 'TXtrX',\n",
       " '__builtins__',\n",
       " '__cached__',\n",
       " '__doc__',\n",
       " '__file__',\n",
       " '__loader__',\n",
       " '__name__',\n",
       " '__package__',\n",
       " '__path__',\n",
       " '__spec__',\n",
       " '__version__',\n",
       " 'ctypes',\n",
       " 'logging',\n",
       " 'os',\n",
       " 'pywed',\n",
       " 're',\n",
       " 'readDC',\n",
       " 'socket',\n",
       " 'struct',\n",
       " 'sys',\n",
       " 'tsAuthorNameSize',\n",
       " 'tsAuthorsNamesSize',\n",
       " 'tsBMCommon',\n",
       " 'tsBase',\n",
       " 'tsBaseException',\n",
       " 'tsCom',\n",
       " 'tsCom_Recv',\n",
       " 'tsCom_RecvFloat',\n",
       " 'tsCom_RecvInt',\n",
       " 'tsCom_RecvStr',\n",
       " 'tsCom_Send',\n",
       " 'tsCom_begin',\n",
       " 'tsCom_end',\n",
       " 'tsCommentSize',\n",
       " 'tsCommon',\n",
       " 'tsCompMinSize',\n",
       " 'tsCompShotBase',\n",
       " 'tsCompShotDecServer',\n",
       " 'tsCompShotTest',\n",
       " 'tsCoordNameSize',\n",
       " 'tsDCDateSize',\n",
       " 'tsData',\n",
       " 'tsDataNameSize',\n",
       " 'tsDataStruct',\n",
       " 'tsDataTypeChar',\n",
       " 'tsDataTypeFloatDouble',\n",
       " 'tsDataTypeFloatSimple',\n",
       " 'tsDataTypeLong',\n",
       " 'tsDataTypeShort',\n",
       " 'tsDataTypeUnsigned',\n",
       " 'tsDateSize',\n",
       " 'tsDecodeError',\n",
       " 'tsDecompress',\n",
       " 'tsDefaultPort',\n",
       " 'tsDesc',\n",
       " 'tsDescCoord',\n",
       " 'tsDescData',\n",
       " 'tsDescDiag',\n",
       " 'tsDescTrait',\n",
       " 'tsDiagNameSize',\n",
       " 'tsDirNameSize',\n",
       " 'tsDoCompress',\n",
       " 'tsEndianess',\n",
       " 'tsEntryNameSize',\n",
       " 'tsEntryValueSize',\n",
       " 'tsEx',\n",
       " 'tsExClientError',\n",
       " 'tsExQueryError',\n",
       " 'tsFlagBytes',\n",
       " 'tsFlagCompress',\n",
       " 'tsFlagCopy',\n",
       " 'tsFmtByte',\n",
       " 'tsFmtCadran',\n",
       " 'tsFmtDeclCond',\n",
       " 'tsFmtDeclSeq',\n",
       " 'tsFmtExternalEvent',\n",
       " 'tsFmtFAChrono',\n",
       " 'tsFmtFChrono',\n",
       " 'tsFmtFCommon',\n",
       " 'tsFmtFDesc',\n",
       " 'tsFmtFTopMSDiv',\n",
       " 'tsFmtFloatChar64',\n",
       " 'tsFmtFunction',\n",
       " 'tsFmtGraph',\n",
       " 'tsFmtIit',\n",
       " 'tsFmtInt16',\n",
       " 'tsFmtInt2Char64',\n",
       " 'tsFmtInt32',\n",
       " 'tsFmtIntReal32',\n",
       " 'tsFmtLDiag',\n",
       " 'tsFmtLink',\n",
       " 'tsFmtReal16',\n",
       " 'tsFmtReal32',\n",
       " 'tsFmtRegister',\n",
       " 'tsFmtSernam',\n",
       " 'tsFmtSignal',\n",
       " 'tsFmtStratDiag',\n",
       " 'tsFmtStratDriver',\n",
       " 'tsFmtString12',\n",
       " 'tsFmtTDecode',\n",
       " 'tsFmtTEncode',\n",
       " 'tsFmtTTrigger',\n",
       " 'tsFmtTTrigger2',\n",
       " 'tsFmtTabSeq',\n",
       " 'tsFmtText',\n",
       " 'tsFmtTwinInt16',\n",
       " 'tsFmtTwinReal32',\n",
       " 'tsFmtWay',\n",
       " 'tsFmtWayGain',\n",
       " 'tsFmtWaySeq',\n",
       " 'tsFormatSize',\n",
       " 'tsFunc',\n",
       " 'tsFunc_tsarchive',\n",
       " 'tsFunc_tschangeoccur',\n",
       " 'tsFunc_tscharger',\n",
       " 'tsFunc_tsdateduchoc',\n",
       " 'tsFunc_tsdescdiag',\n",
       " 'tsFunc_tsdescdon',\n",
       " 'tsFunc_tsdescdon_choc',\n",
       " 'tsFunc_tsdescobjet',\n",
       " 'tsFunc_tsdesctrait',\n",
       " 'tsFunc_tsenregistrable',\n",
       " 'tsFunc_tsexist',\n",
       " 'tsFunc_tsexist_gen',\n",
       " 'tsFunc_tsgetinfo',\n",
       " 'tsFunc_tsgrpdeclenche',\n",
       " 'tsFunc_tsgrprg',\n",
       " 'tsFunc_tsgrpx',\n",
       " 'tsFunc_tsinitocctrait',\n",
       " 'tsFunc_tslgdiag',\n",
       " 'tsFunc_tslistobjet',\n",
       " 'tsFunc_tslistocctrait',\n",
       " 'tsFunc_tsltr',\n",
       " 'tsFunc_tsltrait',\n",
       " 'tsFunc_tspreparetele',\n",
       " 'tsFunc_tsptele',\n",
       " 'tsFunc_tsrdc',\n",
       " 'tsFunc_tsrfile',\n",
       " 'tsFunc_tsrqParm',\n",
       " 'tsFunc_tsrqdecl',\n",
       " 'tsFunc_tsrqentete_par',\n",
       " 'tsFunc_tsrqentete_sig',\n",
       " 'tsFunc_tsrqetat',\n",
       " 'tsFunc_tsrqldiag',\n",
       " 'tsFunc_tsrqlsig',\n",
       " 'tsFunc_tsrqparm',\n",
       " 'tsFunc_tsrqstop',\n",
       " 'tsFunc_tsrqt',\n",
       " 'tsFunc_tsrqtdata',\n",
       " 'tsFunc_tsrsigrg',\n",
       " 'tsFunc_tsrsigx',\n",
       " 'tsFunc_tssigdeclenche',\n",
       " 'tsFunc_tstele',\n",
       " 'tsFunc_tsupdateocctrait',\n",
       " 'tsFunc_tswcertif',\n",
       " 'tsFunc_tswdb',\n",
       " 'tsFunc_tswfile',\n",
       " 'tsFunc_tswparm',\n",
       " 'tsFunc_tswrite',\n",
       " 'tsFunc_tsxtrdeclenche',\n",
       " 'tsFunc_tsxtrrg',\n",
       " 'tsFunc_tsxtrx',\n",
       " 'tsGetClientCode',\n",
       " 'tsGetCodeFunc',\n",
       " 'tsHost1',\n",
       " 'tsHost2',\n",
       " 'tsIgnitron',\n",
       " 'tsIndexMax',\n",
       " 'tsInterpretArray',\n",
       " 'tsLib',\n",
       " 'tsLocalizationNameSize',\n",
       " 'tsMTUSpecial',\n",
       " 'tsMachineNameSize',\n",
       " 'tsMat',\n",
       " 'tsMatException',\n",
       " 'tsMaxConnectTries',\n",
       " 'tsMaxFunctNumber',\n",
       " 'tsMeasureMax',\n",
       " 'tsMultCoords',\n",
       " 'tsObject',\n",
       " 'tsPREPASize',\n",
       " 'tsParamCodeMax',\n",
       " 'tsPreTreatmentSize',\n",
       " 'tsPrepareBuffer',\n",
       " 'tsPrintServerErrors',\n",
       " 'tsProducerNameSize',\n",
       " 'tsProtocol',\n",
       " 'tsRDPrologue1',\n",
       " 'tsRDPrologue2',\n",
       " 'tsRDReadMultCoords',\n",
       " 'tsRDReadNoCoords',\n",
       " 'tsRDReadUniqCoords',\n",
       " 'tsRankMax',\n",
       " 'tsReadCertifs',\n",
       " 'tsReadData',\n",
       " 'tsRecvAndDecodeString',\n",
       " 'tsRecvArray',\n",
       " 'tsRecvCoords',\n",
       " 'tsRecvDataNames',\n",
       " 'tsRecvDescCoords',\n",
       " 'tsRecvDescData',\n",
       " 'tsRecvDescDiag',\n",
       " 'tsRecvDescTrait',\n",
       " 'tsRecvEntries',\n",
       " 'tsRecvUnits',\n",
       " 'tsSendClientQuery',\n",
       " 'tsSendEntries',\n",
       " 'tsSeqContinue',\n",
       " 'tsSeqEnd',\n",
       " 'tsSerializedStruct',\n",
       " 'tsServerErrors',\n",
       " 'tsServerFormatSize',\n",
       " 'tsServiceName',\n",
       " 'tsSignedInt',\n",
       " 'tsSize_AttribName',\n",
       " 'tsSize_AuthorName',\n",
       " 'tsSize_CType',\n",
       " 'tsSize_CardName',\n",
       " 'tsSize_Comment',\n",
       " 'tsSize_CoordName',\n",
       " 'tsSize_DataName',\n",
       " 'tsSize_DiagnosisType',\n",
       " 'tsSize_Dir',\n",
       " 'tsSize_EvenetName',\n",
       " 'tsSize_Format',\n",
       " 'tsSize_ObjectComment',\n",
       " 'tsSize_ObjectName',\n",
       " 'tsSize_ParamComment',\n",
       " 'tsSize_ParamName',\n",
       " 'tsSize_ProducerName',\n",
       " 'tsSize_RefName',\n",
       " 'tsSize_RowName',\n",
       " 'tsSize_SetName',\n",
       " 'tsSize_SignalColor',\n",
       " 'tsSize_StrategyName',\n",
       " 'tsSize_TableName',\n",
       " 'tsSize_Text',\n",
       " 'tsSize_Title',\n",
       " 'tsSize_TriggerName',\n",
       " 'tsSize_Unit',\n",
       " 'tsSize_UnixUserName',\n",
       " 'tsSize_UserName',\n",
       " 'tsSize_ViewLabel',\n",
       " 'tsSize_ViewName',\n",
       " 'tsSizeofChar',\n",
       " 'tsSizeofDouble',\n",
       " 'tsSizeofFloat',\n",
       " 'tsSizeofInt',\n",
       " 'tsSizeofLong',\n",
       " 'tsSizeofLongInt',\n",
       " 'tsSizeofShort',\n",
       " 'tsTimeSize',\n",
       " 'tsTreatNameSize',\n",
       " 'tsTrigg',\n",
       " 'tsTriggerNameSize',\n",
       " 'tsTypeObjSize',\n",
       " 'tsUniqCoords',\n",
       " 'tsUnitNameSize',\n",
       " 'tsVAChrono',\n",
       " 'tsVCadran',\n",
       " 'tsVChar12',\n",
       " 'tsVChrono',\n",
       " 'tsVCommon',\n",
       " 'tsVCopyStructFields',\n",
       " 'tsVDeclCond',\n",
       " 'tsVDeclSeq',\n",
       " 'tsVDesc',\n",
       " 'tsVExtEvnt',\n",
       " 'tsVFloat4',\n",
       " 'tsVFloat4Char64',\n",
       " 'tsVFloat4Float4',\n",
       " 'tsVFloat8',\n",
       " 'tsVFunction',\n",
       " 'tsVGraph',\n",
       " 'tsVInt1',\n",
       " 'tsVInt2',\n",
       " 'tsVInt2Char64',\n",
       " 'tsVInt2Int2',\n",
       " 'tsVInt4',\n",
       " 'tsVInt4Float4',\n",
       " 'tsVLien',\n",
       " 'tsVListDiag',\n",
       " 'tsVRegister',\n",
       " 'tsVSernam',\n",
       " 'tsVSignal',\n",
       " 'tsVStratDiag',\n",
       " 'tsVStratPil',\n",
       " 'tsVTDecode',\n",
       " 'tsVTEncode',\n",
       " 'tsVTIt',\n",
       " 'tsVTabSeq',\n",
       " 'tsVText',\n",
       " 'tsVTopMsDiv',\n",
       " 'tsVTrigger',\n",
       " 'tsVTrigger2',\n",
       " 'tsVWay',\n",
       " 'tsVWayGain',\n",
       " 'tsVWaySeq',\n",
       " 'tsWriteData',\n",
       " 'tsbase',\n",
       " 'tsbaseNX',\n",
       " 'tsmat',\n",
       " 'tsmatNX',\n",
       " 'typfor']"
      ]
     },
     "execution_count": 7,
     "metadata": {},
     "output_type": "execute_result"
    }
   ],
   "source": [
    "dir(pywed)"
   ]
  },
  {
   "cell_type": "code",
   "execution_count": 8,
   "metadata": {
    "collapsed": true
   },
   "outputs": [],
   "source": [
    "ip,t,infos=pywed.tsbase(47979, 'sipmes')"
   ]
  },
  {
   "cell_type": "code",
   "execution_count": 5,
   "metadata": {
    "collapsed": false
   },
   "outputs": [
    {
     "data": {
      "text/plain": [
       "[[], 40, '08/07/2011', '17:54:49', 'mcs', 'MA', '', 'SIPMES', 'B']"
      ]
     },
     "execution_count": 5,
     "metadata": {},
     "output_type": "execute_result"
    }
   ],
   "source": [
    "infos"
   ]
  },
  {
   "cell_type": "markdown",
   "metadata": {
    "collapsed": false
   },
   "source": [
    "## IRFMtb\n",
    "Toolbox IRFM"
   ]
  },
  {
   "cell_type": "code",
   "execution_count": 1,
   "metadata": {
    "collapsed": true
   },
   "outputs": [],
   "source": [
    "import IRFMtb"
   ]
  },
  {
   "cell_type": "code",
   "execution_count": 9,
   "metadata": {
    "collapsed": false
   },
   "outputs": [
    {
     "data": {
      "text/plain": [
       "['CWS',\n",
       " 'IRFMtb',\n",
       " '__builtins__',\n",
       " '__cached__',\n",
       " '__doc__',\n",
       " '__file__',\n",
       " '__loader__',\n",
       " '__name__',\n",
       " '__package__',\n",
       " '__path__',\n",
       " '__spec__',\n",
       " '__version__',\n",
       " 'access',\n",
       " 'car4',\n",
       " 'clearWorkSpace',\n",
       " 'cround',\n",
       " 'cspline',\n",
       " 'ctable1',\n",
       " 'datetime',\n",
       " 'divers',\n",
       " 'entier4',\n",
       " 'getArrayBounds',\n",
       " 'getArrayRange',\n",
       " 'getFloat',\n",
       " 'getInputType',\n",
       " 'getInt',\n",
       " 'getStr',\n",
       " 'ifloor',\n",
       " 'ifloor1',\n",
       " 'initocctrait',\n",
       " 'iround',\n",
       " 'isempty',\n",
       " 'math',\n",
       " 'nbwrite',\n",
       " 'np',\n",
       " 'os',\n",
       " 'pywed',\n",
       " 'reel4',\n",
       " 'resizeResultTuple',\n",
       " 'struct',\n",
       " 'sys',\n",
       " 'tbCommentSize',\n",
       " 'tbCommon',\n",
       " 'tbDateSize',\n",
       " 'tbDirectorySize',\n",
       " 'tbEx',\n",
       " 'tbLength',\n",
       " 'tbShape',\n",
       " 'tbx',\n",
       " 'toolboxException',\n",
       " 'tsample',\n",
       " 'tsbase_cert',\n",
       " 'tsdernier_choc',\n",
       " 'tsinitocctrait',\n",
       " 'tsoccur',\n",
       " 'tsrfile',\n",
       " 'tsupdateocctrait',\n",
       " 'tswfile',\n",
       " 'updateocctrait']"
      ]
     },
     "execution_count": 9,
     "metadata": {},
     "output_type": "execute_result"
    }
   ],
   "source": [
    "dir(IRFMtb)"
   ]
  },
  {
   "cell_type": "code",
   "execution_count": 12,
   "metadata": {
    "collapsed": false
   },
   "outputs": [
    {
     "data": {
      "text/plain": [
       "48451"
      ]
     },
     "execution_count": 12,
     "metadata": {},
     "output_type": "execute_result"
    }
   ],
   "source": [
    "IRFMtb.tsdernier_choc()"
   ]
  },
  {
   "cell_type": "markdown",
   "metadata": {},
   "source": [
    "## MDSplus"
   ]
  },
  {
   "cell_type": "code",
   "execution_count": 15,
   "metadata": {
    "collapsed": true
   },
   "outputs": [],
   "source": [
    "# Import the MDSplus package as the 'mds' shorcut\n",
    "import MDSplus as mds"
   ]
  },
  {
   "cell_type": "markdown",
   "metadata": {},
   "source": [
    "### JET"
   ]
  },
  {
   "cell_type": "code",
   "execution_count": 17,
   "metadata": {
    "collapsed": false
   },
   "outputs": [
    {
     "ename": "Exception",
     "evalue": "Error connecting to mdsplus.jet.efda.org",
     "output_type": "error",
     "traceback": [
      "\u001b[1;31m---------------------------------------------------------------------------\u001b[0m",
      "\u001b[1;31mException\u001b[0m                                 Traceback (most recent call last)",
      "\u001b[1;32m<ipython-input-17-ddd09ef39405>\u001b[0m in \u001b[0;36m<module>\u001b[1;34m()\u001b[0m\n\u001b[0;32m      1\u001b[0m \u001b[1;31m# only works from know places, such as inside IRFM\u001b[0m\u001b[1;33m\u001b[0m\u001b[1;33m\u001b[0m\u001b[0m\n\u001b[1;32m----> 2\u001b[1;33m \u001b[0mconx\u001b[0m \u001b[1;33m=\u001b[0m \u001b[0mmds\u001b[0m\u001b[1;33m.\u001b[0m\u001b[0mConnection\u001b[0m\u001b[1;33m(\u001b[0m\u001b[1;34m'mdsplus.jet.efda.org'\u001b[0m\u001b[1;33m)\u001b[0m\u001b[1;33m\u001b[0m\u001b[0m\n\u001b[0m",
      "\u001b[1;32mC:\\Users\\JH218595\\Documents\\WinPython-64bit-3.4.3.5\\python-3.4.3.amd64\\lib\\site-packages\\mdsplus-alpha_7.0.147-py3.4.egg\\MDSplus\\connection.py\u001b[0m in \u001b[0;36m__init__\u001b[1;34m(self, hostspec)\u001b[0m\n\u001b[0;32m    140\u001b[0m       \u001b[0mself\u001b[0m\u001b[1;33m.\u001b[0m\u001b[0msocket\u001b[0m\u001b[1;33m=\u001b[0m\u001b[0mConnectToMds\u001b[0m\u001b[1;33m(\u001b[0m\u001b[0mhostspec\u001b[0m\u001b[1;33m.\u001b[0m\u001b[0mencode\u001b[0m\u001b[1;33m(\u001b[0m\u001b[1;33m)\u001b[0m\u001b[1;33m)\u001b[0m\u001b[1;33m\u001b[0m\u001b[0m\n\u001b[0;32m    141\u001b[0m       \u001b[1;32mif\u001b[0m \u001b[0mself\u001b[0m\u001b[1;33m.\u001b[0m\u001b[0msocket\u001b[0m \u001b[1;33m==\u001b[0m \u001b[1;33m-\u001b[0m\u001b[1;36m1\u001b[0m\u001b[1;33m:\u001b[0m\u001b[1;33m\u001b[0m\u001b[0m\n\u001b[1;32m--> 142\u001b[1;33m         \u001b[1;32mraise\u001b[0m \u001b[0mException\u001b[0m\u001b[1;33m(\u001b[0m\u001b[1;34m\"Error connecting to %s\"\u001b[0m \u001b[1;33m%\u001b[0m \u001b[1;33m(\u001b[0m\u001b[0mhostspec\u001b[0m\u001b[1;33m,\u001b[0m\u001b[1;33m)\u001b[0m\u001b[1;33m)\u001b[0m\u001b[1;33m\u001b[0m\u001b[0m\n\u001b[0m\u001b[0;32m    143\u001b[0m       \u001b[0mself\u001b[0m\u001b[1;33m.\u001b[0m\u001b[0mhostspec\u001b[0m\u001b[1;33m=\u001b[0m\u001b[0mhostspec\u001b[0m\u001b[1;33m\u001b[0m\u001b[0m\n\u001b[0;32m    144\u001b[0m \u001b[1;33m\u001b[0m\u001b[0m\n",
      "\u001b[1;31mException\u001b[0m: Error connecting to mdsplus.jet.efda.org"
     ]
    }
   ],
   "source": [
    "# only works from know places, such as inside IRFM \n",
    "conx = mds.Connection('mdsplus.jet.efda.org')"
   ]
  },
  {
   "cell_type": "code",
   "execution_count": null,
   "metadata": {
    "collapsed": true
   },
   "outputs": [],
   "source": [
    "Shot = 80812\n",
    "toffset=40 # plasma breakdown offset time\n",
    "\n",
    "# Works with PPF signals\n",
    "y = conx.get('_sigi=jet(\\\"ppf/magn/ipla\\\", {})'.format(Shot))\n",
    "t = conx.get('dim_of(_sigi)')\n",
    "\n",
    "bb=conx.get('_sigb=jet(\\\"ppf/pt5P/pen1\\\", {})'.format(Shot))\n",
    "tbb = conx.get('dim_of(_sigb)')\n",
    "\n",
    "# Also works with JPF signals\n",
    "barb=conx.get('_sigbarb=jet(\\\"jpf/DF/T5-PEN2<PRS\\\", {})'.format(Shot))\n",
    "tbarb= conx.get('dim_of(_sigbarb)')"
   ]
  },
  {
   "cell_type": "code",
   "execution_count": null,
   "metadata": {
    "collapsed": true
   },
   "outputs": [],
   "source": [
    "ax1=subplot(311)\n",
    "plot(t-toffset, abs(y)/1e6, lw=2, color='r')\n",
    "ylim(ymax=2.5) # it is possible to set only one parameter\n",
    "ylabel('$I_p$ [MA]')\n",
    "grid()\n",
    "ax2=subplot(312, sharex=ax1)\n",
    "plot(tbb-toffset, bb, lw=2)\n",
    "ylabel(\"mBar\")\n",
    "grid()\n",
    "ax3=subplot(313, sharex=ax1)\n",
    "plot(tbarb-toffset, barb, lw=2, color='k')\n",
    "ylabel('pression')\n",
    "xlabel('t [s]')\n",
    "grid()\n",
    "xlim(0, 35)\n",
    "# some tuning to remove the x ticks on the two first subplots\n",
    "plt.setp( ax1.get_xticklabels(), visible=False)\n",
    "plt.setp( ax2.get_xticklabels(), visible=False)"
   ]
  },
  {
   "cell_type": "markdown",
   "metadata": {},
   "source": [
    "Un autre exemple avec des données 2D:"
   ]
  },
  {
   "cell_type": "code",
   "execution_count": null,
   "metadata": {
    "collapsed": true
   },
   "outputs": [],
   "source": [
    "# A 2D plot example with Li beam\n",
    "ne = conx.get('_sig=jet(\"ppf/KY6/NER\", 80812)') # Li beam ne measurement\n",
    "ne_R = conx.get('dim_of(_sig,0)') # major radius in meter\n",
    "ne_t = conx.get('dim_of(_sig,1)') # time in second"
   ]
  },
  {
   "cell_type": "code",
   "execution_count": null,
   "metadata": {
    "collapsed": true
   },
   "outputs": [],
   "source": [
    "# We check the shape of the output arrays\n",
    "# note that np.shape(ne) or ne.shape is similar\n",
    "print(ne.shape, shape(ne_R), shape(ne_t))"
   ]
  },
  {
   "cell_type": "code",
   "execution_count": null,
   "metadata": {
    "collapsed": true
   },
   "outputs": [],
   "source": [
    "toffset=40 # plasma breakdown offset time\n",
    "RR, tt = meshgrid(ne_R, ne_t-toffset)\n",
    "pcolormesh(RR, tt, ne.value, shading='gouraud') # pcolormesh is faster and recommanded vs pcolor (from matplotlib doc)\n",
    "xlabel('Major Radius [m]', fontsize=14)\n",
    "ylabel('Time [s]', fontsize=14)\n",
    "axis([np.min(RR), np.max(RR), np.min(tt), np.max(tt)]) # zoom in the data region"
   ]
  },
  {
   "cell_type": "code",
   "execution_count": null,
   "metadata": {
    "collapsed": true
   },
   "outputs": [],
   "source": []
  },
  {
   "cell_type": "code",
   "execution_count": 1,
   "metadata": {
    "collapsed": false
   },
   "outputs": [
    {
     "data": {
      "text/html": [
       "<style>\n",
       "div.input {\n",
       "    width: 105ex; /* about 80 chars + buffer */\n",
       "}\n",
       "\n",
       ".input_prompt, .output_prompt {\n",
       "    /*margin-left: 50px;*/\n",
       "}\n",
       "\n",
       "div.text_cell {\n",
       "    width: 105ex /* instead of 100%, */\n",
       "    margin-left: 0px;\n",
       "}\n",
       "\n",
       ".CodeMirror {\n",
       "    font-family: Consolas, monospace;\n",
       "}\n",
       "\n",
       "div.text_cell_render{\n",
       "    /*font-family: \"Helvetica Neue\", Arial, Helvetica, Geneva, sans-serif;*/\n",
       "    font-family: \"Charis SIL\", serif; /* Make non-code text serif. */\n",
       "    line-height: 145%; /* added for some line spacing of text. */\n",
       "    width: 105ex; /* instead of 'inherit' for shorter lines */ \n",
       "    /*font-family: Computer Modern, \"Helvetica Neue\", Arial, Helvetica, Geneva, sans-serif;*/\n",
       "    font-size: 120%;\n",
       "    margin-left:0px;\n",
       "}\n",
       "\n",
       "div.text_cell_render h1 {\n",
       "\tfont-size: 24pt;\n",
       "\tcolor: rgb(192,80,77);\n",
       "\tbackground-color: rgb(245,245,245);\n",
       "}\n",
       "\n",
       "div.text_cell_render h2 {\n",
       "\tfont-size: 20pt;\n",
       "\tcolor: rgb(31,73,125);\n",
       "\tbackground-color: rgb(242,242,242);\n",
       "}\n",
       "\n",
       "div.objectives {\n",
       "    background-color: #FFFFCC;\n",
       "    margin-top: 10px;\n",
       "    margin-bottom: 5px;\n",
       "    padding: 10px;\n",
       "    color: inherit;\n",
       "    font-size: 16px;\n",
       "    font-family: inherit;\n",
       "    font-weight: 500;\n",
       "    line-height: 1.1;\n",
       "    border: 1px solid;\n",
       "    width: 600px;\n",
       "}\n",
       "\n",
       "div.exercice {\n",
       "    background-color: #CCCCFF;\n",
       "    margin-left: 100px;\n",
       "    margin-top: 5px;\n",
       "    margin-bottom: 5px;\n",
       "    padding: 5px;\n",
       "    color: inherit;\n",
       "    font-size: 16px;\n",
       "    font-family: inherit;\n",
       "    line-height: 1.1;\n",
       "    border: 1px solid #000;\n",
       "    width: 500px;\n",
       "}\n",
       "\n",
       "div.exercice h1{\n",
       "    text-align: left;\n",
       "    height: 20px;\n",
       "    line-height: 20px;\n",
       "    font-size: 15px;\n",
       "    color: #000;\n",
       "    background-color: inherit;\n",
       "}\n",
       "\n",
       "</style>"
      ],
      "text/plain": [
       "<IPython.core.display.HTML object>"
      ]
     },
     "execution_count": 1,
     "metadata": {},
     "output_type": "execute_result"
    }
   ],
   "source": [
    "from IPython import utils  \n",
    "from IPython.core.display import HTML  \n",
    "import os  \n",
    "def css_styling():  \n",
    "    \"\"\"Load the CSS sheet 'custom.css' located in the directory\"\"\"\n",
    "    styles = \"<style>\\n%s\\n</style>\" % (open('./custom.css','r').read())\n",
    "    return HTML(styles)\n",
    "css_styling() "
   ]
  },
  {
   "cell_type": "code",
   "execution_count": null,
   "metadata": {
    "collapsed": true
   },
   "outputs": [],
   "source": []
  }
 ],
 "metadata": {
  "kernelspec": {
   "display_name": "Python 3",
   "language": "python",
   "name": "python3"
  },
  "language_info": {
   "codemirror_mode": {
    "name": "ipython",
    "version": 3
   },
   "file_extension": ".py",
   "mimetype": "text/x-python",
   "name": "python",
   "nbconvert_exporter": "python",
   "pygments_lexer": "ipython3",
   "version": "3.4.3"
  }
 },
 "nbformat": 4,
 "nbformat_minor": 0
}
