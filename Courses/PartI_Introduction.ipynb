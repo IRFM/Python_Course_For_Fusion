{
 "cells": [
  {
   "cell_type": "markdown",
   "metadata": {},
   "source": [
    "# Initiation à Python pour l’utilisation Scientifique à l’IRFM\n",
    "\n",
    "## Introduction\n",
    "\n",
    "* Quels sont les objectifs de cette initiation: donner les bases nécessaires pour pouvoir traiter des données numériques avec Python. Pas un cours de programmation. Beaucoup de notions de Python pas abordées (Prog. objet, etc)\n",
    "\n",
    "* Comment ça va se passer ;\n",
    "\n",
    "    *  Agenda prévisionnel : 2 jours\n",
    "    \n",
    "    * La plupart des exercices se feront par 2 ;  vous pouvez changer de place si vous voulez vous mettre ) coté de votre copain\n",
    "\n",
    "\n",
    "* Les \"instructeurs\". Ils sont « bénévoles » et pas forcément experts. Contexte budgétaire, impossible de faire suivre des formations traditionnelles à ⅕ du personnel de l’institut. Mais volonté de faire progresser Python à l’IRFM. Donc on prend sur notre temps pour le bénéfice des autres... 2 instructeurs dans la mesure du possible, notamment pour aider plus facilement pendant les exercices.\n",
    "\n",
    "* Distribution des post-its;\n",
    "\n",
    "    - Chaque personne se voit remettre deux posts-it de différentes couleurs. \n",
    "\n",
    "    * Permet de répondre aux questions Vrai/Faux (comme un jeu de société à Noël…)\n",
    "\n",
    "    * Pendant les exercices: post-it rouge collé sur le PC tant que exercice pas fini. Vert quand exercice terminé. Les instructeurs viennent si le post-it est rouge.\n",
    "\n",
    "    * Avant chaque pause: chaque personne note *une* chose qu’ils ont appris sur le post-it vert et *une* chose qu’ils ont trouvé confus (trop vite, pas assez vite) sur le rouge. On colle tous les posts-it quelque part avant de partir en pause → retour rapide pour les instructeurs, pour ajuster la suite. \n",
    "\n",
    "    * A la fin de la journée : on demande à chaque personne alternativement d’énoncer à voix haute un point positif et un point négatif sur la journée, sans répéter ce qu’ont dit les précédents (important pour avoir des commentaires pertinents après les commentaires \"sûrs\"). "
   ]
  },
  {
   "cell_type": "markdown",
   "metadata": {},
   "source": [
    "# Partie I - Introduction à Python\n",
    "\n",
    "## Python\n",
    "\n",
    "Utiliser les slides de la première partie:\n",
    "\n",
    "[slides Part I](http://nbviewer.ipython.org/format/slides/github/jhillairet/Fusion/blob/master/Python_Crash_Course/Slides/1-Introduction_to_Python.ipynb#/)\n",
    "\n",
    "* What is Python ?\n",
    "\n",
    "* Why Should I care ?"
   ]
  },
  {
   "cell_type": "markdown",
   "metadata": {},
   "source": [
    "## Python @IRFM\n",
    "\n",
    "* Linux →  nashira NX\n",
    "    * `module load python` avant toute chose pour chaque nouveau terminal ! Sinon vieux Python 2\n",
    "* Windows (juste en parler). Les outils qu’on va voir après sont également disponibles sous windows. \n",
    "    Si pb → Appel support\n"
   ]
  },
  {
   "cell_type": "markdown",
   "metadata": {},
   "source": [
    "* Python Terminal. DEMO:\n",
    "\n",
    "    * $module load python\n",
    "    \n",
    "    * $python\n",
    "\n",
    "    * Python indique les modules déjà pré-chargés (NumPy, SciPy, Matplotlib, pywed). "
   ]
  },
  {
   "cell_type": "code",
   "execution_count": 47,
   "metadata": {
    "collapsed": false
   },
   "outputs": [
    {
     "data": {
      "text/plain": [
       "2"
      ]
     },
     "execution_count": 47,
     "metadata": {},
     "output_type": "execute_result"
    }
   ],
   "source": [
    ">>> 1+1"
   ]
  },
  {
   "cell_type": "code",
   "execution_count": 48,
   "metadata": {
    "collapsed": false
   },
   "outputs": [
    {
     "data": {
      "text/plain": [
       "5"
      ]
     },
     "execution_count": 48,
     "metadata": {},
     "output_type": "execute_result"
    }
   ],
   "source": [
    ">>> 1*5"
   ]
  },
  {
   "cell_type": "code",
   "execution_count": 49,
   "metadata": {
    "collapsed": false
   },
   "outputs": [
    {
     "data": {
      "text/plain": [
       "0.2"
      ]
     },
     "execution_count": 49,
     "metadata": {},
     "output_type": "execute_result"
    }
   ],
   "source": [
    ">>> 1/5"
   ]
  },
  {
   "cell_type": "code",
   "execution_count": 50,
   "metadata": {
    "collapsed": false
   },
   "outputs": [
    {
     "data": {
      "text/plain": [
       "25"
      ]
     },
     "execution_count": 50,
     "metadata": {},
     "output_type": "execute_result"
    }
   ],
   "source": [
    ">>> 5**2"
   ]
  },
  {
   "cell_type": "code",
   "execution_count": 51,
   "metadata": {
    "collapsed": false
   },
   "outputs": [
    {
     "data": {
      "text/plain": [
       "7"
      ]
     },
     "execution_count": 51,
     "metadata": {},
     "output_type": "execute_result"
    }
   ],
   "source": [
    ">>> (5+2)*(7-6)"
   ]
  },
  {
   "cell_type": "code",
   "execution_count": 52,
   "metadata": {
    "collapsed": false
   },
   "outputs": [
    {
     "data": {
      "text/plain": [
       "(-5+6j)"
      ]
     },
     "execution_count": 52,
     "metadata": {},
     "output_type": "execute_result"
    }
   ],
   "source": [
    ">>> - 5 + 1j*6"
   ]
  },
  {
   "cell_type": "code",
   "execution_count": 53,
   "metadata": {
    "collapsed": false
   },
   "outputs": [
    {
     "data": {
      "text/plain": [
       "(-5+6j)"
      ]
     },
     "execution_count": 53,
     "metadata": {},
     "output_type": "execute_result"
    }
   ],
   "source": [
    ">>> -5 + 6j"
   ]
  },
  {
   "cell_type": "code",
   "execution_count": 54,
   "metadata": {
    "collapsed": false
   },
   "outputs": [
    {
     "data": {
      "text/plain": [
       "(-5+6j)"
      ]
     },
     "execution_count": 54,
     "metadata": {},
     "output_type": "execute_result"
    }
   ],
   "source": [
    ">>> val = -5 + 6j\n",
    ">>> val"
   ]
  },
  {
   "cell_type": "markdown",
   "metadata": {},
   "source": [
    "* En python, tout est \"objet\". En pratique, cela veut dire que toutes les variables que l’on utilise ont des paramètres intrinsèques et/ou des fonctions associées. \n",
    "* Prendre l’exemple d’un (objet) `smartphone` : \n",
    "    * ses paramètres intrinsèques (attributs) : `.couleur`, `.marque`, ...\n",
    "    * ses fonctions associées (méthodes) : `.téléphoner()`, `.internet()`, `.lampe_de_poche()` "
   ]
  },
  {
   "cell_type": "markdown",
   "metadata": {},
   "source": [
    "* `dir(val)` --> liste toutes les méthodes et attributs de l’objet val."
   ]
  },
  {
   "cell_type": "markdown",
   "metadata": {},
   "source": [
    "Les doubles `_` sont juste une convention pour dire que ces sont des méthodes ou attributs ‘privés’, càd qui n’ont généralement pas à être utilisés..."
   ]
  },
  {
   "cell_type": "code",
   "execution_count": 55,
   "metadata": {
    "collapsed": false
   },
   "outputs": [
    {
     "data": {
      "text/plain": [
       "6.0"
      ]
     },
     "execution_count": 55,
     "metadata": {},
     "output_type": "execute_result"
    }
   ],
   "source": [
    ">>> val.imag"
   ]
  },
  {
   "cell_type": "code",
   "execution_count": 56,
   "metadata": {
    "collapsed": false
   },
   "outputs": [
    {
     "data": {
      "text/plain": [
       "-5.0"
      ]
     },
     "execution_count": 56,
     "metadata": {},
     "output_type": "execute_result"
    }
   ],
   "source": [
    ">>> val.real"
   ]
  },
  {
   "cell_type": "code",
   "execution_count": 57,
   "metadata": {
    "collapsed": false
   },
   "outputs": [
    {
     "data": {
      "text/plain": [
       "(-5-6j)"
      ]
     },
     "execution_count": 57,
     "metadata": {},
     "output_type": "execute_result"
    }
   ],
   "source": [
    ">>> val.conjugate()"
   ]
  },
  {
   "cell_type": "markdown",
   "metadata": {},
   "source": [
    "* `exit`\n",
    "\n",
    "* `exit()` (ou crtl+D)"
   ]
  },
  {
   "cell_type": "markdown",
   "metadata": {},
   "source": [
    "<div class='exercice'>\n",
    "<h1>Quizz</h1>\n",
    "Que se passe-t-il si j’oublie de taper ‘module load python’ ?\n",
    "</div>\n",
    "\n",
    "<div class='exercice'>\n",
    "<h1>Quizz</h1>\n",
    "Python 2. Comment savoir quel Python on utilise?\n",
    "</div>\n",
    "\n",
    "* C’est marqué quand on le lance.\n",
    "* La division est entière avec Python 2 !"
   ]
  },
  {
   "cell_type": "markdown",
   "metadata": {},
   "source": [
    "<div class='exercice'>\n",
    "<h1>Exercice</h1>\n",
    "Se connecter à nashira, et lancer Python.\n",
    "</div>"
   ]
  },
  {
   "cell_type": "markdown",
   "metadata": {},
   "source": [
    "* IPython. DEMO:\n",
    "\n",
    "    * `$ipython`\n",
    "\n",
    "    * effectuer les mêmes commandes. \n",
    "\n",
    "    * Avantages d’utilisation IPython plutôt que python: ergonomie ++. \n",
    "\n",
    "        * Couleurs\n",
    "\n",
    "        * Touche tabulation : complétion. Affiche les attributs et méthodes (publiques) \n",
    "\n",
    "        * Aide sur un objet: `?val`\n",
    "\n",
    "        * `tsbase?` (ou `?tsbase`)\n",
    "\n",
    "        * `y,t,infos =tsbase(47979, 'SIPMES')` \n",
    "\n",
    "        * `plot(y,t)`\n",
    "\n",
    "        * Mais aussi : des fonctions ‘magiques’, raccourcis (%run, %debug, etc… on verra plus tard)\n",
    "\n",
    "        * Historique: %history. >>> In[2], >>>Out[1]\n",
    "\n",
    "        * LIste des variables : who(), whos\n",
    "\n",
    "<div class='exercice'>\n",
    "<h1>Quizz</h1>\n",
    "Sur nashira, lancer IPython et taper ses premières commandes dans l’interpréteur. Utiliser l’aide (?) sur une variable créée. \n",
    "</div>"
   ]
  },
  {
   "cell_type": "markdown",
   "metadata": {},
   "source": [
    "* Spyder. DEMO\n",
    "\n",
    "    * $ module load python\n",
    "\n",
    "    * $ spyder\n",
    "\n",
    "    * présentation. Zone de texte. Zone de la console (Python ou IPython). Zone des volets supplémentaires (aide, fichiers, projet, etc)\n",
    "\n",
    "    * créer un nouveau document: \n",
    "\n",
    "    y,t,infos =tsbase(47979, 'SIPMES') \n",
    "    \n",
    "    plot(y,t) "
   ]
  },
  {
   "cell_type": "markdown",
   "metadata": {},
   "source": [
    "* sauver : les fichiers python ont une extension .py\n",
    "* executer (F5)\n",
    "* dans le terminal : regarder t, y, infos. t et y sont des tableaux. infos est une liste. On y reviendra par la suite. \n",
    "* dans l’explorateur de variables, regarder t, infos\n",
    "* regarder explorateur de fichier\n",
    "* jouer avec les propriétés d’affichage : barres d’outils, volets \n",
    "* jouer avec outils>préférences"
   ]
  },
  {
   "cell_type": "markdown",
   "metadata": {},
   "source": [
    "<div class='exercice'>\n",
    "<h1>Exercice</h1>\n",
    "Sur Nashira, lancer spyder. Utiliser l’aide avec crtl+I\n",
    "</div>"
   ]
  },
  {
   "cell_type": "markdown",
   "metadata": {},
   "source": [
    "* Jupyter (IPython) notebook. DEMO (nashira→ ipython notebook, pas encore jupyter)\n",
    "\n",
    "  * $ ipython notebook\n",
    "\n",
    "    * présentation : répertoires et fichiers.\n",
    "\n",
    "    * créer un nouveau notebook: \n",
    "\n",
    "        * y,t,infos =tsbase(47979, 'SIPMES') \n",
    "\n",
    "        * Cell > Run ou crtl+entrée\n",
    "\n",
    "        * t\n",
    "\n",
    "        * %matplotlib inline\n",
    "\n",
    "        * plot(t,y)\n",
    "\n",
    "        * Insert cell above/below\n",
    "\n",
    "        * changer le mode de la cell en code→ markdown\n",
    "\n",
    "        * entrer du texte avec du LaTeX:\n",
    "\n",
    "Ceci est du texte avec un symbole mathématique : $\\lambda$. \n",
    "\n",
    "Ceci est une équation: \n",
    "\n",
    "$$ y = \\int_a^\\infty \\frac{1}{x^2} dx $$\n",
    "\n",
    "* Dire que c’est vachement pratique quand même. Les notebooks peuvent être publiés sur internet pour partager de l’info. Ma présentation est d’ailleurs réalisée à partir d’un notebook (pas besoin d’avoir code + texte + powerpoint → réunis)"
   ]
  },
  {
   "cell_type": "markdown",
   "metadata": {},
   "source": [
    "<div class='exercice'>\n",
    "<h1>Exercice</h1>\n",
    "Sur Nashira, lancer IPython Notebook\n",
    "</div>\n",
    "\n",
    "?? Est-ce que Firefox est le navigateur par défaut ? (indispensable) \n",
    "\n",
    "* KDE: Configuration du système -> Applications par défaut.\n",
    "\n",
    "* GNOME: Edit-> Preferences-> Advanced-> System Defaults"
   ]
  },
  {
   "cell_type": "markdown",
   "metadata": {},
   "source": [
    "\n",
    "## Need help ?\n",
    "\n",
    "* Mailling list. DEMO:\n",
    "\n",
    "    * asterope → pratique IRFM → python → Liste de diffusion.\n",
    "\n",
    "* IRFM Python wiki. DEMO:\n",
    "\n",
    "    * asterope → python IRFM → connexion → wiki. Utiliser login INTRA.\n",
    "\n",
    "<div class='exercice'>\n",
    "<h1>Exercice</h1>\n",
    "S’inscrire à la liste de diffusion Python IRFM. \n",
    "</div>\n",
    "\n",
    "<div class='exercice'>\n",
    "<h1>Exercice</h1>\n",
    "Aller sur le wiki et cherchez quelle version de Python est installée sur les serveurs Linux.\n",
    "</div>"
   ]
  },
  {
   "cell_type": "markdown",
   "metadata": {},
   "source": [
    "# BREAK (Post-its)"
   ]
  },
  {
   "cell_type": "markdown",
   "metadata": {},
   "source": [
    "# Les bases de Python\n",
    "\n",
    "Ce qui suit est très largement inspiré [des cours d'initiation a Python](http://swcarpentry.github.io/python-novice-inflammation/) donnés par Software Carpentry. \n",
    "\n",
    "## Objectifs\n",
    "\n",
    "<div class='objectives'>\n",
    "<ul>\n",
    "    <li> Expliquer ce qu'est une librairie et à quoi elles sont utilisées </li> \n",
    "    <li> Charger une librairie Python (pywed) et utiliser la commande tsbase </li>\n",
    "    <li> Assigner des valeurs à des variables. </li>\n",
    "    <li> Faire des selections et sous-selections de données</li>\n",
    "    <li> Effectuer des opérations sur des tableaux de données</li>\n",
    "    <li> Afficher des graphes simples</li>\n",
    "</ul>\n",
    "</div>"
   ]
  },
  {
   "cell_type": "markdown",
   "metadata": {},
   "source": [
    "Les mots sont utiles → mais c'est plus utile de faire des phrases et des histoires qui vont avec. C'est pareil avec Python : même si le langage en lui même est puissant→ librairies encore plus utiles.\n",
    "\n",
    "Pour charger les données de TS/WEST, on doit importer les données en provenance de la base de données, grace à la librairie pywed (*Python WEST Experimental Database*) (auparavant connue sous le nom de tslib en C, Fortran et Matlab). Pour charger la librairie pywed:"
   ]
  },
  {
   "cell_type": "code",
   "execution_count": 76,
   "metadata": {
    "collapsed": false
   },
   "outputs": [],
   "source": [
    ">>> import pywed"
   ]
  },
  {
   "cell_type": "markdown",
   "metadata": {},
   "source": [
    "Importer une librairie c'est comme prendre une caisse à outil dans le garage et l'ouvrir sur la table de travail. Les librairies permettent d'ajouter des fonctionnalités au coeur du langage Python (comme les toolbox de Matlab, les modules supplémentaires d'ANSYS/COMSOL etc., sauf que là c'est gratuit). Une fois que la librairie est importée, on peut alors l'utiliser:"
   ]
  },
  {
   "cell_type": "markdown",
   "metadata": {},
   "source": [
    "    >>> dict(pywed) # liste les outils livrés avec la librairie pywed\n",
    "    \n",
    "    >>> ?tsbase # affiche l'aide de la fonction tsbase"
   ]
  },
  {
   "cell_type": "code",
   "execution_count": 59,
   "metadata": {
    "collapsed": true
   },
   "outputs": [],
   "source": [
    ">>> ip,t,infos=pywed.tsbase(47979, 'SIPMES')"
   ]
  },
  {
   "cell_type": "markdown",
   "metadata": {},
   "source": [
    "L'expression pywed.tsbase est un appel de la fonction tsbase qui appartient à la librairie pywed. Cette notation avec un point (.) apparait partout dans Python pour désigner une partie d'une chose : chose.composant. \n",
    "\n",
    "Si on revient sur l'appel de la fonction, celle ci à au moins deux paramètres : le numéro de choc et le nom du signal que l'on veut récupérer. Le numéro de choc est un nombre entier tandis que le nom du signal est une chaine de caractère (*string*) et doit être mise entre apostrophe (*quote*) (').\n",
    "\n",
    "La fonction a retourné trois variables : ip, t, infos. \n",
    "\n",
    "<div class='exercice'>\n",
    "<h1>Exercice</h1>\n",
    "Reproduisez l'exemple précédent.\n",
    "</div>"
   ]
  },
  {
   "cell_type": "markdown",
   "metadata": {},
   "source": [
    "## Variables, assignation\n",
    "\n",
    "Assignation : case sensitive. \n",
    "\n",
    "lorsqu'une variable a une valeur, on peut l'afficher à l'écran:"
   ]
  },
  {
   "cell_type": "code",
   "execution_count": 60,
   "metadata": {
    "collapsed": false
   },
   "outputs": [
    {
     "name": "stdout",
     "output_type": "stream",
     "text": [
      "[[ 0.        ]\n",
      " [ 0.        ]\n",
      " [ 0.        ]\n",
      " ..., \n",
      " [-0.00097656]\n",
      " [-0.00024414]\n",
      " [-0.00170898]]\n"
     ]
    }
   ],
   "source": [
    ">>> print(ip)"
   ]
  },
  {
   "cell_type": "markdown",
   "metadata": {},
   "source": [
    "ou par exemple:"
   ]
  },
  {
   "cell_type": "code",
   "execution_count": 61,
   "metadata": {
    "collapsed": false
   },
   "outputs": [
    {
     "name": "stdout",
     "output_type": "stream",
     "text": [
      "le numéro de choc est :  97979\n"
     ]
    }
   ],
   "source": [
    ">>> choc = 97979\n",
    "\n",
    ">>> print('le numéro de choc est : ', choc)"
   ]
  },
  {
   "cell_type": "markdown",
   "metadata": {},
   "source": [
    "Dans l'exemple précedent, on peut afficher plusieurs choses en les séparant par des virgules. \n",
    "\n",
    "Assignation multiple."
   ]
  },
  {
   "cell_type": "code",
   "execution_count": 62,
   "metadata": {
    "collapsed": false
   },
   "outputs": [
    {
     "name": "stdout",
     "output_type": "stream",
     "text": [
      "1 2\n"
     ]
    }
   ],
   "source": [
    ">>> un, deux = 1, 2\n",
    "\n",
    ">>> print(un, deux)"
   ]
  },
  {
   "cell_type": "markdown",
   "metadata": {},
   "source": [
    "<div class='exercice'>\n",
    "<h1>Quizz</h1>\n",
    "Que va afficher le programme suivant:\n",
    "\n",
    ">>> un, deux = 'fusion', 'nucléaire'\n",
    "\n",
    ">>> trois, quatre = deux, un\n",
    "\n",
    ">>> print(trois, quatre)\n",
    "</div>"
   ]
  },
  {
   "cell_type": "markdown",
   "metadata": {},
   "source": [
    "Les variables sont typées : elles ont des propriétés spécifiques à leur genre (entier, flottant, string). Pour connaître le type d une variable : "
   ]
  },
  {
   "cell_type": "code",
   "execution_count": 63,
   "metadata": {
    "collapsed": false
   },
   "outputs": [
    {
     "data": {
      "text/plain": [
       "numpy.ndarray"
      ]
     },
     "execution_count": 63,
     "metadata": {},
     "output_type": "execute_result"
    }
   ],
   "source": [
    ">>> type(ip)"
   ]
  },
  {
   "cell_type": "code",
   "execution_count": 64,
   "metadata": {
    "collapsed": false
   },
   "outputs": [
    {
     "data": {
      "text/plain": [
       "list"
      ]
     },
     "execution_count": 64,
     "metadata": {},
     "output_type": "execute_result"
    }
   ],
   "source": [
    ">>> type(infos)"
   ]
  },
  {
   "cell_type": "markdown",
   "metadata": {},
   "source": [
    "On peut utiliser le nom du type pour convertir :"
   ]
  },
  {
   "cell_type": "code",
   "execution_count": 65,
   "metadata": {
    "collapsed": true
   },
   "outputs": [],
   "source": [
    ">>> var = 42.5"
   ]
  },
  {
   "cell_type": "code",
   "execution_count": 66,
   "metadata": {
    "collapsed": false
   },
   "outputs": [
    {
     "data": {
      "text/plain": [
       "float"
      ]
     },
     "execution_count": 66,
     "metadata": {},
     "output_type": "execute_result"
    }
   ],
   "source": [
    ">>> type(var)"
   ]
  },
  {
   "cell_type": "code",
   "execution_count": 67,
   "metadata": {
    "collapsed": false
   },
   "outputs": [
    {
     "data": {
      "text/plain": [
       "42"
      ]
     },
     "execution_count": 67,
     "metadata": {},
     "output_type": "execute_result"
    }
   ],
   "source": [
    ">>> int(var)"
   ]
  },
  {
   "cell_type": "code",
   "execution_count": 68,
   "metadata": {
    "collapsed": false
   },
   "outputs": [
    {
     "data": {
      "text/plain": [
       "'42.5'"
      ]
     },
     "execution_count": 68,
     "metadata": {},
     "output_type": "execute_result"
    }
   ],
   "source": [
    ">>> str(var)"
   ]
  },
  {
   "cell_type": "markdown",
   "metadata": {},
   "source": [
    "Python est dit \"dynamiquement typé\": on peut re-affecter une variable d'un type en un type différent :"
   ]
  },
  {
   "cell_type": "code",
   "execution_count": 69,
   "metadata": {
    "collapsed": true
   },
   "outputs": [],
   "source": [
    ">>> var = 42.5\n",
    ">>> var = 'quarante deux' # ce serait impossible en C ou en Fortran"
   ]
  },
  {
   "cell_type": "markdown",
   "metadata": {},
   "source": [
    "Python a un certain nombre de variables spéciales :"
   ]
  },
  {
   "cell_type": "code",
   "execution_count": 70,
   "metadata": {
    "collapsed": false
   },
   "outputs": [
    {
     "data": {
      "text/plain": [
       "True"
      ]
     },
     "execution_count": 70,
     "metadata": {},
     "output_type": "execute_result"
    }
   ],
   "source": [
    ">>> True"
   ]
  },
  {
   "cell_type": "code",
   "execution_count": 71,
   "metadata": {
    "collapsed": false
   },
   "outputs": [
    {
     "data": {
      "text/plain": [
       "False"
      ]
     },
     "execution_count": 71,
     "metadata": {},
     "output_type": "execute_result"
    }
   ],
   "source": [
    ">>> False"
   ]
  },
  {
   "cell_type": "code",
   "execution_count": 72,
   "metadata": {
    "collapsed": false
   },
   "outputs": [
    {
     "data": {
      "text/plain": [
       "bool"
      ]
     },
     "execution_count": 72,
     "metadata": {},
     "output_type": "execute_result"
    }
   ],
   "source": [
    ">>> type(True)"
   ]
  },
  {
   "cell_type": "code",
   "execution_count": 73,
   "metadata": {
    "collapsed": true
   },
   "outputs": [],
   "source": [
    ">>> None"
   ]
  },
  {
   "cell_type": "code",
   "execution_count": 74,
   "metadata": {
    "collapsed": false
   },
   "outputs": [
    {
     "data": {
      "text/plain": [
       "NoneType"
      ]
     },
     "execution_count": 74,
     "metadata": {},
     "output_type": "execute_result"
    }
   ],
   "source": [
    ">>> type(None)"
   ]
  },
  {
   "cell_type": "markdown",
   "metadata": {},
   "source": [
    "`None` est le résultat retourné par défaut par une fonction.\n",
    "\n",
    "<div class='exercice'>\n",
    "<h1>Exercice</h1>\n",
    "    Quel est le type de :\n",
    "        * 'fusion'\n",
    "        * 4 / 2\n",
    "        * 12.3 / 3.4\n",
    "        * 1 == 1\n",
    "        * ip → on y reviendra\n",
    "</div>"
   ]
  },
  {
   "cell_type": "markdown",
   "metadata": {},
   "source": [
    "## Les erreurs\n",
    "\n",
    "Regardons une erreur typique en Python:"
   ]
  },
  {
   "cell_type": "code",
   "execution_count": 75,
   "metadata": {
    "collapsed": false
   },
   "outputs": [
    {
     "ename": "ValueError",
     "evalue": "invalid literal for int() with base 10: 'quarante deux'",
     "output_type": "error",
     "traceback": [
      "\u001b[1;31m---------------------------------------------------------------------------\u001b[0m",
      "\u001b[1;31mValueError\u001b[0m                                Traceback (most recent call last)",
      "\u001b[1;32m<ipython-input-75-d8b5b2162843>\u001b[0m in \u001b[0;36m<module>\u001b[1;34m()\u001b[0m\n\u001b[1;32m----> 1\u001b[1;33m \u001b[0mint\u001b[0m\u001b[1;33m(\u001b[0m\u001b[1;34m'quarante deux'\u001b[0m\u001b[1;33m)\u001b[0m\u001b[1;33m\u001b[0m\u001b[0m\n\u001b[0m",
      "\u001b[1;31mValueError\u001b[0m: invalid literal for int() with base 10: 'quarante deux'"
     ]
    }
   ],
   "source": [
    ">>> int('quarante deux')"
   ]
  },
  {
   "cell_type": "markdown",
   "metadata": {},
   "source": [
    "<div class='exercice'>\n",
    "<h1>Exercice</h1>\n",
    "Reproduisez l'erreur\n",
    "</div>"
   ]
  },
  {
   "cell_type": "markdown",
   "metadata": {},
   "source": [
    "## Sélection et sous-selection de données\n",
    "\n",
    "Définissons une chaine de caractère :"
   ]
  },
  {
   "cell_type": "code",
   "execution_count": 77,
   "metadata": {
    "collapsed": true
   },
   "outputs": [],
   "source": [
    ">>> var = 'fusion'"
   ]
  },
  {
   "cell_type": "markdown",
   "metadata": {},
   "source": [
    "Il est possible de récupérer un ou plusieurs éléments d'une chaîne en utilisant des crochets ([]) :"
   ]
  },
  {
   "cell_type": "code",
   "execution_count": 78,
   "metadata": {
    "collapsed": false
   },
   "outputs": [
    {
     "data": {
      "text/plain": [
       "'u'"
      ]
     },
     "execution_count": 78,
     "metadata": {},
     "output_type": "execute_result"
    }
   ],
   "source": [
    ">>> var[1]"
   ]
  },
  {
   "cell_type": "markdown",
   "metadata": {},
   "source": [
    "Attention, Python est dit 'zero indexed' : la numérotation commence par 0 (comme en C, mais contrairement à Matlab).\n",
    "\n",
    "Faire un petit dessin. Les indices pointes entre les caracteres.\n",
    "\n",
    "    | F | U | S | I | O | N |\n",
    "    0   1   2   3   4   5   6\n",
    "    -6 -5  -4  -3  -2  -1"
   ]
  },
  {
   "cell_type": "markdown",
   "metadata": {},
   "source": [
    "Les elements peuvent également être récupérés avec des indices négatifs, en partant de la fin :"
   ]
  },
  {
   "cell_type": "code",
   "execution_count": 79,
   "metadata": {
    "collapsed": false
   },
   "outputs": [
    {
     "data": {
      "text/plain": [
       "'n'"
      ]
     },
     "execution_count": 79,
     "metadata": {},
     "output_type": "execute_result"
    }
   ],
   "source": [
    ">>> var[-1]"
   ]
  },
  {
   "cell_type": "markdown",
   "metadata": {},
   "source": [
    "Pour faire une sélection, on utilise `var[debut:stop]`"
   ]
  },
  {
   "cell_type": "code",
   "execution_count": 80,
   "metadata": {
    "collapsed": false
   },
   "outputs": [
    {
     "data": {
      "text/plain": [
       "'us'"
      ]
     },
     "execution_count": 80,
     "metadata": {},
     "output_type": "execute_result"
    }
   ],
   "source": [
    ">>> var[1:3]"
   ]
  },
  {
   "cell_type": "markdown",
   "metadata": {},
   "source": [
    "Attention, remarquez que le premier indice est inclusif tandis que le second est exclusif. \n",
    "\n",
    "Pourquoi Python est-il zéro-indexed ? C'est une longue histoire mais en version courte : la différence entre l'indice de stop et de debut est toujours égal à la longueur de la séquence."
   ]
  },
  {
   "cell_type": "code",
   "execution_count": 81,
   "metadata": {
    "collapsed": false
   },
   "outputs": [
    {
     "data": {
      "text/plain": [
       "2"
      ]
     },
     "execution_count": 81,
     "metadata": {},
     "output_type": "execute_result"
    }
   ],
   "source": [
    ">>> len(var[1:3])"
   ]
  },
  {
   "cell_type": "code",
   "execution_count": 82,
   "metadata": {
    "collapsed": false
   },
   "outputs": [
    {
     "data": {
      "text/plain": [
       "'us'"
      ]
     },
     "execution_count": 82,
     "metadata": {},
     "output_type": "execute_result"
    }
   ],
   "source": [
    ">>> var[1:3]"
   ]
  },
  {
   "cell_type": "code",
   "execution_count": 83,
   "metadata": {
    "collapsed": false
   },
   "outputs": [
    {
     "data": {
      "text/plain": [
       "True"
      ]
     },
     "execution_count": 83,
     "metadata": {},
     "output_type": "execute_result"
    }
   ],
   "source": [
    ">>> start = 2\n",
    ">>> stop = 5\n",
    ">>> len(var[start:stop]) == stop - start"
   ]
  },
  {
   "cell_type": "markdown",
   "metadata": {},
   "source": [
    "Les indices debut et fin sont optionnels : si l'un ou l'autre est absent c'est sa valeur par défaut qui est utilisée. Par contre on doit garder les deux points  (:)"
   ]
  },
  {
   "cell_type": "code",
   "execution_count": 84,
   "metadata": {
    "collapsed": false
   },
   "outputs": [
    {
     "data": {
      "text/plain": [
       "'sion'"
      ]
     },
     "execution_count": 84,
     "metadata": {},
     "output_type": "execute_result"
    }
   ],
   "source": [
    ">>> var[2:]"
   ]
  },
  {
   "cell_type": "code",
   "execution_count": 85,
   "metadata": {
    "collapsed": false
   },
   "outputs": [
    {
     "data": {
      "text/plain": [
       "'fusio'"
      ]
     },
     "execution_count": 85,
     "metadata": {},
     "output_type": "execute_result"
    }
   ],
   "source": [
    ">>> var[:5]"
   ]
  },
  {
   "cell_type": "code",
   "execution_count": 86,
   "metadata": {
    "collapsed": false
   },
   "outputs": [
    {
     "data": {
      "text/plain": [
       "'fusion'"
      ]
     },
     "execution_count": 86,
     "metadata": {},
     "output_type": "execute_result"
    }
   ],
   "source": [
    ">>> var[:]"
   ]
  },
  {
   "cell_type": "markdown",
   "metadata": {},
   "source": [
    "On peut également definir un pas : `s[debut:fin:pas]` (attention, differe de la syntaxe Matlab)"
   ]
  },
  {
   "cell_type": "code",
   "execution_count": 87,
   "metadata": {
    "collapsed": false
   },
   "outputs": [
    {
     "data": {
      "text/plain": [
       "'ui'"
      ]
     },
     "execution_count": 87,
     "metadata": {},
     "output_type": "execute_result"
    }
   ],
   "source": [
    ">>> var[1:-1:2] # du second au dernier exclus par pas de 2 : _u_i_"
   ]
  },
  {
   "cell_type": "code",
   "execution_count": 88,
   "metadata": {
    "collapsed": false
   },
   "outputs": [
    {
     "data": {
      "text/plain": [
       "'uin'"
      ]
     },
     "execution_count": 88,
     "metadata": {},
     "output_type": "execute_result"
    }
   ],
   "source": [
    ">>> var[1::2] # du second à la fin, par pas de 2 : _u_i_n"
   ]
  },
  {
   "cell_type": "code",
   "execution_count": 89,
   "metadata": {
    "collapsed": false
   },
   "outputs": [
    {
     "data": {
      "text/plain": [
       "'fi'"
      ]
     },
     "execution_count": 89,
     "metadata": {},
     "output_type": "execute_result"
    }
   ],
   "source": [
    ">>> var[::3] # toute la chaine par pas de 3 : f__i__"
   ]
  },
  {
   "cell_type": "code",
   "execution_count": 90,
   "metadata": {
    "collapsed": false
   },
   "outputs": [
    {
     "data": {
      "text/plain": [
       "'noisuf'"
      ]
     },
     "execution_count": 90,
     "metadata": {},
     "output_type": "execute_result"
    }
   ],
   "source": [
    ">>> var[::-1] # toute la chaine parcourue à l'envers : noisuf"
   ]
  },
  {
   "cell_type": "markdown",
   "metadata": {},
   "source": [
    "<div class='exercice'>\n",
    "<h1>Exercice</h1>\n",
    "Définissez la chaine 'fusion'. Récuperez et affichez les trois premiers et les trois derniers élements.\n",
    "</div>"
   ]
  },
  {
   "cell_type": "markdown",
   "metadata": {},
   "source": [
    "Regardons 'ip'"
   ]
  },
  {
   "cell_type": "markdown",
   "metadata": {},
   "source": [
    "    >>> type(ip)"
   ]
  },
  {
   "cell_type": "markdown",
   "metadata": {},
   "source": [
    "→ Numpy ndarray. Cela veut dire qu'il s'agit d'un tableau N-dimensions créé par la librairie Numpy. Numpy est la librairie mathématique permettant de jouer avec des tableaux numériques de façon similaire à Matlab. Nous n'avons pas eu besoin d'importer la librairie Numpy en mémoire, car en fait pywed l'a déjà fait pour nous. \n",
    "\n",
    "Les tableaux Numpy s'indexent de la même facon que les chaines :"
   ]
  },
  {
   "cell_type": "code",
   "execution_count": 91,
   "metadata": {
    "collapsed": false
   },
   "outputs": [
    {
     "data": {
      "text/plain": [
       "array([[ 0.],\n",
       "       [ 0.],\n",
       "       [ 0.],\n",
       "       [ 0.],\n",
       "       [ 0.]])"
      ]
     },
     "execution_count": 91,
     "metadata": {},
     "output_type": "execute_result"
    }
   ],
   "source": [
    ">>> ip[0:10]\n",
    "\n",
    ">>> ip[0:10:2]"
   ]
  },
  {
   "cell_type": "markdown",
   "metadata": {},
   "source": [
    "Les dimensions du tableau sont données par :"
   ]
  },
  {
   "cell_type": "code",
   "execution_count": 92,
   "metadata": {
    "collapsed": false
   },
   "outputs": [
    {
     "data": {
      "text/plain": [
       "(34840, 1)"
      ]
     },
     "execution_count": 92,
     "metadata": {},
     "output_type": "execute_result"
    }
   ],
   "source": [
    ">>> ip.shape"
   ]
  },
  {
   "cell_type": "code",
   "execution_count": 100,
   "metadata": {
    "collapsed": false
   },
   "outputs": [
    {
     "data": {
      "text/plain": [
       "34840"
      ]
     },
     "execution_count": 100,
     "metadata": {},
     "output_type": "execute_result"
    }
   ],
   "source": [
    ">>> ip.size"
   ]
  },
  {
   "cell_type": "code",
   "execution_count": 103,
   "metadata": {
    "collapsed": false
   },
   "outputs": [
    {
     "data": {
      "text/plain": [
       "34840"
      ]
     },
     "execution_count": 103,
     "metadata": {},
     "output_type": "execute_result"
    }
   ],
   "source": [
    "import numpy\n",
    "numpy.size(ip) # nombre d'éléments"
   ]
  },
  {
   "cell_type": "markdown",
   "metadata": {},
   "source": [
    "Pour créer un tableau N-D :"
   ]
  },
  {
   "cell_type": "code",
   "execution_count": 104,
   "metadata": {
    "collapsed": true
   },
   "outputs": [],
   "source": [
    ">>> data = numpy.array([[1,2], [3,4], [5,6]])"
   ]
  },
  {
   "cell_type": "markdown",
   "metadata": {},
   "source": [
    "→ shape, size\n",
    "\n",
    "Opérations sur les tableaux. Toutes les opérations classiques fonctionnent:"
   ]
  },
  {
   "cell_type": "code",
   "execution_count": 105,
   "metadata": {
    "collapsed": false
   },
   "outputs": [
    {
     "data": {
      "text/plain": [
       "array([[ 2,  4],\n",
       "       [ 6,  8],\n",
       "       [10, 12]])"
      ]
     },
     "execution_count": 105,
     "metadata": {},
     "output_type": "execute_result"
    }
   ],
   "source": [
    ">>> data * 2"
   ]
  },
  {
   "cell_type": "code",
   "execution_count": 110,
   "metadata": {
    "collapsed": false
   },
   "outputs": [
    {
     "data": {
      "text/plain": [
       "array([[ 2,  4],\n",
       "       [ 6,  8],\n",
       "       [10, 12]])"
      ]
     },
     "execution_count": 110,
     "metadata": {},
     "output_type": "execute_result"
    }
   ],
   "source": [
    "double = data*2\n",
    "double"
   ]
  },
  {
   "cell_type": "code",
   "execution_count": 111,
   "metadata": {
    "collapsed": false
   },
   "outputs": [
    {
     "data": {
      "text/plain": [
       "array([[ 3,  6],\n",
       "       [ 9, 12],\n",
       "       [15, 18]])"
      ]
     },
     "execution_count": 111,
     "metadata": {},
     "output_type": "execute_result"
    }
   ],
   "source": [
    "triple = double + data\n",
    "triple"
   ]
  },
  {
   "cell_type": "markdown",
   "metadata": {},
   "source": [
    "etc.\n",
    "\n",
    "Mais on peut également effectuer des opérations + avancées"
   ]
  },
  {
   "cell_type": "code",
   "execution_count": 112,
   "metadata": {
    "collapsed": false
   },
   "outputs": [
    {
     "data": {
      "text/plain": [
       "3.5"
      ]
     },
     "execution_count": 112,
     "metadata": {},
     "output_type": "execute_result"
    }
   ],
   "source": [
    ">>> data.mean()"
   ]
  },
  {
   "cell_type": "markdown",
   "metadata": {},
   "source": [
    "On a utilise l'une des méthodes des objets numpy.ndarray, de la même manière que shape. C'est comme une fonction : c'est une action, pas une donnée intrinsèque somme sa taille → parenthèses de fonction.\n",
    "\n",
    "Aussi :"
   ]
  },
  {
   "cell_type": "code",
   "execution_count": 113,
   "metadata": {
    "collapsed": false
   },
   "outputs": [
    {
     "data": {
      "text/plain": [
       "1"
      ]
     },
     "execution_count": 113,
     "metadata": {},
     "output_type": "execute_result"
    }
   ],
   "source": [
    ">>> data.min()"
   ]
  },
  {
   "cell_type": "code",
   "execution_count": 114,
   "metadata": {
    "collapsed": false
   },
   "outputs": [
    {
     "data": {
      "text/plain": [
       "1.707825127659933"
      ]
     },
     "execution_count": 114,
     "metadata": {},
     "output_type": "execute_result"
    }
   ],
   "source": [
    ">>> data.std()"
   ]
  },
  {
   "cell_type": "markdown",
   "metadata": {},
   "source": [
    "On peut combiner sélection et methodes :"
   ]
  },
  {
   "cell_type": "code",
   "execution_count": 115,
   "metadata": {
    "collapsed": false
   },
   "outputs": [
    {
     "data": {
      "text/plain": [
       "4"
      ]
     },
     "execution_count": 115,
     "metadata": {},
     "output_type": "execute_result"
    }
   ],
   "source": [
    ">>> data[0:2, 1].max()"
   ]
  },
  {
   "cell_type": "markdown",
   "metadata": {},
   "source": [
    "La plupart des fonctions offertes par Numpy permettent de spécifier dans quel axe effectuer les opérations:"
   ]
  },
  {
   "cell_type": "code",
   "execution_count": 116,
   "metadata": {
    "collapsed": false
   },
   "outputs": [
    {
     "data": {
      "text/plain": [
       "array([2, 4, 6])"
      ]
     },
     "execution_count": 116,
     "metadata": {},
     "output_type": "execute_result"
    }
   ],
   "source": [
    ">>> data.max(axis=0) # par default\n",
    "\n",
    ">>> data.max(axis=1)"
   ]
  },
  {
   "cell_type": "markdown",
   "metadata": {},
   "source": [
    "La librairie Numpy possède de nombreuses fonctions utiles. Voir dir(numpy) puis utiliser help() (ou le ? dans IPython). Parmi les plus utiles:\n",
    "\n",
    "* max, min, argmin, argmax, mean, std, sum, abs, ...\n",
    "\n",
    "* arange\n",
    "\n",
    "* ones, zeros, empty\n",
    "\n",
    "* cos, sin, log10, exp, etc…"
   ]
  },
  {
   "cell_type": "markdown",
   "metadata": {},
   "source": [
    "<div class='exercice'>\n",
    "<h1>Exercice</h1>\n",
    "Quel est la valeur maximum de ip ? A quel temps *t* ip est-il maximum ?\n",
    "</div>\n",
    "\n",
    "Help: numpy.argmax? "
   ]
  },
  {
   "cell_type": "markdown",
   "metadata": {},
   "source": [
    "## Visualisation\n",
    "La librairie \"officielle\" (en fait, plutôt un standard de facto) pour tracer des données s'appelle Matplotlib."
   ]
  },
  {
   "cell_type": "code",
   "execution_count": 119,
   "metadata": {
    "collapsed": false
   },
   "outputs": [
    {
     "data": {
      "text/plain": [
       "[<matplotlib.lines.Line2D at 0x784e898>]"
      ]
     },
     "execution_count": 119,
     "metadata": {},
     "output_type": "execute_result"
    },
    {
     "data": {
      "image/png": "[encoded data removed]",
      "text/plain": [
       "<matplotlib.figure.Figure at 0x7662668>"
      ]
     },
     "metadata": {},
     "output_type": "display_data"
    }
   ],
   "source": [
    "import matplotlib.pyplot\n",
    "%matplotlib inline\n",
    "\n",
    "matplotlib.pyplot.plot(t, ip)"
   ]
  },
  {
   "cell_type": "markdown",
   "metadata": {},
   "source": [
    "pyplot est un module de matplotlib qui propose des commandes similaires à celles utilisées avec matlab.\n",
    "\n",
    "On aime pas taper :"
   ]
  },
  {
   "cell_type": "code",
   "execution_count": 120,
   "metadata": {
    "collapsed": false
   },
   "outputs": [
    {
     "data": {
      "text/plain": [
       "[<matplotlib.lines.Line2D at 0x78d57f0>]"
      ]
     },
     "execution_count": 120,
     "metadata": {},
     "output_type": "execute_result"
    },
    {
     "data": {
      "image/png": "[encoded data removed]",
      "text/plain": [
       "<matplotlib.figure.Figure at 0x76d8668>"
      ]
     },
     "metadata": {},
     "output_type": "display_data"
    }
   ],
   "source": [
    ">>> import numpy as np\n",
    "\n",
    ">>> np.argmax(ip)\n",
    "\n",
    ">>> import matplotlib.pyplot as pp\n",
    "\n",
    ">>> pp.plot(t, ip)"
   ]
  },
  {
   "cell_type": "markdown",
   "metadata": {},
   "source": [
    "On peut aussi charger l'ensemble de librairie en mémoire:"
   ]
  },
  {
   "cell_type": "code",
   "execution_count": 121,
   "metadata": {
    "collapsed": false
   },
   "outputs": [
    {
     "data": {
      "text/plain": [
       "5823"
      ]
     },
     "execution_count": 121,
     "metadata": {},
     "output_type": "execute_result"
    },
    {
     "data": {
      "image/png": "[encoded data removed]",
      "text/plain": [
       "<matplotlib.figure.Figure at 0x78ae6d8>"
      ]
     },
     "metadata": {},
     "output_type": "display_data"
    }
   ],
   "source": [
    ">>> from matplotlib.pyplot import *\n",
    "\n",
    ">>> plot(t, ip)\n",
    "\n",
    ">>> from numpy import *\n",
    "\n",
    ">>> argmax(ip)"
   ]
  },
  {
   "cell_type": "markdown",
   "metadata": {},
   "source": [
    "Attention tout de meme : quand on fait cela, on ne sait pas ce qu'on importe dans la mémoire… Cela peut occasionner plus tard des surprises ! (est-ce la fonction sum() est celle de base de Python ou celle de Numpy ?)\n",
    "\n",
    "Dans IPython, on appelle le mode pylab :"
   ]
  },
  {
   "cell_type": "code",
   "execution_count": 124,
   "metadata": {
    "collapsed": false
   },
   "outputs": [
    {
     "name": "stdout",
     "output_type": "stream",
     "text": [
      "Using matplotlib backend: TkAgg\n",
      "Populating the interactive namespace from numpy and matplotlib\n"
     ]
    }
   ],
   "source": [
    ">>> %pylab\n",
    "%matplotlib inline"
   ]
  },
  {
   "cell_type": "markdown",
   "metadata": {},
   "source": [
    "→ mode utilisé par défaut a l'irfm, avec en + pywed. Pratique pour faire de l'analyse de données rapidement, mais attention si on veut faire des scripts autonomes : dans ce cas on conseille de ne pas importer l'ensemble des librairies (import *) mais plutot d'importer la librairie, éventuellement avec un raccourci (import xxx as). Pourquoi ? Python mojo \"explicite better than implicit\" (import this).\n",
    "\n",
    "matplotlib offre une interface très proche à celle de Matlab. On retrouve la plupart des commandes utilisées pour personnaliser un graphique"
   ]
  },
  {
   "cell_type": "markdown",
   "metadata": {},
   "source": [
    "* title()\n",
    "\n",
    "* xlabel(), ylabel()\n",
    "\n",
    "* grid() # grid(True) ou encore grid('on')\n",
    "\n",
    "* legend()\n",
    "\n",
    "* etc.\n",
    "\n",
    "Attention toutefois : si on retrouve beaucoup d'amis, certains on parfois des syntaxes légerement différente. Souvent, certaines de ces fonctions ont des options supplementaires que ne possede pas matlab : "
   ]
  },
  {
   "cell_type": "code",
   "execution_count": 125,
   "metadata": {
    "collapsed": false
   },
   "outputs": [
    {
     "data": {
      "text/plain": [
       "(0, 20)"
      ]
     },
     "execution_count": 125,
     "metadata": {},
     "output_type": "execute_result"
    },
    {
     "data": {
      "image/png": "[encoded data removed]",
      "text/plain": [
       "<matplotlib.figure.Figure at 0x7e33ba8>"
      ]
     },
     "metadata": {},
     "output_type": "display_data"
    }
   ],
   "source": [
    "# on peut définir la légende directement ici\n",
    ">>> plot(t, ip, 'r--', linewidth=2, markersize=20, label='$I_p$') \n",
    "\n",
    ">>> xlabel('t [s]', fontsize=14, color= 'r', \n",
    "           rotation=20, fontstyle='italic', \n",
    "           fontweight='bold', alpha=0.6) \n",
    "\n",
    ">>> grid(True, axis='y', color=[.3,.3,.3], linestyle=':', linewidth=2)\n",
    "\n",
    ">>> legend()\n",
    "\n",
    ">>> xlim(0, 20)"
   ]
  },
  {
   "cell_type": "markdown",
   "metadata": {},
   "source": [
    "Comment faire pour ? →[http://matplotlib.org/api/pyplot_summary.html](http://matplotlib.org/api/pyplot_summary.html) et [http://matplotlib.org/gallery.html](http://matplotlib.org/gallery.html)"
   ]
  },
  {
   "cell_type": "markdown",
   "metadata": {},
   "source": [
    "<div class='exercice'>\n",
    "<h1>Exercice</h1>\n",
    "Tracer ip(t). Mettez-lui un titre et des labels aux axes\n",
    "</div>"
   ]
  },
  {
   "cell_type": "markdown",
   "metadata": {},
   "source": [
    "Matplotlib permet également de faire des subplots:"
   ]
  },
  {
   "cell_type": "code",
   "execution_count": 126,
   "metadata": {
    "collapsed": false
   },
   "outputs": [
    {
     "data": {
      "text/plain": [
       "[<matplotlib.lines.Line2D at 0x7de2400>]"
      ]
     },
     "execution_count": 126,
     "metadata": {},
     "output_type": "execute_result"
    },
    {
     "data": {
      "image/png": "[encoded data removed]",
      "text/plain": [
       "<matplotlib.figure.Figure at 0x79b3da0>"
      ]
     },
     "metadata": {},
     "output_type": "display_data"
    }
   ],
   "source": [
    ">>> figure(2)\n",
    "\n",
    ">>> subplot(211)\n",
    "\n",
    ">>> plot(t, ip)\n",
    "\n",
    ">>> subplot(212)\n",
    "\n",
    ">>> plot(t, 2*ip)"
   ]
  },
  {
   "cell_type": "markdown",
   "metadata": {},
   "source": [
    "Matplotlib subplot demo:\n",
    "\n",
    "[http://matplotlib.org/examples/pylab_examples/subplots_demo.html](http://matplotlib.org/examples/pylab_examples/subplots_demo.html)"
   ]
  },
  {
   "cell_type": "code",
   "execution_count": 127,
   "metadata": {
    "collapsed": false
   },
   "outputs": [
    {
     "data": {
      "text/html": [
       "<style>\n",
       "div.input {\n",
       "    width: 105ex; /* about 80 chars + buffer */\n",
       "}\n",
       "\n",
       ".input_prompt, .output_prompt {\n",
       "    /*margin-left: 50px;*/\n",
       "}\n",
       "\n",
       "div.text_cell {\n",
       "    width: 105ex /* instead of 100%, */\n",
       "    margin-left: 0px;\n",
       "}\n",
       "\n",
       ".CodeMirror {\n",
       "    font-family: Consolas, monospace;\n",
       "}\n",
       "\n",
       "div.text_cell_render{\n",
       "    /*font-family: \"Helvetica Neue\", Arial, Helvetica, Geneva, sans-serif;*/\n",
       "    font-family: \"Charis SIL\", serif; /* Make non-code text serif. */\n",
       "    line-height: 145%; /* added for some line spacing of text. */\n",
       "    width: 105ex; /* instead of 'inherit' for shorter lines */ \n",
       "    /*font-family: Computer Modern, \"Helvetica Neue\", Arial, Helvetica, Geneva, sans-serif;*/\n",
       "    font-size: 120%;\n",
       "    margin-left:0px;\n",
       "}\n",
       "\n",
       "div.text_cell_render h1 {\n",
       "\tfont-size: 24pt;\n",
       "\tcolor: rgb(192,80,77);\n",
       "\tbackground-color: rgb(245,245,245);\n",
       "}\n",
       "\n",
       "div.text_cell_render h2 {\n",
       "\tfont-size: 20pt;\n",
       "\tcolor: rgb(31,73,125);\n",
       "\tbackground-color: rgb(242,242,242);\n",
       "}\n",
       "\n",
       "div.objectives {\n",
       "    background-color: #FFFFCC;\n",
       "    margin-top: 10px;\n",
       "    margin-bottom: 5px;\n",
       "    padding: 10px;\n",
       "    color: inherit;\n",
       "    font-size: 16px;\n",
       "    font-family: inherit;\n",
       "    font-weight: 500;\n",
       "    line-height: 1.1;\n",
       "    border: 1px solid;\n",
       "    width: 600px;\n",
       "}\n",
       "\n",
       "div.exercice {\n",
       "    background-color: #CCCCFF;\n",
       "    margin-left: 100px;\n",
       "    margin-top: 5px;\n",
       "    margin-bottom: 5px;\n",
       "    padding: 5px;\n",
       "    color: inherit;\n",
       "    font-size: 16px;\n",
       "    font-family: inherit;\n",
       "    line-height: 1.1;\n",
       "    border: 1px solid #000;\n",
       "    width: 500px;\n",
       "}\n",
       "\n",
       "div.exercice h1{\n",
       "    text-align: left;\n",
       "    height: 20px;\n",
       "    line-height: 20px;\n",
       "    font-size: 15px;\n",
       "    color: #000;\n",
       "    background-color: inherit;\n",
       "}\n",
       "\n",
       "</style>"
      ],
      "text/plain": [
       "<IPython.core.display.HTML object>"
      ]
     },
     "execution_count": 127,
     "metadata": {},
     "output_type": "execute_result"
    }
   ],
   "source": [
    "from IPython import utils  \n",
    "from IPython.core.display import HTML  \n",
    "import os  \n",
    "def css_styling():  \n",
    "    \"\"\"Load the CSS sheet 'custom.css' located in the directory\"\"\"\n",
    "    styles = \"<style>\\n%s\\n</style>\" % (open('./custom.css','r').read())\n",
    "    return HTML(styles)\n",
    "css_styling()  "
   ]
  }
 ],
 "metadata": {
  "kernelspec": {
   "display_name": "Python 3",
   "language": "python",
   "name": "python3"
  },
  "language_info": {
   "codemirror_mode": {
    "name": "ipython",
    "version": 3
   },
   "file_extension": ".py",
   "mimetype": "text/x-python",
   "name": "python",
   "nbconvert_exporter": "python",
   "pygments_lexer": "ipython3",
   "version": "3.4.3"
  }
 },
 "nbformat": 4,
 "nbformat_minor": 0
}
