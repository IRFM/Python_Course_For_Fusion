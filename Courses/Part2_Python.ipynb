{
 "cells": [
  {
   "cell_type": "markdown",
   "metadata": {},
   "source": [
    "# Partie II. Repéter des actions\n",
    "## Objectifs\n",
    "<div class='objectives'> \n",
    "\n",
    " <ul> \n",
    "     <li>Expliquer ce qu est une liste</li> \n",
    "     <li>Expliquer les boucles en Python</li>\n",
    "     <li>Réaliser des boucles pour répéter des calculs simples (for,while)</li>\n",
    "     <li>Conditions</li>\n",
    "     <li>Dictionnaires</li>\n",
    "     <li>Fonctions</li>\n",
    " </ul>\n",
    "\n",
    "</div>"
   ]
  },
  {
   "cell_type": "code",
   "execution_count": null,
   "metadata": {
    "tags": []
   },
   "outputs": [],
   "source": [
    "import numpy as np"
   ]
  },
  {
   "cell_type": "markdown",
   "metadata": {},
   "source": [
    "## Listes"
   ]
  },
  {
   "cell_type": "markdown",
   "metadata": {},
   "source": [
    "Une liste est une manière de stocker plusieurs valeurs.\n",
    "\n",
    "Contrairement aux tableaux Numpy arrays, les listes Python sont \"livrées avec\" Python (pas besoin d'importer une librairie). Pour créer une liste, on mets des valeurs entre crochets séparés par des virgules :"
   ]
  },
  {
   "cell_type": "code",
   "execution_count": null,
   "metadata": {
    "collapsed": false,
    "jupyter": {
     "outputs_hidden": false
    }
   },
   "outputs": [],
   "source": [
    "infos = ['test', 123, 'pif']"
   ]
  },
  {
   "cell_type": "code",
   "execution_count": null,
   "metadata": {},
   "outputs": [],
   "source": [
    "type(infos)"
   ]
  },
  {
   "cell_type": "code",
   "execution_count": null,
   "metadata": {
    "collapsed": false,
    "jupyter": {
     "outputs_hidden": false
    }
   },
   "outputs": [],
   "source": [
    "impairs = [1, 3, 5, 7]\n",
    "print(impairs) "
   ]
  },
  {
   "cell_type": "markdown",
   "metadata": {},
   "source": [
    "Les éléments d une liste peuvent être de *type* différents : "
   ]
  },
  {
   "cell_type": "code",
   "execution_count": null,
   "metadata": {
    "tags": []
   },
   "outputs": [],
   "source": [
    "ma_liste = [42, 'pouet', 3.14]"
   ]
  },
  {
   "cell_type": "markdown",
   "metadata": {},
   "source": [
    "Les élements d'une liste sont accessible avec des indices, comme pour les chaines de caractere (en fait, une chaîne de caractère *est* une liste):"
   ]
  },
  {
   "cell_type": "code",
   "execution_count": null,
   "metadata": {
    "collapsed": false,
    "jupyter": {
     "outputs_hidden": false
    }
   },
   "outputs": [],
   "source": [
    "ma_liste[1]"
   ]
  },
  {
   "cell_type": "code",
   "execution_count": null,
   "metadata": {
    "collapsed": false,
    "jupyter": {
     "outputs_hidden": false
    }
   },
   "outputs": [],
   "source": [
    "ma_liste[0:2]"
   ]
  },
  {
   "cell_type": "markdown",
   "metadata": {},
   "source": [
    "Il est possible de modifier un élement d'une liste : "
   ]
  },
  {
   "cell_type": "code",
   "execution_count": null,
   "metadata": {
    "tags": []
   },
   "outputs": [],
   "source": [
    "impairs[2] = 42"
   ]
  },
  {
   "cell_type": "markdown",
   "metadata": {},
   "source": [
    "A noter qu'il n est pas possible de modifier un élement d'une string: il faut créer une nouvelle string à la place.\n",
    "on parle dans ce cas d'un objet immutable (string, numbers), au contraire d'objets mutables (list, array). "
   ]
  },
  {
   "cell_type": "markdown",
   "metadata": {},
   "source": [
    "__Attention__ : si deux variables se réferent à la même liste (mutable), changer l'une changera l autre ! "
   ]
  },
  {
   "cell_type": "code",
   "execution_count": null,
   "metadata": {
    "collapsed": false,
    "jupyter": {
     "outputs_hidden": false
    }
   },
   "outputs": [],
   "source": [
    "ma_liste = [1,2,3,4,5]\n",
    "print(ma_liste) "
   ]
  },
  {
   "cell_type": "code",
   "execution_count": null,
   "metadata": {
    "collapsed": false,
    "jupyter": {
     "outputs_hidden": false
    }
   },
   "outputs": [],
   "source": [
    "a = ma_liste\n",
    "a[2] = 42\n",
    "print(a) # ok"
   ]
  },
  {
   "cell_type": "code",
   "execution_count": null,
   "metadata": {
    "collapsed": false,
    "jupyter": {
     "outputs_hidden": false
    }
   },
   "outputs": [],
   "source": [
    "print(ma_liste) # attention !"
   ]
  },
  {
   "cell_type": "markdown",
   "metadata": {},
   "source": [
    "Si on veut que ces variables soient independantes, il faut en faire des copies en créant une nouvelle liste à partir d'une autre :"
   ]
  },
  {
   "cell_type": "code",
   "execution_count": null,
   "metadata": {
    "collapsed": false,
    "jupyter": {
     "outputs_hidden": false
    }
   },
   "outputs": [],
   "source": [
    "ma_liste = [1, 2, 3, 4, 5]\n",
    "a = list(ma_liste)  # !\n",
    "a[2] = 42\n",
    "print(a)\n",
    "print(ma_liste)"
   ]
  },
  {
   "cell_type": "markdown",
   "metadata": {},
   "source": [
    "idem avec des tableaux Numpy :"
   ]
  },
  {
   "cell_type": "code",
   "execution_count": null,
   "metadata": {
    "collapsed": false,
    "jupyter": {
     "outputs_hidden": false
    }
   },
   "outputs": [],
   "source": [
    "mon_array = np.array([1,2,3,4,5])\n",
    "a = mon_array\n",
    "a[2] = 42\n",
    "print(mon_array)\n",
    "print(a)"
   ]
  },
  {
   "cell_type": "code",
   "execution_count": null,
   "metadata": {
    "collapsed": false,
    "jupyter": {
     "outputs_hidden": false
    }
   },
   "outputs": [],
   "source": [
    "mon_array = np.array([1,2,3,4,5])\n",
    "a = mon_array.copy()  # !\n",
    "a[2] = 42\n",
    "print(mon_array)\n",
    "print(a)"
   ]
  },
  {
   "cell_type": "markdown",
   "metadata": {},
   "source": [
    "__Pourquoi?__ → performance en tête, quand les listes sont très grandes. "
   ]
  },
  {
   "cell_type": "markdown",
   "metadata": {},
   "source": [
    "Pour ajouter un élement à une liste existante :"
   ]
  },
  {
   "cell_type": "code",
   "execution_count": null,
   "metadata": {
    "collapsed": false,
    "jupyter": {
     "outputs_hidden": false
    }
   },
   "outputs": [],
   "source": [
    "ma_liste.append(100)  # ajoute à la fin de la liste\n",
    "print(ma_liste)"
   ]
  },
  {
   "cell_type": "markdown",
   "metadata": {},
   "source": [
    "Avec la méthode `append()`, on ajoute directement à la dernière position de la liste : très pratique dans les boucles."
   ]
  },
  {
   "cell_type": "markdown",
   "metadata": {},
   "source": [
    "Pour supprimer un élement de la liste (et renvoyer sa valeur), la méthode `pop()`:"
   ]
  },
  {
   "cell_type": "code",
   "execution_count": null,
   "metadata": {
    "collapsed": false,
    "jupyter": {
     "outputs_hidden": false
    }
   },
   "outputs": [],
   "source": [
    "ma_liste.pop(0) # or : del ma_liste[0]\n",
    "print(ma_liste)"
   ]
  },
  {
   "cell_type": "markdown",
   "metadata": {},
   "source": [
    "Pour insérer un élement dans une liste, la méthode `insert()`:"
   ]
  },
  {
   "cell_type": "code",
   "execution_count": null,
   "metadata": {
    "collapsed": false,
    "jupyter": {
     "outputs_hidden": false
    }
   },
   "outputs": [],
   "source": [
    "ma_liste.insert(3, 'test')\n",
    "print(ma_liste)"
   ]
  },
  {
   "cell_type": "markdown",
   "metadata": {},
   "source": [
    "Les listes ont un certain nombre de méthodes et attributs, cf:"
   ]
  },
  {
   "cell_type": "markdown",
   "metadata": {},
   "source": [
    "    dir(ma_liste)"
   ]
  },
  {
   "cell_type": "markdown",
   "metadata": {},
   "source": [
    "En particulier:\n",
    " - remove(value) : supprime la première occurence de `value` \n",
    " - count(value) : compte le nombre d'occurences d'une valeur `value`.\n",
    " - sort() : tri\n",
    " \n",
    "etc."
   ]
  },
  {
   "cell_type": "markdown",
   "metadata": {},
   "source": [
    "Nombre d'élements d'une liste :"
   ]
  },
  {
   "cell_type": "code",
   "execution_count": null,
   "metadata": {
    "collapsed": false,
    "jupyter": {
     "outputs_hidden": false
    }
   },
   "outputs": [],
   "source": [
    "len(ma_liste)"
   ]
  },
  {
   "cell_type": "markdown",
   "metadata": {},
   "source": [
    "<div class='exercice'><h3>Exercice</h3>\n",
    "Créez une liste et modifiez ses élements. Ajouter des élements (append, insert), supprimez-en (pop, remove)\n",
    "</div>"
   ]
  },
  {
   "cell_type": "markdown",
   "metadata": {},
   "source": [
    "## Tuples\n",
    "Un tuple c'est comme une liste, sauf qu'elle est _immutable_ : on ne peut pas modifier un tuple apres sa création. Pour créer un tuple, on utilise des parentheses :"
   ]
  },
  {
   "cell_type": "code",
   "execution_count": null,
   "metadata": {
    "tags": []
   },
   "outputs": [],
   "source": [
    "un_tuple = (1, 2, 3)"
   ]
  },
  {
   "cell_type": "markdown",
   "metadata": {},
   "source": [
    "Pour indexer un tuple, on utilise toujours les crochets [] (comme pour les listes)"
   ]
  },
  {
   "cell_type": "code",
   "execution_count": null,
   "metadata": {
    "collapsed": false,
    "jupyter": {
     "outputs_hidden": false
    }
   },
   "outputs": [],
   "source": [
    "un_tuple[1]"
   ]
  },
  {
   "cell_type": "markdown",
   "metadata": {},
   "source": [
    "__Attention__ : un tuple avec un seul element necessite une virgule avant de fermer la parenthèse :"
   ]
  },
  {
   "cell_type": "code",
   "execution_count": null,
   "metadata": {
    "tags": []
   },
   "outputs": [],
   "source": [
    "un_tuple_simple = (1, )"
   ]
  },
  {
   "cell_type": "markdown",
   "metadata": {},
   "source": [
    "car sinon, Python considera que c'est autre chose qu'un tuple (ici un entier). Exemple:"
   ]
  },
  {
   "cell_type": "code",
   "execution_count": null,
   "metadata": {
    "collapsed": false,
    "jupyter": {
     "outputs_hidden": false
    }
   },
   "outputs": [],
   "source": [
    "type( (1) )"
   ]
  },
  {
   "cell_type": "code",
   "execution_count": null,
   "metadata": {
    "collapsed": false,
    "jupyter": {
     "outputs_hidden": false
    }
   },
   "outputs": [],
   "source": [
    "type( (1,) ) "
   ]
  },
  {
   "cell_type": "markdown",
   "metadata": {},
   "source": [
    "Si le contexte est suffisamment clair, on a pas besoin de mettre les parenthèse:"
   ]
  },
  {
   "cell_type": "code",
   "execution_count": null,
   "metadata": {
    "tags": []
   },
   "outputs": [],
   "source": [
    "un_tuple = 1, 2, 3"
   ]
  },
  {
   "cell_type": "markdown",
   "metadata": {},
   "source": [
    "et là, vous reconnaissez le multi-assignement de tout à l'heure: "
   ]
  },
  {
   "cell_type": "code",
   "execution_count": null,
   "metadata": {
    "collapsed": false,
    "jupyter": {
     "outputs_hidden": false
    }
   },
   "outputs": [],
   "source": [
    "un, deux, trois = 1, 2, 3 #  'unpacking'"
   ]
  },
  {
   "cell_type": "markdown",
   "metadata": {},
   "source": [
    "En fonction du contexte, Python va \"dépaqueter\" (*unpack*) les tuples dans les variables. Mais attention, le nombre de variable doit être celui attendu :"
   ]
  },
  {
   "cell_type": "markdown",
   "metadata": {
    "tags": [
     "raises-exception"
    ]
   },
   "source": [
    "**Important**: Une fonction qui renvoie plusieurs variables renvoie un tuple.  "
   ]
  },
  {
   "cell_type": "code",
   "execution_count": null,
   "metadata": {
    "collapsed": false,
    "jupyter": {
     "outputs_hidden": false
    }
   },
   "outputs": [],
   "source": [
    "un = 1,2,3\n",
    "print(un)"
   ]
  },
  {
   "cell_type": "code",
   "execution_count": null,
   "metadata": {
    "tags": [
     "raises-exception"
    ]
   },
   "outputs": [],
   "source": [
    "un, deux = 1,2,3"
   ]
  },
  {
   "cell_type": "markdown",
   "metadata": {},
   "source": [
    "→ Python s'attend à avoir trois variables et n'en trouve que deux : erreur !\n",
    "\n",
    "* revenir sur PyWED : combien de variable en sortie ? \n",
    "* Prendre deux exemples avec 3 ou 4 output : SIPMES, GPHYB\n",
    "* expliquer le nargout=2 --> utilisé pour avoir un comportement 'similaire' à Matlab\n",
    "* faire un exemple."
   ]
  },
  {
   "cell_type": "markdown",
   "metadata": {},
   "source": [
    "<div class='exercice'><h3>Exercice</h3>\n",
    "Récupérez votre signal favori (avec ou sans nargout=)\n",
    "</div>"
   ]
  },
  {
   "cell_type": "code",
   "execution_count": null,
   "metadata": {},
   "outputs": [],
   "source": [
    "from pywed import tsbase"
   ]
  },
  {
   "cell_type": "code",
   "execution_count": null,
   "metadata": {
    "collapsed": false,
    "jupyter": {
     "outputs_hidden": false
    }
   },
   "outputs": [],
   "source": [
    "ip, t_ip = tsbase(47979, 'sipmes', nargout = 2)\n",
    "plh, t_plh = tsbase(47979, 'gphyb', nargout = 2)"
   ]
  },
  {
   "cell_type": "code",
   "execution_count": null,
   "metadata": {
    "collapsed": false,
    "jupyter": {
     "outputs_hidden": false
    }
   },
   "outputs": [],
   "source": [
    "# La fonction suivante retourne le reste de la division et son modulo\n",
    "q, r = divmod(9, 3) # ((x - x%y)/y, x%y) Invariant: div*y + mod == x\n",
    "print('q=', q, 'r=', r)"
   ]
  },
  {
   "cell_type": "code",
   "execution_count": null,
   "metadata": {
    "collapsed": false,
    "jupyter": {
     "outputs_hidden": false
    }
   },
   "outputs": [],
   "source": [
    "result = divmod(9, 3)\n",
    "type(result)"
   ]
  },
  {
   "cell_type": "markdown",
   "metadata": {},
   "source": [
    "## Boucles for\n",
    "Supposons que l'on souhaite itérer sur les caractères d'une chaîne ou bien sur les élements d'une liste. La syntaxe d'une boucle for en Python est la suivante :\n",
    "```\n",
    "for variable in collection:\n",
    "    do things with variable...\n",
    "```"
   ]
  },
  {
   "cell_type": "markdown",
   "metadata": {},
   "source": [
    "Notez deux choses : \n",
    " - le \":\" \n",
    " - l'indentation : tout ce qui est dans la boucle est indenté\n",
    " \n",
    "En Python on *doit* indenter tout ce qui doit être inclus dans la boucle. Contrairement à beaucoup d'autres langages, il n'y a pas de commande ni de caractère spécial pour mettre fin à une boucle (accolades `{}`, ou mots clefs comme `end for`).\n",
    "\n",
    "Traditionnally, 4 spaces per level are used to indent all block codes. (No TAB !)\n",
    "\n",
    "It is a codification of what is a best practice cording style in many other langages. These kinds of best practices allow easiest code sharing "
   ]
  },
  {
   "cell_type": "code",
   "execution_count": null,
   "metadata": {
    "collapsed": false,
    "jupyter": {
     "outputs_hidden": false
    }
   },
   "outputs": [],
   "source": [
    "# it quite common to put a 's' at the end of variables that are list, like:\n",
    "numbers = [10, 20, 30, 40, 50]\n",
    "for number in numbers:\n",
    "    print(number)"
   ]
  },
  {
   "cell_type": "markdown",
   "metadata": {},
   "source": [
    "<div class='exercice'>\n",
    "    <h3>Exercice</h3>\n",
    "Une chaine de caractère, peut être parcourue caractères par caractères dans une boucle! Réalisez une boucle for qui affiche chaque caractère d'une chaîne à partir de l'exemple précédent.\n",
    "</div>"
   ]
  },
  {
   "cell_type": "code",
   "execution_count": null,
   "metadata": {
    "collapsed": false,
    "jupyter": {
     "outputs_hidden": false
    }
   },
   "outputs": [],
   "source": [
    "word = 'fusion'\n",
    "for char in word:\n",
    "    print(char)"
   ]
  },
  {
   "cell_type": "markdown",
   "metadata": {},
   "source": [
    "Voici un autre exemple de boucle qui modifie une variable. "
   ]
  },
  {
   "cell_type": "code",
   "execution_count": null,
   "metadata": {
    "collapsed": false,
    "jupyter": {
     "outputs_hidden": false
    }
   },
   "outputs": [],
   "source": [
    "length = 0\n",
    "for vowel in 'aeiou':\n",
    "    length = length + 1  # or lenght += 1\n",
    "print('There are', length, 'vowels')"
   ]
  },
  {
   "cell_type": "markdown",
   "metadata": {},
   "source": [
    "On peut utiliser le 'dépaquetage' pour simplifier le parcous des listes plus complexes:"
   ]
  },
  {
   "cell_type": "code",
   "execution_count": null,
   "metadata": {
    "collapsed": false,
    "jupyter": {
     "outputs_hidden": false
    }
   },
   "outputs": [],
   "source": [
    "couples = [[1,10], [2,20], [3,30], [4,40]]\n",
    "print(couples)"
   ]
  },
  {
   "cell_type": "code",
   "execution_count": null,
   "metadata": {
    "collapsed": false,
    "jupyter": {
     "outputs_hidden": false
    }
   },
   "outputs": [],
   "source": [
    "for (idx, val) in couples:\n",
    "    print(idx, val)"
   ]
  },
  {
   "cell_type": "markdown",
   "metadata": {},
   "source": [
    "En calcul numérique, on a parfois besoin de l'index du tableau (bien que rarement en Python). La fonction enumerate renvoie l'index et la valeur:"
   ]
  },
  {
   "cell_type": "code",
   "execution_count": null,
   "metadata": {
    "collapsed": false,
    "jupyter": {
     "outputs_hidden": false
    }
   },
   "outputs": [],
   "source": [
    "liste = ['test', 29797, 'GPHYB']\n",
    "for (idx, val) in enumerate(liste):\n",
    "    print(idx, val)"
   ]
  },
  {
   "cell_type": "markdown",
   "metadata": {},
   "source": [
    "**NB**: A very strong idiom in Python is to use a singular noun for the loop variable name and a plural noun for the iterable variable:\n",
    "\n",
    "    for shot in shots:\n",
    "    "
   ]
  },
  {
   "cell_type": "markdown",
   "metadata": {},
   "source": [
    "__Utile !__ : Il est possible de réaliser des boucles `for` en redéfinissant l'indice de départ (à 1 par exemple) grâce à la fonction `enumerate` :"
   ]
  },
  {
   "cell_type": "code",
   "execution_count": null,
   "metadata": {
    "collapsed": false,
    "jupyter": {
     "outputs_hidden": false
    }
   },
   "outputs": [],
   "source": [
    "u = [10, 20, 30, 40]\n",
    "for idx, val in enumerate(u, start=1):\n",
    "    print(idx, val)"
   ]
  },
  {
   "cell_type": "markdown",
   "metadata": {},
   "source": [
    "<div class='exercice'>\n",
    "<h3>Exercice</h3>\n",
    "Réalisez une boucle qui récupère des signaux TS de plusieurs chocs, pour les enregistre dans une liste. \n",
    "Aide : avant d'écrire dans une liste, il faut que cette dernière existe au préalable (elle peut être vide). `exemple = []`.\n",
    "</div>"
   ]
  },
  {
   "cell_type": "code",
   "execution_count": null,
   "metadata": {
    "collapsed": false,
    "jupyter": {
     "outputs_hidden": false
    }
   },
   "outputs": [],
   "source": [
    "shots = [47979, 47978, 47981]\n",
    "sig = []\n",
    "time = []\n",
    "for shot in shots:\n",
    "    sig.append(np.ones((1,100)))\n",
    "    time.append(np.ones((1,100)))\n",
    "    \n",
    "print(time)\n",
    "print(len(time))"
   ]
  },
  {
   "cell_type": "markdown",
   "metadata": {},
   "source": [
    "## Boucles While"
   ]
  },
  {
   "cell_type": "markdown",
   "metadata": {},
   "source": [
    "Fontionnement similaire aux boucles for:"
   ]
  },
  {
   "cell_type": "code",
   "execution_count": null,
   "metadata": {
    "collapsed": false,
    "jupyter": {
     "outputs_hidden": false
    }
   },
   "outputs": [],
   "source": [
    "a = 5\n",
    "while a != 0:\n",
    "    a -= 1\n",
    "    print(a)"
   ]
  },
  {
   "cell_type": "markdown",
   "metadata": {},
   "source": [
    "## Conditions"
   ]
  },
  {
   "cell_type": "markdown",
   "metadata": {},
   "source": [
    "Les tests (if) fonctionnent eux-aussi en indendant le code (n'oubliez pas le `:` et l'identation !)"
   ]
  },
  {
   "cell_type": "code",
   "execution_count": null,
   "metadata": {
    "collapsed": false,
    "jupyter": {
     "outputs_hidden": false
    }
   },
   "outputs": [],
   "source": [
    "shot_exist = True\n",
    "if shot_exist:\n",
    "    print('The shot exists.')"
   ]
  },
  {
   "cell_type": "code",
   "execution_count": null,
   "metadata": {
    "collapsed": false,
    "jupyter": {
     "outputs_hidden": false
    }
   },
   "outputs": [],
   "source": [
    "user_choice = 'no'\n",
    "# there is no switch/case operators in Python. Use if/elif/else :\n",
    "if user_choice == 'yes':\n",
    "    print('yes')\n",
    "elif user_choice in ('no', 'N'): # more elegant way to test inclusion\n",
    "    print('no')\n",
    "else:\n",
    "    print('bad answer. Should be yes or no !')"
   ]
  },
  {
   "cell_type": "markdown",
   "metadata": {},
   "source": [
    "<div class='exercice'><h3>Exercice</h3>\n",
    "Réalisez une condition pour tester la valeur maximum du courant plasma d'un choc.\n",
    "</div>"
   ]
  },
  {
   "cell_type": "markdown",
   "metadata": {},
   "source": [
    "## Fonctions"
   ]
  },
  {
   "cell_type": "markdown",
   "metadata": {},
   "source": [
    "* Function blocks are also defined using indentation and the `def` keyword."
   ]
  },
  {
   "cell_type": "code",
   "execution_count": null,
   "metadata": {
    "collapsed": false,
    "jupyter": {
     "outputs_hidden": false
    }
   },
   "outputs": [],
   "source": [
    "def f(x):\n",
    "    return x**2\n",
    "\n",
    "f(4)"
   ]
  },
  {
   "cell_type": "markdown",
   "metadata": {},
   "source": [
    "* A function can take zero, one or infinite input arguments.\n",
    "* Optionnal input arguments with *default values* can be defined (*keyword* argument)"
   ]
  },
  {
   "cell_type": "code",
   "execution_count": null,
   "metadata": {
    "collapsed": false,
    "jupyter": {
     "outputs_hidden": false
    }
   },
   "outputs": [],
   "source": [
    "def g(a, b, c=1):\n",
    "    print(a, b, c)\n",
    "\n",
    "g(1, 2)\n",
    "g(1, 2, 3)"
   ]
  },
  {
   "cell_type": "markdown",
   "metadata": {},
   "source": [
    "* A function can only returns *one* variable (a tuple in fact!)\n",
    "* but this tuple can contain multiple valules !"
   ]
  },
  {
   "cell_type": "code",
   "execution_count": null,
   "metadata": {
    "collapsed": false,
    "jupyter": {
     "outputs_hidden": false
    }
   },
   "outputs": [],
   "source": [
    "def g(a,b,c=1):\n",
    "    # returns a Tuple of two values. \n",
    "    # Could be written (a*2, a+b+c) as well. \n",
    "    return a*2, a+b+c\n",
    "\n",
    "print(g(1,2)) # assumes c=1\n",
    "print(g(1,2,3))"
   ]
  },
  {
   "cell_type": "markdown",
   "metadata": {},
   "source": [
    "<div class='exercice'><h3>Exercice</h3>\n",
    "Créez une fonction qui retourne y=a*x+b en donnant a et b. Appliquez cette fonction à une liste de nombres.\n",
    "</div>"
   ]
  },
  {
   "cell_type": "code",
   "execution_count": null,
   "metadata": {
    "collapsed": false,
    "jupyter": {
     "outputs_hidden": false
    }
   },
   "outputs": [],
   "source": [
    "def y(x,a=2,b=1):\n",
    "    y = a*x + b\n",
    "    return y\n",
    "\n",
    "vals = [1,2,3,4,5]\n",
    "new_vals = []\n",
    "\n",
    "for val in vals:\n",
    "    new_vals.append(y(val))\n",
    "    \n",
    "print(vals, new_vals)    "
   ]
  },
  {
   "cell_type": "markdown",
   "metadata": {},
   "source": [
    "* Also possible: a variable number of arguments"
   ]
  },
  {
   "cell_type": "code",
   "execution_count": null,
   "metadata": {
    "collapsed": false,
    "jupyter": {
     "outputs_hidden": false
    }
   },
   "outputs": [],
   "source": [
    "def h(*x):\n",
    "    print(x)\n",
    "\n",
    "h(1)\n",
    "h(1, 'fusion', [1,2,3])"
   ]
  },
  {
   "cell_type": "markdown",
   "metadata": {},
   "source": [
    "* Or using a variable number of keyword arguments (paramètres nommés)"
   ]
  },
  {
   "cell_type": "code",
   "execution_count": null,
   "metadata": {
    "collapsed": false,
    "jupyter": {
     "outputs_hidden": false
    }
   },
   "outputs": [],
   "source": [
    "def h2(*args, **kwargs):\n",
    "    print(args, kwargs)\n",
    "h2(1, 5, 6)    \n",
    "h2([1,2,3], 'yes', option='test')"
   ]
  },
  {
   "cell_type": "markdown",
   "metadata": {},
   "source": [
    "## Dictionnary"
   ]
  },
  {
   "cell_type": "markdown",
   "metadata": {},
   "source": [
    "Imaginons le cas de figure suivant: vous souhaitez vous faire votre propre petite base de données de choc, où pour chaque numéro de choc vous voudriez associer un commentaire. \n",
    "<div class='exercice'><h3>Exercice</h3>\n",
    "réaliser ce cas figure.\n",
    "</div>\n",
    "\n",
    "Cela pourrait se faire de la façon suivante, en utilisant une liste de listes :"
   ]
  },
  {
   "cell_type": "code",
   "execution_count": null,
   "metadata": {},
   "outputs": [],
   "source": [
    "ma_base = [ [47979, 'super choc'], [47980, 'raté!']]"
   ]
  },
  {
   "cell_type": "markdown",
   "metadata": {},
   "source": [
    "Maintenant, comment faire pour obtenir le commentaire associé à un numéro de choc donné ? \n",
    "\n",
    "<div class='exercice'><h3>Exercice</h3>\n",
    "réalisez une fonction qui donne le commentaire associé à un numéro de choc\n",
    "</div>\n",
    "\n",
    "Pour cela, on peut faire la fonction ci-dessous qui va faire le job:  "
   ]
  },
  {
   "cell_type": "code",
   "execution_count": null,
   "metadata": {
    "collapsed": false,
    "jupyter": {
     "outputs_hidden": false
    }
   },
   "outputs": [],
   "source": [
    "def get_comment(base, choc):\n",
    "    for (num_choc, comment) in base:\n",
    "        if num_choc == choc:\n",
    "            return comment\n",
    "print(get_comment(ma_base, 47979))\n",
    "print(get_comment(ma_base, 12345)) # un choc mémorable !"
   ]
  },
  {
   "cell_type": "markdown",
   "metadata": {},
   "source": [
    "Tout ça fonctionne. Mais il y'a une meilleur manière de faire cela.\n",
    "\n",
    "Un _dictionnaire_ est un objet Python qui permet d'associer à une clef (*key*) une valeur (*value*). Une clef peut être n'importe quel ojbet Python (chaine, nombre, etc), mais est _unique_. Pour créer un dictionnaire on utilise les symboles {} et on associe à une clé une valeur par la syntaxe `key:value`. \n",
    "\n",
    "L'exemple précédent serait, sous la forme d'un dictionnaire :"
   ]
  },
  {
   "cell_type": "code",
   "execution_count": null,
   "metadata": {
    "collapsed": false,
    "jupyter": {
     "outputs_hidden": false
    }
   },
   "outputs": [],
   "source": [
    "ma_base_dict = {47979:'super choc', 47980:'raté!'}  #  key: value\n",
    "\n",
    "print(ma_base_dict)"
   ]
  },
  {
   "cell_type": "code",
   "execution_count": null,
   "metadata": {},
   "outputs": [],
   "source": [
    "# autre manière de créer un dictionnaire:\n",
    "dict([\n",
    "    [49797, 'super choc'],  # key1, associated value\n",
    "    [47980, 'raté!']   # key2, associated value\n",
    "])\n"
   ]
  },
  {
   "cell_type": "code",
   "execution_count": null,
   "metadata": {
    "collapsed": false,
    "jupyter": {
     "outputs_hidden": false
    }
   },
   "outputs": [],
   "source": [
    "type(ma_base_dict)"
   ]
  },
  {
   "cell_type": "markdown",
   "metadata": {},
   "source": [
    "Pour on accède aux valeurs en utilisant la clé pour indexer :"
   ]
  },
  {
   "cell_type": "code",
   "execution_count": null,
   "metadata": {
    "collapsed": false,
    "jupyter": {
     "outputs_hidden": false
    }
   },
   "outputs": [],
   "source": [
    "ma_base_dict[47979]"
   ]
  },
  {
   "cell_type": "code",
   "execution_count": null,
   "metadata": {
    "collapsed": false,
    "jupyter": {
     "outputs_hidden": false
    },
    "tags": [
     "raises-exception"
    ]
   },
   "outputs": [],
   "source": [
    "ma_base_dict[12345] # retourne une erreur si la clé n'existe pas."
   ]
  },
  {
   "cell_type": "markdown",
   "metadata": {},
   "source": [
    "Voici un autre exemple: "
   ]
  },
  {
   "cell_type": "code",
   "execution_count": null,
   "metadata": {
    "collapsed": false,
    "jupyter": {
     "outputs_hidden": false
    }
   },
   "outputs": [],
   "source": [
    "personne = {'nom':'Hillairet', \n",
    "           'prenom':'Julien', \n",
    "           'date_naissance': [1981,11,20], \n",
    "           1: 3.14, \n",
    "           1.7: 124}\n",
    "print(personne)"
   ]
  },
  {
   "cell_type": "markdown",
   "metadata": {},
   "source": [
    "On accède aux valeurs du dictionnaire à partir de sa clef : "
   ]
  },
  {
   "cell_type": "code",
   "execution_count": null,
   "metadata": {
    "collapsed": false,
    "jupyter": {
     "outputs_hidden": false
    }
   },
   "outputs": [],
   "source": [
    "personne['nom']"
   ]
  },
  {
   "cell_type": "code",
   "execution_count": null,
   "metadata": {
    "collapsed": false,
    "jupyter": {
     "outputs_hidden": false
    }
   },
   "outputs": [],
   "source": [
    "personne[1]"
   ]
  },
  {
   "cell_type": "markdown",
   "metadata": {},
   "source": [
    "Il est possible de créer de nouvelles combinaisons clef/valeurs à la volée :"
   ]
  },
  {
   "cell_type": "code",
   "execution_count": null,
   "metadata": {},
   "outputs": [],
   "source": [
    "personne['nb_de_kangoo'] = 1"
   ]
  },
  {
   "cell_type": "markdown",
   "metadata": {},
   "source": [
    "On peut parcourir tous les élements d'un dictionnaire de plusieurs façon. Si on fait une boucle sur la liste, on va parcourir les clefs:"
   ]
  },
  {
   "cell_type": "code",
   "execution_count": null,
   "metadata": {
    "collapsed": false,
    "jupyter": {
     "outputs_hidden": false
    }
   },
   "outputs": [],
   "source": [
    "for item in personne: # one could write also personne.keys(), it's more explicit\n",
    "    print(item)"
   ]
  },
  {
   "cell_type": "markdown",
   "metadata": {},
   "source": [
    "Notez que l'ordre de parcours est *totalement imprévisible* et c'est normal, car les dictionnaires ne sont pas des structures *ordonnées*.\n",
    "\n",
    "Pour parcourir les valeurs:"
   ]
  },
  {
   "cell_type": "code",
   "execution_count": null,
   "metadata": {
    "collapsed": false,
    "jupyter": {
     "outputs_hidden": false
    }
   },
   "outputs": [],
   "source": [
    "for val in personne.values():\n",
    "    print(val)"
   ]
  },
  {
   "cell_type": "markdown",
   "metadata": {},
   "source": [
    "Enfin, pour parcourir à la fois les clefs et les valeurs, on utilise la méthode `items()`, qui renvoie le dictionnaire sous la forme d'une liste de tuples :"
   ]
  },
  {
   "cell_type": "code",
   "execution_count": null,
   "metadata": {
    "collapsed": false,
    "jupyter": {
     "outputs_hidden": false
    }
   },
   "outputs": [],
   "source": [
    "personne.items()"
   ]
  },
  {
   "cell_type": "code",
   "execution_count": null,
   "metadata": {
    "collapsed": false,
    "jupyter": {
     "outputs_hidden": false
    }
   },
   "outputs": [],
   "source": [
    "for (key,val) in personne.items():\n",
    "    print(key, ' --> ', val)   "
   ]
  },
  {
   "cell_type": "markdown",
   "metadata": {},
   "source": [
    "Les dictionnaires ont de nombreuses méthodes, comme par exemple :"
   ]
  },
  {
   "cell_type": "code",
   "execution_count": null,
   "metadata": {
    "collapsed": false,
    "jupyter": {
     "outputs_hidden": false
    }
   },
   "outputs": [],
   "source": [
    "# Pour ajouter ou MàJ une valeur:\n",
    "personne.update({'quote':\"\"\"Don't believe every quote \n",
    "           you read on the internet, because I totally didn't say that.\n",
    "           Einstein.\"\"\"})\n",
    "\n",
    "# remove specified key and return the corresponding value.\n",
    "# and returns it \n",
    "personne.pop(1) # or del my_dict[1]"
   ]
  },
  {
   "cell_type": "code",
   "execution_count": null,
   "metadata": {
    "collapsed": false,
    "jupyter": {
     "outputs_hidden": false
    }
   },
   "outputs": [],
   "source": [
    "personne"
   ]
  },
  {
   "cell_type": "markdown",
   "metadata": {},
   "source": [
    "Les paramètres nommés d'une fonction sont en fait un dictionnaire:"
   ]
  },
  {
   "cell_type": "code",
   "execution_count": null,
   "metadata": {
    "collapsed": false,
    "jupyter": {
     "outputs_hidden": false
    }
   },
   "outputs": [],
   "source": [
    "def coucou(**parametres):\n",
    "    print(parametres)\n",
    "    \n",
    "coucou(a=1, b=2, c='salut')"
   ]
  },
  {
   "cell_type": "markdown",
   "metadata": {},
   "source": [
    "<div class='exercice'><h3>Exercice</h3>\n",
    "Créez une liste de numéro de choc et une liste de noms de signaux. Pour chacun des chocs, récupérez les signaux correspondant aux noms de signaux et stocker le tout dans un dictionnaire avec des clefs (choc,signame).\n",
    "</div>"
   ]
  },
  {
   "cell_type": "code",
   "execution_count": null,
   "metadata": {
    "collapsed": false,
    "jupyter": {
     "outputs_hidden": false
    }
   },
   "outputs": [],
   "source": [
    "chocs = [47979, 47982]\n",
    "signames = ['SIPMES', 'GPHYB']\n",
    "ma_base = dict() # ou {}\n",
    "\n",
    "for choc in chocs:\n",
    "    for signame in signames:\n",
    "        y,t = 1,2#tsbase(choc, signame, nargout=2)\n",
    "        ma_base[(choc, signame, 't')] = t\n",
    "        ma_base[(choc, signame, 'val')] = val"
   ]
  },
  {
   "cell_type": "code",
   "execution_count": null,
   "metadata": {
    "collapsed": false,
    "jupyter": {
     "outputs_hidden": false
    }
   },
   "outputs": [],
   "source": [
    "\"\"\"Load the CSS sheet 'custom.css' located in the directory\"\"\"\n",
    "from IPython.display import HTML  \n",
    "styles = f'<style>\\n{open(\"./custom.css\",\"r\").read()}\\n</style>'\n",
    "HTML(styles)"
   ]
  }
 ],
 "metadata": {
  "kernelspec": {
   "display_name": "tools_dc",
   "language": "python",
   "name": "tools_dc"
  },
  "language_info": {
   "codemirror_mode": {
    "name": "ipython",
    "version": 3
   },
   "file_extension": ".py",
   "mimetype": "text/x-python",
   "name": "python",
   "nbconvert_exporter": "python",
   "pygments_lexer": "ipython3",
   "version": "3.7.11"
  }
 },
 "nbformat": 4,
 "nbformat_minor": 4
}
