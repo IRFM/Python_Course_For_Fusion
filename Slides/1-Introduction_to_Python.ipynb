{
 "cells": [
  {
   "cell_type": "markdown",
   "metadata": {
    "slideshow": {
     "slide_type": "slide"
    }
   },
   "source": [
    "# Part 1 - Python?"
   ]
  },
  {
   "cell_type": "markdown",
   "metadata": {
    "slideshow": {
     "slide_type": "slide"
    }
   },
   "source": [
    "# What is Python?\n",
    "[Python](http://www.python.org) is a modern, general-purpose, object-oriented, high-level programming language. \n",
    "\n",
    "* Created in 1990 by Guido van Rossum\n",
    "* Name comes from Monty Python\n",
    "* Generalized programming language (No specific discipline)\n",
    "* Open source – free\n",
    "* Cross-platform"
   ]
  },
  {
   "cell_type": "markdown",
   "metadata": {
    "collapsed": true,
    "jupyter": {
     "outputs_hidden": true
    },
    "slideshow": {
     "slide_type": "slide"
    }
   },
   "source": [
    "## Interpreted\n",
    "no need to compile the code (vs: C, Fortran)"
   ]
  },
  {
   "cell_type": "markdown",
   "metadata": {
    "slideshow": {
     "slide_type": "slide"
    }
   },
   "source": [
    "## Dynamically typed\n",
    "No need to define the type of variables. Variables can change meaning on-the-fly."
   ]
  },
  {
   "cell_type": "code",
   "execution_count": null,
   "metadata": {
    "slideshow": {
     "slide_type": "fragment"
    }
   },
   "outputs": [],
   "source": [
    "my_var = 42\n",
    "type(my_var)"
   ]
  },
  {
   "cell_type": "code",
   "execution_count": null,
   "metadata": {
    "slideshow": {
     "slide_type": "fragment"
    }
   },
   "outputs": [],
   "source": [
    "my_var = 'hello world'\n",
    "type(my_var)"
   ]
  },
  {
   "cell_type": "markdown",
   "metadata": {
    "slideshow": {
     "slide_type": "subslide"
    }
   },
   "source": [
    "## High-level\n",
    "Abstraction from the way the machine actually executes"
   ]
  },
  {
   "cell_type": "markdown",
   "metadata": {
    "slideshow": {
     "slide_type": "slide"
    }
   },
   "source": [
    "## Easy to learn syntax (emphasizes readability) \n",
    "* Python was designed to be a highly readable language.\n",
    "* Python uses indentation to delimit program blocks (for loop, if, functions, etc) instead of punctuation or keywords\n",
    "* It has a relatively uncluttered visual layout and uses English keywords frequently\n",
    "\n",
    "\"Good code shouldn’t just work. Good code should be easily understood by others who will need to work with it–including your future self.\"\n",
    "\n",
    "[Software Engineering for Data Scientists](http://hiphoff.com/software-engineering-for-data-scientists/)"
   ]
  },
  {
   "cell_type": "markdown",
   "metadata": {
    "slideshow": {
     "slide_type": "slide"
    }
   },
   "source": [
    "## \"The Zen of Python\"\n",
    "* Python aims towards simplicity and generality in the design of its syntax "
   ]
  },
  {
   "cell_type": "code",
   "execution_count": null,
   "metadata": {
    "slideshow": {
     "slide_type": "fragment"
    }
   },
   "outputs": [],
   "source": [
    "import this"
   ]
  },
  {
   "cell_type": "markdown",
   "metadata": {
    "slideshow": {
     "slide_type": "slide"
    }
   },
   "source": [
    "## Object-Oriented\n",
    "* Modular, good for packaging and code re-use\n",
    "* --> Huge number of available libraries: very used for scientific purposes and data analysis."
   ]
  },
  {
   "cell_type": "markdown",
   "metadata": {
    "slideshow": {
     "slide_type": "fragment"
    }
   },
   "source": [
    "## Open-Source\n",
    "* Python and its extensive standard library is available in source or binary form without charge for all major platforms, and can be freely distributed. \n",
    "* Same for mathematics and science-oriented libraries."
   ]
  },
  {
   "cell_type": "markdown",
   "metadata": {
    "slideshow": {
     "slide_type": "slide"
    }
   },
   "source": [
    "# Why should I care?\n",
    "## Python is suitable for scientific computing\n",
    "* Python has a strong position in scientific computing: \n",
    " * Large community of users, easy to find help and documentation.\n",
    " * Extensive ecosystem of scientific libraries and environments\n",
    " * Close integration with time-tested and highly optimized codes written in C and Fortran -->  Great performances\n",
    " * Good support for parallel, distributed and GPU computing"
   ]
  },
  {
   "cell_type": "markdown",
   "metadata": {
    "slideshow": {
     "slide_type": "fragment"
    }
   },
   "source": [
    "* No licence cost --> Budget can be use for something else... \n"
   ]
  },
  {
   "cell_type": "markdown",
   "metadata": {
    "slideshow": {
     "slide_type": "slide"
    }
   },
   "source": [
    "## Cons:\n",
    "\n",
    "* Developement decentralized, with different environment, packages and documentation spread out at different places --> Can make it harder to get started and find help."
   ]
  },
  {
   "cell_type": "markdown",
   "metadata": {
    "slideshow": {
     "slide_type": "fragment"
    }
   },
   "source": [
    "* Interpreted and dynamically typed language --> execution of python code can be slow compared to compiled statically typed programming languages (C and Fortran)."
   ]
  },
  {
   "cell_type": "markdown",
   "metadata": {
    "slideshow": {
     "slide_type": "fragment"
    }
   },
   "source": [
    "![Optimizing What?](../Figures/optimizing-what.png)"
   ]
  },
  {
   "cell_type": "markdown",
   "metadata": {
    "slideshow": {
     "slide_type": "slide"
    }
   },
   "source": [
    "## Python Scientific Ecosystem\n",
    "\n",
    "![Python vs matlab ecosystem](https://docs.google.com/drawings/d/1IditELHVqBp-2WguBkhSdVR3prjXvVGnLPmqDtBeKuM/pub?w=560)\n",
    "from http://www.pyzo.org/python_vs_matlab.html"
   ]
  },
  {
   "cell_type": "markdown",
   "metadata": {
    "collapsed": true,
    "editable": true,
    "jupyter": {
     "outputs_hidden": true
    },
    "slideshow": {
     "slide_type": "slide"
    },
    "tags": []
   },
   "source": [
    "# Python at IRFM\n",
    "\n",
    "![Optimizing What?](../Figures/PyIRFM.png)\n"
   ]
  },
  {
   "cell_type": "markdown",
   "metadata": {
    "editable": true,
    "slideshow": {
     "slide_type": "slide"
    },
    "tags": []
   },
   "source": [
    "## Jupyterhub\n",
    "The [IRFM JupyterHub website](http://irfm-jupyterhub.intra.cea.fr:8000) gives INTRA users access to computational environments and resources (WEST included) without burdening you with installation and maintenance tasks. \n",
    "\n",
    "* Jupyterhub provides you a web-based interactive development (Jupyter Lab) environment for notebooks (see after), code, and data,\n",
    "* It runs on IRFM hardware,\n",
    "* It let you access your Linux drive transparently,\n",
    "* Jupyter notebooks are automatically saved: no risk of losing things in case of loss of network or VPN. \n",
    "\n",
    "![IRFM Jupyterhub](../Figures/IRFM_Jupyterhub.png)"
   ]
  },
  {
   "cell_type": "markdown",
   "metadata": {
    "editable": true,
    "slideshow": {
     "slide_type": "slide"
    },
    "tags": []
   },
   "source": [
    "## Linux\n",
    "\n",
    "Connect on [one of the IRFM Linux server](http://proxima.intra.cea.fr/serverload/) with the NX client (or SSH for the purists) :\n",
    "\n",
    "Once connected, open a terminal and first type :\n",
    "\n",
    "    module load tools_dc\n",
    "\n",
    "This will setup your command line to use the already configured Python scientific environement, which includes the WEST Python libraries.\n"
   ]
  },
  {
   "cell_type": "markdown",
   "metadata": {
    "editable": true,
    "slideshow": {
     "slide_type": "slide"
    },
    "tags": []
   },
   "source": [
    "## Windows\n",
    "Under windows, you have to install your own Python environement.\n",
    "\n",
    "We recommand the [Anaconda Python distribution](https://www.anaconda.com/download/success), which provides a full scientific ecosystem by default."
   ]
  },
  {
   "cell_type": "markdown",
   "metadata": {
    "editable": true,
    "slideshow": {
     "slide_type": "slide"
    },
    "tags": []
   },
   "source": [
    "# Python Terminal. \n",
    "Python itself is _interpreter_: it translates the Pyton source code into instructions that your computer understand. [1]\n",
    "\n",
    "* Linux: open a terminal and type `python`. It display some informations and returns a `>>>` prompt."
   ]
  },
  {
   "cell_type": "markdown",
   "metadata": {
    "editable": true,
    "slideshow": {
     "slide_type": "fragment"
    },
    "tags": []
   },
   "source": [
    "    [JH218595@merope ~ ]> python\n",
    "    Python 3.3.5 (default, Jul 22 2014, 09:44:27)\n",
    "    [GCC 4.4.6 20120305 (Red Hat 4.4.6-4)] on linu`\n",
    "    Type \"help\", \"copyright\", \"credits\" or \"license\" for more information. \n",
    "   \n",
    "    Imported NumPy 1.8.1, SciPy 0.14.0, Matplotlib 1.3.1, pywed 0.1.1\n",
    "  \n",
    "    Type \"scientific\" for more details.\n",
    "    >>> \n",
    "\n",
    "To exit, use `exit()` or `CRTL+D` keyboard shortcut. "
   ]
  },
  {
   "cell_type": "markdown",
   "metadata": {
    "slideshow": {
     "slide_type": "slide"
    }
   },
   "source": [
    "# IPython\n",
    "IPython (stands for _Interactive Python_) is a more user-friendly Python interpreter. \n",
    "\n",
    "* Linux: in a terminal, type `ipython`.\n",
    "* Windows: IPython Qt Console."
   ]
  },
  {
   "cell_type": "markdown",
   "metadata": {
    "editable": true,
    "slideshow": {
     "slide_type": "fragment"
    },
    "tags": []
   },
   "source": [
    "    [JH218595@merope ~ ]> ipython\n",
    "    Python 3.3.5 (default, Jul 22 2014, 09:44:27)\n",
    "    Type \"copyright\", \"credits\" or \"license\" for more information.\n",
    "    \n",
    "    IPython 2.1.0 -- An enhanced Interactive Python.\n",
    "    ?         -> Introduction and overview of IPython's features.\n",
    "    %quickref -> Quick reference.\n",
    "    help      -> Python's own help system.\n",
    "    object?   -> Details about 'object', use 'object??' for extra details.\n",
    "    \n",
    "    Imported NumPy 1.8.1, SciPy 0.14.0, Matplotlib 1.3.1, pywed 0.1.1\n",
    "    \n",
    "    Type \"scientific\" for more details.\n",
    "    \n",
    "    In [1]:"
   ]
  },
  {
   "cell_type": "markdown",
   "metadata": {
    "editable": true,
    "slideshow": {
     "slide_type": "slide"
    },
    "tags": []
   },
   "source": [
    "# Jupyter Notebooks\n",
    "Jupyter notebook allows one to mix text, equations ($\\LaTeX$) or images, with Python code and graphics output. It is a great interface for explorary codes. (It has a similar look&feel than Mathematica notebook.). (These slides have been made with the notebook.) \n",
    "\n",
    "A notebook can be used to document a computational work as a narrative way, with a direct access to the data. "
   ]
  },
  {
   "cell_type": "markdown",
   "metadata": {
    "editable": true,
    "slideshow": {
     "slide_type": "slide"
    },
    "tags": []
   },
   "source": [
    "![Jupyter notebook](../Figures/Jupyter_notebook.png)"
   ]
  },
  {
   "cell_type": "markdown",
   "metadata": {
    "slideshow": {
     "slide_type": "slide"
    }
   },
   "source": [
    "A very nice equation with some $x$ and $ \\infty$ : $$e^{i\\pi} + \\int_{-\\infty}^{+\\infty} e^{-a x^2} dx$$"
   ]
  },
  {
   "cell_type": "code",
   "execution_count": null,
   "metadata": {
    "editable": true,
    "slideshow": {
     "slide_type": "skip"
    },
    "tags": []
   },
   "outputs": [],
   "source": [
    "%pylab\n",
    "%matplotlib inline"
   ]
  },
  {
   "cell_type": "code",
   "execution_count": null,
   "metadata": {
    "slideshow": {
     "slide_type": "fragment"
    }
   },
   "outputs": [],
   "source": [
    "# and now some code and graphics\n",
    "x = linspace(-pi, +pi, 101)\n",
    "y = cos(2*x)**2\n",
    "plot(x,y)"
   ]
  },
  {
   "cell_type": "markdown",
   "metadata": {
    "slideshow": {
     "slide_type": "slide"
    }
   },
   "source": [
    "# Spyder\n",
    "\n",
    "Spyder (_Scientific PYthon Development EnviRonment_) is a powerful interactive development environment for the Python language with advanced editing, interactive testing, debugging and help features\n"
   ]
  },
  {
   "cell_type": "markdown",
   "metadata": {
    "slideshow": {
     "slide_type": "slide"
    }
   },
   "source": [
    "Its interface look very much like the one of Matlab. \n",
    "![Spyder screenshot](../Figures/spyder-screenshot.jpg)"
   ]
  },
  {
   "cell_type": "markdown",
   "metadata": {
    "slideshow": {
     "slide_type": "slide"
    }
   },
   "source": [
    "# Need help?\n",
    "## IRFM Mailing list\n",
    "Public maling list concerning python at IRFM: PyIRFM \n",
    " * __`pyirfm@saxifrage.saclay.cea.fr`__\n",
    "\n",
    "\n",
    "Suscribe here : http://saxifrage:3500/wws/subscribe/pyirfm"
   ]
  },
  {
   "attachments": {},
   "cell_type": "markdown",
   "metadata": {
    "editable": true,
    "slideshow": {
     "slide_type": "slide"
    },
    "tags": []
   },
   "source": [
    "## WEST Portail Python Page (https://westusers.partenaires.cea.fr/python-tips-and-tricks/)\n",
    "![How to access the wiki - 1](../Figures/WEST_Portal_Python.png)"
   ]
  },
  {
   "cell_type": "markdown",
   "metadata": {
    "editable": true,
    "slideshow": {
     "slide_type": "slide"
    },
    "tags": []
   },
   "source": [
    "## Built-in commands\n",
    "* `help(object)`: Prints documentation of the object"
   ]
  },
  {
   "cell_type": "code",
   "execution_count": null,
   "metadata": {
    "editable": true,
    "slideshow": {
     "slide_type": "fragment"
    },
    "tags": []
   },
   "outputs": [],
   "source": [
    "help(46)"
   ]
  },
  {
   "cell_type": "markdown",
   "metadata": {
    "editable": true,
    "slideshow": {
     "slide_type": "slide"
    },
    "tags": []
   },
   "source": [
    "* `dir(object)`: Prints valid attributes of object"
   ]
  },
  {
   "cell_type": "code",
   "execution_count": null,
   "metadata": {
    "editable": true,
    "slideshow": {
     "slide_type": "fragment"
    },
    "tags": []
   },
   "outputs": [],
   "source": [
    "dir(42)"
   ]
  },
  {
   "cell_type": "markdown",
   "metadata": {
    "slideshow": {
     "slide_type": "slide"
    }
   },
   "source": [
    "## IPython additional commands\n",
    "IPython offers additional commands which improve user experience."
   ]
  },
  {
   "cell_type": "markdown",
   "metadata": {
    "slideshow": {
     "slide_type": "fragment"
    }
   },
   "source": [
    "* `an_object?`: Prints all known information about object"
   ]
  },
  {
   "cell_type": "markdown",
   "metadata": {
    "slideshow": {
     "slide_type": "fragment"
    }
   },
   "source": [
    "* `an_object??`: Shows source code where object is implemented"
   ]
  },
  {
   "cell_type": "markdown",
   "metadata": {
    "editable": true,
    "slideshow": {
     "slide_type": "fragment"
    },
    "tags": []
   },
   "source": [
    "* Tab-completion: press tab and see what is available\n"
   ]
  },
  {
   "cell_type": "markdown",
   "metadata": {
    "editable": true,
    "slideshow": {
     "slide_type": "slide"
    },
    "tags": []
   },
   "source": [
    "`who` and `whos` are the same than in Matlab:"
   ]
  },
  {
   "cell_type": "code",
   "execution_count": null,
   "metadata": {
    "editable": true,
    "slideshow": {
     "slide_type": "fragment"
    },
    "tags": []
   },
   "outputs": [],
   "source": [
    "idx = 10\n",
    "test = 'youpi'\n",
    "alist = [1,2,3]"
   ]
  },
  {
   "cell_type": "code",
   "execution_count": null,
   "metadata": {
    "editable": true,
    "slideshow": {
     "slide_type": "skip"
    },
    "tags": []
   },
   "outputs": [],
   "source": [
    "# Since I've used %pylab before, the following command does not give the expected behaviour.\n",
    "who() # NumPy version of who: Only print NumPy Arrays"
   ]
  },
  {
   "cell_type": "code",
   "execution_count": null,
   "metadata": {
    "editable": true,
    "slideshow": {
     "slide_type": "fragment"
    },
    "tags": []
   },
   "outputs": [],
   "source": [
    "whos"
   ]
  },
  {
   "cell_type": "code",
   "execution_count": null,
   "metadata": {
    "editable": true,
    "slideshow": {
     "slide_type": ""
    },
    "tags": []
   },
   "outputs": [],
   "source": []
  }
 ],
 "metadata": {
  "celltoolbar": "Slideshow",
  "kernelspec": {
   "display_name": "Python 3 (ipykernel)",
   "language": "python",
   "name": "python3"
  },
  "language_info": {
   "codemirror_mode": {
    "name": "ipython",
    "version": 3
   },
   "file_extension": ".py",
   "mimetype": "text/x-python",
   "name": "python",
   "nbconvert_exporter": "python",
   "pygments_lexer": "ipython3",
   "version": "3.11.9"
  },
  "livereveal": {
   "autolaunch": true,
   "width": "80%"
  }
 },
 "nbformat": 4,
 "nbformat_minor": 4
}
