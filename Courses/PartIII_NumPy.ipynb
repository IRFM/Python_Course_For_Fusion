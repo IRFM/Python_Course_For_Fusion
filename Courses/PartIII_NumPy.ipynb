{
 "cells": [
  {
   "cell_type": "markdown",
   "metadata": {},
   "source": [
    "# Introduction à NumPy\n",
    "Les listes Python montrent vite leur limitation en ce qui concerne le calcul scientifique:"
   ]
  },
  {
   "cell_type": "code",
   "execution_count": 6,
   "metadata": {
    "collapsed": false
   },
   "outputs": [],
   "source": [
    "liste = [1,2,3,4]"
   ]
  },
  {
   "cell_type": "code",
   "execution_count": 7,
   "metadata": {
    "collapsed": false
   },
   "outputs": [
    {
     "ename": "TypeError",
     "evalue": "can only concatenate list (not \"int\") to list",
     "output_type": "error",
     "traceback": [
      "\u001b[1;31m---------------------------------------------------------------------------\u001b[0m",
      "\u001b[1;31mTypeError\u001b[0m                                 Traceback (most recent call last)",
      "\u001b[1;32m<ipython-input-7-0e4c364ce876>\u001b[0m in \u001b[0;36m<module>\u001b[1;34m()\u001b[0m\n\u001b[1;32m----> 1\u001b[1;33m \u001b[0mliste\u001b[0m \u001b[1;33m+\u001b[0m \u001b[1;36m1\u001b[0m\u001b[1;33m\u001b[0m\u001b[0m\n\u001b[0m",
      "\u001b[1;31mTypeError\u001b[0m: can only concatenate list (not \"int\") to list"
     ]
    }
   ],
   "source": [
    "liste + 1"
   ]
  },
  {
   "cell_type": "code",
   "execution_count": 8,
   "metadata": {
    "collapsed": false
   },
   "outputs": [
    {
     "data": {
      "text/plain": [
       "[1, 2, 3, 4, 1, 2, 3, 4]"
      ]
     },
     "execution_count": 8,
     "metadata": {},
     "output_type": "execute_result"
    }
   ],
   "source": [
    "liste * 2"
   ]
  },
  {
   "cell_type": "markdown",
   "metadata": {},
   "source": [
    "En effet, contrairement à Matlab et IDL, le support des tableaux multidimensionels numériques n'est pas inclus dans le coeur du langage. \n",
    " "
   ]
  },
  {
   "cell_type": "markdown",
   "metadata": {},
   "source": [
    "## NumPy arrays"
   ]
  },
  {
   "cell_type": "markdown",
   "metadata": {},
   "source": [
    "C'est pourquoi il existe une librairie, NumPy, qui permet de faire cela. NumPy est la brique de base à tout l'écosystème scientifique de Python."
   ]
  },
  {
   "cell_type": "code",
   "execution_count": 9,
   "metadata": {
    "collapsed": true
   },
   "outputs": [],
   "source": [
    "import numpy as np"
   ]
  },
  {
   "cell_type": "markdown",
   "metadata": {},
   "source": [
    "NumPy propose un type de tableau numérique N-dimensions : `array`. L'implémentation de NumPy repose sur du C (transparent) et est donc performante. L'interface utilisateur est très proche de celle de Matlab : "
   ]
  },
  {
   "cell_type": "code",
   "execution_count": 10,
   "metadata": {
    "collapsed": false
   },
   "outputs": [
    {
     "name": "stdout",
     "output_type": "stream",
     "text": [
      "[0 1 2 3 4]\n",
      "<class 'numpy.ndarray'>\n"
     ]
    }
   ],
   "source": [
    "# to create a NumPy array, call array() on a sequence \n",
    "my_array = np.array([0,1,2,3,4])\n",
    "\n",
    "print(my_array)\n",
    "print(type(my_array))"
   ]
  },
  {
   "cell_type": "code",
   "execution_count": 11,
   "metadata": {
    "collapsed": false
   },
   "outputs": [
    {
     "data": {
      "text/plain": [
       "array([1, 2, 3, 4, 5])"
      ]
     },
     "execution_count": 11,
     "metadata": {},
     "output_type": "execute_result"
    }
   ],
   "source": [
    "my_array + 1"
   ]
  },
  {
   "cell_type": "code",
   "execution_count": 12,
   "metadata": {
    "collapsed": false
   },
   "outputs": [
    {
     "data": {
      "text/plain": [
       "array([0, 2, 4, 6, 8])"
      ]
     },
     "execution_count": 12,
     "metadata": {},
     "output_type": "execute_result"
    }
   ],
   "source": [
    "my_array * 2"
   ]
  },
  {
   "cell_type": "code",
   "execution_count": 13,
   "metadata": {
    "collapsed": false
   },
   "outputs": [
    {
     "data": {
      "text/plain": [
       "array([ 0,  1,  4,  9, 16])"
      ]
     },
     "execution_count": 13,
     "metadata": {},
     "output_type": "execute_result"
    }
   ],
   "source": [
    "my_array ** 2"
   ]
  },
  {
   "cell_type": "markdown",
   "metadata": {},
   "source": [
    "Parce que les array NumPy ont été conçus avec la problématique de la performance en tête, les array NumPy ont plusieurs propriétés spécifiques :\n",
    "\n",
    "* Contrairement aux listes Python, on ne peut pas mélanger les types dans un tableau array NumPy\n",
    "\n",
    "* Le type de données numériques peut être indiqué si besoin:"
   ]
  },
  {
   "cell_type": "code",
   "execution_count": 14,
   "metadata": {
    "collapsed": false
   },
   "outputs": [
    {
     "data": {
      "text/plain": [
       "array([ 1.1,  2.2,  3.3])"
      ]
     },
     "execution_count": 14,
     "metadata": {},
     "output_type": "execute_result"
    }
   ],
   "source": [
    "np.array([1.1, 2.2, 3.3]) # auto-guess "
   ]
  },
  {
   "cell_type": "code",
   "execution_count": 15,
   "metadata": {
    "collapsed": false
   },
   "outputs": [
    {
     "data": {
      "text/plain": [
       "dtype('float64')"
      ]
     },
     "execution_count": 15,
     "metadata": {},
     "output_type": "execute_result"
    }
   ],
   "source": [
    "np.array([1.1, 2.2, 3.3]).dtype"
   ]
  },
  {
   "cell_type": "code",
   "execution_count": 16,
   "metadata": {
    "collapsed": false
   },
   "outputs": [
    {
     "data": {
      "text/plain": [
       "array([1, 2, 3])"
      ]
     },
     "execution_count": 16,
     "metadata": {},
     "output_type": "execute_result"
    }
   ],
   "source": [
    "np.array([1.1, 2.2, 3.3], dtype='int') # casting into int"
   ]
  },
  {
   "cell_type": "code",
   "execution_count": 17,
   "metadata": {
    "collapsed": false
   },
   "outputs": [
    {
     "data": {
      "text/plain": [
       "array([ 1.1+0.j,  2.2+0.j,  3.3+0.j])"
      ]
     },
     "execution_count": 17,
     "metadata": {},
     "output_type": "execute_result"
    }
   ],
   "source": [
    "np.array([1.1, 2.2, 3.3], dtype='complex') \n",
    "# note that 1j or j is the imaginary unit in Python"
   ]
  },
  {
   "cell_type": "code",
   "execution_count": 18,
   "metadata": {
    "collapsed": false
   },
   "outputs": [
    {
     "data": {
      "text/plain": [
       "array([[9, 9, 9],\n",
       "       [9, 9, 9],\n",
       "       [9, 9, 9]])"
      ]
     },
     "execution_count": 18,
     "metadata": {},
     "output_type": "execute_result"
    }
   ],
   "source": [
    "array1 = np.arange(0, 9).reshape((3,3))\n",
    "array2 = np.arange(9, 0, -1).reshape((3,3))\n",
    "array1 + array2"
   ]
  },
  {
   "cell_type": "markdown",
   "metadata": {},
   "source": [
    "**attention** : contrairement à matlab, l'opérateur * sur des tableaux NumPy effectue le produit élément par élément (cf.section broadcasting):"
   ]
  },
  {
   "cell_type": "code",
   "execution_count": 19,
   "metadata": {
    "collapsed": false
   },
   "outputs": [
    {
     "data": {
      "text/plain": [
       "array([[ 0,  8, 14],\n",
       "       [18, 20, 20],\n",
       "       [18, 14,  8]])"
      ]
     },
     "execution_count": 19,
     "metadata": {},
     "output_type": "execute_result"
    }
   ],
   "source": [
    "array1 * array2"
   ]
  },
  {
   "cell_type": "code",
   "execution_count": 20,
   "metadata": {
    "collapsed": false
   },
   "outputs": [
    {
     "data": {
      "text/plain": [
       "array([[ 0.,  0.,  0.],\n",
       "       [ 0.,  4.,  0.],\n",
       "       [ 0.,  0.,  8.]])"
      ]
     },
     "execution_count": 20,
     "metadata": {},
     "output_type": "execute_result"
    }
   ],
   "source": [
    "array1 * np.eye(3)"
   ]
  },
  {
   "cell_type": "markdown",
   "metadata": {},
   "source": [
    "Le produit matriciel (où produit *intérieur*) est obtenu avec la fonction `dot` :"
   ]
  },
  {
   "cell_type": "code",
   "execution_count": 21,
   "metadata": {
    "collapsed": false
   },
   "outputs": [
    {
     "data": {
      "text/plain": [
       "array([[ 12,   9,   6],\n",
       "       [ 66,  54,  42],\n",
       "       [120,  99,  78]])"
      ]
     },
     "execution_count": 21,
     "metadata": {},
     "output_type": "execute_result"
    }
   ],
   "source": [
    "np.dot(array1, array2)"
   ]
  },
  {
   "cell_type": "code",
   "execution_count": 22,
   "metadata": {
    "collapsed": false
   },
   "outputs": [
    {
     "data": {
      "text/plain": [
       "array([[ 0.,  1.,  2.],\n",
       "       [ 3.,  4.,  5.],\n",
       "       [ 6.,  7.,  8.]])"
      ]
     },
     "execution_count": 22,
     "metadata": {},
     "output_type": "execute_result"
    }
   ],
   "source": [
    "array1.dot(np.eye(3))"
   ]
  },
  {
   "cell_type": "markdown",
   "metadata": {},
   "source": [
    "## Fonctions utiles"
   ]
  },
  {
   "cell_type": "markdown",
   "metadata": {},
   "source": [
    "Tout comme Matlab, NumPy proposes de nombreuses fonctions permettant de créer et éventuellement d'allouer des tableaux :"
   ]
  },
  {
   "cell_type": "code",
   "execution_count": 23,
   "metadata": {
    "collapsed": false
   },
   "outputs": [
    {
     "data": {
      "text/plain": [
       "array([0, 1, 2, 3, 4, 5, 6, 7, 8, 9])"
      ]
     },
     "execution_count": 23,
     "metadata": {},
     "output_type": "execute_result"
    }
   ],
   "source": [
    "np.arange(0, 10, 1) # start, stop, step"
   ]
  },
  {
   "cell_type": "code",
   "execution_count": 24,
   "metadata": {
    "collapsed": false
   },
   "outputs": [
    {
     "data": {
      "text/plain": [
       "array([[ 0.,  0.,  0.],\n",
       "       [ 0.,  0.,  0.],\n",
       "       [ 0.,  0.,  0.],\n",
       "       [ 0.,  0.,  0.],\n",
       "       [ 0.,  0.,  0.]])"
      ]
     },
     "execution_count": 24,
     "metadata": {},
     "output_type": "execute_result"
    }
   ],
   "source": [
    "np.zeros((5,3)) # the shape is a tuple"
   ]
  },
  {
   "cell_type": "code",
   "execution_count": 25,
   "metadata": {
    "collapsed": false
   },
   "outputs": [
    {
     "data": {
      "text/plain": [
       "array([[ 1.,  0.,  0.,  0.],\n",
       "       [ 0.,  1.,  0.,  0.],\n",
       "       [ 0.,  0.,  1.,  0.],\n",
       "       [ 0.,  0.,  0.,  1.]])"
      ]
     },
     "execution_count": 25,
     "metadata": {},
     "output_type": "execute_result"
    }
   ],
   "source": [
    "np.eye(4)"
   ]
  },
  {
   "cell_type": "code",
   "execution_count": 26,
   "metadata": {
    "collapsed": false
   },
   "outputs": [
    {
     "data": {
      "text/plain": [
       "array([  0.,   2.,   4.,   6.,   8.,  10.])"
      ]
     },
     "execution_count": 26,
     "metadata": {},
     "output_type": "execute_result"
    }
   ],
   "source": [
    "np.linspace(0, 10, num=6)"
   ]
  },
  {
   "cell_type": "markdown",
   "metadata": {},
   "source": [
    "NumPy also provides all mathematical functions which are compatible with NumPy N-D arrays :"
   ]
  },
  {
   "cell_type": "code",
   "execution_count": 27,
   "metadata": {
    "collapsed": false
   },
   "outputs": [
    {
     "name": "stdout",
     "output_type": "stream",
     "text": [
      "[0 1 2 3 4 5 6 7 8]\n"
     ]
    }
   ],
   "source": [
    "array = np.arange(0,9)\n",
    "print(array)"
   ]
  },
  {
   "cell_type": "code",
   "execution_count": 28,
   "metadata": {
    "collapsed": false
   },
   "outputs": [
    {
     "data": {
      "text/plain": [
       "(9,)"
      ]
     },
     "execution_count": 28,
     "metadata": {},
     "output_type": "execute_result"
    }
   ],
   "source": [
    "array.shape\n",
    "# also : ndim, size (!=matlab)"
   ]
  },
  {
   "cell_type": "code",
   "execution_count": 29,
   "metadata": {
    "collapsed": false
   },
   "outputs": [
    {
     "data": {
      "text/plain": [
       "array([[0, 1, 2],\n",
       "       [3, 4, 5],\n",
       "       [6, 7, 8]])"
      ]
     },
     "execution_count": 29,
     "metadata": {},
     "output_type": "execute_result"
    }
   ],
   "source": [
    "array.reshape((3,3))"
   ]
  },
  {
   "cell_type": "code",
   "execution_count": 30,
   "metadata": {
    "collapsed": false
   },
   "outputs": [
    {
     "data": {
      "text/plain": [
       "0"
      ]
     },
     "execution_count": 30,
     "metadata": {},
     "output_type": "execute_result"
    }
   ],
   "source": [
    "array.min()"
   ]
  },
  {
   "cell_type": "code",
   "execution_count": 31,
   "metadata": {
    "collapsed": false
   },
   "outputs": [
    {
     "data": {
      "text/plain": [
       "8"
      ]
     },
     "execution_count": 31,
     "metadata": {},
     "output_type": "execute_result"
    }
   ],
   "source": [
    "array.max()"
   ]
  },
  {
   "cell_type": "code",
   "execution_count": 32,
   "metadata": {
    "collapsed": false
   },
   "outputs": [
    {
     "name": "stdout",
     "output_type": "stream",
     "text": [
      "[2 2 0 7 2 7 1 6 6]\n"
     ]
    }
   ],
   "source": [
    "# 9 random integers between 0 (included) to 10 (excluded)\n",
    "array = np.random.randint(0, 10, 9)\n",
    "print(array)"
   ]
  },
  {
   "cell_type": "code",
   "execution_count": 33,
   "metadata": {
    "collapsed": false
   },
   "outputs": [
    {
     "data": {
      "text/plain": [
       "3"
      ]
     },
     "execution_count": 33,
     "metadata": {},
     "output_type": "execute_result"
    }
   ],
   "source": [
    "# get the array index of the first maximum value\n",
    "array.argmax()"
   ]
  },
  {
   "cell_type": "code",
   "execution_count": 34,
   "metadata": {
    "collapsed": false
   },
   "outputs": [
    {
     "data": {
      "text/plain": [
       "33"
      ]
     },
     "execution_count": 34,
     "metadata": {},
     "output_type": "execute_result"
    }
   ],
   "source": [
    "np.sum(array)"
   ]
  },
  {
   "cell_type": "code",
   "execution_count": 35,
   "metadata": {
    "collapsed": false
   },
   "outputs": [
    {
     "data": {
      "text/plain": [
       "array([ 1.41421356,  1.41421356,  0.        ,  2.64575131,  1.41421356,\n",
       "        2.64575131,  1.        ,  2.44948974,  2.44948974])"
      ]
     },
     "execution_count": 35,
     "metadata": {},
     "output_type": "execute_result"
    }
   ],
   "source": [
    "np.sqrt(array)"
   ]
  },
  {
   "cell_type": "code",
   "execution_count": 36,
   "metadata": {
    "collapsed": false
   },
   "outputs": [
    {
     "data": {
      "text/plain": [
       "array([ 5.25064634,  5.25064634,  0.        ,  1.1559164 ,  5.25064634,\n",
       "        1.1559164 ,  2.8824747 , -0.30307769, -0.30307769])"
      ]
     },
     "execution_count": 36,
     "metadata": {},
     "output_type": "execute_result"
    }
   ],
   "source": [
    "np.tan(array) / np.cos(array)"
   ]
  },
  {
   "cell_type": "code",
   "execution_count": 37,
   "metadata": {
    "collapsed": false
   },
   "outputs": [
    {
     "name": "stdout",
     "output_type": "stream",
     "text": [
      "[[ 1.66397797  2.91200078 -3.47855701]\n",
      " [-1.31936636  0.26895727  1.8917252 ]\n",
      " [-0.41405013 -4.87715119  4.74366757]]\n"
     ]
    }
   ],
   "source": [
    "array3 = np.random.rand(3,3)\n",
    "array3_inv = np.linalg.inv(array3)\n",
    "print(array3_inv)"
   ]
  },
  {
   "cell_type": "code",
   "execution_count": 38,
   "metadata": {
    "collapsed": false
   },
   "outputs": [
    {
     "data": {
      "text/plain": [
       "array([[  1.00000000e+00,  -1.93182128e-16,  -8.99416475e-17],\n",
       "       [ -2.44587606e-16,   1.00000000e+00,   1.51085029e-16],\n",
       "       [ -3.28998934e-16,  -5.27039096e-16,   1.00000000e+00]])"
      ]
     },
     "execution_count": 38,
     "metadata": {},
     "output_type": "execute_result"
    }
   ],
   "source": [
    "array3.dot(array3_inv) # OK"
   ]
  },
  {
   "cell_type": "markdown",
   "metadata": {},
   "source": [
    "## Slicing arrays"
   ]
  },
  {
   "cell_type": "markdown",
   "metadata": {},
   "source": [
    "Récupérer des tranches de valeurs fonctionne de la même manière que pour les listes : "
   ]
  },
  {
   "cell_type": "code",
   "execution_count": 39,
   "metadata": {
    "collapsed": false
   },
   "outputs": [
    {
     "data": {
      "text/plain": [
       "array([2, 2, 0, 7, 2, 7, 1, 6, 6])"
      ]
     },
     "execution_count": 39,
     "metadata": {},
     "output_type": "execute_result"
    }
   ],
   "source": [
    "array"
   ]
  },
  {
   "cell_type": "code",
   "execution_count": 40,
   "metadata": {
    "collapsed": false
   },
   "outputs": [
    {
     "data": {
      "text/plain": [
       "array([2, 0])"
      ]
     },
     "execution_count": 40,
     "metadata": {},
     "output_type": "execute_result"
    }
   ],
   "source": [
    "array[1:3]"
   ]
  },
  {
   "cell_type": "code",
   "execution_count": 41,
   "metadata": {
    "collapsed": false
   },
   "outputs": [
    {
     "data": {
      "text/plain": [
       "array([2, 7, 7, 6])"
      ]
     },
     "execution_count": 41,
     "metadata": {},
     "output_type": "execute_result"
    }
   ],
   "source": [
    "array[1::2]"
   ]
  },
  {
   "cell_type": "markdown",
   "metadata": {},
   "source": [
    "**Attention**: les *slices* sont des *vues* du tableau original. \n",
    "\n",
    "Ca veut dire que la modification de leurs éléments sont visibles dans le tableau original!"
   ]
  },
  {
   "cell_type": "code",
   "execution_count": 42,
   "metadata": {
    "collapsed": false
   },
   "outputs": [
    {
     "name": "stdout",
     "output_type": "stream",
     "text": [
      "[[ 0  1  2  3]\n",
      " [ 4  5  6  7]\n",
      " [ 8  9 10 11]\n",
      " [12 13 14 15]]\n",
      "[[ 0  1  2  3]\n",
      " [ 4 -1 -1  7]\n",
      " [ 8 -1 -1 11]\n",
      " [12 13 14 15]]\n"
     ]
    }
   ],
   "source": [
    "a = np.arange(16).reshape((4,4))\n",
    "\n",
    "print(a)\n",
    "\n",
    "a[1:3,1:3] = -1\n",
    "print(a)\n",
    "\n"
   ]
  },
  {
   "cell_type": "markdown",
   "metadata": {},
   "source": [
    "## Pay attention"
   ]
  },
  {
   "cell_type": "markdown",
   "metadata": {},
   "source": [
    "* Operations that involve attributes or methods of `ndarray` occur *in-place*. \n",
    "* While functions that take an `ndarray` as an argument return a *modified copy*.\n",
    "* With NumPy ndarray, a=b creates a new reference to b, not a copy."
   ]
  },
  {
   "cell_type": "code",
   "execution_count": 43,
   "metadata": {
    "collapsed": false
   },
   "outputs": [
    {
     "name": "stdout",
     "output_type": "stream",
     "text": [
      "[ 10.           0.63250928   0.99839561   0.81211942   0.22269683]\n"
     ]
    }
   ],
   "source": [
    "a = np.random.rand(5)\n",
    "b = np.arange(5)\n",
    "b = a # b is a new reference to a.\n",
    "b[0] = 10\n",
    "print(b)"
   ]
  },
  {
   "cell_type": "code",
   "execution_count": 44,
   "metadata": {
    "collapsed": false
   },
   "outputs": [
    {
     "name": "stdout",
     "output_type": "stream",
     "text": [
      "[ 10.           0.63250928   0.99839561   0.81211942   0.22269683]\n"
     ]
    }
   ],
   "source": [
    "# Because b refers to a, modifyng b also modify a !\n",
    "print(a)"
   ]
  },
  {
   "cell_type": "code",
   "execution_count": 45,
   "metadata": {
    "collapsed": false
   },
   "outputs": [
    {
     "name": "stdout",
     "output_type": "stream",
     "text": [
      "[ 20.           0.63250928   0.99839561   0.81211942   0.22269683]\n",
      "[ 10.           0.63250928   0.99839561   0.81211942   0.22269683]\n"
     ]
    }
   ],
   "source": [
    "b=a.copy() \n",
    "b[0] = 20\n",
    "print(b)\n",
    "print(a) # a has not been modified."
   ]
  },
  {
   "cell_type": "markdown",
   "metadata": {},
   "source": [
    "## Broadcasting"
   ]
  },
  {
   "cell_type": "markdown",
   "metadata": {},
   "source": [
    "Broadcasting rules describe how arrays with different dimensions and/or shapes can be used for computations.\n",
    "\n",
    "The general rule is that: 2 dimensions are compatible when they are equal or when one of them is 1.\n",
    "\n",
    "![](http://www.astroml.org/_images/fig_broadcast_visual_1.png)"
   ]
  },
  {
   "cell_type": "code",
   "execution_count": 46,
   "metadata": {
    "collapsed": true
   },
   "outputs": [],
   "source": [
    "a = np.arange(3)\n",
    "b = 5"
   ]
  },
  {
   "cell_type": "code",
   "execution_count": 47,
   "metadata": {
    "collapsed": false
   },
   "outputs": [
    {
     "data": {
      "text/plain": [
       "array([5, 6, 7])"
      ]
     },
     "execution_count": 47,
     "metadata": {},
     "output_type": "execute_result"
    }
   ],
   "source": [
    "a+b"
   ]
  },
  {
   "cell_type": "code",
   "execution_count": 48,
   "metadata": {
    "collapsed": false
   },
   "outputs": [
    {
     "data": {
      "text/plain": [
       "array([[ 1.,  2.,  3.],\n",
       "       [ 1.,  2.,  3.],\n",
       "       [ 1.,  2.,  3.]])"
      ]
     },
     "execution_count": 48,
     "metadata": {},
     "output_type": "execute_result"
    }
   ],
   "source": [
    "a = np.ones((3,3))\n",
    "b = np.arange(3)\n",
    "a+b"
   ]
  },
  {
   "cell_type": "code",
   "execution_count": 49,
   "metadata": {
    "collapsed": false
   },
   "outputs": [
    {
     "data": {
      "text/plain": [
       "array([[0, 1, 2],\n",
       "       [1, 2, 3],\n",
       "       [2, 3, 4]])"
      ]
     },
     "execution_count": 49,
     "metadata": {},
     "output_type": "execute_result"
    }
   ],
   "source": [
    "a = np.arange(3).reshape(3,1)\n",
    "b = np.arange(3)\n",
    "a+b"
   ]
  },
  {
   "cell_type": "markdown",
   "metadata": {},
   "source": [
    "<div class='exercice'><h1>Exercice</h1>\n",
    "Générez le tableau [2^0, 2^1, 2^2, 2^3]\n",
    "\n",
    "</div>"
   ]
  },
  {
   "cell_type": "code",
   "execution_count": 50,
   "metadata": {
    "collapsed": false
   },
   "outputs": [
    {
     "data": {
      "text/plain": [
       "array([1, 2, 4, 8], dtype=int32)"
      ]
     },
     "execution_count": 50,
     "metadata": {},
     "output_type": "execute_result"
    }
   ],
   "source": [
    "2**np.arange(4)"
   ]
  },
  {
   "cell_type": "markdown",
   "metadata": {},
   "source": [
    "<div class='exercice'><h1>Exercice</h1>\n",
    "Soit deux vecteur a et b, tels que shape(a)=(4,1) et shape(b)=(1,3). Calculer le produit exterieur a o b = a_i.b_j. Le resultat doit être de shape (4,3). \n",
    "</div>"
   ]
  },
  {
   "cell_type": "code",
   "execution_count": 51,
   "metadata": {
    "collapsed": false
   },
   "outputs": [
    {
     "data": {
      "text/plain": [
       "array([[0, 0, 0],\n",
       "       [0, 1, 2],\n",
       "       [0, 2, 4],\n",
       "       [0, 3, 6]])"
      ]
     },
     "execution_count": 51,
     "metadata": {},
     "output_type": "execute_result"
    }
   ],
   "source": [
    "a = np.arange(4).reshape(4,1) # reshapes into column vector\n",
    "b = np.arange(3)\n",
    "a*b"
   ]
  },
  {
   "cell_type": "markdown",
   "metadata": {},
   "source": [
    "<div class='exercice'><h1>Quizz</h1>\n",
    "Que va faire ? <br>\n",
    "a = np.ones((4, 5)) <br>\n",
    "a[0] = 2\n",
    "</div>\n"
   ]
  },
  {
   "cell_type": "code",
   "execution_count": 52,
   "metadata": {
    "collapsed": false
   },
   "outputs": [
    {
     "data": {
      "text/plain": [
       "array([[ 2.,  2.,  2.,  2.,  2.],\n",
       "       [ 1.,  1.,  1.,  1.,  1.],\n",
       "       [ 1.,  1.,  1.,  1.,  1.],\n",
       "       [ 1.,  1.,  1.,  1.,  1.]])"
      ]
     },
     "execution_count": 52,
     "metadata": {},
     "output_type": "execute_result"
    }
   ],
   "source": [
    "a = np.ones((4, 5))\n",
    "a[0] = 2 \n",
    "a"
   ]
  },
  {
   "cell_type": "markdown",
   "metadata": {},
   "source": [
    "## Fancy indexing, masking"
   ]
  },
  {
   "cell_type": "markdown",
   "metadata": {},
   "source": [
    "Slicing is great when indices follow a regulary pattern.\n",
    "\n",
    "But when one want arbitrary indexes, this is known as fancy indexing: the index is an integer array or a list of integer.\n",
    "\n",
    "This requires a copy of the original array (so a performance cost)"
   ]
  },
  {
   "cell_type": "code",
   "execution_count": 53,
   "metadata": {
    "collapsed": false
   },
   "outputs": [
    {
     "name": "stdout",
     "output_type": "stream",
     "text": [
      "[0 1 2 3 4 5 6 7 8 9]\n",
      "[3 1 6]\n"
     ]
    }
   ],
   "source": [
    "a = np.arange(10)\n",
    "print(a)\n",
    "\n",
    "index = [3,1,6]\n",
    "print(a[index])"
   ]
  },
  {
   "cell_type": "markdown",
   "metadata": {},
   "source": [
    "\n",
    "\n",
    "Masking is like fancy indexing, except that it must be a *Boolean* array (not a Python list!).\n",
    "\n",
    "As with fancy indexing, the application of a mask to an array will produce a copy of the original data.\n"
   ]
  },
  {
   "cell_type": "code",
   "execution_count": 54,
   "metadata": {
    "collapsed": false
   },
   "outputs": [
    {
     "data": {
      "text/plain": [
       "array([1, 3, 4])"
      ]
     },
     "execution_count": 54,
     "metadata": {},
     "output_type": "execute_result"
    }
   ],
   "source": [
    "mask = np.array([0,1,0,1,1,0], dtype=bool)\n",
    "a[mask]"
   ]
  },
  {
   "cell_type": "markdown",
   "metadata": {},
   "source": [
    "**Pay attention**: The following does not work as one could expect from Matlab behaviour !"
   ]
  },
  {
   "cell_type": "code",
   "execution_count": 55,
   "metadata": {
    "collapsed": false
   },
   "outputs": [
    {
     "data": {
      "text/plain": [
       "array([0, 1, 0, 1, 1, 0])"
      ]
     },
     "execution_count": 55,
     "metadata": {},
     "output_type": "execute_result"
    }
   ],
   "source": [
    "a[[0,1,0,1,1,0]] # Here we use a Python list. "
   ]
  },
  {
   "cell_type": "markdown",
   "metadata": {},
   "source": [
    "<div class='exercice'><h1>Quizz</h1>\n",
    "Pouvez-vous expliquer le dernier exemple ?\n",
    "</div>"
   ]
  },
  {
   "cell_type": "markdown",
   "metadata": {},
   "source": [
    "The mask can be generated in the indexing operation itself"
   ]
  },
  {
   "cell_type": "code",
   "execution_count": 56,
   "metadata": {
    "collapsed": false
   },
   "outputs": [
    {
     "data": {
      "text/plain": [
       "array([6, 7, 8, 9])"
      ]
     },
     "execution_count": 56,
     "metadata": {},
     "output_type": "execute_result"
    }
   ],
   "source": [
    "a[a > 5]"
   ]
  },
  {
   "cell_type": "markdown",
   "metadata": {},
   "source": [
    "It is also possible to combine masks with operators"
   ]
  },
  {
   "cell_type": "code",
   "execution_count": 57,
   "metadata": {
    "collapsed": false
   },
   "outputs": [
    {
     "data": {
      "text/plain": [
       "array([6, 7, 8])"
      ]
     },
     "execution_count": 57,
     "metadata": {},
     "output_type": "execute_result"
    }
   ],
   "source": [
    "a[(a>5) & (a<=8)]"
   ]
  },
  {
   "cell_type": "markdown",
   "metadata": {},
   "source": [
    "La fonction NumPy `where()` prend en argument un tableau de booléen et retourne un tuple des indices où la condition est vérifiée (True). C'est l'équivalent du `find` de Matlab. "
   ]
  },
  {
   "cell_type": "code",
   "execution_count": 58,
   "metadata": {
    "collapsed": false
   },
   "outputs": [
    {
     "data": {
      "text/plain": [
       "(array([6, 7, 8, 9], dtype=int64),)"
      ]
     },
     "execution_count": 58,
     "metadata": {},
     "output_type": "execute_result"
    }
   ],
   "source": [
    "np.where(a > 5)"
   ]
  },
  {
   "cell_type": "code",
   "execution_count": 59,
   "metadata": {
    "collapsed": false
   },
   "outputs": [
    {
     "data": {
      "text/plain": [
       "array([6, 7, 8, 9])"
      ]
     },
     "execution_count": 59,
     "metadata": {},
     "output_type": "execute_result"
    }
   ],
   "source": [
    "a[np.where(a > 5)]"
   ]
  },
  {
   "cell_type": "markdown",
   "metadata": {},
   "source": [
    "<div class='exercice'><h1>Exercice</h1>\n",
    "Récupérez le courant plasma (signal SIPMES) pour le choc 47979 et tracez-le uniquement lorsque Ip>50 kA.\n",
    "</div>"
   ]
  },
  {
   "cell_type": "markdown",
   "metadata": {},
   "source": [
    "# Autres operations"
   ]
  },
  {
   "cell_type": "markdown",
   "metadata": {},
   "source": [
    "## Comparaisons termes à termes:"
   ]
  },
  {
   "cell_type": "code",
   "execution_count": 60,
   "metadata": {
    "collapsed": false
   },
   "outputs": [
    {
     "data": {
      "text/plain": [
       "array([False,  True,  True, False], dtype=bool)"
      ]
     },
     "execution_count": 60,
     "metadata": {},
     "output_type": "execute_result"
    }
   ],
   "source": [
    "a = np.array([1,2,3,4])\n",
    "b = np.array([0,2,3,1])\n",
    "a == b"
   ]
  },
  {
   "cell_type": "code",
   "execution_count": 61,
   "metadata": {
    "collapsed": false
   },
   "outputs": [
    {
     "data": {
      "text/plain": [
       "array([ True, False, False,  True], dtype=bool)"
      ]
     },
     "execution_count": 61,
     "metadata": {},
     "output_type": "execute_result"
    }
   ],
   "source": [
    "a > b"
   ]
  },
  {
   "cell_type": "markdown",
   "metadata": {},
   "source": [
    "## Comparaisons globales:"
   ]
  },
  {
   "cell_type": "code",
   "execution_count": 62,
   "metadata": {
    "collapsed": false
   },
   "outputs": [
    {
     "data": {
      "text/plain": [
       "False"
      ]
     },
     "execution_count": 62,
     "metadata": {},
     "output_type": "execute_result"
    }
   ],
   "source": [
    "np.array_equal(a,b)"
   ]
  },
  {
   "cell_type": "code",
   "execution_count": 63,
   "metadata": {
    "collapsed": false
   },
   "outputs": [
    {
     "data": {
      "text/plain": [
       "False"
      ]
     },
     "execution_count": 63,
     "metadata": {},
     "output_type": "execute_result"
    }
   ],
   "source": [
    "# Test whether all array elements evaluate to True.\n",
    "np.all([1, 1, 0]) "
   ]
  },
  {
   "cell_type": "code",
   "execution_count": 64,
   "metadata": {
    "collapsed": false
   },
   "outputs": [
    {
     "data": {
      "text/plain": [
       "True"
      ]
     },
     "execution_count": 64,
     "metadata": {},
     "output_type": "execute_result"
    }
   ],
   "source": [
    "# Test whether any array element evaluates to True.\n",
    "np.any([1, 1, 0])"
   ]
  },
  {
   "cell_type": "markdown",
   "metadata": {},
   "source": [
    "<div class='exercice'><h1>Quizz</h1>\n",
    "Ces dernières fonctions sont pratiques pour tester des égalités entre tableaux. Quel va être le résultat ci-dessous ?\n",
    "</div>"
   ]
  },
  {
   "cell_type": "code",
   "execution_count": 65,
   "metadata": {
    "collapsed": false
   },
   "outputs": [],
   "source": [
    ">>> a = np.array([1, 2, 3, 2])\n",
    ">>> b = np.array([2, 2, 3, 2])\n",
    ">>> c = np.array([6, 4, 4, 5])"
   ]
  },
  {
   "cell_type": "code",
   "execution_count": 66,
   "metadata": {
    "collapsed": false
   },
   "outputs": [
    {
     "data": {
      "text/plain": [
       "True"
      ]
     },
     "execution_count": 66,
     "metadata": {},
     "output_type": "execute_result"
    }
   ],
   "source": [
    ">>> ((a <= b) & (b <= c)).all()"
   ]
  },
  {
   "cell_type": "markdown",
   "metadata": {},
   "source": [
    "## Tests avec des flottants"
   ]
  },
  {
   "cell_type": "code",
   "execution_count": 168,
   "metadata": {
    "collapsed": true
   },
   "outputs": [],
   "source": [
    "a = np.array([1.00001, 2, 3, 4])\n",
    "b = np.array([1,2,3,4])"
   ]
  },
  {
   "cell_type": "code",
   "execution_count": 169,
   "metadata": {
    "collapsed": false
   },
   "outputs": [
    {
     "data": {
      "text/plain": [
       "array([False,  True,  True,  True], dtype=bool)"
      ]
     },
     "execution_count": 169,
     "metadata": {},
     "output_type": "execute_result"
    }
   ],
   "source": [
    "a == b"
   ]
  },
  {
   "cell_type": "code",
   "execution_count": 172,
   "metadata": {
    "collapsed": false
   },
   "outputs": [
    {
     "data": {
      "text/plain": [
       "array([ True,  True,  True,  True], dtype=bool)"
      ]
     },
     "execution_count": 172,
     "metadata": {},
     "output_type": "execute_result"
    }
   ],
   "source": [
    "np.isclose(a,b)"
   ]
  },
  {
   "cell_type": "code",
   "execution_count": 170,
   "metadata": {
    "collapsed": false
   },
   "outputs": [
    {
     "data": {
      "text/plain": [
       "False"
      ]
     },
     "execution_count": 170,
     "metadata": {},
     "output_type": "execute_result"
    }
   ],
   "source": [
    "np.array_equal(a,b)"
   ]
  },
  {
   "cell_type": "code",
   "execution_count": 171,
   "metadata": {
    "collapsed": false
   },
   "outputs": [
    {
     "data": {
      "text/plain": [
       "True"
      ]
     },
     "execution_count": 171,
     "metadata": {},
     "output_type": "execute_result"
    }
   ],
   "source": [
    "np.allclose(a, b, rtol=1e-5)"
   ]
  },
  {
   "cell_type": "markdown",
   "metadata": {},
   "source": [
    "## Operations logiques:"
   ]
  },
  {
   "cell_type": "code",
   "execution_count": 69,
   "metadata": {
    "collapsed": false
   },
   "outputs": [
    {
     "data": {
      "text/plain": [
       "array([False, False, False,  True], dtype=bool)"
      ]
     },
     "execution_count": 69,
     "metadata": {},
     "output_type": "execute_result"
    }
   ],
   "source": [
    "a = np.array([0,0,1,1])\n",
    "b = np.array([0,1,0,1])\n",
    "np.logical_and(a,b)"
   ]
  },
  {
   "cell_type": "markdown",
   "metadata": {},
   "source": [
    "## Transposition"
   ]
  },
  {
   "cell_type": "code",
   "execution_count": 70,
   "metadata": {
    "collapsed": false
   },
   "outputs": [
    {
     "data": {
      "text/plain": [
       "array([[ 1.,  1.,  1.],\n",
       "       [ 0.,  1.,  1.],\n",
       "       [ 0.,  0.,  1.]])"
      ]
     },
     "execution_count": 70,
     "metadata": {},
     "output_type": "execute_result"
    }
   ],
   "source": [
    "a=np.triu(np.ones(3)) # Upper triangle of an array\n",
    "a"
   ]
  },
  {
   "cell_type": "code",
   "execution_count": 71,
   "metadata": {
    "collapsed": false
   },
   "outputs": [
    {
     "data": {
      "text/plain": [
       "array([[ 1.,  0.,  0.],\n",
       "       [ 1.,  1.,  0.],\n",
       "       [ 1.,  1.,  1.]])"
      ]
     },
     "execution_count": 71,
     "metadata": {},
     "output_type": "execute_result"
    }
   ],
   "source": [
    "a.T"
   ]
  },
  {
   "cell_type": "markdown",
   "metadata": {},
   "source": [
    "## Reductions"
   ]
  },
  {
   "cell_type": "code",
   "execution_count": 72,
   "metadata": {
    "collapsed": false
   },
   "outputs": [
    {
     "data": {
      "text/plain": [
       "6"
      ]
     },
     "execution_count": 72,
     "metadata": {},
     "output_type": "execute_result"
    }
   ],
   "source": [
    "a = np.array([[1,1],[2,2]])\n",
    "a.sum() # somme tous les elements par defaut"
   ]
  },
  {
   "cell_type": "code",
   "execution_count": 73,
   "metadata": {
    "collapsed": false
   },
   "outputs": [
    {
     "data": {
      "text/plain": [
       "array([3, 3])"
      ]
     },
     "execution_count": 73,
     "metadata": {},
     "output_type": "execute_result"
    }
   ],
   "source": [
    "a.sum(axis=0)"
   ]
  },
  {
   "cell_type": "code",
   "execution_count": 74,
   "metadata": {
    "collapsed": false
   },
   "outputs": [
    {
     "data": {
      "text/plain": [
       "array([2, 4])"
      ]
     },
     "execution_count": 74,
     "metadata": {},
     "output_type": "execute_result"
    }
   ],
   "source": [
    "a.sum(axis=1)"
   ]
  },
  {
   "cell_type": "markdown",
   "metadata": {},
   "source": [
    "Idem pour la pluspart des fonctions : min, max, etc..."
   ]
  },
  {
   "cell_type": "markdown",
   "metadata": {},
   "source": [
    "## Statistiques"
   ]
  },
  {
   "cell_type": "code",
   "execution_count": 75,
   "metadata": {
    "collapsed": true
   },
   "outputs": [],
   "source": [
    "a = np.random.rand(1e6)"
   ]
  },
  {
   "cell_type": "code",
   "execution_count": 76,
   "metadata": {
    "collapsed": false
   },
   "outputs": [
    {
     "data": {
      "text/plain": [
       "0.50055702785869438"
      ]
     },
     "execution_count": 76,
     "metadata": {},
     "output_type": "execute_result"
    }
   ],
   "source": [
    "a.mean() # ou np.mean(a)"
   ]
  },
  {
   "cell_type": "code",
   "execution_count": 77,
   "metadata": {
    "collapsed": false
   },
   "outputs": [
    {
     "data": {
      "text/plain": [
       "0.28875884215250858"
      ]
     },
     "execution_count": 77,
     "metadata": {},
     "output_type": "execute_result"
    }
   ],
   "source": [
    "a.std() # ou np.std(a)"
   ]
  },
  {
   "cell_type": "markdown",
   "metadata": {},
   "source": [
    "## Grilles"
   ]
  },
  {
   "cell_type": "code",
   "execution_count": 78,
   "metadata": {
    "collapsed": false
   },
   "outputs": [
    {
     "data": {
      "text/plain": [
       "array([[0, 0, 0, 0],\n",
       "       [0, 1, 2, 3],\n",
       "       [0, 2, 4, 6],\n",
       "       [0, 3, 6, 9]])"
      ]
     },
     "execution_count": 78,
     "metadata": {},
     "output_type": "execute_result"
    }
   ],
   "source": [
    "x, y = np.arange(4), np.arange(4).reshape(4,1)\n",
    "# ou, astuce pour y : np.arange(4)[:, np.newaxis]\n",
    "x * y"
   ]
  },
  {
   "cell_type": "code",
   "execution_count": 79,
   "metadata": {
    "collapsed": false
   },
   "outputs": [
    {
     "name": "stdout",
     "output_type": "stream",
     "text": [
      "[[0 1 2 3]\n",
      " [0 1 2 3]\n",
      " [0 1 2 3]\n",
      " [0 1 2 3]]\n",
      "[[0 0 0 0]\n",
      " [1 1 1 1]\n",
      " [2 2 2 2]\n",
      " [3 3 3 3]]\n"
     ]
    }
   ],
   "source": [
    "x, y = np.meshgrid(np.arange(4), np.arange(4))\n",
    "print(x)\n",
    "print(y)"
   ]
  },
  {
   "cell_type": "markdown",
   "metadata": {},
   "source": [
    "## Aplatissement"
   ]
  },
  {
   "cell_type": "code",
   "execution_count": 80,
   "metadata": {
    "collapsed": false
   },
   "outputs": [
    {
     "data": {
      "text/plain": [
       "array([[1, 2, 3],\n",
       "       [4, 5, 6]])"
      ]
     },
     "execution_count": 80,
     "metadata": {},
     "output_type": "execute_result"
    }
   ],
   "source": [
    "a = np.array([[1,2,3],[4,5,6]])\n",
    "a"
   ]
  },
  {
   "cell_type": "code",
   "execution_count": 81,
   "metadata": {
    "collapsed": false
   },
   "outputs": [
    {
     "data": {
      "text/plain": [
       "array([1, 2, 3, 4, 5, 6])"
      ]
     },
     "execution_count": 81,
     "metadata": {},
     "output_type": "execute_result"
    }
   ],
   "source": [
    "a.ravel() # Flattening"
   ]
  },
  {
   "cell_type": "code",
   "execution_count": 82,
   "metadata": {
    "collapsed": false
   },
   "outputs": [
    {
     "data": {
      "text/plain": [
       "array([[1, 4],\n",
       "       [2, 5],\n",
       "       [3, 6]])"
      ]
     },
     "execution_count": 82,
     "metadata": {},
     "output_type": "execute_result"
    }
   ],
   "source": [
    "a.T"
   ]
  },
  {
   "cell_type": "code",
   "execution_count": 83,
   "metadata": {
    "collapsed": false
   },
   "outputs": [
    {
     "data": {
      "text/plain": [
       "array([1, 4, 2, 5, 3, 6])"
      ]
     },
     "execution_count": 83,
     "metadata": {},
     "output_type": "execute_result"
    }
   ],
   "source": [
    "a.T.ravel() # ou a.transpose().ravel()"
   ]
  },
  {
   "cell_type": "markdown",
   "metadata": {},
   "source": [
    "<div class='exercice'><h1>Exercice</h1>\n",
    "Utilisez les fonctions ravel() et flatten(). Quelle est la différence entre ces deux fonctions? (indice: laquelle retourne une vue et laquelle une copie?)\n",
    "</div>"
   ]
  },
  {
   "cell_type": "code",
   "execution_count": 84,
   "metadata": {
    "collapsed": false
   },
   "outputs": [],
   "source": [
    "a = np.array([[1,2,3],[4,5,6]])\n",
    "b = a.ravel() # Return a flattened array.\n",
    "c = a.flatten() # Return a copy of the array collapsed into one dimension."
   ]
  },
  {
   "cell_type": "code",
   "execution_count": 85,
   "metadata": {
    "collapsed": false
   },
   "outputs": [
    {
     "name": "stdout",
     "output_type": "stream",
     "text": [
      "[-1  2  3  4  5  6]\n",
      "[1 2 3 4 5 6]\n"
     ]
    }
   ],
   "source": [
    "a[0,0] = -1\n",
    "print(b)\n",
    "print(c)\n"
   ]
  },
  {
   "cell_type": "markdown",
   "metadata": {},
   "source": [
    "## Reshaping"
   ]
  },
  {
   "cell_type": "code",
   "execution_count": 86,
   "metadata": {
    "collapsed": false
   },
   "outputs": [
    {
     "data": {
      "text/plain": [
       "array([[-1,  2,  3],\n",
       "       [ 4,  5,  6]])"
      ]
     },
     "execution_count": 86,
     "metadata": {},
     "output_type": "execute_result"
    }
   ],
   "source": [
    "a"
   ]
  },
  {
   "cell_type": "markdown",
   "metadata": {},
   "source": [
    "Reshaper sans spécifier l'ensemble des dimensions :  "
   ]
  },
  {
   "cell_type": "code",
   "execution_count": 87,
   "metadata": {
    "collapsed": false
   },
   "outputs": [
    {
     "data": {
      "text/plain": [
       "array([[-1,  2],\n",
       "       [ 3,  4],\n",
       "       [ 5,  6]])"
      ]
     },
     "execution_count": 87,
     "metadata": {},
     "output_type": "execute_result"
    }
   ],
   "source": [
    "# unspecified (-1) value is inferred\n",
    "a.reshape(3, -1) "
   ]
  },
  {
   "cell_type": "markdown",
   "metadata": {},
   "source": [
    "##Algebre lineaire\n",
    "Le module [numpy.linalg](http://docs.scipy.org/doc/numpy-1.10.0/reference/routines.linalg.html) contiens les outils pour:\n",
    "\n",
    "* Matrix and vector products\n",
    "* Decompositions\n",
    "* Matrix eigenvalues\n",
    "* Norms and other numbers\n",
    "* Solving equations and inverting matrices"
   ]
  },
  {
   "cell_type": "code",
   "execution_count": 159,
   "metadata": {
    "collapsed": false
   },
   "outputs": [
    {
     "name": "stdout",
     "output_type": "stream",
     "text": [
      "[[1, 0], [0, 1]]\n",
      "[[4, 1], [2, 2]]\n"
     ]
    },
    {
     "data": {
      "text/plain": [
       "array([[4, 1],\n",
       "       [2, 2]])"
      ]
     },
     "execution_count": 159,
     "metadata": {},
     "output_type": "execute_result"
    }
   ],
   "source": [
    "a = [[1, 0], [0, 1]]\n",
    "b = [[4, 1], [2, 2]]\n",
    "print(a) \n",
    "print(b)\n",
    "np.dot(a, b)"
   ]
  },
  {
   "cell_type": "markdown",
   "metadata": {},
   "source": [
    "#Introduction à SciPy"
   ]
  },
  {
   "cell_type": "markdown",
   "metadata": {},
   "source": [
    "##Fonctions Spéciales\n",
    "The main feature of the [scipy.special](http://docs.scipy.org/doc/scipy/reference/tutorial/special.html) package is the definition of numerous special functions of mathematical physics. Available functions include airy, elliptic, bessel, gamma, beta, hypergeometric, parabolic cylinder, mathieu, spheroidal wave, struve, and kelvin. "
   ]
  },
  {
   "cell_type": "code",
   "execution_count": 161,
   "metadata": {
    "collapsed": false
   },
   "outputs": [
    {
     "name": "stdout",
     "output_type": "stream",
     "text": [
      "Help on package scipy.special in scipy:\n",
      "\n",
      "NAME\n",
      "    scipy.special\n",
      "\n",
      "DESCRIPTION\n",
      "    ========================================\n",
      "    Special functions (:mod:`scipy.special`)\n",
      "    ========================================\n",
      "    \n",
      "    .. module:: scipy.special\n",
      "    \n",
      "    Nearly all of the functions below are universal functions and follow\n",
      "    broadcasting and automatic array-looping rules. Exceptions are noted.\n",
      "    \n",
      "    Error handling\n",
      "    ==============\n",
      "    \n",
      "    Errors are handled by returning nans, or other appropriate values.\n",
      "    Some of the special function routines will emit warnings when an error\n",
      "    occurs.  By default this is disabled.  To enable such messages use\n",
      "    ``errprint(1)``, and to disable such messages use ``errprint(0)``.\n",
      "    \n",
      "    Example:\n",
      "    \n",
      "        >>> print scipy.special.bdtr(-1,10,0.3)\n",
      "        >>> scipy.special.errprint(1)\n",
      "        >>> print scipy.special.bdtr(-1,10,0.3)\n",
      "    \n",
      "    .. autosummary::\n",
      "       :toctree: generated/\n",
      "    \n",
      "       errprint\n",
      "       SpecialFunctionWarning -- Warning that can be issued with ``errprint(True)``\n",
      "    \n",
      "    Available functions\n",
      "    ===================\n",
      "    \n",
      "    Airy functions\n",
      "    --------------\n",
      "    \n",
      "    .. autosummary::\n",
      "       :toctree: generated/\n",
      "    \n",
      "       airy     -- Airy functions and their derivatives.\n",
      "       airye    -- Exponentially scaled Airy functions\n",
      "       ai_zeros -- [+]Zeros of Airy functions Ai(x) and Ai'(x)\n",
      "       bi_zeros -- [+]Zeros of Airy functions Bi(x) and Bi'(x)\n",
      "       itairy   --\n",
      "       \n",
      "    \n",
      "    Elliptic Functions and Integrals\n",
      "    --------------------------------\n",
      "    \n",
      "    .. autosummary::\n",
      "       :toctree: generated/\n",
      "    \n",
      "       ellipj    -- Jacobian elliptic functions\n",
      "       ellipk    -- Complete elliptic integral of the first kind.\n",
      "       ellipkm1  -- ellipkm1(x) == ellipk(1 - x)\n",
      "       ellipkinc -- Incomplete elliptic integral of the first kind.\n",
      "       ellipe    -- Complete elliptic integral of the second kind.\n",
      "       ellipeinc -- Incomplete elliptic integral of the second kind.\n",
      "    \n",
      "    Bessel Functions\n",
      "    ----------------\n",
      "    \n",
      "    .. autosummary::\n",
      "       :toctree: generated/\n",
      "    \n",
      "       jv       -- Bessel function of real-valued order and complex argument.\n",
      "       jve      -- Exponentially scaled Bessel function.\n",
      "       yn       -- Bessel function of second kind (integer order).\n",
      "       yv       -- Bessel function of the second kind (real-valued order).\n",
      "       yve      -- Exponentially scaled Bessel function of the second kind.\n",
      "       kn       -- Modified Bessel function of the second kind (integer order).\n",
      "       kv       -- Modified Bessel function of the second kind (real order).\n",
      "       kve      -- Exponentially scaled modified Bessel function of the second kind.\n",
      "       iv       -- Modified Bessel function.\n",
      "       ive      -- Exponentially scaled modified Bessel function.\n",
      "       hankel1  -- Hankel function of the first kind.\n",
      "       hankel1e -- Exponentially scaled Hankel function of the first kind.\n",
      "       hankel2  -- Hankel function of the second kind.\n",
      "       hankel2e -- Exponentially scaled Hankel function of the second kind.\n",
      "    \n",
      "    The following is not an universal function:\n",
      "    \n",
      "    .. autosummary::\n",
      "       :toctree: generated/\n",
      "    \n",
      "       lmbda       -- [+]Sequence of lambda functions with arbitrary order v.\n",
      "    \n",
      "    Zeros of Bessel Functions\n",
      "    ^^^^^^^^^^^^^^^^^^^^^^^^^\n",
      "    \n",
      "    These are not universal functions:\n",
      "    \n",
      "    .. autosummary::\n",
      "       :toctree: generated/\n",
      "    \n",
      "       jnjnp_zeros -- [+]Zeros of integer-order Bessel functions and derivatives sorted in order.\n",
      "       jnyn_zeros  -- [+]Zeros of integer-order Bessel functions and derivatives as separate arrays.\n",
      "       jn_zeros    -- [+]Zeros of Jn(x)\n",
      "       jnp_zeros   -- [+]Zeros of Jn'(x)\n",
      "       yn_zeros    -- [+]Zeros of Yn(x)\n",
      "       ynp_zeros   -- [+]Zeros of Yn'(x)\n",
      "       y0_zeros    -- [+]Complex zeros: Y0(z0)=0 and values of Y0'(z0)\n",
      "       y1_zeros    -- [+]Complex zeros: Y1(z1)=0 and values of Y1'(z1)\n",
      "       y1p_zeros   -- [+]Complex zeros of Y1'(z1')=0 and values of Y1(z1')\n",
      "    \n",
      "    Faster versions of common Bessel Functions\n",
      "    ^^^^^^^^^^^^^^^^^^^^^^^^^^^^^^^^^^^^^^^^^^\n",
      "    \n",
      "    .. autosummary::\n",
      "       :toctree: generated/\n",
      "    \n",
      "       j0       -- Bessel function of order 0.\n",
      "       j1       -- Bessel function of order 1.\n",
      "       y0       -- Bessel function of second kind of order 0.\n",
      "       y1       -- Bessel function of second kind of order 1.\n",
      "       i0       -- Modified Bessel function of order 0.\n",
      "       i0e      -- Exponentially scaled modified Bessel function of order 0.\n",
      "       i1       -- Modified Bessel function of order 1.\n",
      "       i1e      -- Exponentially scaled modified Bessel function of order 1.\n",
      "       k0       -- Modified Bessel function of the second kind of order 0.\n",
      "       k0e      -- Exponentially scaled modified Bessel function of the second kind of order 0.\n",
      "       k1       -- Modified Bessel function of the second kind of order 1.\n",
      "       k1e      -- Exponentially scaled modified Bessel function of the second kind of order 1.\n",
      "    \n",
      "    Integrals of Bessel Functions\n",
      "    ^^^^^^^^^^^^^^^^^^^^^^^^^^^^^\n",
      "    \n",
      "    .. autosummary::\n",
      "       :toctree: generated/\n",
      "    \n",
      "       itj0y0     -- Basic integrals of j0 and y0 from 0 to x.\n",
      "       it2j0y0    -- Integrals of (1-j0(t))/t from 0 to x and y0(t)/t from x to inf.\n",
      "       iti0k0     -- Basic integrals of i0 and k0 from 0 to x.\n",
      "       it2i0k0    -- Integrals of (i0(t)-1)/t from 0 to x and k0(t)/t from x to inf.\n",
      "       besselpoly -- Integral of a Bessel function: Jv(2* a* x) * x[+]lambda from x=0 to 1.\n",
      "    \n",
      "    Derivatives of Bessel Functions\n",
      "    ^^^^^^^^^^^^^^^^^^^^^^^^^^^^^^^\n",
      "    \n",
      "    .. autosummary::\n",
      "       :toctree: generated/\n",
      "    \n",
      "       jvp     -- Nth derivative of Jv(v,z)\n",
      "       yvp     -- Nth derivative of Yv(v,z)\n",
      "       kvp     -- Nth derivative of Kv(v,z)\n",
      "       ivp     -- Nth derivative of Iv(v,z)\n",
      "       h1vp    -- Nth derivative of H1v(v,z)\n",
      "       h2vp    -- Nth derivative of H2v(v,z)\n",
      "    \n",
      "    Spherical Bessel Functions\n",
      "    ^^^^^^^^^^^^^^^^^^^^^^^^^^\n",
      "    \n",
      "    These are not universal functions:\n",
      "    \n",
      "    .. autosummary::\n",
      "       :toctree: generated/\n",
      "    \n",
      "       sph_jn   -- [+]Sequence of spherical Bessel functions, jn(z)\n",
      "       sph_yn   -- [+]Sequence of spherical Bessel functions, yn(z)\n",
      "       sph_jnyn -- [+]Sequence of spherical Bessel functions, jn(z) and yn(z)\n",
      "       sph_in   -- [+]Sequence of spherical Bessel functions, in(z)\n",
      "       sph_kn   -- [+]Sequence of spherical Bessel functions, kn(z)\n",
      "       sph_inkn -- [+]Sequence of spherical Bessel functions, in(z) and kn(z)\n",
      "    \n",
      "    Riccati-Bessel Functions\n",
      "    ^^^^^^^^^^^^^^^^^^^^^^^^\n",
      "    \n",
      "    These are not universal functions:\n",
      "    \n",
      "    .. autosummary::\n",
      "       :toctree: generated/\n",
      "    \n",
      "       riccati_jn -- [+]Sequence of Ricatti-Bessel functions of first kind.\n",
      "       riccati_yn -- [+]Sequence of Ricatti-Bessel functions of second kind.\n",
      "    \n",
      "    Struve Functions\n",
      "    ----------------\n",
      "    \n",
      "    .. autosummary::\n",
      "       :toctree: generated/\n",
      "    \n",
      "       struve       -- Struve function --- Hv(x)\n",
      "       modstruve    -- Modified Struve function --- Lv(x)\n",
      "       itstruve0    -- Integral of H0(t) from 0 to x\n",
      "       it2struve0   -- Integral of H0(t)/t from x to Inf.\n",
      "       itmodstruve0 -- Integral of L0(t) from 0 to x.\n",
      "    \n",
      "    \n",
      "    Raw Statistical Functions\n",
      "    -------------------------\n",
      "    \n",
      "    .. seealso:: :mod:`scipy.stats`: Friendly versions of these functions.\n",
      "    \n",
      "    .. autosummary::\n",
      "       :toctree: generated/\n",
      "    \n",
      "       bdtr       -- Sum of terms 0 through k of the binomial pdf.\n",
      "       bdtrc      -- Sum of terms k+1 through n of the binomial pdf.\n",
      "       bdtri      -- Inverse of bdtr\n",
      "       bdtrik     --\n",
      "       bdtrin     --\n",
      "       btdtr      -- Integral from 0 to x of beta pdf.\n",
      "       btdtri     -- Quantiles of beta distribution\n",
      "       btdtria    --\n",
      "       btdtrib    --\n",
      "       fdtr       -- Integral from 0 to x of F pdf.\n",
      "       fdtrc      -- Integral from x to infinity under F pdf.\n",
      "       fdtri      -- Inverse of fdtrc\n",
      "       gdtr       -- Integral from 0 to x of gamma pdf.\n",
      "       gdtrc      -- Integral from x to infinity under gamma pdf.\n",
      "       gdtria     -- Inverse with respect to `a` of gdtr.\n",
      "       gdtrib     -- Inverse with respect to `b` of gdtr.\n",
      "       gdtrix     -- Inverse with respect to `x` of gdtr.\n",
      "       nbdtr      -- Sum of terms 0 through k of the negative binomial pdf.\n",
      "       nbdtrc     -- Sum of terms k+1 to infinity under negative binomial pdf.\n",
      "       nbdtri     -- Inverse of nbdtr\n",
      "       nbdtrik    --\n",
      "       nbdtrin    --\n",
      "       ncfdtr     -- CDF of non-central t distribution.\n",
      "       ncfdtridfd -- Find degrees of freedom (denominator) of noncentral F distribution.\n",
      "       ncfdtridfn -- Find degrees of freedom (numerator) of noncentral F distribution.\n",
      "       ncfdtri    -- Inverse CDF of noncentral F distribution.\n",
      "       ncfdtrinc  -- Find noncentrality parameter of noncentral F distribution.\n",
      "       nctdtr     -- CDF of noncentral t distribution.\n",
      "       nctdtridf  -- Find degrees of freedom of noncentral t distribution.\n",
      "       nctdtrit   -- Inverse CDF of noncentral t distribution.\n",
      "       nctdtrinc  -- Find noncentrality parameter of noncentral t distribution.\n",
      "       nrdtrimn   -- Find mean of normal distribution from cdf and std.\n",
      "       nrdtrisd   -- Find std of normal distribution from cdf and mean.\n",
      "       pdtr       -- Sum of terms 0 through k of the Poisson pdf.\n",
      "       pdtrc      -- Sum of terms k+1 to infinity of the Poisson pdf.\n",
      "       pdtri      -- Inverse of pdtr\n",
      "       pdtrik     --\n",
      "       stdtr      -- Integral from -infinity to t of the Student-t pdf.\n",
      "       stdtridf   --\n",
      "       stdtrit    --\n",
      "       chdtr      -- Integral from 0 to x of the Chi-square pdf.\n",
      "       chdtrc     -- Integral from x to infnity of Chi-square pdf.\n",
      "       chdtri     -- Inverse of chdtrc.\n",
      "       chdtriv    --\n",
      "       ndtr       -- Integral from -infinity to x of standard normal pdf\n",
      "       log_ndtr   -- Logarithm of integral from -infinity to x of standard normal pdf\n",
      "       ndtri      -- Inverse of ndtr (quantiles)\n",
      "       chndtr     --\n",
      "       chndtridf  --\n",
      "       chndtrinc  --\n",
      "       chndtrix   --\n",
      "       smirnov    -- Kolmogorov-Smirnov complementary CDF for one-sided test statistic (Dn+ or Dn-)\n",
      "       smirnovi   -- Inverse of smirnov.\n",
      "       kolmogorov -- The complementary CDF of the (scaled) two-sided test statistic (Kn*) valid for large n.\n",
      "       kolmogi    -- Inverse of kolmogorov\n",
      "       tklmbda    -- Tukey-Lambda CDF\n",
      "       logit      --\n",
      "       expit      --\n",
      "       boxcox     -- Compute the Box-Cox transformation.\n",
      "       boxcox1p   -- Compute the Box-Cox transformation.\n",
      "    \n",
      "    \n",
      "    Information Theory Functions\n",
      "    ----------------------------\n",
      "    \n",
      "    .. autosummary::\n",
      "       :toctree: generated/\n",
      "    \n",
      "       entr         -- entr(x) = -x*log(x)\n",
      "       rel_entr     -- rel_entr(x, y) = x*log(x/y)\n",
      "       kl_div       -- kl_div(x, y) = x*log(x/y) - x + y\n",
      "       huber        -- Huber loss function.\n",
      "       pseudo_huber -- Pseudo-Huber loss function.\n",
      "    \n",
      "    \n",
      "    Gamma and Related Functions\n",
      "    ---------------------------\n",
      "    \n",
      "    .. autosummary::\n",
      "       :toctree: generated/\n",
      "    \n",
      "       gamma        -- Gamma function.\n",
      "       gammaln      -- Log of the absolute value of the gamma function.\n",
      "       gammasgn     -- Sign of the gamma function.\n",
      "       gammainc     -- Incomplete gamma integral.\n",
      "       gammaincinv  -- Inverse of gammainc.\n",
      "       gammaincc    -- Complemented incomplete gamma integral.\n",
      "       gammainccinv -- Inverse of gammaincc.\n",
      "       beta         -- Beta function.\n",
      "       betaln       -- Log of the absolute value of the beta function.\n",
      "       betainc      -- Incomplete beta integral.\n",
      "       betaincinv   -- Inverse of betainc.\n",
      "       psi          -- Logarithmic derivative of the gamma function.\n",
      "       rgamma       -- One divided by the gamma function.\n",
      "       polygamma    -- Nth derivative of psi function.\n",
      "       multigammaln -- Log of the multivariate gamma.\n",
      "       digamma      -- Digamma function (derivative of the logarithm of gamma).\n",
      "       poch         -- The Pochhammer symbol (rising factorial).\n",
      "    \n",
      "    \n",
      "    Error Function and Fresnel Integrals\n",
      "    ------------------------------------\n",
      "    \n",
      "    .. autosummary::\n",
      "       :toctree: generated/\n",
      "    \n",
      "       erf           -- Error function.\n",
      "       erfc          -- Complemented error function (1- erf(x))\n",
      "       erfcx         -- Scaled complemented error function exp(x**2)*erfc(x)\n",
      "       erfi          -- Imaginary error function, -i erf(i x)\n",
      "       erfinv        -- Inverse of error function\n",
      "       erfcinv       -- Inverse of erfc\n",
      "       wofz          -- Fadeeva function.\n",
      "       dawsn         -- Dawson's integral.\n",
      "       fresnel       -- Fresnel sine and cosine integrals.\n",
      "       fresnel_zeros -- Complex zeros of both Fresnel integrals\n",
      "       modfresnelp   -- Modified Fresnel integrals F_+(x) and K_+(x)\n",
      "       modfresnelm   -- Modified Fresnel integrals F_-(x) and K_-(x)\n",
      "    \n",
      "    These are not universal functions:\n",
      "    \n",
      "    .. autosummary::\n",
      "       :toctree: generated/\n",
      "    \n",
      "       erf_zeros      -- [+]Complex zeros of erf(z)\n",
      "       fresnelc_zeros -- [+]Complex zeros of Fresnel cosine integrals\n",
      "       fresnels_zeros -- [+]Complex zeros of Fresnel sine integrals\n",
      "    \n",
      "    Legendre Functions\n",
      "    ------------------\n",
      "    \n",
      "    .. autosummary::\n",
      "       :toctree: generated/\n",
      "    \n",
      "       lpmv     -- Associated Legendre Function of arbitrary non-negative degree v.\n",
      "       sph_harm -- Spherical Harmonics (complex-valued) Y^m_n(theta,phi)\n",
      "    \n",
      "    These are not universal functions:\n",
      "    \n",
      "    .. autosummary::\n",
      "       :toctree: generated/\n",
      "    \n",
      "       clpmn    -- [+]Associated Legendre Function of the first kind for complex arguments.\n",
      "       lpn      -- [+]Legendre Functions (polynomials) of the first kind\n",
      "       lqn      -- [+]Legendre Functions of the second kind.\n",
      "       lpmn     -- [+]Associated Legendre Function of the first kind for real arguments.\n",
      "       lqmn     -- [+]Associated Legendre Function of the second kind.\n",
      "    \n",
      "    Ellipsoidal Harmonics\n",
      "    ---------------------\n",
      "    \n",
      "    .. autosummary::\n",
      "       :toctree: generated/\n",
      "    \n",
      "       ellip_harm    -- Ellipsoidal harmonic E\n",
      "       ellip_harm_2  -- Ellipsoidal harmonic F\n",
      "       ellip_normal  -- Ellipsoidal normalization constant\n",
      "    \n",
      "    Orthogonal polynomials\n",
      "    ----------------------\n",
      "    \n",
      "    The following functions evaluate values of orthogonal polynomials:\n",
      "    \n",
      "    .. autosummary::\n",
      "       :toctree: generated/\n",
      "    \n",
      "       assoc_laguerre\n",
      "       eval_legendre\n",
      "       eval_chebyt\n",
      "       eval_chebyu\n",
      "       eval_chebyc\n",
      "       eval_chebys\n",
      "       eval_jacobi\n",
      "       eval_laguerre\n",
      "       eval_genlaguerre\n",
      "       eval_hermite\n",
      "       eval_hermitenorm\n",
      "       eval_gegenbauer\n",
      "       eval_sh_legendre\n",
      "       eval_sh_chebyt\n",
      "       eval_sh_chebyu\n",
      "       eval_sh_jacobi\n",
      "    \n",
      "    The functions below, in turn, return the polynomial coefficients in\n",
      "    :class:`~.orthopoly1d` objects, which function similarly as :ref:`numpy.poly1d`.\n",
      "    The :class:`~.orthopoly1d` class also has an attribute ``weights`` which returns\n",
      "    the roots, weights, and total weights for the appropriate form of Gaussian\n",
      "    quadrature.  These are returned in an ``n x 3`` array with roots in the first\n",
      "    column, weights in the second column, and total weights in the final column.\n",
      "    Note that :class:`~.orthopoly1d` objects are converted to ``poly1d`` when doing\n",
      "    arithmetic, and lose information of the original orthogonal polynomial.\n",
      "    \n",
      "    .. autosummary::\n",
      "       :toctree: generated/\n",
      "    \n",
      "       legendre    -- [+]Legendre polynomial P_n(x) (lpn -- for function).\n",
      "       chebyt      -- [+]Chebyshev polynomial T_n(x)\n",
      "       chebyu      -- [+]Chebyshev polynomial U_n(x)\n",
      "       chebyc      -- [+]Chebyshev polynomial C_n(x)\n",
      "       chebys      -- [+]Chebyshev polynomial S_n(x)\n",
      "       jacobi      -- [+]Jacobi polynomial P^(alpha,beta)_n(x)\n",
      "       laguerre    -- [+]Laguerre polynomial, L_n(x)\n",
      "       genlaguerre -- [+]Generalized (Associated) Laguerre polynomial, L^alpha_n(x)\n",
      "       hermite     -- [+]Hermite polynomial H_n(x)\n",
      "       hermitenorm -- [+]Normalized Hermite polynomial, He_n(x)\n",
      "       gegenbauer  -- [+]Gegenbauer (Ultraspherical) polynomials, C^(alpha)_n(x)\n",
      "       sh_legendre -- [+]shifted Legendre polynomial, P*_n(x)\n",
      "       sh_chebyt   -- [+]shifted Chebyshev polynomial, T*_n(x)\n",
      "       sh_chebyu   -- [+]shifted Chebyshev polynomial, U*_n(x)\n",
      "       sh_jacobi   -- [+]shifted Jacobi polynomial, J*_n(x) = G^(p,q)_n(x)\n",
      "    \n",
      "    .. warning::\n",
      "    \n",
      "       Computing values of high-order polynomials (around ``order > 20``) using\n",
      "       polynomial coefficients is numerically unstable. To evaluate polynomial\n",
      "       values, the ``eval_*`` functions should be used instead.\n",
      "    \n",
      "    \n",
      "    \n",
      "    Hypergeometric Functions\n",
      "    ------------------------\n",
      "    \n",
      "    .. autosummary::\n",
      "       :toctree: generated/\n",
      "    \n",
      "       hyp2f1   -- Gauss hypergeometric function (2F1)\n",
      "       hyp1f1   -- Confluent hypergeometric function (1F1)\n",
      "       hyperu   -- Confluent hypergeometric function (U)\n",
      "       hyp0f1   -- Confluent hypergeometric limit function (0F1)\n",
      "       hyp2f0   -- Hypergeometric function (2F0)\n",
      "       hyp1f2   -- Hypergeometric function (1F2)\n",
      "       hyp3f0   -- Hypergeometric function (3F0)\n",
      "    \n",
      "    \n",
      "    Parabolic Cylinder Functions\n",
      "    ----------------------------\n",
      "    \n",
      "    .. autosummary::\n",
      "       :toctree: generated/\n",
      "    \n",
      "       pbdv     -- Parabolic cylinder function Dv(x) and derivative.\n",
      "       pbvv     -- Parabolic cylinder function Vv(x) and derivative.\n",
      "       pbwa     -- Parabolic cylinder function W(a,x) and derivative.\n",
      "    \n",
      "    These are not universal functions:\n",
      "    \n",
      "    .. autosummary::\n",
      "       :toctree: generated/\n",
      "    \n",
      "       pbdv_seq -- [+]Sequence of parabolic cylinder functions Dv(x)\n",
      "       pbvv_seq -- [+]Sequence of parabolic cylinder functions Vv(x)\n",
      "       pbdn_seq -- [+]Sequence of parabolic cylinder functions Dn(z), complex z\n",
      "    \n",
      "    Mathieu and Related Functions\n",
      "    -----------------------------\n",
      "    \n",
      "    .. autosummary::\n",
      "       :toctree: generated/\n",
      "    \n",
      "       mathieu_a       -- Characteristic values for even solution (ce_m)\n",
      "       mathieu_b       -- Characteristic values for odd solution (se_m)\n",
      "    \n",
      "    These are not universal functions:\n",
      "    \n",
      "    .. autosummary::\n",
      "       :toctree: generated/\n",
      "    \n",
      "       mathieu_even_coef -- [+]sequence of expansion coefficients for even solution\n",
      "       mathieu_odd_coef  -- [+]sequence of expansion coefficients for odd solution\n",
      "    \n",
      "    The following return both function and first derivative:\n",
      "    \n",
      "    .. autosummary::\n",
      "       :toctree: generated/\n",
      "    \n",
      "       mathieu_cem     -- Even Mathieu function\n",
      "       mathieu_sem     -- Odd Mathieu function\n",
      "       mathieu_modcem1 -- Even modified Mathieu function of the first kind\n",
      "       mathieu_modcem2 -- Even modified Mathieu function of the second kind\n",
      "       mathieu_modsem1 -- Odd modified Mathieu function of the first kind\n",
      "       mathieu_modsem2 -- Odd modified Mathieu function of the second kind\n",
      "    \n",
      "    Spheroidal Wave Functions\n",
      "    -------------------------\n",
      "    \n",
      "    .. autosummary::\n",
      "       :toctree: generated/\n",
      "    \n",
      "       pro_ang1   -- Prolate spheroidal angular function of the first kind\n",
      "       pro_rad1   -- Prolate spheroidal radial function of the first kind\n",
      "       pro_rad2   -- Prolate spheroidal radial function of the second kind\n",
      "       obl_ang1   -- Oblate spheroidal angular function of the first kind\n",
      "       obl_rad1   -- Oblate spheroidal radial function of the first kind\n",
      "       obl_rad2   -- Oblate spheroidal radial function of the second kind\n",
      "       pro_cv     -- Compute characteristic value for prolate functions\n",
      "       obl_cv     -- Compute characteristic value for oblate functions\n",
      "       pro_cv_seq -- Compute sequence of prolate characteristic values\n",
      "       obl_cv_seq -- Compute sequence of oblate characteristic values\n",
      "    \n",
      "    The following functions require pre-computed characteristic value:\n",
      "    \n",
      "    .. autosummary::\n",
      "       :toctree: generated/\n",
      "    \n",
      "       pro_ang1_cv -- Prolate spheroidal angular function of the first kind\n",
      "       pro_rad1_cv -- Prolate spheroidal radial function of the first kind\n",
      "       pro_rad2_cv -- Prolate spheroidal radial function of the second kind\n",
      "       obl_ang1_cv -- Oblate spheroidal angular function of the first kind\n",
      "       obl_rad1_cv -- Oblate spheroidal radial function of the first kind\n",
      "       obl_rad2_cv -- Oblate spheroidal radial function of the second kind\n",
      "    \n",
      "    Kelvin Functions\n",
      "    ----------------\n",
      "    \n",
      "    .. autosummary::\n",
      "       :toctree: generated/\n",
      "    \n",
      "       kelvin       -- All Kelvin functions (order 0) and derivatives.\n",
      "       kelvin_zeros -- [+]Zeros of All Kelvin functions (order 0) and derivatives\n",
      "       ber          -- Kelvin function ber x\n",
      "       bei          -- Kelvin function bei x\n",
      "       berp         -- Derivative of Kelvin function ber x\n",
      "       beip         -- Derivative of Kelvin function bei x\n",
      "       ker          -- Kelvin function ker x\n",
      "       kei          -- Kelvin function kei x\n",
      "       kerp         -- Derivative of Kelvin function ker x\n",
      "       keip         -- Derivative of Kelvin function kei x\n",
      "    \n",
      "    These are not universal functions:\n",
      "    \n",
      "    .. autosummary::\n",
      "       :toctree: generated/\n",
      "    \n",
      "       ber_zeros    -- [+]Zeros of Kelvin function bei x\n",
      "       bei_zeros    -- [+]Zeros of Kelvin function ber x\n",
      "       berp_zeros   -- [+]Zeros of derivative of Kelvin function ber x\n",
      "       beip_zeros   -- [+]Zeros of derivative of Kelvin function bei x\n",
      "       ker_zeros    -- [+]Zeros of Kelvin function kei x\n",
      "       kei_zeros    -- [+]Zeros of Kelvin function ker x\n",
      "       kerp_zeros   -- [+]Zeros of derivative of Kelvin function ker x\n",
      "       keip_zeros   -- [+]Zeros of derivative of Kelvin function kei x\n",
      "    \n",
      "    Combinatorics\n",
      "    -------------\n",
      "    \n",
      "    .. autosummary::\n",
      "        :toctree: generated/\n",
      "    \n",
      "        comb    -- [+]Combinations of N things taken k at a time, \"N choose k\"\n",
      "        perm    -- [+]Permutations of N things taken k at a time, \"k-permutations of N\"\n",
      "    \n",
      "    Other Special Functions\n",
      "    -----------------------\n",
      "    \n",
      "    .. autosummary::\n",
      "       :toctree: generated/\n",
      "    \n",
      "       agm          -- Arithmetic-Geometric Mean\n",
      "       bernoulli    -- Bernoulli numbers\n",
      "       binom        -- Binomial coefficient.\n",
      "       diric        -- Dirichlet function (periodic sinc)\n",
      "       euler        -- Euler numbers\n",
      "       expn         -- Exponential integral.\n",
      "       exp1         -- Exponential integral of order 1 (for complex argument)\n",
      "       expi         -- Another exponential integral -- Ei(x)\n",
      "       factorial    -- The factorial function, n! = special.gamma(n+1)\n",
      "       factorial2   -- Double factorial, (n!)!\n",
      "       factorialk   -- [+](...((n!)!)!...)! where there are k '!'\n",
      "       shichi       -- Hyperbolic sine and cosine integrals.\n",
      "       sici         -- Integral of the sinc and \"cosinc\" functions.\n",
      "       spence       -- Dilogarithm integral.\n",
      "       lambertw     -- Lambert W function\n",
      "       zeta         -- Riemann zeta function of two arguments.\n",
      "       zetac        -- Standard Riemann zeta function minus 1.\n",
      "    \n",
      "    Convenience Functions\n",
      "    ---------------------\n",
      "    \n",
      "    .. autosummary::\n",
      "       :toctree: generated/\n",
      "    \n",
      "       cbrt     -- Cube root.\n",
      "       exp10    -- 10 raised to the x power.\n",
      "       exp2     -- 2 raised to the x power.\n",
      "       radian   -- radian angle given degrees, minutes, and seconds.\n",
      "       cosdg    -- cosine of the angle given in degrees.\n",
      "       sindg    -- sine of the angle given in degrees.\n",
      "       tandg    -- tangent of the angle given in degrees.\n",
      "       cotdg    -- cotangent of the angle given in degrees.\n",
      "       log1p    -- log(1+x)\n",
      "       expm1    -- exp(x)-1\n",
      "       cosm1    -- cos(x)-1\n",
      "       round    -- round the argument to the nearest integer. If argument ends in 0.5 exactly, pick the nearest even integer.\n",
      "       xlogy    -- x*log(y)\n",
      "       xlog1py  -- x*log1p(y)\n",
      "    \n",
      "    .. [+] in the description indicates a function which is not a universal\n",
      "    .. function and does not follow broadcasting and automatic\n",
      "    .. array-looping rules.\n",
      "\n",
      "PACKAGE CONTENTS\n",
      "    _ellip_harm\n",
      "    _ellip_harm_2\n",
      "    _testutils\n",
      "    _ufuncs\n",
      "    _ufuncs_cxx\n",
      "    add_newdocs\n",
      "    basic\n",
      "    generate_ufuncs\n",
      "    lambertw\n",
      "    orthogonal\n",
      "    setup\n",
      "    specfun\n",
      "    spfun_stats\n",
      "\n",
      "CLASSES\n",
      "    builtins.Warning(builtins.Exception)\n",
      "        scipy.special.basic.SpecialFunctionWarning\n",
      "    \n",
      "    class SpecialFunctionWarning(builtins.Warning)\n",
      "     |  Warning that can be issued with ``errprint(True)``\n",
      "     |  \n",
      "     |  Method resolution order:\n",
      "     |      SpecialFunctionWarning\n",
      "     |      builtins.Warning\n",
      "     |      builtins.Exception\n",
      "     |      builtins.BaseException\n",
      "     |      builtins.object\n",
      "     |  \n",
      "     |  Data descriptors defined here:\n",
      "     |  \n",
      "     |  __weakref__\n",
      "     |      list of weak references to the object (if defined)\n",
      "     |  \n",
      "     |  ----------------------------------------------------------------------\n",
      "     |  Methods inherited from builtins.Warning:\n",
      "     |  \n",
      "     |  __init__(self, /, *args, **kwargs)\n",
      "     |      Initialize self.  See help(type(self)) for accurate signature.\n",
      "     |  \n",
      "     |  __new__(*args, **kwargs) from builtins.type\n",
      "     |      Create and return a new object.  See help(type) for accurate signature.\n",
      "     |  \n",
      "     |  ----------------------------------------------------------------------\n",
      "     |  Methods inherited from builtins.BaseException:\n",
      "     |  \n",
      "     |  __delattr__(self, name, /)\n",
      "     |      Implement delattr(self, name).\n",
      "     |  \n",
      "     |  __getattribute__(self, name, /)\n",
      "     |      Return getattr(self, name).\n",
      "     |  \n",
      "     |  __reduce__(...)\n",
      "     |  \n",
      "     |  __repr__(self, /)\n",
      "     |      Return repr(self).\n",
      "     |  \n",
      "     |  __setattr__(self, name, value, /)\n",
      "     |      Implement setattr(self, name, value).\n",
      "     |  \n",
      "     |  __setstate__(...)\n",
      "     |  \n",
      "     |  __str__(self, /)\n",
      "     |      Return str(self).\n",
      "     |  \n",
      "     |  with_traceback(...)\n",
      "     |      Exception.with_traceback(tb) --\n",
      "     |      set self.__traceback__ to tb and return self.\n",
      "     |  \n",
      "     |  ----------------------------------------------------------------------\n",
      "     |  Data descriptors inherited from builtins.BaseException:\n",
      "     |  \n",
      "     |  __cause__\n",
      "     |      exception cause\n",
      "     |  \n",
      "     |  __context__\n",
      "     |      exception context\n",
      "     |  \n",
      "     |  __dict__\n",
      "     |  \n",
      "     |  __suppress_context__\n",
      "     |  \n",
      "     |  __traceback__\n",
      "     |  \n",
      "     |  args\n",
      "\n",
      "FUNCTIONS\n",
      "    agm(a, b)\n",
      "        Arithmetic, Geometric Mean\n",
      "        \n",
      "        Start with a_0=a and b_0=b and iteratively compute\n",
      "        \n",
      "        a_{n+1} = (a_n+b_n)/2\n",
      "        b_{n+1} = sqrt(a_n*b_n)\n",
      "        \n",
      "        until a_n=b_n.   The result is agm(a,b)\n",
      "        \n",
      "        agm(a,b)=agm(b,a)\n",
      "        agm(a,a) = a\n",
      "        min(a,b) < agm(a,b) < max(a,b)\n",
      "    \n",
      "    ai_zeros(nt)\n",
      "        Compute the zeros of Airy Functions Ai(x) and Ai'(x), a and a'\n",
      "        respectively, and the associated values of Ai(a') and Ai'(a).\n",
      "        \n",
      "        Returns\n",
      "        -------\n",
      "        a[l-1]   -- the lth zero of Ai(x)\n",
      "        ap[l-1]  -- the lth zero of Ai'(x)\n",
      "        ai[l-1]  -- Ai(ap[l-1])\n",
      "        aip[l-1] -- Ai'(a[l-1])\n",
      "    \n",
      "    assoc_laguerre(x, n, k=0.0)\n",
      "        Returns the n-th order generalized (associated) Laguerre polynomial.\n",
      "        \n",
      "        The polynomial :math:`L^(alpha)_n(x)` is orthogonal over ``[0, inf)``,\n",
      "        with weighting function ``exp(-x) * x**alpha`` with ``alpha > -1``.\n",
      "        \n",
      "        Notes\n",
      "        -----\n",
      "        `assoc_laguerre` is a simple wrapper around `eval_genlaguerre`, with\n",
      "        reversed argument order ``(x, n, k=0.0) --> (n, k, x)``.\n",
      "    \n",
      "    bei_zeros(nt)\n",
      "        Compute nt zeros of the Kelvin function bei x\n",
      "    \n",
      "    beip_zeros(nt)\n",
      "        Compute nt zeros of the Kelvin function bei' x\n",
      "    \n",
      "    ber_zeros(nt)\n",
      "        Compute nt zeros of the Kelvin function ber x\n",
      "    \n",
      "    bernoulli(n)\n",
      "        Return an array of the Bernoulli numbers B0..Bn\n",
      "    \n",
      "    berp_zeros(nt)\n",
      "        Compute nt zeros of the Kelvin function ber' x\n",
      "    \n",
      "    bessel_diff_formula = _bessel_diff_formula(*args, **kwds)\n",
      "        `_bessel_diff_formula` is deprecated!\n",
      "        bessel_diff_formula is a private function, do not use it!\n",
      "    \n",
      "    bi_zeros(nt)\n",
      "        Compute the zeros of Airy Functions Bi(x) and Bi'(x), b and b'\n",
      "        respectively, and the associated values of Ai(b') and Ai'(b).\n",
      "        \n",
      "        Returns\n",
      "        -------\n",
      "        b[l-1]   -- the lth zero of Bi(x)\n",
      "        bp[l-1]  -- the lth zero of Bi'(x)\n",
      "        bi[l-1]  -- Bi(bp[l-1])\n",
      "        bip[l-1] -- Bi'(b[l-1])\n",
      "    \n",
      "    c_roots(n, mu=False)\n",
      "        Gauss-Chebyshev (first kind) quadrature\n",
      "        \n",
      "        Computes the sample points and weights for Gauss-Chebyshev quadrature.\n",
      "        The sample points are the roots of the `n`th degree Chebyshev polynomial of\n",
      "        the first kind, :math:`C_n(x)`.  These sample points and weights correctly\n",
      "        integrate polynomials of degree :math:`2*n - 1` or less over the interval\n",
      "        :math:`[-2, 2]` with weight function :math:`f(x) = 1/\\sqrt{1 - (x/2)^2}`.\n",
      "        \n",
      "        Parameters\n",
      "        ----------\n",
      "        n : int\n",
      "            quadrature order\n",
      "        mu : bool, optional\n",
      "            If True, return the sum of the weights, optional.\n",
      "        \n",
      "        Returns\n",
      "        -------\n",
      "        x : ndarray\n",
      "            Sample points\n",
      "        w : ndarray\n",
      "            Weights\n",
      "        mu : float\n",
      "            Sum of the weights\n",
      "        \n",
      "        See Also\n",
      "        --------\n",
      "        integrate.quadrature\n",
      "        integrate.fixed_quad\n",
      "    \n",
      "    cg_roots(n, alpha, mu=False)\n",
      "        Gauss-Gegenbauer quadrature\n",
      "        \n",
      "        Computes the sample points and weights for Gauss-Gegenbauer quadrature.\n",
      "        The sample points are the roots of the `n`th degree Gegenbauer polynomial,\n",
      "        :math:`C^{\\alpha}_n(x)`.  These sample points and weights correctly\n",
      "        integrate polynomials of degree :math:`2*n - 1` or less over the interval\n",
      "        :math:`[-1, 1]` with weight function :math:`f(x) = (1-x^2)^{\\alpha-1/2}`.\n",
      "        \n",
      "        Parameters\n",
      "        ----------\n",
      "        n : int\n",
      "            quadrature order\n",
      "        alpha : float\n",
      "            alpha must be > -0.5\n",
      "        mu : bool, optional\n",
      "            If True, return the sum of the weights, optional.\n",
      "        \n",
      "        Returns\n",
      "        -------\n",
      "        x : ndarray\n",
      "            Sample points\n",
      "        w : ndarray\n",
      "            Weights\n",
      "        mu : float\n",
      "            Sum of the weights\n",
      "        \n",
      "        See Also\n",
      "        --------\n",
      "        integrate.quadrature\n",
      "        integrate.fixed_quad\n",
      "    \n",
      "    chebyc(n, monic=False)\n",
      "        Return nth order Chebyshev polynomial of first kind, Cn(x).  Orthogonal\n",
      "        over [-2,2] with weight function (1-(x/2)**2)**(-1/2).\n",
      "    \n",
      "    chebys(n, monic=False)\n",
      "        Return nth order Chebyshev polynomial of second kind, Sn(x).  Orthogonal\n",
      "        over [-2,2] with weight function (1-(x/2)**2)**(1/2).\n",
      "    \n",
      "    chebyt(n, monic=False)\n",
      "        Return nth order Chebyshev polynomial of first kind, Tn(x).  Orthogonal\n",
      "        over [-1,1] with weight function (1-x**2)**(-1/2).\n",
      "    \n",
      "    chebyu(n, monic=False)\n",
      "        Return nth order Chebyshev polynomial of second kind, Un(x).  Orthogonal\n",
      "        over [-1,1] with weight function (1-x**2)**(1/2).\n",
      "    \n",
      "    clpmn(m, n, z, type=3)\n",
      "        Associated Legendre function of the first kind, Pmn(z)\n",
      "        \n",
      "        Computes the (associated) Legendre function of the first kind\n",
      "        of order m and degree n,::\n",
      "        \n",
      "            Pmn(z) = P_n^m(z)\n",
      "        \n",
      "        and its derivative, ``Pmn'(z)``.  Returns two arrays of size\n",
      "        ``(m+1, n+1)`` containing ``Pmn(z)`` and ``Pmn'(z)`` for all\n",
      "        orders from ``0..m`` and degrees from ``0..n``.\n",
      "        \n",
      "        Parameters\n",
      "        ----------\n",
      "        m : int\n",
      "           ``|m| <= n``; the order of the Legendre function.\n",
      "        n : int\n",
      "           where ``n >= 0``; the degree of the Legendre function.  Often\n",
      "           called ``l`` (lower case L) in descriptions of the associated\n",
      "           Legendre function\n",
      "        z : float or complex\n",
      "            Input value.\n",
      "        type : int, optional\n",
      "           takes values 2 or 3\n",
      "           2: cut on the real axis ``|x| > 1``\n",
      "           3: cut on the real axis ``-1 < x < 1`` (default)\n",
      "        \n",
      "        Returns\n",
      "        -------\n",
      "        Pmn_z : (m+1, n+1) array\n",
      "           Values for all orders ``0..m`` and degrees ``0..n``\n",
      "        Pmn_d_z : (m+1, n+1) array\n",
      "           Derivatives for all orders ``0..m`` and degrees ``0..n``\n",
      "        \n",
      "        See Also\n",
      "        --------\n",
      "        lpmn: associated Legendre functions of the first kind for real z\n",
      "        \n",
      "        Notes\n",
      "        -----\n",
      "        By default, i.e. for ``type=3``, phase conventions are chosen according\n",
      "        to [1]_ such that the function is analytic. The cut lies on the interval\n",
      "        (-1, 1). Approaching the cut from above or below in general yields a phase\n",
      "        factor with respect to Ferrer's function of the first kind\n",
      "        (cf. `lpmn`).\n",
      "        \n",
      "        For ``type=2`` a cut at ``|x| > 1`` is chosen. Approaching the real values\n",
      "        on the interval (-1, 1) in the complex plane yields Ferrer's function\n",
      "        of the first kind.\n",
      "        \n",
      "        References\n",
      "        ----------\n",
      "        .. [1] NIST Digital Library of Mathematical Functions\n",
      "               http://dlmf.nist.gov/14.21\n",
      "    \n",
      "    comb(N, k, exact=False, repetition=False)\n",
      "        The number of combinations of N things taken k at a time.\n",
      "        \n",
      "        This is often expressed as \"N choose k\".\n",
      "        \n",
      "        Parameters\n",
      "        ----------\n",
      "        N : int, ndarray\n",
      "            Number of things.\n",
      "        k : int, ndarray\n",
      "            Number of elements taken.\n",
      "        exact : bool, optional\n",
      "            If `exact` is False, then floating point precision is used, otherwise\n",
      "            exact long integer is computed.\n",
      "        repetition : bool, optional\n",
      "            If `repetition` is True, then the number of combinations with\n",
      "            repetition is computed.\n",
      "        \n",
      "        Returns\n",
      "        -------\n",
      "        val : int, ndarray\n",
      "            The total number of combinations.\n",
      "        \n",
      "        Notes\n",
      "        -----\n",
      "        - Array arguments accepted only for exact=False case.\n",
      "        - If k > N, N < 0, or k < 0, then a 0 is returned.\n",
      "        \n",
      "        Examples\n",
      "        --------\n",
      "        >>> from scipy.special import comb\n",
      "        >>> k = np.array([3, 4])\n",
      "        >>> n = np.array([10, 10])\n",
      "        >>> comb(n, k, exact=False)\n",
      "        array([ 120.,  210.])\n",
      "        >>> comb(10, 3, exact=True)\n",
      "        120L\n",
      "        >>> comb(10, 3, exact=True, repetition=True)\n",
      "        220L\n",
      "    \n",
      "    diric(x, n)\n",
      "        Return the periodic sinc function, also called the Dirichlet function.\n",
      "        \n",
      "        The Dirichlet function is defined as::\n",
      "        \n",
      "            diric(x) = sin(x * n/2) / (n * sin(x / 2)),\n",
      "        \n",
      "        where n is a positive integer.\n",
      "        \n",
      "        Parameters\n",
      "        ----------\n",
      "        x : array_like\n",
      "            Input data\n",
      "        n : int\n",
      "            Integer defining the periodicity.\n",
      "        \n",
      "        Returns\n",
      "        -------\n",
      "        diric : ndarray\n",
      "        \n",
      "        Examples\n",
      "        --------\n",
      "        >>> from scipy import special\n",
      "        >>> import matplotlib.pyplot as plt\n",
      "        \n",
      "        >>> x = np.linspace(-8*np.pi, 8*np.pi, num=201)\n",
      "        >>> plt.figure(figsize=(8,8));\n",
      "        >>> for idx, n in enumerate([2,3,4,9]):\n",
      "        ...     plt.subplot(2, 2, idx+1)\n",
      "        ...     plt.plot(x, special.diric(x, n))\n",
      "        ...     plt.title('diric, n={}'.format(n))\n",
      "        >>> plt.show()\n",
      "    \n",
      "    ellip_harm(h2, k2, n, p, s, signm=1, signn=1)\n",
      "        Ellipsoidal harmonic functions E^p_n(l)\n",
      "        \n",
      "        These are also known as Lame functions of the first kind, and are\n",
      "        solutions to the Lame equation:\n",
      "        \n",
      "        .. math:: (s^2 - h^2)(s^2 - k^2)E''(s) + s(2s^2 - h^2 - k^2)E'(s) + (a - q s^2)E(s) = 0\n",
      "        \n",
      "        where :math:`q = (n+1)n` and :math:`a` is the eigenvalue (not\n",
      "        returned) corresponding to the solutions.\n",
      "        \n",
      "        Parameters\n",
      "        ----------\n",
      "        h2 : float\n",
      "            ``h**2``\n",
      "        k2 : float\n",
      "            ``k**2``; should be larger than ``h**2``\n",
      "        n : int\n",
      "            Degree\n",
      "        s : float\n",
      "            Coordinate\n",
      "        p : int\n",
      "            Order, can range between [1,2n+1]\n",
      "        signm : {1, -1}, optional\n",
      "            Sign of prefactor of functions. Can be +/-1. See Notes.\n",
      "        signn : {1, -1}, optional\n",
      "            Sign of prefactor of functions. Can be +/-1. See Notes.\n",
      "        \n",
      "        Returns\n",
      "        -------\n",
      "        E : float\n",
      "            the harmonic :math:`E^p_n(s)`\n",
      "        \n",
      "        See Also\n",
      "        --------\n",
      "        ellip_harm_2, ellip_normal\n",
      "        \n",
      "        Notes\n",
      "        -----\n",
      "        The geometric intepretation of the ellipsoidal functions is\n",
      "        explained in [2]_, [3]_, [4]_.  The `signm` and `signn` arguments control the\n",
      "        sign of prefactors for functions according to their type::\n",
      "        \n",
      "            K : +1\n",
      "            L : signm\n",
      "            M : signn\n",
      "            N : signm*signn\n",
      "        \n",
      "        .. versionadded:: 0.15.0\n",
      "        \n",
      "        References\n",
      "        ----------\n",
      "        .. [1] Digital Libary of Mathematical Functions 29.12\n",
      "           http://dlmf.nist.gov/29.12\n",
      "        .. [2] Bardhan and Knepley, \"Computational science and\n",
      "           re-discovery: open-source implementations of\n",
      "           ellipsoidal harmonics for problems in potential theory\",\n",
      "           Comput. Sci. Disc. 5, 014006 (2012)\n",
      "           doi:10.1088/1749-4699/5/1/014006\n",
      "        .. [3] David J.and Dechambre P, \"Computation of Ellipsoidal\n",
      "           Gravity Field Harmonics for small solar system bodies\"\n",
      "           pp. 30-36, 2000\n",
      "        .. [4] George Dassios, \"Ellipsoidal Harmonics: Theory and Applications\"\n",
      "           pp. 418, 2012\n",
      "        \n",
      "        Examples\n",
      "        --------\n",
      "        >>> from scipy.special import ellip_harm\n",
      "        >>> w = ellip_harm(5,8,1,1,2.5)\n",
      "        >>> w\n",
      "        2.5\n",
      "        \n",
      "        Check that the functions indeed are solutions to the Lame equation:\n",
      "        \n",
      "        >>> from scipy.interpolate import UnivariateSpline\n",
      "        >>> def eigenvalue(f, df, ddf):\n",
      "        ...     r = ((s**2 - h**2)*(s**2 - k**2)*ddf + s*(2*s**2 - h**2 - k**2)*df - n*(n+1)*s**2*f)/f\n",
      "        ...     return -r.mean(), r.std()\n",
      "        >>> s = np.linspace(0.1, 10, 200)\n",
      "        >>> k, h, n, p = 8.0, 2.2, 3, 2\n",
      "        >>> E = ellip_harm(h**2, k**2, n, p, s)\n",
      "        >>> E_spl = UnivariateSpline(s, E)\n",
      "        >>> a, a_err = eigenvalue(E_spl(s), E_spl(s,1), E_spl(s,2))\n",
      "        >>> a, a_err\n",
      "        (583.44366156701483, 6.4580890640310646e-11)\n",
      "    \n",
      "    ellip_harm_2(h2, k2, n, p, s)\n",
      "        Ellipsoidal harmonic functions F^p_n(l)\n",
      "        \n",
      "        These are also known as Lame functions of the second kind, and are\n",
      "        solutions to the Lame equation:\n",
      "        \n",
      "        .. math:: (s^2 - h^2)(s^2 - k^2)F''(s) + s(2s^2 - h^2 - k^2)F'(s) + (a - q s^2)F(s) = 0\n",
      "        \n",
      "        where :math:`q = (n+1)n` and :math:`a` is the eigenvalue (not\n",
      "        returned) corresponding to the solutions.\n",
      "        \n",
      "        Parameters\n",
      "        ----------\n",
      "        h2 : float\n",
      "            ``h**2``\n",
      "        k2 : float\n",
      "            ``k**2``; should be larger than ``h**2``\n",
      "        n : int\n",
      "            Degree.\n",
      "        p : int\n",
      "            Order, can range between [1,2n+1].\n",
      "        s : float\n",
      "            Coordinate\n",
      "        \n",
      "        Returns\n",
      "        -------\n",
      "        F : float\n",
      "            The harmonic :math:`F^p_n(s)`\n",
      "        \n",
      "        Notes\n",
      "        -----\n",
      "        Lame functions of the second kind are related to the functions of the first kind:\n",
      "        \n",
      "        .. math::\n",
      "        \n",
      "           F^p_n(s)=(2n + 1)E^p_n(s)\\int_{0}^{1/s}\\frac{du}{(E^p_n(1/u))^2\\sqrt{(1-u^2k^2)(1-u^2h^2)}}\n",
      "        \n",
      "        .. versionadded:: 0.15.0\n",
      "        \n",
      "        See Also\n",
      "        --------\n",
      "        ellip_harm, ellip_normal\n",
      "        \n",
      "        Examples\n",
      "        --------\n",
      "        >>> from scipy.special import ellip_harm_2\n",
      "        >>> w = ellip_harm_2(5,8,2,1,10)\n",
      "        >>> w\n",
      "        0.00108056853382\n",
      "    \n",
      "    ellip_normal(h2, k2, n, p)\n",
      "        Ellipsoidal harmonic normalization constants gamma^p_n\n",
      "        \n",
      "        The normalization constant is defined as\n",
      "        \n",
      "        .. math::\n",
      "        \n",
      "           \\gamma^p_n=8\\int_{0}^{h}dx\\int_{h}^{k}dy\\frac{(y^2-x^2)(E^p_n(y)E^p_n(x))^2}{\\sqrt((k^2-y^2)(y^2-h^2)(h^2-x^2)(k^2-x^2)}\n",
      "        \n",
      "        Parameters\n",
      "        ----------\n",
      "        h2 : float\n",
      "            ``h**2``\n",
      "        k2 : float\n",
      "            ``k**2``; should be larger than ``h**2``\n",
      "        n : int\n",
      "            Degree.\n",
      "        p : int\n",
      "            Order, can range between [1,2n+1].\n",
      "        \n",
      "        Returns\n",
      "        -------\n",
      "        gamma : float\n",
      "            The normalization constant :math:`\\gamma^p_n`\n",
      "        \n",
      "        See Also\n",
      "        --------\n",
      "        ellip_harm, ellip_harm_2\n",
      "        \n",
      "        Notes\n",
      "        -----\n",
      "        .. versionadded:: 0.15.0\n",
      "        \n",
      "        Examples\n",
      "        --------\n",
      "        >>> from scipy.special import ellip_normal\n",
      "        >>> w = ellip_normal(5,8,3,7)\n",
      "        >>> w\n",
      "        1723.38796997\n",
      "    \n",
      "    ellipk(m)\n",
      "        Complete elliptic integral of the first kind\n",
      "        \n",
      "        This function is defined as\n",
      "        \n",
      "        .. math:: K(m) = \\int_0^{\\pi/2} [1 - m \\sin(t)^2]^{-1/2} dt\n",
      "        \n",
      "        Parameters\n",
      "        ----------\n",
      "        m : array_like\n",
      "            The parameter of the elliptic integral.\n",
      "        \n",
      "        Returns\n",
      "        -------\n",
      "        K : array_like\n",
      "            Value of the elliptic integral.\n",
      "        \n",
      "        Notes\n",
      "        -----\n",
      "        For more precision around point m = 1, use `ellipkm1`.\n",
      "        \n",
      "        See Also\n",
      "        --------\n",
      "        ellipkm1 : Complete elliptic integral of the first kind around m = 1\n",
      "        ellipkinc : Incomplete elliptic integral of the first kind\n",
      "        ellipe : Complete elliptic integral of the second kind\n",
      "        ellipeinc : Incomplete elliptic integral of the second kind\n",
      "    \n",
      "    erf_zeros(nt)\n",
      "        Compute nt complex zeros of the error function erf(z).\n",
      "    \n",
      "    erfcinv(y)\n",
      "        Inverse function for erfc\n",
      "    \n",
      "    erfinv(y)\n",
      "        Inverse function for erf\n",
      "    \n",
      "    errprint(...)\n",
      "        errprint(inflag=None)\n",
      "        \n",
      "        Sets or returns the error printing flag for special functions.\n",
      "        \n",
      "        Parameters\n",
      "        ----------\n",
      "        inflag : bool, optional\n",
      "            Whether warnings concerning evaluation of special functions in\n",
      "            scipy.special are shown. If omitted, no change is made to the\n",
      "            current setting.\n",
      "        \n",
      "        Returns\n",
      "        -------\n",
      "        old_flag\n",
      "            Previous value of the error flag\n",
      "    \n",
      "    euler(n)\n",
      "        Return an array of the Euler numbers E0..En (inclusive)\n",
      "    \n",
      "    factorial(n, exact=False)\n",
      "        The factorial function, n! = special.gamma(n+1).\n",
      "        \n",
      "        If exact is 0, then floating point precision is used, otherwise\n",
      "        exact long integer is computed.\n",
      "        \n",
      "        - Array argument accepted only for exact=False case.\n",
      "        - If n<0, the return value is 0.\n",
      "        \n",
      "        Parameters\n",
      "        ----------\n",
      "        n : int or array_like of ints\n",
      "            Calculate ``n!``.  Arrays are only supported with `exact` set\n",
      "            to False.  If ``n < 0``, the return value is 0.\n",
      "        exact : bool, optional\n",
      "            The result can be approximated rapidly using the gamma-formula\n",
      "            above.  If `exact` is set to True, calculate the\n",
      "            answer exactly using integer arithmetic. Default is False.\n",
      "        \n",
      "        Returns\n",
      "        -------\n",
      "        nf : float or int\n",
      "            Factorial of `n`, as an integer or a float depending on `exact`.\n",
      "        \n",
      "        Examples\n",
      "        --------\n",
      "        >>> from scipy.special import factorial\n",
      "        >>> arr = np.array([3,4,5])\n",
      "        >>> factorial(arr, exact=False)\n",
      "        array([   6.,   24.,  120.])\n",
      "        >>> factorial(5, exact=True)\n",
      "        120L\n",
      "    \n",
      "    factorial2(n, exact=False)\n",
      "        Double factorial.\n",
      "        \n",
      "        This is the factorial with every second value skipped, i.e.,\n",
      "        ``7!! = 7 * 5 * 3 * 1``.  It can be approximated numerically as::\n",
      "        \n",
      "          n!! = special.gamma(n/2+1)*2**((m+1)/2)/sqrt(pi)  n odd\n",
      "              = 2**(n/2) * (n/2)!                           n even\n",
      "        \n",
      "        Parameters\n",
      "        ----------\n",
      "        n : int or array_like\n",
      "            Calculate ``n!!``.  Arrays are only supported with `exact` set\n",
      "            to False.  If ``n < 0``, the return value is 0.\n",
      "        exact : bool, optional\n",
      "            The result can be approximated rapidly using the gamma-formula\n",
      "            above (default).  If `exact` is set to True, calculate the\n",
      "            answer exactly using integer arithmetic.\n",
      "        \n",
      "        Returns\n",
      "        -------\n",
      "        nff : float or int\n",
      "            Double factorial of `n`, as an int or a float depending on\n",
      "            `exact`.\n",
      "        \n",
      "        Examples\n",
      "        --------\n",
      "        >>> from scipy.special import factorial2\n",
      "        >>> factorial2(7, exact=False)\n",
      "        array(105.00000000000001)\n",
      "        >>> factorial2(7, exact=True)\n",
      "        105L\n",
      "    \n",
      "    factorialk(n, k, exact=True)\n",
      "        n(!!...!)  = multifactorial of order k\n",
      "        k times\n",
      "        \n",
      "        Parameters\n",
      "        ----------\n",
      "        n : int\n",
      "            Calculate multifactorial. If `n` < 0, the return value is 0.\n",
      "        k : int\n",
      "            Order of multifactorial.\n",
      "        exact : bool, optional\n",
      "            If exact is set to True, calculate the answer exactly using\n",
      "            integer arithmetic.\n",
      "        \n",
      "        Returns\n",
      "        -------\n",
      "        val : int\n",
      "            Multi factorial of `n`.\n",
      "        \n",
      "        Raises\n",
      "        ------\n",
      "        NotImplementedError\n",
      "            Raises when exact is False\n",
      "        \n",
      "        Examples\n",
      "        --------\n",
      "        >>> from scipy.special import factorialk\n",
      "        >>> factorialk(5, 1, exact=True)\n",
      "        120L\n",
      "        >>> factorialk(5, 3, exact=True)\n",
      "        10L\n",
      "    \n",
      "    fresnel_zeros(nt)\n",
      "        Compute nt complex zeros of the sine and cosine Fresnel integrals\n",
      "        S(z) and C(z).\n",
      "    \n",
      "    fresnelc_zeros(nt)\n",
      "        Compute nt complex zeros of the cosine Fresnel integral C(z).\n",
      "    \n",
      "    fresnels_zeros(nt)\n",
      "        Compute nt complex zeros of the sine Fresnel integral S(z).\n",
      "    \n",
      "    gegenbauer(n, alpha, monic=False)\n",
      "        Return the nth order Gegenbauer (ultraspherical) polynomial,\n",
      "        C^(alpha)_n(x), orthogonal over [-1,1] with weighting function\n",
      "        (1-x**2)**(alpha-1/2) with alpha > -1/2\n",
      "    \n",
      "    genlaguerre(n, alpha, monic=False)\n",
      "        Returns the nth order generalized (associated) Laguerre polynomial,\n",
      "        L^(alpha)_n(x), orthogonal over [0,inf) with weighting function\n",
      "        exp(-x) x**alpha with alpha > -1\n",
      "    \n",
      "    h1vp(v, z, n=1)\n",
      "        Return the nth derivative of H1v(z) with respect to z.\n",
      "    \n",
      "    h2vp(v, z, n=1)\n",
      "        Return the nth derivative of H2v(z) with respect to z.\n",
      "    \n",
      "    h_roots(n, mu=False)\n",
      "        Gauss-Hermite (physicst's) quadrature\n",
      "        \n",
      "        Computes the sample points and weights for Gauss-Hermite quadrature.\n",
      "        The sample points are the roots of the `n`th degree Hermite polynomial,\n",
      "        :math:`H_n(x)`.  These sample points and weights correctly integrate\n",
      "        polynomials of degree :math:`2*n - 1` or less over the interval\n",
      "        :math:`[-inf, inf]` with weight function :math:`f(x) = e^{-x^2}`.\n",
      "        \n",
      "        Parameters\n",
      "        ----------\n",
      "        n : int\n",
      "            quadrature order\n",
      "        mu : bool, optional\n",
      "            If True, return the sum of the weights, optional.\n",
      "        \n",
      "        Returns\n",
      "        -------\n",
      "        x : ndarray\n",
      "            Sample points\n",
      "        w : ndarray\n",
      "            Weights\n",
      "        mu : float\n",
      "            Sum of the weights\n",
      "        \n",
      "        Notes\n",
      "        -----\n",
      "        For small n up to 150 a modified version of the Golub-Welsch\n",
      "        algorithm is used. Nodes are computed from the eigenvalue\n",
      "        problem and improved by one step of a Newton iteration.\n",
      "        The weights are computed from the well-known analytical formula.\n",
      "        \n",
      "        For n larger than 150 an optimal asymptotic algorithm is applied\n",
      "        which computes nodes and weights in a numerically stable manner.\n",
      "        The algorithm has linear runtime making computation for very\n",
      "        large n (several thousand or more) feasible.\n",
      "        \n",
      "        See Also\n",
      "        --------\n",
      "        integrate.quadrature\n",
      "        integrate.fixed_quad\n",
      "        numpy.polynomial.hermite.hermgauss\n",
      "        \n",
      "        References\n",
      "        ----------\n",
      "        .. [townsend.trogdon.olver-2014]\n",
      "           Townsend, A. and Trogdon, T. and Olver, S. (2014)\n",
      "           *Fast computation of Gauss quadrature nodes and\n",
      "           weights on the whole real line*. ArXiv 1410.5286.\n",
      "        \n",
      "        .. [townsend.trogdon.olver-2015]\n",
      "           Townsend, A. and Trogdon, T. and Olver, S. (2015)\n",
      "           *Fast computation of Gauss quadrature nodes and\n",
      "           weights on the whole real line*.\n",
      "           IMA Journal of Numerical Analysis\n",
      "           doi: 10.1093/imanum/drv002\n",
      "    \n",
      "    he_roots(n, mu=False)\n",
      "        Gauss-Hermite (statistician's) quadrature\n",
      "        \n",
      "        Computes the sample points and weights for Gauss-Hermite quadrature.\n",
      "        The sample points are the roots of the `n`th degree Hermite polynomial,\n",
      "        :math:`He_n(x)`.  These sample points and weights correctly integrate\n",
      "        polynomials of degree :math:`2*n - 1` or less over the interval\n",
      "        :math:`[-inf, inf]` with weight function :math:`f(x) = e^{-(x/2)^2}`.\n",
      "        \n",
      "        Parameters\n",
      "        ----------\n",
      "        n : int\n",
      "            quadrature order\n",
      "        mu : bool, optional\n",
      "            If True, return the sum of the weights, optional.\n",
      "        \n",
      "        Returns\n",
      "        -------\n",
      "        x : ndarray\n",
      "            Sample points\n",
      "        w : ndarray\n",
      "            Weights\n",
      "        mu : float\n",
      "            Sum of the weights\n",
      "        \n",
      "        Notes\n",
      "        -----\n",
      "        For small n up to 150 a modified version of the Golub-Welsch\n",
      "        algorithm is used. Nodes are computed from the eigenvalue\n",
      "        problem and improved by one step of a Newton iteration.\n",
      "        The weights are computed from the well-known analytical formula.\n",
      "        \n",
      "        For n larger than 150 an optimal asymptotic algorithm is used\n",
      "        which computes nodes and weights in a numerical stable manner.\n",
      "        The algorithm has linear runtime making computation for very\n",
      "        large n (several thousand or more) feasible.\n",
      "        \n",
      "        See Also\n",
      "        --------\n",
      "        integrate.quadrature\n",
      "        integrate.fixed_quad\n",
      "        numpy.polynomial.hermite_e.hermegauss\n",
      "    \n",
      "    hermite(n, monic=False)\n",
      "        Return the nth order Hermite polynomial, H_n(x), orthogonal over\n",
      "        (-inf,inf) with weighting function exp(-x**2)\n",
      "    \n",
      "    hermitenorm(n, monic=False)\n",
      "        Return the nth order normalized Hermite polynomial, He_n(x), orthogonal\n",
      "        over (-inf,inf) with weighting function exp(-(x/2)**2)\n",
      "    \n",
      "    hyp0f1(v, z)\n",
      "        Confluent hypergeometric limit function 0F1.\n",
      "        \n",
      "        Parameters\n",
      "        ----------\n",
      "        v, z : array_like\n",
      "            Input values.\n",
      "        \n",
      "        Returns\n",
      "        -------\n",
      "        hyp0f1 : ndarray\n",
      "            The confluent hypergeometric limit function.\n",
      "        \n",
      "        Notes\n",
      "        -----\n",
      "        This function is defined as:\n",
      "        \n",
      "        .. math:: _0F_1(v,z) = \\sum_{k=0}^{\\inf}\\frac{z^k}{(v)_k k!}.\n",
      "        \n",
      "        It's also the limit as q -> infinity of ``1F1(q;v;z/q)``, and satisfies\n",
      "        the differential equation :math:`f''(z) + vf'(z) = f(z)`.\n",
      "    \n",
      "    ivp(v, z, n=1)\n",
      "        Return the nth derivative of Iv(z) with respect to z.\n",
      "    \n",
      "    j_roots(n, alpha, beta, mu=False)\n",
      "        Gauss-Jacobi quadrature\n",
      "        \n",
      "        Computes the sample points and weights for Gauss-Jacobi quadrature. The\n",
      "        sample points are the roots of the `n`th degree Jacobi polynomial,\n",
      "        :math:`P^{\\alpha, \\beta}_n(x)`.  These sample points and weights\n",
      "        correctly integrate polynomials of degree :math:`2*n - 1` or less over the\n",
      "        interval :math:`[-1, 1]` with weight function\n",
      "        :math:`f(x) = (1 - x)^{\\alpha} (1 + x)^{\\beta}`.\n",
      "        \n",
      "        Parameters\n",
      "        ----------\n",
      "        n : int\n",
      "            quadrature order\n",
      "        alpha : float\n",
      "            alpha must be > -1\n",
      "        beta : float\n",
      "            beta must be > 0\n",
      "        mu : bool, optional\n",
      "            If True, return the sum of the weights, optional.\n",
      "        \n",
      "        Returns\n",
      "        -------\n",
      "        x : ndarray\n",
      "            Sample points\n",
      "        w : ndarray\n",
      "            Weights\n",
      "        mu : float\n",
      "            Sum of the weights\n",
      "        \n",
      "        See Also\n",
      "        --------\n",
      "        integrate.quadrature\n",
      "        integrate.fixed_quad\n",
      "    \n",
      "    jacobi(n, alpha, beta, monic=False)\n",
      "        Returns the nth order Jacobi polynomial, P^(alpha,beta)_n(x)\n",
      "        orthogonal over [-1,1] with weighting function\n",
      "        (1-x)**alpha (1+x)**beta with alpha,beta > -1.\n",
      "    \n",
      "    jn_zeros(n, nt)\n",
      "        Compute nt zeros of the Bessel function Jn(x).\n",
      "    \n",
      "    jnjnp_zeros(nt)\n",
      "        Compute nt (<=1200) zeros of the Bessel functions Jn and Jn'\n",
      "        and arange them in order of their magnitudes.\n",
      "        \n",
      "        Returns\n",
      "        -------\n",
      "        zo[l-1] : ndarray\n",
      "            Value of the lth zero of Jn(x) and Jn'(x). Of length `nt`.\n",
      "        n[l-1] : ndarray\n",
      "            Order of the Jn(x) or Jn'(x) associated with lth zero. Of length `nt`.\n",
      "        m[l-1] : ndarray\n",
      "            Serial number of the zeros of Jn(x) or Jn'(x) associated\n",
      "            with lth zero. Of length `nt`.\n",
      "        t[l-1] : ndarray\n",
      "            0 if lth zero in zo is zero of Jn(x), 1 if it is a zero of Jn'(x). Of\n",
      "            length `nt`.\n",
      "        \n",
      "        See Also\n",
      "        --------\n",
      "        jn_zeros, jnp_zeros : to get separated arrays of zeros.\n",
      "    \n",
      "    jnp_zeros(n, nt)\n",
      "        Compute nt zeros of the Bessel function Jn'(x).\n",
      "    \n",
      "    jnyn_zeros(n, nt)\n",
      "        Compute nt zeros of the Bessel functions Jn(x), Jn'(x), Yn(x), and\n",
      "        Yn'(x), respectively. Returns 4 arrays of length nt.\n",
      "        \n",
      "        See jn_zeros, jnp_zeros, yn_zeros, ynp_zeros to get separate arrays.\n",
      "    \n",
      "    js_roots(n, p1, q1, mu=False)\n",
      "        Gauss-Jacobi (shifted) quadrature\n",
      "        \n",
      "        Computes the sample points and weights for Gauss-Jacobi (shifted)\n",
      "        quadrature. The sample points are the roots of the `n`th degree shifted\n",
      "        Jacobi polynomial, :math:`G^{p,q}_n(x)`.  These sample points and weights\n",
      "        correctly integrate polynomials of degree :math:`2*n - 1` or less over the\n",
      "        interval :math:`[0, 1]` with weight function\n",
      "        :math:`f(x) = (1 - x)^{p-q} x^{q-1}`\n",
      "        \n",
      "        Parameters\n",
      "        ----------\n",
      "        n : int\n",
      "            quadrature order\n",
      "        p1 : float\n",
      "            (p1 - q1) must be > -1\n",
      "        q1 : float\n",
      "            q1 must be > 0\n",
      "        mu : bool, optional\n",
      "            If True, return the sum of the weights, optional.\n",
      "        \n",
      "        Returns\n",
      "        -------\n",
      "        x : ndarray\n",
      "            Sample points\n",
      "        w : ndarray\n",
      "            Weights\n",
      "        mu : float\n",
      "            Sum of the weights\n",
      "        \n",
      "        See Also\n",
      "        --------\n",
      "        integrate.quadrature\n",
      "        integrate.fixed_quad\n",
      "    \n",
      "    jvp(v, z, n=1)\n",
      "        Return the nth derivative of Jv(z) with respect to z.\n",
      "    \n",
      "    kei_zeros(nt)\n",
      "        Compute nt zeros of the Kelvin function kei x\n",
      "    \n",
      "    keip_zeros(nt)\n",
      "        Compute nt zeros of the Kelvin function kei' x\n",
      "    \n",
      "    kelvin_zeros(nt)\n",
      "        Compute nt zeros of all the Kelvin functions returned in a\n",
      "        length 8 tuple of arrays of length nt.\n",
      "        The tuple containse the arrays of zeros of\n",
      "        (ber, bei, ker, kei, ber', bei', ker', kei')\n",
      "    \n",
      "    ker_zeros(nt)\n",
      "        Compute nt zeros of the Kelvin function ker x\n",
      "    \n",
      "    kerp_zeros(nt)\n",
      "        Compute nt zeros of the Kelvin function ker' x\n",
      "    \n",
      "    kvp(v, z, n=1)\n",
      "        Return the nth derivative of Kv(z) with respect to z.\n",
      "    \n",
      "    l_roots(n, mu=False)\n",
      "        Gauss-Laguerre quadrature\n",
      "        \n",
      "        Computes the sample points and weights for Gauss-Laguerre quadrature.\n",
      "        The sample points are the roots of the `n`th degree Laguerre polynomial,\n",
      "        :math:`L_n(x)`.  These sample points and weights correctly integrate\n",
      "        polynomials of degree :math:`2*n - 1` or less over the interval\n",
      "        :math:`[0, inf]` with weight function :math:`f(x) = e^{-x}`.\n",
      "        \n",
      "        Parameters\n",
      "        ----------\n",
      "        n : int\n",
      "            quadrature order\n",
      "        mu : bool, optional\n",
      "            If True, return the sum of the weights, optional.\n",
      "        \n",
      "        Returns\n",
      "        -------\n",
      "        x : ndarray\n",
      "            Sample points\n",
      "        w : ndarray\n",
      "            Weights\n",
      "        mu : float\n",
      "            Sum of the weights\n",
      "        \n",
      "        See Also\n",
      "        --------\n",
      "        integrate.quadrature\n",
      "        integrate.fixed_quad\n",
      "        numpy.polynomial.laguerre.laggauss\n",
      "    \n",
      "    la_roots(n, alpha, mu=False)\n",
      "        Gauss-generalized Laguerre quadrature\n",
      "        \n",
      "        Computes the sample points and weights for Gauss-generalized Laguerre\n",
      "        quadrature. The sample points are the roots of the `n`th degree generalized\n",
      "        Laguerre polynomial, :math:`L^{\\alpha}_n(x)`.  These sample points and\n",
      "        weights correctly integrate polynomials of degree :math:`2*n - 1` or less\n",
      "        over the interval :math:`[0, inf]` with weight function\n",
      "        :math:`f(x) = x^{\\alpha} e^{-x}`.\n",
      "        \n",
      "        Parameters\n",
      "        ----------\n",
      "        n : int\n",
      "            quadrature order\n",
      "        alpha : float\n",
      "            alpha must be > -1\n",
      "        mu : bool, optional\n",
      "            If True, return the sum of the weights, optional.\n",
      "        \n",
      "        Returns\n",
      "        -------\n",
      "        x : ndarray\n",
      "            Sample points\n",
      "        w : ndarray\n",
      "            Weights\n",
      "        mu : float\n",
      "            Sum of the weights\n",
      "        \n",
      "        See Also\n",
      "        --------\n",
      "        integrate.quadrature\n",
      "        integrate.fixed_quad\n",
      "    \n",
      "    laguerre(n, monic=False)\n",
      "        Return the nth order Laguerre polynoimal, L_n(x), orthogonal over\n",
      "        [0,inf) with weighting function exp(-x)\n",
      "    \n",
      "    lambertw(z, k=0, tol=1e-08)\n",
      "        lambertw(z, k=0, tol=1e-8)\n",
      "        \n",
      "        Lambert W function [1]_.\n",
      "        \n",
      "        The Lambert W function `W(z)` is defined as the inverse function\n",
      "        of ``w * exp(w)``. In other words, the value of ``W(z)`` is\n",
      "        such that ``z = W(z) * exp(W(z))`` for any complex number\n",
      "        ``z``.\n",
      "        \n",
      "        The Lambert W function is a multivalued function with infinitely\n",
      "        many branches. Each branch gives a separate solution of the\n",
      "        equation ``z = w exp(w)``. Here, the branches are indexed by the\n",
      "        integer `k`.\n",
      "        \n",
      "        Parameters\n",
      "        ----------\n",
      "        z : array_like\n",
      "            Input argument.\n",
      "        k : int, optional\n",
      "            Branch index.\n",
      "        tol : float, optional\n",
      "            Evaluation tolerance.\n",
      "        \n",
      "        Returns\n",
      "        -------\n",
      "        w : array\n",
      "            `w` will have the same shape as `z`.\n",
      "        \n",
      "        Notes\n",
      "        -----\n",
      "        All branches are supported by `lambertw`:\n",
      "        \n",
      "        * ``lambertw(z)`` gives the principal solution (branch 0)\n",
      "        * ``lambertw(z, k)`` gives the solution on branch `k`\n",
      "        \n",
      "        The Lambert W function has two partially real branches: the\n",
      "        principal branch (`k = 0`) is real for real ``z > -1/e``, and the\n",
      "        ``k = -1`` branch is real for ``-1/e < z < 0``. All branches except\n",
      "        ``k = 0`` have a logarithmic singularity at ``z = 0``.\n",
      "        \n",
      "        **Possible issues**\n",
      "        \n",
      "        The evaluation can become inaccurate very close to the branch point\n",
      "        at ``-1/e``. In some corner cases, `lambertw` might currently\n",
      "        fail to converge, or can end up on the wrong branch.\n",
      "        \n",
      "        **Algorithm**\n",
      "        \n",
      "        Halley's iteration is used to invert ``w * exp(w)``, using a first-order\n",
      "        asymptotic approximation (O(log(w)) or `O(w)`) as the initial estimate.\n",
      "        \n",
      "        The definition, implementation and choice of branches is based on [2]_.\n",
      "        \n",
      "        References\n",
      "        ----------\n",
      "        .. [1] http://en.wikipedia.org/wiki/Lambert_W_function\n",
      "        .. [2] Corless et al, \"On the Lambert W function\", Adv. Comp. Math. 5\n",
      "           (1996) 329-359.\n",
      "           http://www.apmaths.uwo.ca/~djeffrey/Offprints/W-adv-cm.pdf\n",
      "        \n",
      "        Examples\n",
      "        --------\n",
      "        The Lambert W function is the inverse of ``w exp(w)``:\n",
      "        \n",
      "        >>> from scipy.special import lambertw\n",
      "        >>> w = lambertw(1)\n",
      "        >>> w\n",
      "        (0.56714329040978384+0j)\n",
      "        >>> w * np.exp(w)\n",
      "        (1.0+0j)\n",
      "        \n",
      "        Any branch gives a valid inverse:\n",
      "        \n",
      "        >>> w = lambertw(1, k=3)\n",
      "        >>> w\n",
      "        (-2.8535817554090377+17.113535539412148j)\n",
      "        >>> w*np.exp(w)\n",
      "        (1.0000000000000002+1.609823385706477e-15j)\n",
      "        \n",
      "        **Applications to equation-solving**\n",
      "        \n",
      "        The Lambert W function may be used to solve various kinds of\n",
      "        equations, such as finding the value of the infinite power\n",
      "        tower :math:`z^{z^{z^{\\ldots}}}`:\n",
      "        \n",
      "        >>> def tower(z, n):\n",
      "        ...     if n == 0:\n",
      "        ...         return z\n",
      "        ...     return z ** tower(z, n-1)\n",
      "        ...\n",
      "        >>> tower(0.5, 100)\n",
      "        0.641185744504986\n",
      "        >>> -lambertw(-np.log(0.5)) / np.log(0.5)\n",
      "        (0.64118574450498589+0j)\n",
      "    \n",
      "    legendre(n, monic=False)\n",
      "        Legendre polynomial coefficients\n",
      "        \n",
      "        Returns the nth-order Legendre polynomial, P_n(x), orthogonal over\n",
      "        [-1, 1] with weight function 1.\n",
      "        \n",
      "        Parameters\n",
      "        ----------\n",
      "        n\n",
      "            Order of the polynomial\n",
      "        monic : bool, optional\n",
      "            If True, output is a monic polynomial (normalized so the leading\n",
      "            coefficient is 1).  Default is False.\n",
      "        \n",
      "        Returns\n",
      "        -------\n",
      "        P : orthopoly1d\n",
      "            The Legendre polynomial object\n",
      "        \n",
      "        Examples\n",
      "        --------\n",
      "        Generate the 3rd-order Legendre polynomial 1/2*(5x^3 + 0x^2 - 3x + 0):\n",
      "        \n",
      "        >>> legendre(3)\n",
      "        poly1d([ 2.5,  0. , -1.5, -0. ])\n",
      "    \n",
      "    lmbda(v, x)\n",
      "        Compute sequence of lambda functions with arbitrary order v\n",
      "        and their derivatives.  Lv0(x)..Lv(x) are computed with v0=v-int(v).\n",
      "    \n",
      "    lpmn(m, n, z)\n",
      "        Associated Legendre function of the first kind, Pmn(z)\n",
      "        \n",
      "        Computes the associated Legendre function of the first kind\n",
      "        of order m and degree n,::\n",
      "        \n",
      "            Pmn(z) = P_n^m(z)\n",
      "        \n",
      "        and its derivative, ``Pmn'(z)``.  Returns two arrays of size\n",
      "        ``(m+1, n+1)`` containing ``Pmn(z)`` and ``Pmn'(z)`` for all\n",
      "        orders from ``0..m`` and degrees from ``0..n``.\n",
      "        \n",
      "        This function takes a real argument ``z``. For complex arguments ``z``\n",
      "        use clpmn instead.\n",
      "        \n",
      "        Parameters\n",
      "        ----------\n",
      "        m : int\n",
      "           ``|m| <= n``; the order of the Legendre function.\n",
      "        n : int\n",
      "           where ``n >= 0``; the degree of the Legendre function.  Often\n",
      "           called ``l`` (lower case L) in descriptions of the associated\n",
      "           Legendre function\n",
      "        z : float\n",
      "            Input value.\n",
      "        \n",
      "        Returns\n",
      "        -------\n",
      "        Pmn_z : (m+1, n+1) array\n",
      "           Values for all orders 0..m and degrees 0..n\n",
      "        Pmn_d_z : (m+1, n+1) array\n",
      "           Derivatives for all orders 0..m and degrees 0..n\n",
      "        \n",
      "        See Also\n",
      "        --------\n",
      "        clpmn: associated Legendre functions of the first kind for complex z\n",
      "        \n",
      "        Notes\n",
      "        -----\n",
      "        In the interval (-1, 1), Ferrer's function of the first kind is\n",
      "        returned. The phase convention used for the intervals (1, inf)\n",
      "        and (-inf, -1) is such that the result is always real.\n",
      "        \n",
      "        References\n",
      "        ----------\n",
      "        .. [1] NIST Digital Library of Mathematical Functions\n",
      "               http://dlmf.nist.gov/14.3\n",
      "    \n",
      "    lpn(n, z)\n",
      "        Compute sequence of Legendre functions of the first kind (polynomials),\n",
      "        Pn(z) and derivatives for all degrees from 0 to n (inclusive).\n",
      "        \n",
      "        See also special.legendre  for polynomial class.\n",
      "    \n",
      "    lqmn(m, n, z)\n",
      "        Associated Legendre functions of the second kind, Qmn(z) and its\n",
      "        derivative, ``Qmn'(z)`` of order m and degree n.  Returns two\n",
      "        arrays of size ``(m+1, n+1)`` containing ``Qmn(z)`` and ``Qmn'(z)`` for\n",
      "        all orders from ``0..m`` and degrees from ``0..n``.\n",
      "        \n",
      "        z can be complex.\n",
      "    \n",
      "    lqn(n, z)\n",
      "        Compute sequence of Legendre functions of the second kind,\n",
      "        Qn(z) and derivatives for all degrees from 0 to n (inclusive).\n",
      "    \n",
      "    mathieu_even_coef(m, q)\n",
      "        Compute expansion coefficients for even Mathieu functions and\n",
      "        modified Mathieu functions.\n",
      "    \n",
      "    mathieu_odd_coef(m, q)\n",
      "        Compute expansion coefficients for even Mathieu functions and\n",
      "        modified Mathieu functions.\n",
      "    \n",
      "    multigammaln(a, d)\n",
      "        Returns the log of multivariate gamma, also sometimes called the\n",
      "        generalized gamma.\n",
      "        \n",
      "        Parameters\n",
      "        ----------\n",
      "        a : ndarray\n",
      "            The multivariate gamma is computed for each item of `a`.\n",
      "        d : int\n",
      "            The dimension of the space of integration.\n",
      "        \n",
      "        Returns\n",
      "        -------\n",
      "        res : ndarray\n",
      "            The values of the log multivariate gamma at the given points `a`.\n",
      "        \n",
      "        Notes\n",
      "        -----\n",
      "        The formal definition of the multivariate gamma of dimension d for a real a\n",
      "        is::\n",
      "        \n",
      "            \\Gamma_d(a) = \\int_{A>0}{e^{-tr(A)\\cdot{|A|}^{a - (m+1)/2}dA}}\n",
      "        \n",
      "        with the condition ``a > (d-1)/2``, and ``A > 0`` being the set of all the\n",
      "        positive definite matrices of dimension s.  Note that a is a scalar: the\n",
      "        integrand only is multivariate, the argument is not (the function is\n",
      "        defined over a subset of the real set).\n",
      "        \n",
      "        This can be proven to be equal to the much friendlier equation::\n",
      "        \n",
      "            \\Gamma_d(a) = \\pi^{d(d-1)/4}\\prod_{i=1}^{d}{\\Gamma(a - (i-1)/2)}.\n",
      "        \n",
      "        References\n",
      "        ----------\n",
      "        R. J. Muirhead, Aspects of multivariate statistical theory (Wiley Series in\n",
      "        probability and mathematical statistics).\n",
      "    \n",
      "    obl_cv_seq(m, n, c)\n",
      "        Compute a sequence of characteristic values for the oblate\n",
      "        spheroidal wave functions for mode m and n'=m..n and spheroidal\n",
      "        parameter c.\n",
      "    \n",
      "    p_roots(n, mu=False)\n",
      "        Gauss-Legendre quadrature\n",
      "        \n",
      "        Computes the sample points and weights for Gauss-Legendre quadrature.\n",
      "        The sample points are the roots of the `n`th degree Legendre polynomial\n",
      "        :math:`P_n(x)`.  These sample points and weights correctly integrate\n",
      "        polynomials of degree :math:`2*n - 1` or less over the interval\n",
      "        :math:`[-1, 1]` with weight function :math:`f(x) = 1.0`.\n",
      "        \n",
      "        Parameters\n",
      "        ----------\n",
      "        n : int\n",
      "            quadrature order\n",
      "        mu : bool, optional\n",
      "            If True, return the sum of the weights, optional.\n",
      "        \n",
      "        Returns\n",
      "        -------\n",
      "        x : ndarray\n",
      "            Sample points\n",
      "        w : ndarray\n",
      "            Weights\n",
      "        mu : float\n",
      "            Sum of the weights\n",
      "        \n",
      "        See Also\n",
      "        --------\n",
      "        integrate.quadrature\n",
      "        integrate.fixed_quad\n",
      "        numpy.polynomial.legendre.leggauss\n",
      "    \n",
      "    pbdn_seq(n, z)\n",
      "        Compute sequence of parabolic cylinder functions Dn(z) and\n",
      "        their derivatives for D0(z)..Dn(z).\n",
      "    \n",
      "    pbdv_seq(v, x)\n",
      "        Compute sequence of parabolic cylinder functions Dv(x) and\n",
      "        their derivatives for Dv0(x)..Dv(x) with v0=v-int(v).\n",
      "    \n",
      "    pbvv_seq(v, x)\n",
      "        Compute sequence of parabolic cylinder functions Dv(x) and\n",
      "        their derivatives for Dv0(x)..Dv(x) with v0=v-int(v).\n",
      "    \n",
      "    perm(N, k, exact=False)\n",
      "        Permutations of N things taken k at a time, i.e., k-permutations of N.\n",
      "        \n",
      "        It's also known as \"partial permutations\".\n",
      "        \n",
      "        Parameters\n",
      "        ----------\n",
      "        N : int, ndarray\n",
      "            Number of things.\n",
      "        k : int, ndarray\n",
      "            Number of elements taken.\n",
      "        exact : bool, optional\n",
      "            If `exact` is False, then floating point precision is used, otherwise\n",
      "            exact long integer is computed.\n",
      "        \n",
      "        Returns\n",
      "        -------\n",
      "        val : int, ndarray\n",
      "            The number of k-permutations of N.\n",
      "        \n",
      "        Notes\n",
      "        -----\n",
      "        - Array arguments accepted only for exact=False case.\n",
      "        - If k > N, N < 0, or k < 0, then a 0 is returned.\n",
      "        \n",
      "        Examples\n",
      "        --------\n",
      "        >>> from scipy.special import perm\n",
      "        >>> k = np.array([3, 4])\n",
      "        >>> n = np.array([10, 10])\n",
      "        >>> perm(n, k)\n",
      "        array([  720.,  5040.])\n",
      "        >>> perm(10, 3, exact=True)\n",
      "        720\n",
      "    \n",
      "    polygamma(n, x)\n",
      "        Polygamma function which is the nth derivative of the digamma (psi)\n",
      "        function.\n",
      "        \n",
      "        Parameters\n",
      "        ----------\n",
      "        n : array_like of int\n",
      "            The order of the derivative of `psi`.\n",
      "        x : array_like\n",
      "            Where to evaluate the polygamma function.\n",
      "        \n",
      "        Returns\n",
      "        -------\n",
      "        polygamma : ndarray\n",
      "            The result.\n",
      "        \n",
      "        Examples\n",
      "        --------\n",
      "        >>> from scipy import special\n",
      "        >>> x = [2, 3, 25.5]\n",
      "        >>> special.polygamma(1, x)\n",
      "        array([ 0.64493407,  0.39493407,  0.03999467])\n",
      "        >>> special.polygamma(0, x) == special.psi(x)\n",
      "        array([ True,  True,  True], dtype=bool)\n",
      "    \n",
      "    pro_cv_seq(m, n, c)\n",
      "        Compute a sequence of characteristic values for the prolate\n",
      "        spheroidal wave functions for mode m and n'=m..n and spheroidal\n",
      "        parameter c.\n",
      "    \n",
      "    ps_roots(n, mu=False)\n",
      "        Gauss-Legendre (shifted) quadrature\n",
      "        \n",
      "        Computes the sample points and weights for Gauss-Legendre quadrature.\n",
      "        The sample points are the roots of the `n`th degree shifted Legendre\n",
      "        polynomial :math:`P^*_n(x)`.  These sample points and weights correctly\n",
      "        integrate polynomials of degree :math:`2*n - 1` or less over the interval\n",
      "        :math:`[0, 1]` with weight function :math:`f(x) = 1.0`.\n",
      "        \n",
      "        Parameters\n",
      "        ----------\n",
      "        n : int\n",
      "            quadrature order\n",
      "        mu : bool, optional\n",
      "            If True, return the sum of the weights, optional.\n",
      "        \n",
      "        Returns\n",
      "        -------\n",
      "        x : ndarray\n",
      "            Sample points\n",
      "        w : ndarray\n",
      "            Weights\n",
      "        mu : float\n",
      "            Sum of the weights\n",
      "        \n",
      "        See Also\n",
      "        --------\n",
      "        integrate.quadrature\n",
      "        integrate.fixed_quad\n",
      "    \n",
      "    riccati_jn(n, x)\n",
      "        Compute the Ricatti-Bessel function of the first kind and its\n",
      "        derivative for all orders up to and including n.\n",
      "    \n",
      "    riccati_yn(n, x)\n",
      "        Compute the Ricatti-Bessel function of the second kind and its\n",
      "        derivative for all orders up to and including n.\n",
      "    \n",
      "    s_roots(n, mu=False)\n",
      "        Gauss-Chebyshev (second kind) quadrature\n",
      "        \n",
      "        Computes the sample points and weights for Gauss-Chebyshev quadrature.\n",
      "        The sample points are the roots of the `n`th degree Chebyshev polynomial of\n",
      "        the second kind, :math:`S_n(x)`.  These sample points and weights correctly\n",
      "        integrate polynomials of degree :math:`2*n - 1` or less over the interval\n",
      "        :math:`[-2, 2]` with weight function :math:`f(x) = \\sqrt{1 - (x/2)^2}`.\n",
      "        \n",
      "        Parameters\n",
      "        ----------\n",
      "        n : int\n",
      "            quadrature order\n",
      "        mu : bool, optional\n",
      "            If True, return the sum of the weights, optional.\n",
      "        \n",
      "        Returns\n",
      "        -------\n",
      "        x : ndarray\n",
      "            Sample points\n",
      "        w : ndarray\n",
      "            Weights\n",
      "        mu : float\n",
      "            Sum of the weights\n",
      "        \n",
      "        See Also\n",
      "        --------\n",
      "        integrate.quadrature\n",
      "        integrate.fixed_quad\n",
      "    \n",
      "    sh_chebyt(n, monic=False)\n",
      "        Return nth order shifted Chebyshev polynomial of first kind, Tn(x).\n",
      "        Orthogonal over [0,1] with weight function (x-x**2)**(-1/2).\n",
      "    \n",
      "    sh_chebyu(n, monic=False)\n",
      "        Return nth order shifted Chebyshev polynomial of second kind, Un(x).\n",
      "        Orthogonal over [0,1] with weight function (x-x**2)**(1/2).\n",
      "    \n",
      "    sh_jacobi(n, p, q, monic=False)\n",
      "        Returns the nth order Jacobi polynomial, G_n(p,q,x)\n",
      "        orthogonal over [0,1] with weighting function\n",
      "        (1-x)**(p-q) (x)**(q-1) with p>q-1 and q > 0.\n",
      "    \n",
      "    sh_legendre(n, monic=False)\n",
      "        Returns the nth order shifted Legendre polynomial, P^*_n(x), orthogonal\n",
      "        over [0,1] with weighting function 1.\n",
      "    \n",
      "    sinc(x)\n",
      "        Return the sinc function.\n",
      "        \n",
      "        The sinc function is :math:`\\sin(\\pi x)/(\\pi x)`.\n",
      "        \n",
      "        Parameters\n",
      "        ----------\n",
      "        x : ndarray\n",
      "            Array (possibly multi-dimensional) of values for which to to\n",
      "            calculate ``sinc(x)``.\n",
      "        \n",
      "        Returns\n",
      "        -------\n",
      "        out : ndarray\n",
      "            ``sinc(x)``, which has the same shape as the input.\n",
      "        \n",
      "        Notes\n",
      "        -----\n",
      "        ``sinc(0)`` is the limit value 1.\n",
      "        \n",
      "        The name sinc is short for \"sine cardinal\" or \"sinus cardinalis\".\n",
      "        \n",
      "        The sinc function is used in various signal processing applications,\n",
      "        including in anti-aliasing, in the construction of a Lanczos resampling\n",
      "        filter, and in interpolation.\n",
      "        \n",
      "        For bandlimited interpolation of discrete-time signals, the ideal\n",
      "        interpolation kernel is proportional to the sinc function.\n",
      "        \n",
      "        References\n",
      "        ----------\n",
      "        .. [1] Weisstein, Eric W. \"Sinc Function.\" From MathWorld--A Wolfram Web\n",
      "               Resource. http://mathworld.wolfram.com/SincFunction.html\n",
      "        .. [2] Wikipedia, \"Sinc function\",\n",
      "               http://en.wikipedia.org/wiki/Sinc_function\n",
      "        \n",
      "        Examples\n",
      "        --------\n",
      "        >>> x = np.linspace(-4, 4, 41)\n",
      "        >>> np.sinc(x)\n",
      "        array([ -3.89804309e-17,  -4.92362781e-02,  -8.40918587e-02,\n",
      "                -8.90384387e-02,  -5.84680802e-02,   3.89804309e-17,\n",
      "                 6.68206631e-02,   1.16434881e-01,   1.26137788e-01,\n",
      "                 8.50444803e-02,  -3.89804309e-17,  -1.03943254e-01,\n",
      "                -1.89206682e-01,  -2.16236208e-01,  -1.55914881e-01,\n",
      "                 3.89804309e-17,   2.33872321e-01,   5.04551152e-01,\n",
      "                 7.56826729e-01,   9.35489284e-01,   1.00000000e+00,\n",
      "                 9.35489284e-01,   7.56826729e-01,   5.04551152e-01,\n",
      "                 2.33872321e-01,   3.89804309e-17,  -1.55914881e-01,\n",
      "                -2.16236208e-01,  -1.89206682e-01,  -1.03943254e-01,\n",
      "                -3.89804309e-17,   8.50444803e-02,   1.26137788e-01,\n",
      "                 1.16434881e-01,   6.68206631e-02,   3.89804309e-17,\n",
      "                -5.84680802e-02,  -8.90384387e-02,  -8.40918587e-02,\n",
      "                -4.92362781e-02,  -3.89804309e-17])\n",
      "        \n",
      "        >>> plt.plot(x, np.sinc(x))\n",
      "        [<matplotlib.lines.Line2D object at 0x...>]\n",
      "        >>> plt.title(\"Sinc Function\")\n",
      "        <matplotlib.text.Text object at 0x...>\n",
      "        >>> plt.ylabel(\"Amplitude\")\n",
      "        <matplotlib.text.Text object at 0x...>\n",
      "        >>> plt.xlabel(\"X\")\n",
      "        <matplotlib.text.Text object at 0x...>\n",
      "        >>> plt.show()\n",
      "        \n",
      "        It works in 2-D as well:\n",
      "        \n",
      "        >>> x = np.linspace(-4, 4, 401)\n",
      "        >>> xx = np.outer(x, x)\n",
      "        >>> plt.imshow(np.sinc(xx))\n",
      "        <matplotlib.image.AxesImage object at 0x...>\n",
      "    \n",
      "    sph_in(n, z)\n",
      "        Compute the spherical Bessel function in(z) and its derivative for\n",
      "        all orders up to and including n.\n",
      "    \n",
      "    sph_inkn(n, z)\n",
      "        Compute the spherical Bessel functions, in(z) and kn(z) and their\n",
      "        derivatives for all orders up to and including n.\n",
      "    \n",
      "    sph_jn(n, z)\n",
      "        Compute the spherical Bessel function jn(z) and its derivative for\n",
      "        all orders up to and including n.\n",
      "    \n",
      "    sph_jnyn(n, z)\n",
      "        Compute the spherical Bessel functions, jn(z) and yn(z) and their\n",
      "        derivatives for all orders up to and including n.\n",
      "    \n",
      "    sph_kn(n, z)\n",
      "        Compute the spherical Bessel function kn(z) and its derivative for\n",
      "        all orders up to and including n.\n",
      "    \n",
      "    sph_yn(n, z)\n",
      "        Compute the spherical Bessel function yn(z) and its derivative for\n",
      "        all orders up to and including n.\n",
      "    \n",
      "    t_roots(n, mu=False)\n",
      "        Gauss-Chebyshev (first kind) quadrature\n",
      "        \n",
      "        Computes the sample points and weights for Gauss-Chebyshev quadrature.\n",
      "        The sample points are the roots of the `n`th degree Chebyshev polynomial of\n",
      "        the first kind, :math:`T_n(x)`.  These sample points and weights correctly\n",
      "        integrate polynomials of degree :math:`2*n - 1` or less over the interval\n",
      "        :math:`[-1, 1]` with weight function :math:`f(x) = 1/\\sqrt{1 - x^2}`.\n",
      "        \n",
      "        Parameters\n",
      "        ----------\n",
      "        n : int\n",
      "            quadrature order\n",
      "        mu : bool, optional\n",
      "            If True, return the sum of the weights, optional.\n",
      "        \n",
      "        Returns\n",
      "        -------\n",
      "        x : ndarray\n",
      "            Sample points\n",
      "        w : ndarray\n",
      "            Weights\n",
      "        mu : float\n",
      "            Sum of the weights\n",
      "        \n",
      "        See Also\n",
      "        --------\n",
      "        integrate.quadrature\n",
      "        integrate.fixed_quad\n",
      "        numpy.polynomial.chebyshev.chebgauss\n",
      "    \n",
      "    ts_roots(n, mu=False)\n",
      "        Gauss-Chebyshev (first kind, shifted) quadrature\n",
      "        \n",
      "        Computes the sample points and weights for Gauss-Chebyshev quadrature.\n",
      "        The sample points are the roots of the `n`th degree shifted Chebyshev\n",
      "        polynomial of the first kind, :math:`T_n(x)`.  These sample points and\n",
      "        weights correctly integrate polynomials of degree :math:`2*n - 1` or less\n",
      "        over the interval :math:`[0, 1]` with weight function\n",
      "        :math:`f(x) = 1/\\sqrt{x - x^2}`.\n",
      "        \n",
      "        Parameters\n",
      "        ----------\n",
      "        n : int\n",
      "            quadrature order\n",
      "        mu : bool, optional\n",
      "            If True, return the sum of the weights, optional.\n",
      "        \n",
      "        Returns\n",
      "        -------\n",
      "        x : ndarray\n",
      "            Sample points\n",
      "        w : ndarray\n",
      "            Weights\n",
      "        mu : float\n",
      "            Sum of the weights\n",
      "        \n",
      "        See Also\n",
      "        --------\n",
      "        integrate.quadrature\n",
      "        integrate.fixed_quad\n",
      "    \n",
      "    u_roots(n, mu=False)\n",
      "        Gauss-Chebyshev (second kind) quadrature\n",
      "        \n",
      "        Computes the sample points and weights for Gauss-Chebyshev quadrature.\n",
      "        The sample points are the roots of the `n`th degree Chebyshev polynomial of\n",
      "        the second kind, :math:`U_n(x)`.  These sample points and weights correctly\n",
      "        integrate polynomials of degree :math:`2*n - 1` or less over the interval\n",
      "        :math:`[-1, 1]` with weight function :math:`f(x) = \\sqrt{1 - x^2}`.\n",
      "        \n",
      "        Parameters\n",
      "        ----------\n",
      "        n : int\n",
      "            quadrature order\n",
      "        mu : bool, optional\n",
      "            If True, return the sum of the weights, optional.\n",
      "        \n",
      "        Returns\n",
      "        -------\n",
      "        x : ndarray\n",
      "            Sample points\n",
      "        w : ndarray\n",
      "            Weights\n",
      "        mu : float\n",
      "            Sum of the weights\n",
      "        \n",
      "        See Also\n",
      "        --------\n",
      "        integrate.quadrature\n",
      "        integrate.fixed_quad\n",
      "    \n",
      "    us_roots(n, mu=False)\n",
      "        Gauss-Chebyshev (second kind, shifted) quadrature\n",
      "        \n",
      "        Computes the sample points and weights for Gauss-Chebyshev quadrature.\n",
      "        The sample points are the roots of the `n`th degree shifted Chebyshev\n",
      "        polynomial of the second kind, :math:`U_n(x)`.  These sample points and\n",
      "        weights correctly integrate polynomials of degree :math:`2*n - 1` or less\n",
      "        over the interval :math:`[0, 1]` with weight function\n",
      "        :math:`f(x) = \\sqrt{x - x^2}`.\n",
      "        \n",
      "        Parameters\n",
      "        ----------\n",
      "        n : int\n",
      "            quadrature order\n",
      "        mu : bool, optional\n",
      "            If True, return the sum of the weights, optional.\n",
      "        \n",
      "        Returns\n",
      "        -------\n",
      "        x : ndarray\n",
      "            Sample points\n",
      "        w : ndarray\n",
      "            Weights\n",
      "        mu : float\n",
      "            Sum of the weights\n",
      "        \n",
      "        See Also\n",
      "        --------\n",
      "        integrate.quadrature\n",
      "        integrate.fixed_quad\n",
      "    \n",
      "    y0_zeros(nt, complex=0)\n",
      "        Returns nt (complex or real) zeros of Y0(z), z0, and the value\n",
      "        of Y0'(z0) = -Y1(z0) at each zero.\n",
      "    \n",
      "    y1_zeros(nt, complex=0)\n",
      "        Returns nt (complex or real) zeros of Y1(z), z1, and the value\n",
      "        of Y1'(z1) = Y0(z1) at each zero.\n",
      "    \n",
      "    y1p_zeros(nt, complex=0)\n",
      "        Returns nt (complex or real) zeros of Y1'(z), z1', and the value\n",
      "        of Y1(z1') at each zero.\n",
      "    \n",
      "    yn_zeros(n, nt)\n",
      "        Compute nt zeros of the Bessel function Yn(x).\n",
      "    \n",
      "    ynp_zeros(n, nt)\n",
      "        Compute nt zeros of the Bessel function Yn'(x).\n",
      "    \n",
      "    yvp(v, z, n=1)\n",
      "        Return the nth derivative of Yv(z) with respect to z.\n",
      "\n",
      "DATA\n",
      "    __all__ = ['SpecialFunctionWarning', 'absolute_import', 'agm', 'ai_zer...\n",
      "    absolute_import = _Feature((2, 5, 0, 'alpha', 1), (3, 0, 0, 'alpha', 0...\n",
      "    airy = <ufunc 'airy'>\n",
      "    airye = <ufunc 'airye'>\n",
      "    bdtr = <ufunc 'bdtr'>\n",
      "    bdtrc = <ufunc 'bdtrc'>\n",
      "    bdtri = <ufunc 'bdtri'>\n",
      "    bdtrik = <ufunc 'bdtrik'>\n",
      "    bdtrin = <ufunc 'bdtrin'>\n",
      "    bei = <ufunc 'bei'>\n",
      "    beip = <ufunc 'beip'>\n",
      "    ber = <ufunc 'ber'>\n",
      "    berp = <ufunc 'berp'>\n",
      "    besselpoly = <ufunc 'besselpoly'>\n",
      "    beta = <ufunc 'beta'>\n",
      "    betainc = <ufunc 'betainc'>\n",
      "    betaincinv = <ufunc 'betaincinv'>\n",
      "    betaln = <ufunc 'betaln'>\n",
      "    binom = <ufunc 'binom'>\n",
      "    boxcox = <ufunc 'boxcox'>\n",
      "    boxcox1p = <ufunc 'boxcox1p'>\n",
      "    btdtr = <ufunc 'btdtr'>\n",
      "    btdtri = <ufunc 'btdtri'>\n",
      "    btdtria = <ufunc 'btdtria'>\n",
      "    btdtrib = <ufunc 'btdtrib'>\n",
      "    cbrt = <ufunc 'cbrt'>\n",
      "    chdtr = <ufunc 'chdtr'>\n",
      "    chdtrc = <ufunc 'chdtrc'>\n",
      "    chdtri = <ufunc 'chdtri'>\n",
      "    chdtriv = <ufunc 'chdtriv'>\n",
      "    chndtr = <ufunc 'chndtr'>\n",
      "    chndtridf = <ufunc 'chndtridf'>\n",
      "    chndtrinc = <ufunc 'chndtrinc'>\n",
      "    chndtrix = <ufunc 'chndtrix'>\n",
      "    cosdg = <ufunc 'cosdg'>\n",
      "    cosm1 = <ufunc 'cosm1'>\n",
      "    cotdg = <ufunc 'cotdg'>\n",
      "    dawsn = <ufunc 'dawsn'>\n",
      "    digamma = <ufunc 'psi'>\n",
      "    division = _Feature((2, 2, 0, 'alpha', 2), (3, 0, 0, 'alpha', 0), 8192...\n",
      "    ellipe = <ufunc 'ellipe'>\n",
      "    ellipeinc = <ufunc 'ellipeinc'>\n",
      "    ellipj = <ufunc 'ellipj'>\n",
      "    ellipkinc = <ufunc 'ellipkinc'>\n",
      "    ellipkm1 = <ufunc 'ellipkm1'>\n",
      "    entr = <ufunc 'entr'>\n",
      "    erf = <ufunc 'erf'>\n",
      "    erfc = <ufunc 'erfc'>\n",
      "    erfcx = <ufunc 'erfcx'>\n",
      "    erfi = <ufunc 'erfi'>\n",
      "    eval_chebyc = <ufunc 'eval_chebyc'>\n",
      "    eval_chebys = <ufunc 'eval_chebys'>\n",
      "    eval_chebyt = <ufunc 'eval_chebyt'>\n",
      "    eval_chebyu = <ufunc 'eval_chebyu'>\n",
      "    eval_gegenbauer = <ufunc 'eval_gegenbauer'>\n",
      "    eval_genlaguerre = <ufunc 'eval_genlaguerre'>\n",
      "    eval_hermite = <ufunc 'eval_hermite'>\n",
      "    eval_hermitenorm = <ufunc 'eval_hermitenorm'>\n",
      "    eval_jacobi = <ufunc 'eval_jacobi'>\n",
      "    eval_laguerre = <ufunc 'eval_laguerre'>\n",
      "    eval_legendre = <ufunc 'eval_legendre'>\n",
      "    eval_sh_chebyt = <ufunc 'eval_sh_chebyt'>\n",
      "    eval_sh_chebyu = <ufunc 'eval_sh_chebyu'>\n",
      "    eval_sh_jacobi = <ufunc 'eval_sh_jacobi'>\n",
      "    eval_sh_legendre = <ufunc 'eval_sh_legendre'>\n",
      "    exp1 = <ufunc 'exp1'>\n",
      "    exp10 = <ufunc 'exp10'>\n",
      "    exp2 = <ufunc 'exp2'>\n",
      "    expi = <ufunc 'expi'>\n",
      "    expit = <ufunc 'expit'>\n",
      "    expm1 = <ufunc 'expm1'>\n",
      "    expn = <ufunc 'expn'>\n",
      "    fdtr = <ufunc 'fdtr'>\n",
      "    fdtrc = <ufunc 'fdtrc'>\n",
      "    fdtri = <ufunc 'fdtri'>\n",
      "    fdtridfd = <ufunc 'fdtridfd'>\n",
      "    fresnel = <ufunc 'fresnel'>\n",
      "    gamma = <ufunc 'gamma'>\n",
      "    gammainc = <ufunc 'gammainc'>\n",
      "    gammaincc = <ufunc 'gammaincc'>\n",
      "    gammainccinv = <ufunc 'gammainccinv'>\n",
      "    gammaincinv = <ufunc 'gammaincinv'>\n",
      "    gammaln = <ufunc 'gammaln'>\n",
      "    gammasgn = <ufunc 'gammasgn'>\n",
      "    gdtr = <ufunc 'gdtr'>\n",
      "    gdtrc = <ufunc 'gdtrc'>\n",
      "    gdtria = <ufunc 'gdtria'>\n",
      "    gdtrib = <ufunc 'gdtrib'>\n",
      "    gdtrix = <ufunc 'gdtrix'>\n",
      "    hankel1 = <ufunc 'hankel1'>\n",
      "    hankel1e = <ufunc 'hankel1e'>\n",
      "    hankel2 = <ufunc 'hankel2'>\n",
      "    hankel2e = <ufunc 'hankel2e'>\n",
      "    huber = <ufunc 'huber'>\n",
      "    hyp1f1 = <ufunc 'hyp1f1'>\n",
      "    hyp1f2 = <ufunc 'hyp1f2'>\n",
      "    hyp2f0 = <ufunc 'hyp2f0'>\n",
      "    hyp2f1 = <ufunc 'hyp2f1'>\n",
      "    hyp3f0 = <ufunc 'hyp3f0'>\n",
      "    hyperu = <ufunc 'hyperu'>\n",
      "    i0 = <ufunc 'i0'>\n",
      "    i0e = <ufunc 'i0e'>\n",
      "    i1 = <ufunc 'i1'>\n",
      "    i1e = <ufunc 'i1e'>\n",
      "    inv_boxcox = <ufunc 'inv_boxcox'>\n",
      "    inv_boxcox1p = <ufunc 'inv_boxcox1p'>\n",
      "    it2i0k0 = <ufunc 'it2i0k0'>\n",
      "    it2j0y0 = <ufunc 'it2j0y0'>\n",
      "    it2struve0 = <ufunc 'it2struve0'>\n",
      "    itairy = <ufunc 'itairy'>\n",
      "    iti0k0 = <ufunc 'iti0k0'>\n",
      "    itj0y0 = <ufunc 'itj0y0'>\n",
      "    itmodstruve0 = <ufunc 'itmodstruve0'>\n",
      "    itstruve0 = <ufunc 'itstruve0'>\n",
      "    iv = <ufunc 'iv'>\n",
      "    ive = <ufunc 'ive'>\n",
      "    j0 = <ufunc 'j0'>\n",
      "    j1 = <ufunc 'j1'>\n",
      "    jn = <ufunc 'jv'>\n",
      "    jv = <ufunc 'jv'>\n",
      "    jve = <ufunc 'jve'>\n",
      "    k0 = <ufunc 'k0'>\n",
      "    k0e = <ufunc 'k0e'>\n",
      "    k1 = <ufunc 'k1'>\n",
      "    k1e = <ufunc 'k1e'>\n",
      "    kei = <ufunc 'kei'>\n",
      "    keip = <ufunc 'keip'>\n",
      "    kelvin = <ufunc 'kelvin'>\n",
      "    ker = <ufunc 'ker'>\n",
      "    kerp = <ufunc 'kerp'>\n",
      "    kl_div = <ufunc 'kl_div'>\n",
      "    kn = <ufunc 'kn'>\n",
      "    kolmogi = <ufunc 'kolmogi'>\n",
      "    kolmogorov = <ufunc 'kolmogorov'>\n",
      "    kv = <ufunc 'kv'>\n",
      "    kve = <ufunc 'kve'>\n",
      "    log1p = <ufunc 'log1p'>\n",
      "    log_ndtr = <ufunc 'log_ndtr'>\n",
      "    logit = <ufunc 'logit'>\n",
      "    lpmv = <ufunc 'lpmv'>\n",
      "    mathieu_a = <ufunc 'mathieu_a'>\n",
      "    mathieu_b = <ufunc 'mathieu_b'>\n",
      "    mathieu_cem = <ufunc 'mathieu_cem'>\n",
      "    mathieu_modcem1 = <ufunc 'mathieu_modcem1'>\n",
      "    mathieu_modcem2 = <ufunc 'mathieu_modcem2'>\n",
      "    mathieu_modsem1 = <ufunc 'mathieu_modsem1'>\n",
      "    mathieu_modsem2 = <ufunc 'mathieu_modsem2'>\n",
      "    mathieu_sem = <ufunc 'mathieu_sem'>\n",
      "    modfresnelm = <ufunc 'modfresnelm'>\n",
      "    modfresnelp = <ufunc 'modfresnelp'>\n",
      "    modstruve = <ufunc 'modstruve'>\n",
      "    nbdtr = <ufunc 'nbdtr'>\n",
      "    nbdtrc = <ufunc 'nbdtrc'>\n",
      "    nbdtri = <ufunc 'nbdtri'>\n",
      "    nbdtrik = <ufunc 'nbdtrik'>\n",
      "    nbdtrin = <ufunc 'nbdtrin'>\n",
      "    ncfdtr = <ufunc 'ncfdtr'>\n",
      "    ncfdtri = <ufunc 'ncfdtri'>\n",
      "    ncfdtridfd = <ufunc 'ncfdtridfd'>\n",
      "    ncfdtridfn = <ufunc 'ncfdtridfn'>\n",
      "    ncfdtrinc = <ufunc 'ncfdtrinc'>\n",
      "    nctdtr = <ufunc 'nctdtr'>\n",
      "    nctdtridf = <ufunc 'nctdtridf'>\n",
      "    nctdtrinc = <ufunc 'nctdtrinc'>\n",
      "    nctdtrit = <ufunc 'nctdtrit'>\n",
      "    ndtr = <ufunc 'ndtr'>\n",
      "    ndtri = <ufunc 'ndtri'>\n",
      "    nrdtrimn = <ufunc 'nrdtrimn'>\n",
      "    nrdtrisd = <ufunc 'nrdtrisd'>\n",
      "    obl_ang1 = <ufunc 'obl_ang1'>\n",
      "    obl_ang1_cv = <ufunc 'obl_ang1_cv'>\n",
      "    obl_cv = <ufunc 'obl_cv'>\n",
      "    obl_rad1 = <ufunc 'obl_rad1'>\n",
      "    obl_rad1_cv = <ufunc 'obl_rad1_cv'>\n",
      "    obl_rad2 = <ufunc 'obl_rad2'>\n",
      "    obl_rad2_cv = <ufunc 'obl_rad2_cv'>\n",
      "    pbdv = <ufunc 'pbdv'>\n",
      "    pbvv = <ufunc 'pbvv'>\n",
      "    pbwa = <ufunc 'pbwa'>\n",
      "    pdtr = <ufunc 'pdtr'>\n",
      "    pdtrc = <ufunc 'pdtrc'>\n",
      "    pdtri = <ufunc 'pdtri'>\n",
      "    pdtrik = <ufunc 'pdtrik'>\n",
      "    poch = <ufunc 'poch'>\n",
      "    print_function = _Feature((2, 6, 0, 'alpha', 2), (3, 0, 0, 'alpha', 0)...\n",
      "    pro_ang1 = <ufunc 'pro_ang1'>\n",
      "    pro_ang1_cv = <ufunc 'pro_ang1_cv'>\n",
      "    pro_cv = <ufunc 'pro_cv'>\n",
      "    pro_rad1 = <ufunc 'pro_rad1'>\n",
      "    pro_rad1_cv = <ufunc 'pro_rad1_cv'>\n",
      "    pro_rad2 = <ufunc 'pro_rad2'>\n",
      "    pro_rad2_cv = <ufunc 'pro_rad2_cv'>\n",
      "    pseudo_huber = <ufunc 'pseudo_huber'>\n",
      "    psi = <ufunc 'psi'>\n",
      "    radian = <ufunc 'radian'>\n",
      "    rel_entr = <ufunc 'rel_entr'>\n",
      "    rgamma = <ufunc 'rgamma'>\n",
      "    round = <ufunc 'round'>\n",
      "    shichi = <ufunc 'shichi'>\n",
      "    sici = <ufunc 'sici'>\n",
      "    sindg = <ufunc 'sindg'>\n",
      "    smirnov = <ufunc 'smirnov'>\n",
      "    smirnovi = <ufunc 'smirnovi'>\n",
      "    spence = <ufunc 'spence'>\n",
      "    sph_harm = <ufunc 'sph_harm'>\n",
      "    stdtr = <ufunc 'stdtr'>\n",
      "    stdtridf = <ufunc 'stdtridf'>\n",
      "    stdtrit = <ufunc 'stdtrit'>\n",
      "    struve = <ufunc 'struve'>\n",
      "    tandg = <ufunc 'tandg'>\n",
      "    tklmbda = <ufunc 'tklmbda'>\n",
      "    wofz = <ufunc 'wofz'>\n",
      "    xlog1py = <ufunc 'xlog1py'>\n",
      "    xlogy = <ufunc 'xlogy'>\n",
      "    y0 = <ufunc 'y0'>\n",
      "    y1 = <ufunc 'y1'>\n",
      "    yn = <ufunc 'yn'>\n",
      "    yv = <ufunc 'yv'>\n",
      "    yve = <ufunc 'yve'>\n",
      "    zeta = <ufunc 'zeta'>\n",
      "    zetac = <ufunc 'zetac'>\n",
      "\n",
      "FILE\n",
      "    c:\\users\\jh218595\\documents\\winpython-64bit-3.4.3.5\\python-3.4.3.amd64\\lib\\site-packages\\scipy\\special\\__init__.py\n",
      "\n",
      "\n"
     ]
    }
   ],
   "source": [
    "help(scipy.special) # For a complete list of the available functions "
   ]
  },
  {
   "cell_type": "markdown",
   "metadata": {},
   "source": [
    "##Integration"
   ]
  },
  {
   "cell_type": "markdown",
   "metadata": {},
   "source": [
    "Vérifions l'intégrale de Gauss avec le module [integrate](http://docs.scipy.org/doc/scipy/reference/tutorial/integrate.html) du package SciPy: \n",
    "$$\n",
    "\\int_{-\\infty}^{+\\infty} e^{-x^2} dx = \\sqrt{\\pi}\n",
    "$$"
   ]
  },
  {
   "cell_type": "code",
   "execution_count": 105,
   "metadata": {
    "collapsed": true
   },
   "outputs": [],
   "source": [
    "def integrande(x):\n",
    "    return np.exp(-x**2)\n",
    "\n",
    "import scipy.integrate # integration routines\n",
    "# general integration\n",
    "# Infinite inputs are also allowed in quad by using ± inf \n",
    "y, abserr = scipy.integrate.quad(integrande, -np.inf, +np.inf)"
   ]
  },
  {
   "cell_type": "code",
   "execution_count": 106,
   "metadata": {
    "collapsed": false
   },
   "outputs": [
    {
     "data": {
      "text/plain": [
       "True"
      ]
     },
     "execution_count": 106,
     "metadata": {},
     "output_type": "execute_result"
    }
   ],
   "source": [
    "# check how close the result is \n",
    "np.isclose(y, np.sqrt(np.pi))"
   ]
  },
  {
   "cell_type": "markdown",
   "metadata": {},
   "source": [
    "##Optimization"
   ]
  },
  {
   "cell_type": "markdown",
   "metadata": {},
   "source": [
    "SciPy also proposes an [optimization](http://docs.scipy.org/doc/scipy/reference/tutorial/optimize.html) module, which contains:\n",
    "\n",
    "* Unconstrained and constrained minimization of multivariate scalar functions (minimize) using a variety of algorithms (e.g. BFGS, Nelder-Mead simplex, Newton Conjugate Gradient, COBYLA or SLSQP)\n",
    "* Global (brute-force) optimization routines (e.g. basinhopping, differential_evolution)\n",
    "* Least-squares minimization (leastsq) and curve fitting (curve_fit) algorithms\n",
    "* Scalar univariate functions minimizers (minimize_scalar) and root finders (newton)\n",
    "* Multivariate equation system solvers (root) using a variety of algorithms (e.g. hybrid Powell, Levenberg-Marquardt or large-scale methods such as Newton-Krylov).\n"
   ]
  },
  {
   "cell_type": "markdown",
   "metadata": {},
   "source": [
    "##Interpolation"
   ]
  },
  {
   "cell_type": "markdown",
   "metadata": {},
   "source": [
    "There are several general [interpolation](http://docs.scipy.org/doc/scipy/reference/tutorial/interpolate.html) facilities available in SciPy,  for data in 1, 2, and higher dimensions:\n",
    "\n",
    "* A class representing an interpolant (interp1d) in 1-D, offering several interpolation methods.\n",
    "* Convenience function griddata offering a simple interface to interpolation in N dimensions (N = 1, 2, 3, 4, ...). Object-oriented interface for the underlying routines is also available.\n",
    "* Functions for 1- and 2-dimensional (smoothed) cubic-spline interpolation, based on the FORTRAN library FITPACK. There are both procedural and object-oriented interfaces for the FITPACK library.\n",
    "* Interpolation using Radial Basis Functions."
   ]
  },
  {
   "cell_type": "code",
   "execution_count": 150,
   "metadata": {
    "collapsed": false
   },
   "outputs": [
    {
     "data": {
      "image/png": "[encoded data removed]",
      "text/plain": [
       "<matplotlib.figure.Figure at 0x9ff25c0>"
      ]
     },
     "metadata": {},
     "output_type": "display_data"
    }
   ],
   "source": [
    "from scipy.interpolate import interp1d\n",
    "\n",
    "import matplotlib.pyplot as plt\n",
    "%matplotlib inline\n",
    "\n",
    "# generates a noisy signal\n",
    "signal_length = 1000\n",
    "omega = 10\n",
    "t = np.linspace(0, (2*np.pi)/omega, signal_length)\n",
    "noisy_signal = (0.1*np.random.rand(signal_length) - 0.2) \\\n",
    "                *(np.cos(3*omega*t) + np.sin(omega*t))\n",
    "\n",
    "# interpolating the signal\n",
    "f = interp1d(t, noisy_signal)\n",
    "\n",
    "# plot the original signal \n",
    "# and the interpolation on a decimated basis\n",
    "t2 = np.linspace(0, (2*np.pi)/omega, signal_length/10)\n",
    "plt.plot(t, noisy_signal, color=(.7,.7,.7,1))\n",
    "plt.plot(t2, f(t2), lw=2)\n",
    "plt.grid(True)"
   ]
  },
  {
   "cell_type": "markdown",
   "metadata": {},
   "source": [
    "##Fast Fourier Transforms\n",
    "[fftpack](http://docs.scipy.org/doc/scipy/reference/tutorial/fftpack.html)\n"
   ]
  },
  {
   "cell_type": "code",
   "execution_count": 152,
   "metadata": {
    "collapsed": false
   },
   "outputs": [
    {
     "data": {
      "text/plain": [
       "<matplotlib.text.Text at 0xa061438>"
      ]
     },
     "execution_count": 152,
     "metadata": {},
     "output_type": "execute_result"
    },
    {
     "data": {
      "image/png": "[encoded data removed]",
      "text/plain": [
       "<matplotlib.figure.Figure at 0xa080748>"
      ]
     },
     "metadata": {},
     "output_type": "display_data"
    }
   ],
   "source": [
    "from scipy.fftpack import fft\n",
    "\n",
    "# signal frequency\n",
    "f = 50e6\n",
    "# Number of samplepoints\n",
    "N = 1000\n",
    "# time sampling\n",
    "T = 1/N\n",
    "t = np.linspace(0, N*T, N)\n",
    "# signal\n",
    "y = np.cos(2*np.pi*f*t) + 0.2*np.cos(2*np.pi*2*f*t)\n",
    "\n",
    "yf = fft(y)\n",
    "xf = np.linspace(0.0, 1.0/(2.0*T), N/2)\n",
    "\n",
    "plt.plot(xf, 2.0/N * np.abs(yf[0:N/2]))\n",
    "plt.grid(True)\n",
    "plt.xlabel('f [Hz]')\n"
   ]
  },
  {
   "cell_type": "markdown",
   "metadata": {},
   "source": [
    "## Signal Processing\n",
    "The [signal](http://docs.scipy.org/doc/scipy/reference/tutorial/signal.html)  toolbox currently contains some filtering functions, a limited set of filter design tools, and a few B-spline interpolation algorithms for one- and two-dimensional data. \n",
    "\n",
    "While the B-spline algorithms could technically be placed under the interpolation category, they are included here because they only work with equally-spaced data and make heavy use of filter-theory and transfer-function formalism to provide a fast B-spline transform. "
   ]
  },
  {
   "cell_type": "markdown",
   "metadata": {},
   "source": [
    "##Statistiques\n",
    "See[scipy.stats](http://docs.scipy.org/doc/scipy/reference/tutorial/stats.html)"
   ]
  },
  {
   "cell_type": "markdown",
   "metadata": {},
   "source": [
    "#Image Processing\n",
    "See [scikit-image](http://scikit-image.org/) or [Pillow](https://python-pillow.github.io/)"
   ]
  },
  {
   "cell_type": "markdown",
   "metadata": {},
   "source": [
    "#Machine Learning\n",
    "See [Scikit Learn](http://scikit-learn.org/)"
   ]
  },
  {
   "cell_type": "markdown",
   "metadata": {},
   "source": [
    "#Autres SciKits\n",
    "See [SciKits](https://scikits.appspot.com/scikits)"
   ]
  },
  {
   "cell_type": "code",
   "execution_count": 162,
   "metadata": {
    "collapsed": false
   },
   "outputs": [
    {
     "data": {
      "text/html": [
       "<style>\n",
       "div.input {\n",
       "    width: 105ex; /* about 80 chars + buffer */\n",
       "}\n",
       "\n",
       ".input_prompt, .output_prompt {\n",
       "    /*margin-left: 50px;*/\n",
       "}\n",
       "\n",
       "div.text_cell {\n",
       "    width: 105ex /* instead of 100%, */\n",
       "    margin-left: 0px;\n",
       "}\n",
       "\n",
       ".CodeMirror {\n",
       "    font-family: Consolas, monospace;\n",
       "}\n",
       "\n",
       "div.text_cell_render{\n",
       "    /*font-family: \"Helvetica Neue\", Arial, Helvetica, Geneva, sans-serif;*/\n",
       "    font-family: \"Charis SIL\", serif; /* Make non-code text serif. */\n",
       "    line-height: 145%; /* added for some line spacing of text. */\n",
       "    width: 105ex; /* instead of 'inherit' for shorter lines */ \n",
       "    /*font-family: Computer Modern, \"Helvetica Neue\", Arial, Helvetica, Geneva, sans-serif;*/\n",
       "    font-size: 120%;\n",
       "    margin-left:0px;\n",
       "}\n",
       "\n",
       "div.text_cell_render h1 {\n",
       "\tfont-size: 24pt;\n",
       "\tcolor: rgb(192,80,77);\n",
       "\tbackground-color: rgb(245,245,245);\n",
       "}\n",
       "\n",
       "div.text_cell_render h2 {\n",
       "\tfont-size: 20pt;\n",
       "\tcolor: rgb(31,73,125);\n",
       "\tbackground-color: rgb(242,242,242);\n",
       "}\n",
       "\n",
       "div.objectives {\n",
       "    background-color: #FFFFCC;\n",
       "    margin-top: 10px;\n",
       "    margin-bottom: 5px;\n",
       "    padding: 10px;\n",
       "    color: inherit;\n",
       "    font-size: 16px;\n",
       "    font-family: inherit;\n",
       "    font-weight: 500;\n",
       "    line-height: 1.1;\n",
       "    border: 1px solid;\n",
       "    width: 600px;\n",
       "}\n",
       "\n",
       "div.exercice {\n",
       "    background-color: #CCCCFF;\n",
       "    margin-left: 100px;\n",
       "    margin-top: 5px;\n",
       "    margin-bottom: 5px;\n",
       "    padding: 5px;\n",
       "    color: inherit;\n",
       "    font-size: 16px;\n",
       "    font-family: inherit;\n",
       "    line-height: 1.1;\n",
       "    border: 1px solid #000;\n",
       "    width: 500px;\n",
       "}\n",
       "\n",
       "div.exercice h1{\n",
       "    text-align: left;\n",
       "    height: 20px;\n",
       "    line-height: 20px;\n",
       "    font-size: 15px;\n",
       "    color: #000;\n",
       "    background-color: inherit;\n",
       "}\n",
       "\n",
       "@media print {\n",
       "body {-webkit-print-color-adjust: exact;}\n",
       "}\n",
       "</style>"
      ],
      "text/plain": [
       "<IPython.core.display.HTML object>"
      ]
     },
     "execution_count": 162,
     "metadata": {},
     "output_type": "execute_result"
    }
   ],
   "source": [
    "#CSS Styling\n",
    "from IPython import utils  \n",
    "from IPython.core.display import HTML  \n",
    "import os  \n",
    "def css_styling():  \n",
    "    \"\"\"Load the CSS sheet 'custom.css' located in the directory\"\"\"\n",
    "    styles = \"<style>\\n%s\\n</style>\" % (open('./custom.css','r').read())\n",
    "    return HTML(styles)\n",
    "css_styling()  "
   ]
  },
  {
   "cell_type": "code",
   "execution_count": null,
   "metadata": {
    "collapsed": true
   },
   "outputs": [],
   "source": []
  }
 ],
 "metadata": {
  "kernelspec": {
   "display_name": "Python 3",
   "language": "python",
   "name": "python3"
  },
  "language_info": {
   "codemirror_mode": {
    "name": "ipython",
    "version": 3
   },
   "file_extension": ".py",
   "mimetype": "text/x-python",
   "name": "python",
   "nbconvert_exporter": "python",
   "pygments_lexer": "ipython3",
   "version": "3.4.3"
  }
 },
 "nbformat": 4,
 "nbformat_minor": 0
}
