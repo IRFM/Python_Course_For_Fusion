{
 "cells": [
  {
   "cell_type": "markdown",
   "metadata": {},
   "source": [
    "The goal of this notebok is to check the veracity of the following important information you may have seen on social networks\n",
    "\n",
    "![](equations.jpg)"
   ]
  },
  {
   "cell_type": "markdown",
   "metadata": {},
   "source": [
    "We will reproduce the previous equation, step by step as:\n",
    "$$\n",
    "\\frac{\\pi e^{\\frac{A}{B}} - e^{i E}}{C D}\n",
    "$$"
   ]
  },
  {
   "cell_type": "code",
   "execution_count": 57,
   "metadata": {
    "collapsed": true
   },
   "outputs": [],
   "source": [
    "from sympy import *\n",
    "init_printing(use_latex=True) \n",
    "t = Symbol('t')\n",
    "k = Symbol('k')\n",
    "n = Symbol('n')"
   ]
  },
  {
   "cell_type": "code",
   "execution_count": 150,
   "metadata": {
    "collapsed": false
   },
   "outputs": [
    {
     "data": {
      "image/png": "[encoded data removed]",
      "text/latex": [
       "$$\\lim_{n \\to \\infty}\\left(\\frac{2^{2 n} n!^{2}}{\\sqrt{n} \\left(2 n\\right)!} \\log{\\left (7 \\right )}\\right)$$"
      ],
      "text/plain": [
       "     2⋅n          2\n",
       "    2   ⋅log(7)⋅n! \n",
       "lim ───────────────\n",
       "n─→∞    ___        \n",
       "      ╲╱ n ⋅(2⋅n)! "
      ]
     },
     "execution_count": 150,
     "metadata": {},
     "output_type": "execute_result"
    }
   ],
   "source": [
    "A=Limit(2**(2*n) * factorial(n)**2 * log(7) / factorial(2*n) / sqrt(n), n, +oo)\n",
    "A"
   ]
  },
  {
   "cell_type": "code",
   "execution_count": 151,
   "metadata": {
    "collapsed": false
   },
   "outputs": [
    {
     "data": {
      "image/png": "[encoded data removed]",
      "text/latex": [
       "$$\\sqrt{\\pi} \\log{\\left (7 \\right )}$$"
      ],
      "text/plain": [
       "  ___       \n",
       "╲╱ π ⋅log(7)"
      ]
     },
     "execution_count": 151,
     "metadata": {},
     "output_type": "execute_result"
    }
   ],
   "source": [
    "A.doit()"
   ]
  },
  {
   "cell_type": "code",
   "execution_count": 152,
   "metadata": {
    "collapsed": false
   },
   "outputs": [
    {
     "data": {
      "image/png": "[encoded data removed]",
      "text/latex": [
       "$$\\int_{0}^{\\infty} e^{- t^{2}}\\, dt$$"
      ],
      "text/plain": [
       "∞        \n",
       "⌠        \n",
       "⎮    2   \n",
       "⎮  -t    \n",
       "⎮ ℯ    dt\n",
       "⌡        \n",
       "0        "
      ]
     },
     "execution_count": 152,
     "metadata": {},
     "output_type": "execute_result"
    }
   ],
   "source": [
    "B=Integral(exp(-t**2), (t,0,+oo))\n",
    "B"
   ]
  },
  {
   "cell_type": "code",
   "execution_count": 153,
   "metadata": {
    "collapsed": false
   },
   "outputs": [
    {
     "data": {
      "image/png": "[encoded data removed]",
      "text/latex": [
       "$$\\frac{\\sqrt{\\pi}}{2}$$"
      ],
      "text/plain": [
       "  ___\n",
       "╲╱ π \n",
       "─────\n",
       "  2  "
      ]
     },
     "execution_count": 153,
     "metadata": {},
     "output_type": "execute_result"
    }
   ],
   "source": [
    "B.doit()"
   ]
  },
  {
   "cell_type": "code",
   "execution_count": 154,
   "metadata": {
    "collapsed": false
   },
   "outputs": [
    {
     "data": {
      "image/png": "[encoded data removed]",
      "text/latex": [
       "$$\\int_{0}^{\\infty} \\frac{3}{t^{6} + 1}\\, dt$$"
      ],
      "text/plain": [
       "∞          \n",
       "⌠          \n",
       "⎮   3      \n",
       "⎮ ────── dt\n",
       "⎮  6       \n",
       "⎮ t  + 1   \n",
       "⌡          \n",
       "0          "
      ]
     },
     "execution_count": 154,
     "metadata": {},
     "output_type": "execute_result"
    }
   ],
   "source": [
    "C = Integral(3 / (t**6 + 1), (t,0,+oo))\n",
    "C\n"
   ]
  },
  {
   "cell_type": "code",
   "execution_count": 155,
   "metadata": {
    "collapsed": false
   },
   "outputs": [
    {
     "data": {
      "image/png": "[encoded data removed]",
      "text/latex": [
       "$$\\pi$$"
      ],
      "text/plain": [
       "π"
      ]
     },
     "execution_count": 155,
     "metadata": {},
     "output_type": "execute_result"
    }
   ],
   "source": [
    "C.doit()"
   ]
  },
  {
   "cell_type": "code",
   "execution_count": 156,
   "metadata": {
    "collapsed": false
   },
   "outputs": [
    {
     "data": {
      "image/png": "[encoded data removed]",
      "text/latex": [
       "$$\\int_{-\\infty}^{\\infty} e^{- \\pi t^{2}}\\, dt$$"
      ],
      "text/plain": [
       "∞           \n",
       "⌠           \n",
       "⎮       2   \n",
       "⎮   -π⋅t    \n",
       "⎮  ℯ      dt\n",
       "⌡           \n",
       "-∞          "
      ]
     },
     "execution_count": 156,
     "metadata": {},
     "output_type": "execute_result"
    }
   ],
   "source": [
    "D = Integral(exp(-pi*t**2), (t,-oo,+oo))\n",
    "D"
   ]
  },
  {
   "cell_type": "code",
   "execution_count": 157,
   "metadata": {
    "collapsed": false
   },
   "outputs": [
    {
     "data": {
      "image/png": "[encoded data removed]",
      "text/latex": [
       "$$1$$"
      ],
      "text/plain": [
       "1"
      ]
     },
     "execution_count": 157,
     "metadata": {},
     "output_type": "execute_result"
    }
   ],
   "source": [
    "D.doit()\n"
   ]
  },
  {
   "cell_type": "code",
   "execution_count": 158,
   "metadata": {
    "collapsed": false
   },
   "outputs": [
    {
     "data": {
      "image/png": "[encoded data removed]",
      "text/latex": [
       "$$\\sum_{k=0}^{\\infty} \\frac{8 \\pi}{\\left(4 k + 1\\right) \\left(4 k + 3\\right)}$$"
      ],
      "text/plain": [
       "  ∞                      \n",
       " ____                    \n",
       " ╲                       \n",
       "  ╲           8⋅π        \n",
       "   ╲  ───────────────────\n",
       "   ╱  (4⋅k + 1)⋅(4⋅k + 3)\n",
       "  ╱                      \n",
       " ╱                       \n",
       " ‾‾‾‾                    \n",
       "k = 0                    "
      ]
     },
     "execution_count": 158,
     "metadata": {},
     "output_type": "execute_result"
    }
   ],
   "source": [
    "E=Sum( 8*pi/(4*k+1)/(4*k+3), (k,0,+oo))\n",
    "E\n"
   ]
  },
  {
   "cell_type": "code",
   "execution_count": 159,
   "metadata": {
    "collapsed": false
   },
   "outputs": [
    {
     "data": {
      "image/png": "[encoded data removed]",
      "text/latex": [
       "$$\\pi^{2}$$"
      ],
      "text/plain": [
       " 2\n",
       "π "
      ]
     },
     "execution_count": 159,
     "metadata": {},
     "output_type": "execute_result"
    }
   ],
   "source": [
    "E.doit().simplify()"
   ]
  },
  {
   "cell_type": "markdown",
   "metadata": {},
   "source": [
    "# Conclusion"
   ]
  },
  {
   "cell_type": "code",
   "execution_count": 162,
   "metadata": {
    "collapsed": false
   },
   "outputs": [
    {
     "data": {
      "image/png": "[encoded data removed]",
      "text/latex": [
       "$$49 - \\frac{e^{i \\pi^{2}}}{\\pi}$$"
      ],
      "text/plain": [
       "         2\n",
       "      ⅈ⋅π \n",
       "     ℯ    \n",
       "49 - ─────\n",
       "       π  "
      ]
     },
     "execution_count": 162,
     "metadata": {},
     "output_type": "execute_result"
    }
   ],
   "source": [
    "total=( pi*exp(A.doit()/B.doit()) - exp(I*(E).doit().simplify()) )/ C.doit() / D.doit()\n",
    "total.simplify()"
   ]
  },
  {
   "cell_type": "markdown",
   "metadata": {},
   "source": [
    "Which leads me to the conclusion the expression is false ! In fact, it seems that the sum expression shoud not have a $\\pi$ in it, and that the both exponentials should be factorized by $\\pi$. \n",
    "\n",
    "The original web page with the mistake is http://www.brouty.fr/Maths/anniv.html."
   ]
  },
  {
   "cell_type": "code",
   "execution_count": 164,
   "metadata": {
    "collapsed": false
   },
   "outputs": [
    {
     "data": {
      "image/png": "[encoded data removed]",
      "text/latex": [
       "$$50$$"
      ],
      "text/plain": [
       "50"
      ]
     },
     "execution_count": 164,
     "metadata": {},
     "output_type": "execute_result"
    }
   ],
   "source": [
    "total2=( pi*(exp(A.doit()/B.doit()) - exp(I*(E/pi).doit().simplify()) )) / C.doit() / D.doit()\n",
    "total2"
   ]
  }
 ],
 "metadata": {
  "kernelspec": {
   "display_name": "Python 3",
   "language": "python",
   "name": "python3"
  },
  "language_info": {
   "codemirror_mode": {
    "name": "ipython",
    "version": 3
   },
   "file_extension": ".py",
   "mimetype": "text/x-python",
   "name": "python",
   "nbconvert_exporter": "python",
   "pygments_lexer": "ipython3",
   "version": "3.5.1"
  }
 },
 "nbformat": 4,
 "nbformat_minor": 0
}
