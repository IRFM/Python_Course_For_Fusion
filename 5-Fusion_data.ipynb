{
 "cells": [
  {
   "cell_type": "code",
   "execution_count": 1,
   "metadata": {
    "collapsed": false,
    "slideshow": {
     "slide_type": "skip"
    }
   },
   "outputs": [
    {
     "data": {
      "text/html": [
       "<style>\n",
       ".pmode {\n",
       "    display:none; !important\n",
       "}\n",
       "\n",
       "div.text_cell_render h1 {\n",
       "\tfont-size: 24pt;\n",
       "\tcolor: rgb(192,80,77);\n",
       "\tbackground-color: rgb(245,245,245);\n",
       "}\n",
       "\n",
       "div.text_cell_render h2 {\n",
       "\tfont-size: 20pt;\n",
       "\tcolor: rgb(31,73,125);\n",
       "\tbackground-color: rgb(242,242,242);\n",
       "}\n",
       "\n",
       ".presentation_mode h1{\n",
       "        text-align: center;\n",
       "}\n",
       "\n",
       ".presentation_mode .maintoolbar-container{\n",
       "    display:none; !important\n",
       "}\n",
       "\n",
       ".presentation_mode div#notebook-container {\n",
       "    box-shadow: none;\n",
       "    -webkit-box-shadow: none:\n",
       "\n",
       "}\n",
       "\n",
       ".presentation_mode #header {\n",
       "    box-shadow: none;\n",
       "    -webkit-box-shadow: none;\n",
       "    border-bottom: thin silver solid;\n",
       "\n",
       "}\n",
       "\n",
       "body.presentation_mode {\n",
       "    background-color:white;\n",
       "}\n",
       "\n",
       "\n",
       "</style>"
      ],
      "text/plain": [
       "<IPython.core.display.HTML object>"
      ]
     },
     "execution_count": 1,
     "metadata": {},
     "output_type": "execute_result"
    }
   ],
   "source": [
    "from IPython import utils  \n",
    "from IPython.core.display import HTML  \n",
    "import os  \n",
    "def css_styling():  \n",
    "    \"\"\"Load the CSS sheet 'custom.css' located in the directory\"\"\"\n",
    "    styles = \"<style>\\n%s\\n</style>\" % (open('./custom.css','r').read())\n",
    "    return HTML(styles)\n",
    "css_styling() "
   ]
  },
  {
   "cell_type": "code",
   "execution_count": 2,
   "metadata": {
    "collapsed": false,
    "slideshow": {
     "slide_type": "skip"
    }
   },
   "outputs": [
    {
     "name": "stdout",
     "output_type": "stream",
     "text": [
      "Using matplotlib backend: TkAgg\n",
      "Populating the interactive namespace from numpy and matplotlib\n"
     ]
    }
   ],
   "source": [
    "%pylab"
   ]
  },
  {
   "cell_type": "markdown",
   "metadata": {
    "slideshow": {
     "slide_type": "slide"
    }
   },
   "source": [
    "#Accessing Fusion Data "
   ]
  },
  {
   "cell_type": "markdown",
   "metadata": {
    "slideshow": {
     "slide_type": "slide"
    }
   },
   "source": [
    "#_tsmat_: Tore Supra / WEST\n",
    "__PyWED__ (Python for West Experimental Data) is the Python package which allows accessing Tore Supra/WEST data. It aims to replace its Matlab TSlib equivalent, i.e. the famous `tsbase` and `tsmat` functions.\n",
    "\n",
    "In order to use the PyWED package, you need to import it (note that the package is automatically imported when you launch Python from linux servers)."
   ]
  },
  {
   "cell_type": "code",
   "execution_count": 9,
   "metadata": {
    "collapsed": true,
    "slideshow": {
     "slide_type": "fragment"
    }
   },
   "outputs": [],
   "source": [
    "import pywed\n",
    "# tsbase is available through pywed.tsbase().\n",
    "# Or, in order to avoid typing \"pywed.\" each time:\n",
    "from pywed import *"
   ]
  },
  {
   "cell_type": "markdown",
   "metadata": {
    "slideshow": {
     "slide_type": "subslide"
    }
   },
   "source": [
    "The Python version of `tsbase` follows the same logic than the Matlab.\n",
    "\n",
    "In Matlab, one would write:\n",
    "\n",
    "    [a,b,c,d,e,f,...] = tsbase(arg1, arg2, ...);\n",
    "    \n",
    "While in Python, this would be:\n",
    "\n",
    "    a,b,c,d,e,f,... = tsbase(arg1, arg2, ...)\n",
    "\n",
    "Here is few examples.  "
   ]
  },
  {
   "cell_type": "code",
   "execution_count": 10,
   "metadata": {
    "collapsed": false,
    "slideshow": {
     "slide_type": "subslide"
    }
   },
   "outputs": [
    {
     "name": "stdout",
     "output_type": "stream",
     "text": [
      "Connection error reported: [WinError 10061] Aucune connexion n’a pu être établie car l’ordinateur cible l’a expressément refusée\n",
      "Connection error reported: [WinError 10061] Aucune connexion n’a pu être établie car l’ordinateur cible l’a expressément refusée\n",
      "Connection error reported: [WinError 10061] Aucune connexion n’a pu être établie car l’ordinateur cible l’a expressément refusée\n",
      "Connection error reported: [WinError 10061] Aucune connexion n’a pu être établie car l’ordinateur cible l’a expressément refusée\n"
     ]
    },
    {
     "ename": "PyWEDException",
     "evalue": "[Exception tsExClientError in PyWED] [Client Error] 'Unable to connect to 132.169.8.138 at port 5880'\nPlease report bugs to Yves.BURAVAND@cea.fr or Lionel.SALESSES@cea.fr",
     "output_type": "error",
     "traceback": [
      "\u001b[1;31m---------------------------------------------------------------------------\u001b[0m",
      "\u001b[1;31mPyWEDException\u001b[0m                            Traceback (most recent call last)",
      "\u001b[1;32m<ipython-input-10-7f7ba0942820>\u001b[0m in \u001b[0;36m<module>\u001b[1;34m()\u001b[0m\n\u001b[1;32m----> 1\u001b[1;33m \u001b[0my\u001b[0m\u001b[1;33m,\u001b[0m\u001b[0mt\u001b[0m\u001b[1;33m,\u001b[0m\u001b[0mcoords\u001b[0m\u001b[1;33m,\u001b[0m\u001b[0mcomments\u001b[0m \u001b[1;33m=\u001b[0m \u001b[0mtsbase\u001b[0m\u001b[1;33m(\u001b[0m\u001b[1;36m34567\u001b[0m\u001b[1;33m,\u001b[0m \u001b[1;34m'SIPMES'\u001b[0m\u001b[1;33m)\u001b[0m\u001b[1;33m\u001b[0m\u001b[0m\n\u001b[0m",
      "\u001b[1;32mC:\\Program Files\\WinPython\\python-3.3.5.amd64\\lib\\site-packages\\pywed\\tsBase.py\u001b[0m in \u001b[0;36mtsbase\u001b[1;34m(nargout, *args)\u001b[0m\n\u001b[0;32m     46\u001b[0m         \u001b[0mthe\u001b[0m \u001b[0mexcess\u001b[0m \u001b[0margument\u001b[0m \u001b[0mwill\u001b[0m \u001b[0mbe\u001b[0m \u001b[1;34m'None'\u001b[0m\u001b[1;33m.\u001b[0m \u001b[0mBy\u001b[0m \u001b[0mdefault\u001b[0m \u001b[0mtsbase\u001b[0m \u001b[0mreturns\u001b[0m \u001b[0mall\u001b[0m \u001b[0mthe\u001b[0m\u001b[1;33m\u001b[0m\u001b[0m\n\u001b[0;32m     47\u001b[0m         \u001b[0moutput\u001b[0m \u001b[0mvalues\u001b[0m \u001b[0mare\u001b[0m \u001b[0mreturned\u001b[0m\u001b[1;33m.\u001b[0m\u001b[1;33m\u001b[0m\u001b[0m\n\u001b[1;32m---> 48\u001b[1;33m \u001b[1;33m\u001b[0m\u001b[0m\n\u001b[0m\u001b[0;32m     49\u001b[0m         \u001b[1;33m*\u001b[0m \u001b[0mtsbase\u001b[0m \u001b[0mcalled\u001b[0m \u001b[1;32mwith\u001b[0m \u001b[0mno\u001b[0m \u001b[0margument\u001b[0m \u001b[0mreturns\u001b[0m \u001b[0mthe\u001b[0m \u001b[0mtreatments\u001b[0m \u001b[0mlist\u001b[0m \u001b[1;32mand\u001b[0m\u001b[1;33m\u001b[0m\u001b[0m\n\u001b[0;32m     50\u001b[0m         \u001b[0massociated\u001b[0m \u001b[0mcomments\u001b[0m \u001b[1;33m:\u001b[0m\u001b[1;33m\u001b[0m\u001b[0m\n",
      "\u001b[1;31mPyWEDException\u001b[0m: [Exception tsExClientError in PyWED] [Client Error] 'Unable to connect to 132.169.8.138 at port 5880'\nPlease report bugs to Yves.BURAVAND@cea.fr or Lionel.SALESSES@cea.fr"
     ]
    }
   ],
   "source": [
    "y,t,coords,comments = tsbase(34567, 'SIPMES')"
   ]
  },
  {
   "cell_type": "code",
   "execution_count": null,
   "metadata": {
    "collapsed": false,
    "slideshow": {
     "slide_type": "subslide"
    }
   },
   "outputs": [],
   "source": [
    "# Load the output into one single variable (A Python Tuple)\n",
    "res = tsbase(34567, 'SIPMES')"
   ]
  },
  {
   "cell_type": "code",
   "execution_count": 11,
   "metadata": {
    "collapsed": false,
    "slideshow": {
     "slide_type": "subslide"
    }
   },
   "outputs": [
    {
     "name": "stdout",
     "output_type": "stream",
     "text": [
      "Help on function tsbase in module pywed.tsBase:\n",
      "\n",
      "tsbase(*args, nargout=0)\n",
      "    ## tsbase function\n",
      "\n"
     ]
    }
   ],
   "source": [
    "# tsbase\n",
    "help(tsbase)"
   ]
  },
  {
   "cell_type": "code",
   "execution_count": 12,
   "metadata": {
    "collapsed": false,
    "slideshow": {
     "slide_type": "subslide"
    }
   },
   "outputs": [
    {
     "name": "stdout",
     "output_type": "stream",
     "text": [
      "Connection error reported: [WinError 10061] Aucune connexion n’a pu être établie car l’ordinateur cible l’a expressément refusée\n",
      "Connection error reported: [WinError 10061] Aucune connexion n’a pu être établie car l’ordinateur cible l’a expressément refusée\n",
      "Connection error reported: [WinError 10061] Aucune connexion n’a pu être établie car l’ordinateur cible l’a expressément refusée\n",
      "Connection error reported: [WinError 10061] Aucune connexion n’a pu être établie car l’ordinateur cible l’a expressément refusée\n"
     ]
    },
    {
     "ename": "PyWEDException",
     "evalue": "[Exception tsExClientError in PyWED] [Client Error] 'Unable to connect to 132.169.8.138 at port 5880'\nPlease report bugs to Yves.BURAVAND@cea.fr or Lionel.SALESSES@cea.fr",
     "output_type": "error",
     "traceback": [
      "\u001b[1;31m---------------------------------------------------------------------------\u001b[0m",
      "\u001b[1;31mPyWEDException\u001b[0m                            Traceback (most recent call last)",
      "\u001b[1;32m<ipython-input-12-8d6a55fa27c3>\u001b[0m in \u001b[0;36m<module>\u001b[1;34m()\u001b[0m\n\u001b[0;32m      1\u001b[0m \u001b[1;31m#Load many signals by passing a list to tsbase:\u001b[0m\u001b[1;33m\u001b[0m\u001b[1;33m\u001b[0m\u001b[0m\n\u001b[0;32m      2\u001b[0m \u001b[0msig\u001b[0m\u001b[1;33m=\u001b[0m\u001b[1;33m[\u001b[0m\u001b[1;34m'simag '\u001b[0m\u001b[1;33m,\u001b[0m\u001b[1;34m'GNL%3 '\u001b[0m\u001b[1;33m,\u001b[0m\u001b[1;34m'SZFBRM'\u001b[0m\u001b[1;33m]\u001b[0m\u001b[1;33m\u001b[0m\u001b[0m\n\u001b[1;32m----> 3\u001b[1;33m \u001b[0mip\u001b[0m\u001b[1;33m,\u001b[0m\u001b[0mtip\u001b[0m\u001b[1;33m,\u001b[0m\u001b[0mcip\u001b[0m\u001b[1;33m,\u001b[0m\u001b[0mvt\u001b[0m\u001b[1;33m,\u001b[0m\u001b[0mnl3\u001b[0m\u001b[1;33m,\u001b[0m\u001b[0mtnl3\u001b[0m\u001b[1;33m,\u001b[0m\u001b[0mcnl3\u001b[0m\u001b[1;33m,\u001b[0m\u001b[0mne\u001b[0m\u001b[1;33m,\u001b[0m\u001b[0mte\u001b[0m\u001b[1;33m,\u001b[0m\u001b[0mce\u001b[0m\u001b[1;33m=\u001b[0m\u001b[0mpywed\u001b[0m\u001b[1;33m.\u001b[0m\u001b[0mtsbase\u001b[0m\u001b[1;33m(\u001b[0m\u001b[1;36m10385\u001b[0m\u001b[1;33m,\u001b[0m\u001b[0msig\u001b[0m\u001b[1;33m)\u001b[0m\u001b[1;33m\u001b[0m\u001b[0m\n\u001b[0m",
      "\u001b[1;32mC:\\Program Files\\WinPython\\python-3.3.5.amd64\\lib\\site-packages\\pywed\\tsBase.py\u001b[0m in \u001b[0;36mtsbase\u001b[1;34m(nargout, *args)\u001b[0m\n\u001b[0;32m     46\u001b[0m                 \u001b[0mtb\u001b[0m \u001b[1;33m=\u001b[0m \u001b[0mtraceback\u001b[0m\u001b[1;33m.\u001b[0m\u001b[0mformat_exc\u001b[0m\u001b[1;33m(\u001b[0m\u001b[1;33m)\u001b[0m\u001b[1;33m\u001b[0m\u001b[0m\n\u001b[0;32m     47\u001b[0m         \u001b[1;32mif\u001b[0m \u001b[0merr\u001b[0m \u001b[1;33m==\u001b[0m \u001b[1;32mTrue\u001b[0m\u001b[1;33m:\u001b[0m\u001b[1;33m\u001b[0m\u001b[0m\n\u001b[1;32m---> 48\u001b[1;33m                 \u001b[1;32mraise\u001b[0m \u001b[0mPyWEDException\u001b[0m\u001b[1;33m(\u001b[0m\u001b[0msubclass\u001b[0m\u001b[1;33m,\u001b[0m\u001b[0mtb\u001b[0m\u001b[1;33m,\u001b[0m\u001b[0mex\u001b[0m\u001b[1;33m)\u001b[0m\u001b[1;33m\u001b[0m\u001b[0m\n\u001b[0m\u001b[0;32m     49\u001b[0m \u001b[1;33m\u001b[0m\u001b[0m\n\u001b[0;32m     50\u001b[0m \u001b[1;32mdef\u001b[0m \u001b[0mtsbaseNX\u001b[0m\u001b[1;33m(\u001b[0m\u001b[1;33m*\u001b[0m\u001b[0margs\u001b[0m\u001b[1;33m,\u001b[0m\u001b[0mnout\u001b[0m\u001b[1;33m=\u001b[0m\u001b[1;36m0\u001b[0m\u001b[1;33m)\u001b[0m\u001b[1;33m:\u001b[0m\u001b[1;33m\u001b[0m\u001b[0m\n",
      "\u001b[1;31mPyWEDException\u001b[0m: [Exception tsExClientError in PyWED] [Client Error] 'Unable to connect to 132.169.8.138 at port 5880'\nPlease report bugs to Yves.BURAVAND@cea.fr or Lionel.SALESSES@cea.fr"
     ]
    }
   ],
   "source": [
    "#Load many signals by passing a list to tsbase:\n",
    "sig=['simag ','GNL%3 ','SZFBRM']\n",
    "ip,tip,cip,vt,nl3,tnl3,cnl3,ne,te,ce=pywed.tsbase(10385,sig)"
   ]
  },
  {
   "cell_type": "markdown",
   "metadata": {
    "slideshow": {
     "slide_type": "subslide"
    }
   },
   "source": [
    "The main difference with the Matlab version of tsbase concerns the output arguments. \n",
    "\n",
    "* In Python, either the user uses one variable in which all the results will be stored (a Python Tuple) or he uses as many as variables as the results. (while in Matlab, it can be any number of output variable)\n",
    "* By default, `tsbase` returns either 3 or 4 results per signal: `signal`, `time`, `XXX`, `YYY`\n",
    "* However, the Python `tsbase` function provides a way to define the number of desired output. Uses the optionnal argument `nargout=` to set the number of output variable you expect."
   ]
  },
  {
   "cell_type": "code",
   "execution_count": null,
   "metadata": {
    "collapsed": true,
    "slideshow": {
     "slide_type": "subslide"
    }
   },
   "outputs": [],
   "source": [
    "# Here we only want to get the 2 first output\n",
    "a,b = pywed.tsbase(34567,'SIPMES',nargout=2)\n"
   ]
  },
  {
   "cell_type": "code",
   "execution_count": null,
   "metadata": {
    "collapsed": true,
    "slideshow": {
     "slide_type": "subslide"
    }
   },
   "outputs": [],
   "source": [
    "Ip,t = pywed.tsmat(34567,'DPOLO-SIPMES')\n",
    "Bphi = pywed.tsmat(34567,'EXP=T=S;GENERAL;ITOR') # note = instead of -\n",
    "ti = pywed.tsmat(34567,'IGNITRON|1')"
   ]
  },
  {
   "cell_type": "code",
   "execution_count": null,
   "metadata": {
    "collapsed": true,
    "slideshow": {
     "slide_type": "subslide"
    }
   },
   "outputs": [],
   "source": [
    "diag = ['DPOLO ','EXP-T-S ']\n",
    "obj = ['SIPMES ','GENERAL ']\n",
    "param = [' ','ITOR ']\n",
    "mode = '-;'\n",
    "Ip,t,p = pywed.tsmat(34567,diag,obj,param,mode)"
   ]
  },
  {
   "cell_type": "markdown",
   "metadata": {
    "slideshow": {
     "slide_type": "slide"
    }
   },
   "source": [
    "#MDSplus: Tore Supra/JET/EAST/etc.\n",
    "[MDSplus](http://www.mdsplus.org/) is a set of software tools for data acquisition and storage and a methodology for management of complex scientific data. It is the most widely used system for data management in the magnetic fusion energy program. It is currently installed at over 30 sites spread over 4 continents.\n",
    "\n",
    "In order to use MDSplus with Python, you need to import the `MDSplus` package:"
   ]
  },
  {
   "cell_type": "code",
   "execution_count": 14,
   "metadata": {
    "collapsed": true,
    "slideshow": {
     "slide_type": "fragment"
    }
   },
   "outputs": [],
   "source": [
    "# Import the MDSplus package as the 'mds' shorcut\n",
    "import MDSplus as mds"
   ]
  },
  {
   "cell_type": "markdown",
   "metadata": {
    "slideshow": {
     "slide_type": "subslide"
    }
   },
   "source": [
    "##Tore Supra"
   ]
  },
  {
   "cell_type": "code",
   "execution_count": 18,
   "metadata": {
    "collapsed": false,
    "slideshow": {
     "slide_type": "fragment"
    }
   },
   "outputs": [
    {
     "ename": "Exception",
     "evalue": "Error connecting to mdsplus.partenaires.cea.fr:8000",
     "output_type": "error",
     "traceback": [
      "\u001b[1;31m---------------------------------------------------------------------------\u001b[0m",
      "\u001b[1;31mException\u001b[0m                                 Traceback (most recent call last)",
      "\u001b[1;32m<ipython-input-18-ee22c9d3422e>\u001b[0m in \u001b[0;36m<module>\u001b[1;34m()\u001b[0m\n\u001b[1;32m----> 1\u001b[1;33m \u001b[0mconx\u001b[0m \u001b[1;33m=\u001b[0m \u001b[0mmds\u001b[0m\u001b[1;33m.\u001b[0m\u001b[0mConnection\u001b[0m\u001b[1;33m(\u001b[0m\u001b[1;34m'mdsplus.partenaires.cea.fr:8000'\u001b[0m\u001b[1;33m)\u001b[0m \u001b[1;31m# only works from identified (partenaires) places !\u001b[0m\u001b[1;33m\u001b[0m\u001b[0m\n\u001b[0m",
      "\u001b[1;32mC:\\Program Files\\WinPython\\python-3.3.5.amd64\\lib\\site-packages\\mdsplus-6.3_113-py3.3.egg\\MDSplus\\connection.py\u001b[0m in \u001b[0;36m__init__\u001b[1;34m(self, hostspec)\u001b[0m\n\u001b[0;32m    140\u001b[0m       \u001b[0mself\u001b[0m\u001b[1;33m.\u001b[0m\u001b[0msocket\u001b[0m\u001b[1;33m=\u001b[0m\u001b[0mConnectToMds\u001b[0m\u001b[1;33m(\u001b[0m\u001b[0mhostspec\u001b[0m\u001b[1;33m.\u001b[0m\u001b[0mencode\u001b[0m\u001b[1;33m(\u001b[0m\u001b[1;33m)\u001b[0m\u001b[1;33m)\u001b[0m\u001b[1;33m\u001b[0m\u001b[0m\n\u001b[0;32m    141\u001b[0m       \u001b[1;32mif\u001b[0m \u001b[0mself\u001b[0m\u001b[1;33m.\u001b[0m\u001b[0msocket\u001b[0m \u001b[1;33m==\u001b[0m \u001b[1;33m-\u001b[0m\u001b[1;36m1\u001b[0m\u001b[1;33m:\u001b[0m\u001b[1;33m\u001b[0m\u001b[0m\n\u001b[1;32m--> 142\u001b[1;33m         \u001b[1;32mraise\u001b[0m \u001b[0mException\u001b[0m\u001b[1;33m(\u001b[0m\u001b[1;34m\"Error connecting to %s\"\u001b[0m \u001b[1;33m%\u001b[0m \u001b[1;33m(\u001b[0m\u001b[0mhostspec\u001b[0m\u001b[1;33m,\u001b[0m\u001b[1;33m)\u001b[0m\u001b[1;33m)\u001b[0m\u001b[1;33m\u001b[0m\u001b[0m\n\u001b[0m\u001b[0;32m    143\u001b[0m       \u001b[0mself\u001b[0m\u001b[1;33m.\u001b[0m\u001b[0mhostspec\u001b[0m\u001b[1;33m=\u001b[0m\u001b[0mhostspec\u001b[0m\u001b[1;33m\u001b[0m\u001b[0m\n\u001b[0;32m    144\u001b[0m \u001b[1;33m\u001b[0m\u001b[0m\n",
      "\u001b[1;31mException\u001b[0m: Error connecting to mdsplus.partenaires.cea.fr:8000"
     ]
    }
   ],
   "source": [
    "conx = mds.Connection('mdsplus.partenaires.cea.fr:8000') # only works from identified (partenaires) places !"
   ]
  },
  {
   "cell_type": "code",
   "execution_count": null,
   "metadata": {
    "collapsed": true,
    "slideshow": {
     "slide_type": "fragment"
    }
   },
   "outputs": [],
   "source": [
    "y = conx.get('_sig=gettsbase(34567,\"SIPMES\")')\n",
    "t = conx.get('dim_of(_sig)')"
   ]
  },
  {
   "cell_type": "markdown",
   "metadata": {
    "slideshow": {
     "slide_type": "subslide"
    }
   },
   "source": [
    "## JET"
   ]
  },
  {
   "cell_type": "code",
   "execution_count": 17,
   "metadata": {
    "collapsed": false,
    "slideshow": {
     "slide_type": "fragment"
    }
   },
   "outputs": [
    {
     "ename": "Exception",
     "evalue": "Error connecting to mdsplus.jet.efda.org",
     "output_type": "error",
     "traceback": [
      "\u001b[1;31m---------------------------------------------------------------------------\u001b[0m",
      "\u001b[1;31mException\u001b[0m                                 Traceback (most recent call last)",
      "\u001b[1;32m<ipython-input-17-f357f04fda65>\u001b[0m in \u001b[0;36m<module>\u001b[1;34m()\u001b[0m\n\u001b[1;32m----> 1\u001b[1;33m \u001b[0mconx\u001b[0m \u001b[1;33m=\u001b[0m \u001b[0mmds\u001b[0m\u001b[1;33m.\u001b[0m\u001b[0mConnection\u001b[0m\u001b[1;33m(\u001b[0m\u001b[1;34m'mdsplus.jet.efda.org'\u001b[0m\u001b[1;33m)\u001b[0m \u001b[1;31m# only works from know places, such as inside\u001b[0m\u001b[1;33m\u001b[0m\u001b[0m\n\u001b[0m\u001b[0;32m      2\u001b[0m \u001b[0mprint\u001b[0m\u001b[1;33m(\u001b[0m\u001b[0mconx\u001b[0m\u001b[1;33m)\u001b[0m\u001b[1;33m\u001b[0m\u001b[0m\n",
      "\u001b[1;32mC:\\Program Files\\WinPython\\python-3.3.5.amd64\\lib\\site-packages\\mdsplus-6.3_113-py3.3.egg\\MDSplus\\connection.py\u001b[0m in \u001b[0;36m__init__\u001b[1;34m(self, hostspec)\u001b[0m\n\u001b[0;32m    140\u001b[0m       \u001b[0mself\u001b[0m\u001b[1;33m.\u001b[0m\u001b[0msocket\u001b[0m\u001b[1;33m=\u001b[0m\u001b[0mConnectToMds\u001b[0m\u001b[1;33m(\u001b[0m\u001b[0mhostspec\u001b[0m\u001b[1;33m.\u001b[0m\u001b[0mencode\u001b[0m\u001b[1;33m(\u001b[0m\u001b[1;33m)\u001b[0m\u001b[1;33m)\u001b[0m\u001b[1;33m\u001b[0m\u001b[0m\n\u001b[0;32m    141\u001b[0m       \u001b[1;32mif\u001b[0m \u001b[0mself\u001b[0m\u001b[1;33m.\u001b[0m\u001b[0msocket\u001b[0m \u001b[1;33m==\u001b[0m \u001b[1;33m-\u001b[0m\u001b[1;36m1\u001b[0m\u001b[1;33m:\u001b[0m\u001b[1;33m\u001b[0m\u001b[0m\n\u001b[1;32m--> 142\u001b[1;33m         \u001b[1;32mraise\u001b[0m \u001b[0mException\u001b[0m\u001b[1;33m(\u001b[0m\u001b[1;34m\"Error connecting to %s\"\u001b[0m \u001b[1;33m%\u001b[0m \u001b[1;33m(\u001b[0m\u001b[0mhostspec\u001b[0m\u001b[1;33m,\u001b[0m\u001b[1;33m)\u001b[0m\u001b[1;33m)\u001b[0m\u001b[1;33m\u001b[0m\u001b[0m\n\u001b[0m\u001b[0;32m    143\u001b[0m       \u001b[0mself\u001b[0m\u001b[1;33m.\u001b[0m\u001b[0mhostspec\u001b[0m\u001b[1;33m=\u001b[0m\u001b[0mhostspec\u001b[0m\u001b[1;33m\u001b[0m\u001b[0m\n\u001b[0;32m    144\u001b[0m \u001b[1;33m\u001b[0m\u001b[0m\n",
      "\u001b[1;31mException\u001b[0m: Error connecting to mdsplus.jet.efda.org"
     ]
    }
   ],
   "source": [
    "conx = mds.Connection('mdsplus.jet.efda.org') # only works from know places, such as inside \n",
    "print(conx)"
   ]
  },
  {
   "cell_type": "code",
   "execution_count": 19,
   "metadata": {
    "collapsed": false,
    "slideshow": {
     "slide_type": "fragment"
    }
   },
   "outputs": [
    {
     "ename": "NameError",
     "evalue": "name 'conx' is not defined",
     "output_type": "error",
     "traceback": [
      "\u001b[1;31m---------------------------------------------------------------------------\u001b[0m",
      "\u001b[1;31mNameError\u001b[0m                                 Traceback (most recent call last)",
      "\u001b[1;32m<ipython-input-19-c587b66db671>\u001b[0m in \u001b[0;36m<module>\u001b[1;34m()\u001b[0m\n\u001b[0;32m      1\u001b[0m \u001b[0mShot\u001b[0m \u001b[1;33m=\u001b[0m \u001b[1;36m80812\u001b[0m\u001b[1;33m\u001b[0m\u001b[0m\n\u001b[1;32m----> 2\u001b[1;33m \u001b[0my\u001b[0m \u001b[1;33m=\u001b[0m \u001b[0mconx\u001b[0m\u001b[1;33m.\u001b[0m\u001b[0mget\u001b[0m\u001b[1;33m(\u001b[0m\u001b[1;34m'_sigi=jet(\\\"ppf/magn/ipla\\\", {})'\u001b[0m\u001b[1;33m.\u001b[0m\u001b[0mformat\u001b[0m\u001b[1;33m(\u001b[0m\u001b[0mShot\u001b[0m\u001b[1;33m)\u001b[0m\u001b[1;33m)\u001b[0m\u001b[1;33m\u001b[0m\u001b[0m\n\u001b[0m\u001b[0;32m      3\u001b[0m \u001b[0mt\u001b[0m \u001b[1;33m=\u001b[0m \u001b[0mconx\u001b[0m\u001b[1;33m.\u001b[0m\u001b[0mget\u001b[0m\u001b[1;33m(\u001b[0m\u001b[1;34m'dim_of(_sigi)'\u001b[0m\u001b[1;33m)\u001b[0m\u001b[1;33m\u001b[0m\u001b[0m\n\u001b[0;32m      4\u001b[0m \u001b[1;33m\u001b[0m\u001b[0m\n\u001b[0;32m      5\u001b[0m \u001b[0mbb\u001b[0m\u001b[1;33m=\u001b[0m\u001b[0mconx\u001b[0m\u001b[1;33m.\u001b[0m\u001b[0mget\u001b[0m\u001b[1;33m(\u001b[0m\u001b[1;34m'_sigb=jet(\\\"ppf/pt5P/pen1\\\", {})'\u001b[0m\u001b[1;33m.\u001b[0m\u001b[0mformat\u001b[0m\u001b[1;33m(\u001b[0m\u001b[0mShot\u001b[0m\u001b[1;33m)\u001b[0m\u001b[1;33m)\u001b[0m\u001b[1;33m\u001b[0m\u001b[0m\n",
      "\u001b[1;31mNameError\u001b[0m: name 'conx' is not defined"
     ]
    }
   ],
   "source": [
    "Shot = 80812\n",
    "y = conx.get('_sigi=jet(\\\"ppf/magn/ipla\\\", {})'.format(Shot))\n",
    "t = conx.get('dim_of(_sigi)')\n",
    "\n",
    "bb=conx.get('_sigb=jet(\\\"ppf/pt5P/pen1\\\", {})'.format(Shot))\n",
    "tbb = conx.get('dim_of(_sigb)')\n",
    "\n",
    "barb=conx.get('_sigbarb=jet(\\\"jpf/DF/T5-PEN2<PRS\\\", {})'.format(Shot))\n",
    "tbarb= conx.get('dim_of(_sigbarb)')"
   ]
  },
  {
   "cell_type": "code",
   "execution_count": null,
   "metadata": {
    "collapsed": true,
    "slideshow": {
     "slide_type": "subslide"
    }
   },
   "outputs": [],
   "source": [
    "plot(t, abs(y)/1e6, lw=1)"
   ]
  },
  {
   "cell_type": "code",
   "execution_count": null,
   "metadata": {
    "collapsed": true,
    "slideshow": {
     "slide_type": "subslide"
    }
   },
   "outputs": [],
   "source": [
    "semilogy(tbb, bb, tbarb,barb, lw=2)\n",
    "xlabel(\"time (s)\")\n",
    "ylabel(\"mBar\")"
   ]
  }
 ],
 "metadata": {
  "celltoolbar": "Slideshow",
  "kernelspec": {
   "display_name": "Python 3",
   "language": "python",
   "name": "python3"
  },
  "language_info": {
   "codemirror_mode": {
    "name": "ipython",
    "version": 3
   },
   "file_extension": ".py",
   "mimetype": "text/x-python",
   "name": "python",
   "nbconvert_exporter": "python",
   "pygments_lexer": "ipython3",
   "version": "3.3.5"
  }
 },
 "nbformat": 4,
 "nbformat_minor": 0
}
