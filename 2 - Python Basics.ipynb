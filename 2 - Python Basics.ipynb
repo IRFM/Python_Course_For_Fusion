{
 "cells": [
  {
   "cell_type": "markdown",
   "metadata": {
    "slideshow": {
     "slide_type": "slide"
    }
   },
   "source": [
    "#Part 2 - Python Basics"
   ]
  },
  {
   "cell_type": "markdown",
   "metadata": {
    "slideshow": {
     "slide_type": "subslide"
    }
   },
   "source": [
    "##Variables\n",
    "Python variables are assigned the following way:\n",
    "\n",
    "`name = value`\n",
    "\n",
    "Variable name can't start with a digit (to prevent from redefining what literal numbers mean...)."
   ]
  },
  {
   "cell_type": "code",
   "execution_count": 25,
   "metadata": {
    "collapsed": true,
    "slideshow": {
     "slide_type": "fragment"
    }
   },
   "outputs": [],
   "source": [
    "test = 42\n",
    "a_other_test = 'quarante deux'"
   ]
  },
  {
   "cell_type": "markdown",
   "metadata": {
    "slideshow": {
     "slide_type": "slide"
    }
   },
   "source": [
    "##Comments\n",
    "Python use the character `#` for comments. \n"
   ]
  },
  {
   "cell_type": "code",
   "execution_count": 26,
   "metadata": {
    "collapsed": false,
    "slideshow": {
     "slide_type": "fragment"
    }
   },
   "outputs": [
    {
     "name": "stdout",
     "output_type": "stream",
     "text": [
      "43\n"
     ]
    }
   ],
   "source": [
    "test = 42\n",
    "test = test + 1 # could be written also : test += 1\n",
    "# this line is not evaluated by Python.\n",
    "print(test)"
   ]
  },
  {
   "cell_type": "markdown",
   "metadata": {
    "slideshow": {
     "slide_type": "subslide"
    }
   },
   "source": [
    "Variables are _typed_: means that the values have a certain defined properties that dictate how they are used. Different type have different properties that satisfy different needs. \n",
    "\n",
    "If you are unsure, you can check the type of the variable by:"
   ]
  },
  {
   "cell_type": "code",
   "execution_count": 27,
   "metadata": {
    "collapsed": false,
    "slideshow": {
     "slide_type": "fragment"
    }
   },
   "outputs": [
    {
     "data": {
      "text/plain": [
       "int"
      ]
     },
     "execution_count": 27,
     "metadata": {},
     "output_type": "execute_result"
    }
   ],
   "source": [
    "type(42)"
   ]
  },
  {
   "cell_type": "code",
   "execution_count": 28,
   "metadata": {
    "collapsed": false,
    "slideshow": {
     "slide_type": "fragment"
    }
   },
   "outputs": [
    {
     "data": {
      "text/plain": [
       "str"
      ]
     },
     "execution_count": 28,
     "metadata": {},
     "output_type": "execute_result"
    }
   ],
   "source": [
    "type(a_other_test)"
   ]
  },
  {
   "cell_type": "markdown",
   "metadata": {
    "slideshow": {
     "slide_type": "subslide"
    }
   },
   "source": [
    "Moreover, you can use the type names for conversion:"
   ]
  },
  {
   "cell_type": "code",
   "execution_count": 29,
   "metadata": {
    "collapsed": false,
    "slideshow": {
     "slide_type": "fragment"
    }
   },
   "outputs": [
    {
     "data": {
      "text/plain": [
       "42"
      ]
     },
     "execution_count": 29,
     "metadata": {},
     "output_type": "execute_result"
    }
   ],
   "source": [
    "int(42.5)"
   ]
  },
  {
   "cell_type": "code",
   "execution_count": 30,
   "metadata": {
    "collapsed": false,
    "slideshow": {
     "slide_type": "fragment"
    }
   },
   "outputs": [
    {
     "data": {
      "text/plain": [
       "'18'"
      ]
     },
     "execution_count": 30,
     "metadata": {},
     "output_type": "execute_result"
    }
   ],
   "source": [
    "str(18)"
   ]
  },
  {
   "cell_type": "markdown",
   "metadata": {
    "slideshow": {
     "slide_type": "subslide"
    }
   },
   "source": [
    "##Python Files\n",
    "Python code can be run directly inside the [I]Python interpreter, but also directly from `.py` files. \n",
    "Python file are `.py` files. Command like `python test.py` directly runs the interpreter as if each line of `test.py` had been typed one after another. "
   ]
  },
  {
   "cell_type": "markdown",
   "metadata": {
    "slideshow": {
     "slide_type": "slide"
    }
   },
   "source": [
    "##Dealing with Errors\n",
    "Let's look to a typical Python error:\n"
   ]
  },
  {
   "cell_type": "code",
   "execution_count": 31,
   "metadata": {
    "collapsed": false,
    "slideshow": {
     "slide_type": "fragment"
    }
   },
   "outputs": [
    {
     "ename": "ValueError",
     "evalue": "invalid literal for int() with base 10: 'quarante-deux'",
     "output_type": "error",
     "traceback": [
      "\u001b[1;31m---------------------------------------------------------------------------\u001b[0m",
      "\u001b[1;31mValueError\u001b[0m                                Traceback (most recent call last)",
      "\u001b[1;32m<ipython-input-31-bdb96b815b8f>\u001b[0m in \u001b[0;36m<module>\u001b[1;34m()\u001b[0m\n\u001b[1;32m----> 1\u001b[1;33m \u001b[0mint\u001b[0m\u001b[1;33m(\u001b[0m\u001b[1;34m'quarante-deux'\u001b[0m\u001b[1;33m)\u001b[0m\u001b[1;33m\u001b[0m\u001b[0m\n\u001b[0m",
      "\u001b[1;31mValueError\u001b[0m: invalid literal for int() with base 10: 'quarante-deux'"
     ]
    }
   ],
   "source": [
    "int('quarante-deux')"
   ]
  },
  {
   "cell_type": "markdown",
   "metadata": {
    "slideshow": {
     "slide_type": "fragment"
    }
   },
   "source": [
    "we see:\n",
    "\n",
    "1. the type of the error (here a _ValueError_)\n",
    "2. The location of the error (int('quarante-deux'))\n",
    "3. The liner number (line 1)\n",
    "4. The error message. (_invalid literal for int() with base 10: 'quarante-deux'_)"
   ]
  },
  {
   "cell_type": "markdown",
   "metadata": {
    "slideshow": {
     "slide_type": "slide"
    }
   },
   "source": [
    "##Dynamically Typed\n",
    "Python is said dynamically typed, since one can re-affect a variable to a different type (at the difference of C or Fortran). "
   ]
  },
  {
   "cell_type": "code",
   "execution_count": null,
   "metadata": {
    "collapsed": false,
    "slideshow": {
     "slide_type": "fragment"
    }
   },
   "outputs": [],
   "source": [
    "test = 42\n",
    "print(test)\n",
    "test = 'quarante-deux'\n",
    "print(test)"
   ]
  },
  {
   "cell_type": "markdown",
   "metadata": {
    "slideshow": {
     "slide_type": "slide"
    }
   },
   "source": [
    "##Special Variables\n",
    "Python has several special variables such as:\n",
    "\n",
    "- True, False : boolean \n",
    "- None: used to denote that no value was given or no behavior was defined. Different than 0 or empty string. \n",
    "\n",
    "NB: None is the default return value of a function.\n"
   ]
  },
  {
   "cell_type": "markdown",
   "metadata": {
    "slideshow": {
     "slide_type": "slide"
    }
   },
   "source": [
    "##Python Operators\n",
    "The following operators are given for Python 3. Some may vary with older version of Python.\n"
   ]
  },
  {
   "cell_type": "markdown",
   "metadata": {
    "slideshow": {
     "slide_type": "subslide"
    }
   },
   "source": [
    "###Basic Operators\n",
    "| Operation\t | Syntax | Comments \n",
    "|------------|--------|----------|\n",
    "| Addition\t | a + b | Can also concatenation in case of string\t\n",
    "| Subtraction| a - b | |\n",
    "| Multiplication |\ta * b\t\t||\n",
    "| Division | a / b | true division |\n",
    "| Floor Division | a // b ||\n",
    "| Exponentiation |\ta ** b\t||\n",
    "| Modulo |\ta % b or mod(a, b) \t||\n",
    "\n",
    "###Working with Sequences\n",
    "\n",
    "| Operation\t | Syntax |\n",
    "|------------|--------|\n",
    "| Containment Test |\tobj in seq | Test if `obj` is included into the sequence `seq` (reply True or False) |  \n",
    "| Indexed Assignment |\tobj[k] = v\t\t||\n",
    "| Indexing |\tobj[k]\t\t||\n"
   ]
  },
  {
   "cell_type": "code",
   "execution_count": null,
   "metadata": {
    "collapsed": false,
    "slideshow": {
     "slide_type": "fragment"
    }
   },
   "outputs": [],
   "source": [
    "seq = ['pomme', 'pêche', 'poire', 'abricot'] \n",
    "\n",
    "'poire' in seq"
   ]
  },
  {
   "cell_type": "code",
   "execution_count": null,
   "metadata": {
    "collapsed": false,
    "slideshow": {
     "slide_type": "fragment"
    }
   },
   "outputs": [],
   "source": [
    "'Marie-Margot' in seq"
   ]
  },
  {
   "cell_type": "markdown",
   "metadata": {
    "slideshow": {
     "slide_type": "subslide"
    }
   },
   "source": [
    "###Logical Operators\n",
    "| Operation\t | Syntax |\n",
    "|------------|--------|\n",
    "| Bitwise And |\ta & b or and_(a, b) \t|\n",
    "| Bitwise Exclusive Or |\ta ^ b or xor(a, b) \t|\n",
    "| Bitwise Inversion |\t~ a\tor invert(a) \t|\n",
    "| Negation (Arithmetic) |\t- a\t\t|\n",
    "| Negation (Logical) | \tnot a\t\t|\n",
    "| Left Shift\t|a << b\t|\n",
    "| Right Shift\t|a >> b |\n",
    "\n",
    "| Operation | Syntax |\n",
    "|------------|--------|\n",
    "| Ordering\t| a < b | \t\n",
    "| Ordering\t| a <= b | \t\n",
    "| Equality\t| a == b | \t\n",
    "| Difference| \ta != b | \t\n",
    "| Ordering\t| a >= b | \t\n",
    "| Ordering\t| a > b | \t\n",
    "| Identity |\ta is b\t\t|\n",
    "| Identity |\ta is not b\t\t|\n",
    "\n",
    "__NB__: `is` is generally not the same than `==`. \n",
    "The equality operator (`==`) tests if two values are equivalent. The identity operator (`is`) tests if two variable names are references to the same underlying value in memory.  "
   ]
  },
  {
   "cell_type": "code",
   "execution_count": null,
   "metadata": {
    "collapsed": false,
    "slideshow": {
     "slide_type": "notes"
    }
   },
   "outputs": [],
   "source": [
    "from IPython import utils  \n",
    "from IPython.core.display import HTML  \n",
    "import os  \n",
    "def css_styling():  \n",
    "    \"\"\"Load the CSS sheet 'custom.css' located in the directory\"\"\"\n",
    "    styles = \"<style>\\n%s\\n</style>\" % (open('./custom.css','r').read())\n",
    "    return HTML(styles)\n",
    "css_styling()  "
   ]
  }
 ],
 "metadata": {
  "celltoolbar": "Slideshow",
  "kernelspec": {
   "display_name": "Python 3",
   "language": "python",
   "name": "python3"
  },
  "language_info": {
   "codemirror_mode": {
    "name": "ipython",
    "version": 3
   },
   "file_extension": ".py",
   "mimetype": "text/x-python",
   "name": "python",
   "nbconvert_exporter": "python",
   "pygments_lexer": "ipython3",
   "version": "3.3.5"
  }
 },
 "nbformat": 4,
 "nbformat_minor": 0
}
