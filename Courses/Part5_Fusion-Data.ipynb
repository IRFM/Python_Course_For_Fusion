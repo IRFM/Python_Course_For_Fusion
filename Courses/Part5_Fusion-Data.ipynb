{
 "cells": [
  {
   "cell_type": "markdown",
   "metadata": {},
   "source": [
    "# Fusion Data"
   ]
  },
  {
   "cell_type": "markdown",
   "metadata": {},
   "source": [
    "## PyWED"
   ]
  },
  {
   "cell_type": "markdown",
   "metadata": {},
   "source": [
    "PyWED = Python for West Experimental Data = TSlib en Python"
   ]
  },
  {
   "cell_type": "code",
   "execution_count": null,
   "metadata": {},
   "outputs": [],
   "source": [
    "%pylab\n",
    "%matplotlib inline"
   ]
  },
  {
   "cell_type": "code",
   "execution_count": null,
   "metadata": {},
   "outputs": [],
   "source": [
    "import pywed"
   ]
  },
  {
   "cell_type": "code",
   "execution_count": null,
   "metadata": {},
   "outputs": [],
   "source": [
    "ip,t,infos=pywed.tsbase(47979, 'sipmes')"
   ]
  },
  {
   "cell_type": "code",
   "execution_count": null,
   "metadata": {},
   "outputs": [],
   "source": [
    "infos"
   ]
  },
  {
   "cell_type": "markdown",
   "metadata": {},
   "source": [
    "__ATTENTION !__\n",
    "La fonction tsbase s'attend à un certain nombre d'arguments en sortie\n",
    "Si le nombre d'arguments en sortie n'est pas le bon --> erreur\n",
    "Pour éviter cela, on peut préciser d'avance le nombre de param de sortie :\n"
   ]
  },
  {
   "cell_type": "code",
   "execution_count": null,
   "metadata": {},
   "outputs": [],
   "source": [
    "# comportement similaire Matlab\n",
    "ip,t = pywed.tsbase(47979, 'sipmes', nargout=2) "
   ]
  },
  {
   "cell_type": "markdown",
   "metadata": {},
   "source": [
    "## IRFMtb\n",
    "Toolbox IRFM"
   ]
  },
  {
   "cell_type": "code",
   "execution_count": null,
   "metadata": {},
   "outputs": [],
   "source": [
    "import IRFMtb"
   ]
  },
  {
   "cell_type": "code",
   "execution_count": null,
   "metadata": {},
   "outputs": [],
   "source": [
    "IRFMtb.tsdernier_choc() # Or : pywed.TSGetInfo()"
   ]
  },
  {
   "cell_type": "code",
   "execution_count": null,
   "metadata": {},
   "outputs": [],
   "source": [
    "# Liste toutes les méthodes et attributs du module IRFMtb\n",
    "dir(IRFMtb) "
   ]
  },
  {
   "cell_type": "code",
   "execution_count": null,
   "metadata": {},
   "outputs": [],
   "source": [
    "\"\"\"Load the CSS sheet 'custom.css' located in the directory\"\"\"\n",
    "from IPython.display import HTML  \n",
    "styles = f'<style>\\n{open(\"./custom.css\",\"r\").read()}\\n</style>'\n",
    "HTML(styles) "
   ]
  },
  {
   "cell_type": "code",
   "execution_count": null,
   "metadata": {},
   "outputs": [],
   "source": []
  }
 ],
 "metadata": {
  "kernelspec": {
   "display_name": "tools_dc",
   "language": "python",
   "name": "tools_dc"
  },
  "language_info": {
   "codemirror_mode": {
    "name": "ipython",
    "version": 3
   },
   "file_extension": ".py",
   "mimetype": "text/x-python",
   "name": "python",
   "nbconvert_exporter": "python",
   "pygments_lexer": "ipython3",
   "version": "3.7.11"
  }
 },
 "nbformat": 4,
 "nbformat_minor": 4
}
